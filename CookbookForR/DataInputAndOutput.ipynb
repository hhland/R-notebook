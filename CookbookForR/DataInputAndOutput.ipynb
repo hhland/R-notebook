{
 "metadata": {
  "name": "",
  "signature": "sha256:e783350c201431dd078a66046bcd68972dd65e4960442960ffad00600e63604a"
 },
 "nbformat": 3,
 "nbformat_minor": 0,
 "worksheets": [
  {
   "cells": [
    {
     "cell_type": "code",
     "collapsed": false,
     "input": [
      "%pylab inline\n",
      "%reload_ext rmagic"
     ],
     "language": "python",
     "metadata": {},
     "outputs": [
      {
       "output_type": "stream",
       "stream": "stdout",
       "text": [
        "Populating the interactive namespace from numpy and matplotlib\n"
       ]
      }
     ],
     "prompt_number": 1
    },
    {
     "cell_type": "code",
     "collapsed": false,
     "input": [
      "%%R\n",
      "data <- read.csv(\"tmp/datafile.csv\")\n",
      "\n",
      "\n",
      "# Load a CSV file that doesn't have headers\n",
      "data <- read.csv(\"tmp/datafile-noheader.csv\", header=FALSE)\n",
      "\n",
      "tb <- read.table(\"tmp/datafile-noheader.csv\",\n",
      "                   header=FALSE,\n",
      "                   sep= \",\"         # use \"\\t\" for tab-delimited files\n",
      "                   )\n",
      "\n",
      "data <- read.csv(\"tmp/datafile.csv\", stringsAsFactors=FALSE)\n",
      "\n",
      "# You might have to convert some columns to factors\n",
      "data$Sex <- factor(data$Sex)\n",
      "str(data)"
     ],
     "language": "python",
     "metadata": {},
     "outputs": [
      {
       "metadata": {},
       "output_type": "display_data",
       "text": [
        "'data.frame':\t3 obs. of  4 variables:\n",
        " $ First : chr  \"Currer\" \"Dr.\" \"\"\n",
        " $ Last  : chr  \"Bell\" \"Seuss\" \"Student\"\n",
        " $ Sex   : Factor w/ 2 levels \"F\",\"M\": 1 2 NA\n",
        " $ Number: int  2 49 21\n"
       ]
      }
     ],
     "prompt_number": 25
    },
    {
     "cell_type": "code",
     "collapsed": false,
     "input": [
      "%%R\n",
      "data <- read.csv(\"http://wiki.stdout.org/rcookbook/Data%20input%20and%20output/Loading%20data%20from%20a%20file/datafile.csv\")\n",
      "\n",
      "\n",
      "# Read in a CSV file without headers\n",
      "data <- read.csv(\"http://wiki.stdout.org/rcookbook/Data%20input%20and%20output/Loading%20data%20from%20a%20file/datafile-noheader.csv\", header=FALSE)\n",
      "\n",
      "# Manually assign the header names\n",
      "names(data) <- c(\"First\",\"Last\",\"Sex\",\"Number\")\n",
      "str(data)"
     ],
     "language": "python",
     "metadata": {},
     "outputs": [
      {
       "output_type": "stream",
       "stream": "stdout",
       "text": [
        "Error in file(file, \"rt\") : cannot open the connection\n",
        "In addition: Warning message:\n",
        "In file(file, \"rt\") : cannot open: HTTP status was '0 (null)'\n",
        "Error in file(file, \"rt\") : cannot open the connection\n"
       ]
      }
     ],
     "prompt_number": 26
    },
    {
     "cell_type": "code",
     "collapsed": false,
     "input": [],
     "language": "python",
     "metadata": {},
     "outputs": [
      {
       "output_type": "stream",
       "stream": "stdout",
       "text": [
        "Package 'sm', version 2.2-5.4: type help(sm) for summary information\n",
        "Error in sm.density.compare(data$rating, data$cond) : \n",
        "  sm.density.compare can handle only 1-d data\n"
       ]
      }
     ],
     "prompt_number": 28
    },
    {
     "cell_type": "code",
     "collapsed": false,
     "input": [],
     "language": "python",
     "metadata": {},
     "outputs": []
    }
   ],
   "metadata": {}
  }
 ]
}