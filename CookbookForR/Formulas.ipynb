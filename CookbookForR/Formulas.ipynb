{
 "metadata": {
  "name": "",
  "signature": "sha256:7e4b2c48e27c3d1969567e692be0f88ad80072ae111d6df6d01bc50009f3b1b9"
 },
 "nbformat": 3,
 "nbformat_minor": 0,
 "worksheets": [
  {
   "cells": [
    {
     "cell_type": "code",
     "collapsed": false,
     "input": [
      "%pylab inline\n",
      "%load_ext rmagic"
     ],
     "language": "python",
     "metadata": {},
     "outputs": [
      {
       "output_type": "stream",
       "stream": "stdout",
       "text": [
        "Populating the interactive namespace from numpy and matplotlib\n"
       ]
      }
     ],
     "prompt_number": 2
    },
    {
     "cell_type": "code",
     "collapsed": false,
     "input": [
      "%%R\n",
      "as.formula(\"y ~ x1 + x2\")"
     ],
     "language": "python",
     "metadata": {},
     "outputs": [
      {
       "metadata": {},
       "output_type": "display_data",
       "text": [
        "y ~ x1 + x2\n"
       ]
      }
     ],
     "prompt_number": 3
    },
    {
     "cell_type": "code",
     "collapsed": false,
     "input": [
      "%%R\n",
      "# These are the variable names:\n",
      "measurevar <- \"y\"\n",
      "groupvars  <- c(\"x1\",\"x2\",\"x3\")\n",
      "\n",
      "groupvars"
     ],
     "language": "python",
     "metadata": {},
     "outputs": [
      {
       "metadata": {},
       "output_type": "display_data",
       "text": [
        "[1] \"x1\" \"x2\" \"x3\"\n"
       ]
      }
     ],
     "prompt_number": 5
    },
    {
     "cell_type": "code",
     "collapsed": false,
     "input": [
      "%%R\n",
      "# This creates the appropriate string:\n",
      "paste(measurevar, paste(groupvars, collapse=\" + \"), sep=\" ~ \")\n",
      "# \"y ~ x1 + x2 + x3\"\n",
      "\n"
     ],
     "language": "python",
     "metadata": {},
     "outputs": [
      {
       "metadata": {},
       "output_type": "display_data",
       "text": [
        "y ~ x1 + x2 + x3\n"
       ]
      }
     ],
     "prompt_number": 6
    },
    {
     "cell_type": "code",
     "collapsed": false,
     "input": [
      "%%R\n",
      "# This returns the formula:\n",
      "as.formula(paste(measurevar, paste(groupvars, collapse=\" + \"), sep=\" ~ \"))\n",
      "# y ~ x1 + x2 + x3"
     ],
     "language": "python",
     "metadata": {},
     "outputs": [
      {
       "metadata": {},
       "output_type": "display_data",
       "text": [
        "y ~ x1 + x2 + x3\n"
       ]
      }
     ],
     "prompt_number": 7
    },
    {
     "cell_type": "code",
     "collapsed": false,
     "input": [],
     "language": "python",
     "metadata": {},
     "outputs": []
    }
   ],
   "metadata": {}
  }
 ]
}