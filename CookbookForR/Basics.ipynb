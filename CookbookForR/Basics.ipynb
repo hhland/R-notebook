{
 "metadata": {
  "name": "",
  "signature": "sha256:51f7086115ec2c8ba2382d59719123f875c9f96f56271c729e82ad1110afa9e2"
 },
 "nbformat": 3,
 "nbformat_minor": 0,
 "worksheets": [
  {
   "cells": [
    {
     "cell_type": "code",
     "collapsed": false,
     "input": [
      "%pylab inline\n",
      "%load_ext rmagic"
     ],
     "language": "python",
     "metadata": {},
     "outputs": [
      {
       "output_type": "stream",
       "stream": "stdout",
       "text": [
        "Populating the interactive namespace from numpy and matplotlib\n",
        "The rmagic extension is already loaded. To reload it, use:\n",
        "  %reload_ext rmagic\n"
       ]
      }
     ],
     "prompt_number": 4
    },
    {
     "cell_type": "code",
     "collapsed": false,
     "input": [
      "\"\"\"Indexing into a data structure\"\"\""
     ],
     "language": "python",
     "metadata": {},
     "outputs": []
    },
    {
     "cell_type": "code",
     "collapsed": false,
     "input": [
      "%%R\n",
      "#Indexing with numbers and names\n",
      "v <- c(1,4,4,3,2,2,3)\n",
      "\n",
      "v[c(2,3,4)]\n",
      "v[2:4]\n",
      "# 4 4 3\n",
      "\n",
      "v[c(2,4,3)]"
     ],
     "language": "python",
     "metadata": {},
     "outputs": [
      {
       "metadata": {},
       "output_type": "display_data",
       "text": [
        "[1] 4 3 4\n"
       ]
      }
     ],
     "prompt_number": 15
    },
    {
     "cell_type": "code",
     "collapsed": false,
     "input": [
      "%%R\n",
      "# Create a sample data frame\n",
      "data <- read.table(header=T, text='\n",
      " subject sex size\n",
      "       1   M    7\n",
      "       2   F    6\n",
      "       3   F    9\n",
      "       4   M   11\n",
      " ')\n",
      "\n",
      "# Get the element at row 1, column 3\n",
      "data[1,3]\n",
      "data[1,\"size\"]\n",
      "# 7\n",
      "\n",
      "\n",
      "# Get rows 1 and 2, and all columns\n",
      "data[1:2, ]   \n",
      "data[c(1,2), ]\n",
      "# subject sex size\n",
      "#       1   M    7\n",
      "#       2   F    6\n",
      "\n",
      "\n",
      "# Get rows 1 and 2, and only column 2\n",
      "data[1:2, 2]\n",
      "data[c(1,2), 2]\n",
      "# [1] M F\n",
      "# Levels: F M\n",
      "\n",
      "# Get rows 1 and 2, and only the columns named \"sex\" and \"size\"\n",
      "data[1:2, c(\"sex\",\"size\")]\n",
      "data[c(1,2), c(2,3)]\n",
      "# sex size\n",
      "#   M    7\n",
      "#   F    6"
     ],
     "language": "python",
     "metadata": {},
     "outputs": [
      {
       "metadata": {},
       "output_type": "display_data",
       "text": [
        "  sex size\n",
        "1   M    7\n",
        "2   F    6\n"
       ]
      }
     ],
     "prompt_number": 16
    },
    {
     "cell_type": "code",
     "collapsed": false,
     "input": [
      "%%R\n",
      "#Indexing with a boolean vector\n",
      "\n",
      "#With the vector v from above:\n",
      "\n",
      "v > 2\n",
      "# FALSE  TRUE  TRUE  TRUE FALSE FALSE  TRUE\n",
      "\n",
      "v[v>2]\n",
      "v[ c(F,T,T,T,F,F,T)]\n",
      "# 4 4 3 3\n",
      "#With the data frame from above:\n",
      "\n",
      "# A boolean vector   \n",
      "data$subject < 3\n",
      "# TRUE  TRUE FALSE FALSE\n",
      "\n",
      "data[data$subject < 3, ]\n",
      "data[c(TRUE,TRUE,FALSE,FALSE), ]\n",
      "# subject sex size\n",
      "#       1   M    7\n",
      "#       2   F    6    \n",
      "\n",
      "# It is also possible to get the numeric indices of the TRUEs\n",
      "which(data$subject < 3)\n",
      "# 1 2"
     ],
     "language": "python",
     "metadata": {},
     "outputs": [
      {
       "metadata": {},
       "output_type": "display_data",
       "text": [
        "[1] 1 2\n"
       ]
      }
     ],
     "prompt_number": 17
    },
    {
     "cell_type": "code",
     "collapsed": false,
     "input": [
      "%%R\n",
      "# Here's the vector again.\n",
      "v\n",
      "# 1 4 4 3 2 2 3\n",
      "\n",
      "# Drop the first element\n",
      "v[-1]\n",
      "# 4 4 3 2 2 3\n",
      "\n",
      "# Drop first three\n",
      "v[-1:-3]\n",
      "# 3 2 2 3\n",
      "\n",
      "# Drop just the last element\n",
      "v[-length(v)]\n",
      "# 1 4 4 3 2 2"
     ],
     "language": "python",
     "metadata": {},
     "outputs": [
      {
       "metadata": {},
       "output_type": "display_data",
       "text": [
        "[1] 1 4 4 3 2 2\n"
       ]
      }
     ],
     "prompt_number": 18
    },
    {
     "cell_type": "code",
     "collapsed": false,
     "input": [],
     "language": "python",
     "metadata": {},
     "outputs": []
    }
   ],
   "metadata": {}
  }
 ]
}