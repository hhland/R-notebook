{
 "metadata": {
  "name": "",
  "signature": "sha256:9dfac53a45b5242554003f07c75b481371f38e13aace337c161bd6748349c910"
 },
 "nbformat": 3,
 "nbformat_minor": 0,
 "worksheets": [
  {
   "cells": [
    {
     "cell_type": "code",
     "collapsed": false,
     "input": [
      "%pylab inline\n",
      "%load_ext rmagic"
     ],
     "language": "python",
     "metadata": {},
     "outputs": [
      {
       "output_type": "stream",
       "stream": "stdout",
       "text": [
        "Populating the interactive namespace from numpy and matplotlib\n"
       ]
      }
     ],
     "prompt_number": 1
    },
    {
     "cell_type": "code",
     "collapsed": false,
     "input": [
      "%%R\n",
      "# Make some data\n",
      "# X increases (noisily)\n",
      "# Z increases slowly\n",
      "# Y is constructed so it is inversely related to xvar and positively related to xvar*zvar\n",
      "set.seed(955)\n",
      "xvar <- 1:20 + rnorm(20,sd=3)\n",
      "zvar <- 1:20/4 + rnorm(20,sd=2)\n",
      "yvar <- -2*xvar + xvar*zvar/5 + 3 + rnorm(20,sd=4)\n",
      "\n",
      "# Make a data frame with the variables\n",
      "df <- data.frame(x=xvar, y=yvar, z=zvar)\n",
      "df"
     ],
     "language": "python",
     "metadata": {},
     "outputs": [
      {
       "metadata": {},
       "output_type": "display_data",
       "text": [
        "              x           y           z\n",
        "1  -4.252354091   4.5857688  1.89877152\n",
        "2   1.702317971  -4.9027824 -0.82937359\n",
        "3   4.323053753  -4.3076433 -1.31283495\n",
        "4   1.780628408   0.2050367 -0.28479448\n",
        "5  11.537348371 -29.7670502 -1.27303976\n",
        "6   6.672130388 -10.1458220 -0.09459239\n",
        "7   0.004294848   6.0144087  2.10280686\n",
        "8   9.971403007 -22.0256867  0.77076957\n",
        "9   9.007456032 -12.7947009  2.20682543\n",
        "10 11.766997972 -18.0448576  1.78539479\n",
        "11  8.840215645 -12.8276929  4.21827398\n",
        "12  5.974093783  -1.6776537  6.76326053\n",
        "13 15.034828849 -25.0528240  1.57360134\n",
        "14 10.985009895 -10.7155315  0.92536204\n",
        "15 13.543221961  -7.7061781  6.20458408\n",
        "16 11.435789493  -9.6741684  6.09564787\n",
        "17 16.977063388 -12.7367161  5.47166997\n",
        "18 17.220012698 -11.2680397  5.12654591\n",
        "19 17.793359218 -20.4851665  5.22905851\n",
        "20 19.319909163 -25.5418882  4.76526658\n"
       ]
      }
     ],
     "prompt_number": 3
    },
    {
     "cell_type": "code",
     "collapsed": false,
     "input": [
      "%%R\n",
      "# Correlation coefficient\n",
      "tmp<-cor(df$x, df$y)\n",
      "print(tmp)\n",
      "# A correlation matrix of the variables\n",
      "tmp<-cor(df)\n",
      "print(tmp)\n",
      "#            x            y           z\n",
      "# x  1.0000000 -0.769537849 0.491698938\n",
      "# y -0.7695378  1.000000000 0.004172295\n",
      "# z  0.4916989  0.004172295 1.000000000\n",
      "\n",
      "\n",
      "# Print with only two decimal places\n",
      "tmp<-round(cor(df),2)\n",
      "print(tmp)\n",
      "#       x     y    z\n",
      "# x  1.00 -0.77 0.49\n",
      "# y -0.77  1.00 0.00\n",
      "# z  0.49  0.00 1.00"
     ],
     "language": "python",
     "metadata": {},
     "outputs": [
      {
       "metadata": {},
       "output_type": "display_data",
       "text": [
        "[1] -0.7695378\n",
        "           x            y           z\n",
        "x  1.0000000 -0.769537849 0.491698938\n",
        "y -0.7695378  1.000000000 0.004172295\n",
        "z  0.4916989  0.004172295 1.000000000\n",
        "      x     y    z\n",
        "x  1.00 -0.77 0.49\n",
        "y -0.77  1.00 0.00\n",
        "z  0.49  0.00 1.00\n"
       ]
      }
     ],
     "prompt_number": 7
    },
    {
     "cell_type": "markdown",
     "metadata": {},
     "source": [
      "#Linear regression\n",
      "\n",
      "Linear regressions, where df$x is the predictor, and df$y is the outcome. This can be done using two columns from a data frame, or with numeric vectors directly."
     ]
    },
    {
     "cell_type": "code",
     "collapsed": false,
     "input": [
      "%%R\n",
      "# These two commands will have the same outcome:\n",
      "fit <- lm(y ~ x, data=df)  # Using the columns x and y from the data frame\n",
      "fit <- lm(df$y ~ df$x)     # Using the vectors df$x and df$y\n",
      "fit\n",
      "# Call:\n",
      "# lm(formula = y ~ x, data = df)\n",
      "# \n",
      "# Coefficients:\n",
      "# (Intercept)            x  \n",
      "#     -0.2278      -1.1829  \n",
      "\n",
      "# This means that the predicted yvar = -.2278 - 1.1829*x\n",
      "\n",
      "\n",
      "# Get more detailed information:\n",
      "summary(fit)"
     ],
     "language": "python",
     "metadata": {},
     "outputs": [
      {
       "metadata": {},
       "output_type": "display_data",
       "text": [
        "\n",
        "Call:\n",
        "lm(formula = df$y ~ df$x)\n",
        "\n",
        "Residuals:\n",
        "     Min       1Q   Median       3Q      Max \n",
        "-15.8922  -2.5114   0.2866   4.4646   9.3285 \n",
        "\n",
        "Coefficients:\n",
        "            Estimate Std. Error t value Pr(>|t|)    \n",
        "(Intercept)  -0.2278     2.6323  -0.087    0.932    \n",
        "df$x         -1.1829     0.2314  -5.113 7.28e-05 ***\n",
        "---\n",
        "Signif. codes:  0 \u2018***\u2019 0.001 \u2018**\u2019 0.01 \u2018*\u2019 0.05 \u2018.\u2019 0.1 \u2018 \u2019 1\n",
        "\n",
        "Residual standard error: 6.506 on 18 degrees of freedom\n",
        "Multiple R-squared:  0.5922,\tAdjusted R-squared:  0.5695 \n",
        "F-statistic: 26.14 on 1 and 18 DF,  p-value: 7.282e-05\n",
        "\n"
       ]
      }
     ],
     "prompt_number": 8
    },
    {
     "cell_type": "markdown",
     "metadata": {},
     "source": [
      "#Linear regression with multiple predictors\n",
      "\n",
      "Linear regression with yvar as the outcome, and xvar and zvar as predictors.\n",
      "\n",
      "Note that the formula specified below does not test for interactions between x and z."
     ]
    },
    {
     "cell_type": "code",
     "collapsed": false,
     "input": [
      "%%R\n",
      "\n",
      "# These have the same result\n",
      "fit2 <- lm(y ~ x + z, data=df)  # Using the columns x, y, and z from the data frame\n",
      "fit2 <- lm(df$y ~ df$x + df$z)    # Using the vectors xvar, yvar, and zvar\n",
      "fit2\n",
      "# Call:\n",
      "# lm(formula = y ~ x + z, data = df)\n",
      "#\n",
      "# Coefficients:\n",
      "# (Intercept)            x            z  \n",
      "#      -1.382       -1.564        1.858  \n",
      "\n",
      "\n",
      "summary(fit2)"
     ],
     "language": "python",
     "metadata": {},
     "outputs": [
      {
       "metadata": {},
       "output_type": "display_data",
       "text": [
        "\n",
        "Call:\n",
        "lm(formula = df$y ~ df$x + df$z)\n",
        "\n",
        "Residuals:\n",
        "   Min     1Q Median     3Q    Max \n",
        "-7.974 -3.187 -1.205  3.847  7.524 \n",
        "\n",
        "Coefficients:\n",
        "            Estimate Std. Error t value Pr(>|t|)    \n",
        "(Intercept)  -1.3816     1.9878  -0.695  0.49644    \n",
        "df$x         -1.5642     0.1984  -7.883 4.46e-07 ***\n",
        "df$z          1.8578     0.4753   3.908  0.00113 ** \n",
        "---\n",
        "Signif. codes:  0 \u2018***\u2019 0.001 \u2018**\u2019 0.01 \u2018*\u2019 0.05 \u2018.\u2019 0.1 \u2018 \u2019 1\n",
        "\n",
        "Residual standard error: 4.859 on 17 degrees of freedom\n",
        "Multiple R-squared:  0.7852,\tAdjusted R-squared:  0.7599 \n",
        "F-statistic: 31.07 on 2 and 17 DF,  p-value: 2.1e-06\n",
        "\n"
       ]
      }
     ],
     "prompt_number": 9
    },
    {
     "cell_type": "code",
     "collapsed": false,
     "input": [
      "%%R\n",
      "# These are equivalent; the x*z expands to x + z + x:z\n",
      "fit3 <- lm(y ~ x * z, data=df) \n",
      "fit3 <- lm(y ~ x + z + x:z, data=df) \n",
      "# Call:\n",
      "# lm(formula = y ~ x + z + x:z, data = df)\n",
      "#\n",
      "# Coefficients:\n",
      "# (Intercept)            x            z          x:z  \n",
      "#      2.2820      -2.1311      -0.1068       0.2081  \n",
      "\n",
      "summary(fit3)"
     ],
     "language": "python",
     "metadata": {},
     "outputs": [
      {
       "metadata": {},
       "output_type": "display_data",
       "text": [
        "\n",
        "Call:\n",
        "lm(formula = y ~ x + z + x:z, data = df)\n",
        "\n",
        "Residuals:\n",
        "    Min      1Q  Median      3Q     Max \n",
        "-5.3045 -3.5998  0.3926  2.1376  8.3957 \n",
        "\n",
        "Coefficients:\n",
        "            Estimate Std. Error t value Pr(>|t|)    \n",
        "(Intercept)  2.28204    2.20064   1.037   0.3152    \n",
        "x           -2.13110    0.27406  -7.776    8e-07 ***\n",
        "z           -0.10682    0.84820  -0.126   0.9013    \n",
        "x:z          0.20814    0.07874   2.643   0.0177 *  \n",
        "---\n",
        "Signif. codes:  0 \u2018***\u2019 0.001 \u2018**\u2019 0.01 \u2018*\u2019 0.05 \u2018.\u2019 0.1 \u2018 \u2019 1\n",
        "\n",
        "Residual standard error: 4.178 on 16 degrees of freedom\n",
        "Multiple R-squared:  0.8505,\tAdjusted R-squared:  0.8225 \n",
        "F-statistic: 30.34 on 3 and 16 DF,  p-value: 7.759e-07\n",
        "\n"
       ]
      }
     ],
     "prompt_number": 10
    },
    {
     "cell_type": "code",
     "collapsed": false,
     "input": [
      "%%file tmp/sleep.txt\n",
      "extra group ID\n",
      "0.7     1  1\n",
      "-1.6     1  2\n",
      "-0.2     1  3\n",
      "-1.2     1  4\n",
      "-0.1     1  5\n",
      "3.4     1  6\n",
      "3.7     1  7\n",
      "0.8     1  8\n",
      "0.0     1  9\n",
      "2.0     1 10\n",
      "1.9     2  1\n",
      "0.8     2  2\n",
      "1.1     2  3\n",
      "0.1     2  4\n",
      "-0.1     2  5\n",
      "4.4     2  6\n",
      "5.5     2  7\n",
      "1.6     2  8\n",
      "4.6     2  9\n",
      "3.4     2 10"
     ],
     "language": "python",
     "metadata": {},
     "outputs": [
      {
       "output_type": "stream",
       "stream": "stdout",
       "text": [
        "Writing tmp/sleep.txt\n"
       ]
      }
     ],
     "prompt_number": 11
    },
    {
     "cell_type": "code",
     "collapsed": false,
     "input": [
      "%%R\n",
      "sleep<- read.table(\"tmp/sleep.txt\",header=T)\n",
      "print(sleep)\n",
      "\n",
      "sleep.wide <- data.frame(ID=1:10, group1=sleep$extra[1:10], group2=sleep$extra[11:20])\n",
      "sleep.wide"
     ],
     "language": "python",
     "metadata": {},
     "outputs": [
      {
       "metadata": {},
       "output_type": "display_data",
       "text": [
        "   extra group ID\n",
        "1    0.7     1  1\n",
        "2   -1.6     1  2\n",
        "3   -0.2     1  3\n",
        "4   -1.2     1  4\n",
        "5   -0.1     1  5\n",
        "6    3.4     1  6\n",
        "7    3.7     1  7\n",
        "8    0.8     1  8\n",
        "9    0.0     1  9\n",
        "10   2.0     1 10\n",
        "11   1.9     2  1\n",
        "12   0.8     2  2\n",
        "13   1.1     2  3\n",
        "14   0.1     2  4\n",
        "15  -0.1     2  5\n",
        "16   4.4     2  6\n",
        "17   5.5     2  7\n",
        "18   1.6     2  8\n",
        "19   4.6     2  9\n",
        "20   3.4     2 10\n",
        "   ID group1 group2\n",
        "1   1    0.7    1.9\n",
        "2   2   -1.6    0.8\n",
        "3   3   -0.2    1.1\n",
        "4   4   -1.2    0.1\n",
        "5   5   -0.1   -0.1\n",
        "6   6    3.4    4.4\n",
        "7   7    3.7    5.5\n",
        "8   8    0.8    1.6\n",
        "9   9    0.0    4.6\n",
        "10 10    2.0    3.4\n"
       ]
      }
     ],
     "prompt_number": 18
    },
    {
     "cell_type": "markdown",
     "metadata": {},
     "source": [
      "#Comparing two groups: independent two-sample t-test\n",
      "\n",
      "Suppose the two groups are independently sampled; we'll ignore the ID variable for the purposes here.\n",
      "\n",
      "The t.test function can operate on long-structered data like sleep, where one column (extra) records the measurement, and the other column (group) specifies the grouping; or it can operate on two separate vectors."
     ]
    },
    {
     "cell_type": "code",
     "collapsed": false,
     "input": [
      "%%R\n",
      "t.test(extra ~ group, sleep)\n",
      "t.test(sleep.wide$group1, sleep.wide$group2)\n",
      "\n"
     ],
     "language": "python",
     "metadata": {},
     "outputs": [
      {
       "metadata": {},
       "output_type": "display_data",
       "text": [
        "\n",
        "\tWelch Two Sample t-test\n",
        "\n",
        "data:  sleep.wide$group1 and sleep.wide$group2\n",
        "t = -1.8608, df = 17.776, p-value = 0.07939\n",
        "alternative hypothesis: true difference in means is not equal to 0\n",
        "95 percent confidence interval:\n",
        " -3.3654832  0.2054832\n",
        "sample estimates:\n",
        "mean of x mean of y \n",
        "     0.75      2.33 \n",
        "\n"
       ]
      }
     ],
     "prompt_number": 22
    },
    {
     "cell_type": "code",
     "collapsed": false,
     "input": [
      "%%R\n",
      "t.test(extra ~ group, sleep, var.equal=TRUE)\n",
      "t.test(sleep.wide$group1, sleep.wide$group2, var.equal=TRUE)"
     ],
     "language": "python",
     "metadata": {},
     "outputs": [
      {
       "metadata": {},
       "output_type": "display_data",
       "text": [
        "\n",
        "\tTwo Sample t-test\n",
        "\n",
        "data:  sleep.wide$group1 and sleep.wide$group2\n",
        "t = -1.8608, df = 18, p-value = 0.07919\n",
        "alternative hypothesis: true difference in means is not equal to 0\n",
        "95 percent confidence interval:\n",
        " -3.363874  0.203874\n",
        "sample estimates:\n",
        "mean of x mean of y \n",
        "     0.75      2.33 \n",
        "\n"
       ]
      }
     ],
     "prompt_number": 23
    },
    {
     "cell_type": "markdown",
     "metadata": {},
     "source": [
      "#Paired-sample t-test\n",
      "\n",
      "You can also compare paired data, using a paired-sample t-test. You might have observations before and after a treatment, or of two matched subjects with different treatments.\n",
      "\n",
      "Again, the t-test function can be used on a data frame with a grouping variable, or on two vectors. It relies the relative position to determine the pairing. If you are using long-format data with a grouping variable, the first row with group=1 is paired with the first row with group=2. It is important to make sure that the data is sorted and there are not missing observations; otherwise the pairing can be thrown off."
     ]
    },
    {
     "cell_type": "code",
     "collapsed": false,
     "input": [
      "%%R\n",
      "t.test(extra ~ group, sleep, paired=TRUE)\n",
      "t.test(sleep.wide$group1, sleep.wide$group2, paired=TRUE)"
     ],
     "language": "python",
     "metadata": {},
     "outputs": [
      {
       "metadata": {},
       "output_type": "display_data",
       "text": [
        "\n",
        "\tPaired t-test\n",
        "\n",
        "data:  sleep.wide$group1 and sleep.wide$group2\n",
        "t = -4.0621, df = 9, p-value = 0.002833\n",
        "alternative hypothesis: true difference in means is not equal to 0\n",
        "95 percent confidence interval:\n",
        " -2.4598858 -0.7001142\n",
        "sample estimates:\n",
        "mean of the differences \n",
        "                  -1.58 \n",
        "\n"
       ]
      }
     ],
     "prompt_number": 24
    },
    {
     "cell_type": "code",
     "collapsed": false,
     "input": [
      "%%R\n",
      "t.test(sleep.wide$group1 - sleep.wide$group2, mu=0, var.equal=TRUE)"
     ],
     "language": "python",
     "metadata": {},
     "outputs": [
      {
       "metadata": {},
       "output_type": "display_data",
       "text": [
        "\n",
        "\tOne Sample t-test\n",
        "\n",
        "data:  sleep.wide$group1 - sleep.wide$group2\n",
        "t = -4.0621, df = 9, p-value = 0.002833\n",
        "alternative hypothesis: true mean is not equal to 0\n",
        "95 percent confidence interval:\n",
        " -2.4598858 -0.7001142\n",
        "sample estimates:\n",
        "mean of x \n",
        "    -1.58 \n",
        "\n"
       ]
      }
     ],
     "prompt_number": 25
    },
    {
     "cell_type": "markdown",
     "metadata": {},
     "source": [
      "#Comparing a group against an expected population mean: one-sample t-test\n",
      "\n",
      "Suppose that you want to test whether the data in column extra is drawn from a population whose true mean is 0. In this case, the group and ID columns are ignored."
     ]
    },
    {
     "cell_type": "code",
     "collapsed": false,
     "input": [
      "%%R\n",
      "t.test(sleep$extra, mu=0)"
     ],
     "language": "python",
     "metadata": {},
     "outputs": [
      {
       "metadata": {},
       "output_type": "display_data",
       "text": [
        "\n",
        "\tOne Sample t-test\n",
        "\n",
        "data:  sleep$extra\n",
        "t = 3.413, df = 19, p-value = 0.002918\n",
        "alternative hypothesis: true mean is not equal to 0\n",
        "95 percent confidence interval:\n",
        " 0.5955845 2.4844155\n",
        "sample estimates:\n",
        "mean of x \n",
        "     1.54 \n",
        "\n"
       ]
      }
     ],
     "prompt_number": 26
    },
    {
     "cell_type": "markdown",
     "metadata": {},
     "source": [
      "#Frequency tests\n",
      "\n",
      "Table of contents\n",
      "Frequency tests\n",
      "Problem\n",
      "Solution\n",
      "Tests of goodness-of-fit (expected frequency)\n",
      "Chi-square test\n",
      "Exact binomial test\n",
      "Tests of independence (comparing groups)\n",
      "Chi-square test\n",
      "Fisher's exact test\n",
      "Cochran-Mantel-Haenszel test\n",
      "McNemar's test\n",
      "Problem\n",
      "\n",
      "You have categorical data and want test whether the frequency distribution of values differs from an expected frequency, or if the distribution differs between groups.\n",
      "\n",
      "Solution\n",
      "\n",
      "There are two general questions that frequency tests address:\n",
      "\n",
      "Does the frequency distribution differ from an expected, or theoretical, distribution (e.g., expect 50% yes, 50% no)? (Goodness-of-fit test)\n",
      "Does the frequency distribution differ between two or more groups? (Independence test)\n",
      "Of the statistical tests commonly used to address these questions, there are exact tests and approximate tests.\n",
      "\n",
      "Expected distribution\tComparing groups\n",
      "Exact\tExact binomial\tFisher's exact\n",
      "Approximate\tChi-square goodness of fit\tChi-square test of independence\n",
      "Note: The exact binomial test can only be used on one variable that has two levels. Fisher's exact test can only be used with two-dimensional contingency tables (for example, it can be used when there is one independent variable and one dependent variable, but not when there are 2 IVs and 1 DV).\n",
      "\n",
      "To test for paired or within-subjects effects, McNemar's test can be used. To use it, there must be one IV with two levels, and one DV with two levels.\n",
      "\n",
      "To test for the independence of two variables with repeated measurements, the Cochran-Mantel-Haenszel test can be used."
     ]
    },
    {
     "cell_type": "code",
     "collapsed": false,
     "input": [
      "%%R\n",
      "data <- read.table(header=TRUE, text='\n",
      " condition result\n",
      "   control      0\n",
      "   control      0\n",
      "   control      0\n",
      "   control      0\n",
      " treatment      1\n",
      "   control      0\n",
      "   control      0\n",
      " treatment      0\n",
      " treatment      1\n",
      "   control      1\n",
      " treatment      1\n",
      " treatment      1\n",
      " treatment      1\n",
      " treatment      1\n",
      " treatment      0\n",
      "   control      0\n",
      "   control      1\n",
      "   control      0\n",
      "   control      1\n",
      " treatment      0\n",
      " treatment      1\n",
      " treatment      0\n",
      " treatment      0\n",
      "   control      0\n",
      " treatment      1\n",
      "   control      0\n",
      "   control      0\n",
      " treatment      1\n",
      " treatment      0\n",
      " treatment      1\n",
      " ')"
     ],
     "language": "python",
     "metadata": {},
     "outputs": [],
     "prompt_number": 27
    },
    {
     "cell_type": "code",
     "collapsed": false,
     "input": [],
     "language": "python",
     "metadata": {},
     "outputs": []
    }
   ],
   "metadata": {}
  }
 ]
}