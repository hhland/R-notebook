{
 "metadata": {
  "name": "",
  "signature": "sha256:6e35c8df4b793a4f20bbc581319c2685f1ae8768f7eb97d8d8483f77dde344bb"
 },
 "nbformat": 3,
 "nbformat_minor": 0,
 "worksheets": []
}