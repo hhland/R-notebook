{
 "metadata": {
  "name": "",
  "signature": "sha256:74687f21e3c7e224dded5a523344c10939cee818ae4cd1791882cc9d7832527e"
 },
 "nbformat": 3,
 "nbformat_minor": 0,
 "worksheets": [
  {
   "cells": [
    {
     "cell_type": "code",
     "collapsed": false,
     "input": [
      "%pylab inline\n",
      "%load_ext rmagic"
     ],
     "language": "python",
     "metadata": {},
     "outputs": [
      {
       "output_type": "stream",
       "stream": "stdout",
       "text": [
        "Populating the interactive namespace from numpy and matplotlib\n"
       ]
      }
     ],
     "prompt_number": 1
    },
    {
     "cell_type": "markdown",
     "metadata": {},
     "source": [
      "#Sorting"
     ]
    },
    {
     "cell_type": "code",
     "collapsed": false,
     "input": [
      "%%R\n",
      "# Make up a randomly ordered vector\n",
      "v <- sample(101:110)\n",
      "# 102 107 104 106 105 103 101 108 109 110\n",
      "\n",
      "# Sort the vector\n",
      "sort(v)\n",
      "# 101 102 103 104 105 106 107 108 109 110\n",
      "\n",
      "# Reverse sort\n",
      "sort(v, decreasing=TRUE)\n",
      "# 110 109 108 107 106 105 104 103 102 101"
     ],
     "language": "python",
     "metadata": {},
     "outputs": [
      {
       "metadata": {},
       "output_type": "display_data",
       "text": [
        " [1] 110 109 108 107 106 105 104 103 102 101\n"
       ]
      }
     ],
     "prompt_number": 2
    },
    {
     "cell_type": "code",
     "collapsed": false,
     "input": [
      "%%R\n",
      "# Make a data frame\n",
      "df <- data.frame (id=1:4,\n",
      "            weight=c(20,27,24,22),\n",
      "            size=c(\"small\", \"large\", \"medium\", \"large\"))\n",
      "# id weight   size\n",
      "#  1     20  small\n",
      "#  2     27  large\n",
      "#  3     24 medium\n",
      "#  4     22  large\n",
      "print(df)\n",
      "\n",
      "library(plyr)\n",
      "\n",
      "# Sort by weight column. These have the same result\n",
      "arrange(df, weight)       # Use arrange from plyr package\n",
      "print(df[ order(df$weight), ])   # Use built-in R functions\n",
      "# id weight   size\n",
      "#  1     20  small\n",
      "#  4     22  large\n",
      "#  3     24 medium\n",
      "#  2     27  large\n",
      "\n",
      "\n",
      "# Sort by size, then by weight\n",
      "arrange(df, size, weight)         # Use arrange from plyr package\n",
      "print(df[ order(df$size, df$weight), ] ) # Use built-in R functions\n",
      "# id weight   size\n",
      "#  4     22  large\n",
      "#  2     27  large\n",
      "#  3     24 medium\n",
      "#  1     20  small\n",
      "\n",
      "\n",
      "# Sort by all columns in the data frame, from left to right\n",
      "df[ do.call(order, as.list(df)), ] \n",
      "# In this particular example, the order will be unchanged"
     ],
     "language": "python",
     "metadata": {},
     "outputs": [
      {
       "metadata": {},
       "output_type": "display_data",
       "text": [
        "  id weight   size\n",
        "1  1     20  small\n",
        "2  2     27  large\n",
        "3  3     24 medium\n",
        "4  4     22  large\n",
        "  id weight   size\n",
        "1  1     20  small\n",
        "4  4     22  large\n",
        "3  3     24 medium\n",
        "2  2     27  large\n",
        "  id weight   size\n",
        "4  4     22  large\n",
        "2  2     27  large\n",
        "3  3     24 medium\n",
        "1  1     20  small\n",
        "  id weight   size\n",
        "1  1     20  small\n",
        "2  2     27  large\n",
        "3  3     24 medium\n",
        "4  4     22  large\n"
       ]
      }
     ],
     "prompt_number": 4
    },
    {
     "cell_type": "code",
     "collapsed": false,
     "input": [],
     "language": "python",
     "metadata": {},
     "outputs": []
    }
   ],
   "metadata": {}
  }
 ]
}