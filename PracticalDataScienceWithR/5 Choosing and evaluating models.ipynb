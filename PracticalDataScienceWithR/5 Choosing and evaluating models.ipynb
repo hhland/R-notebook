{
 "cells": [
  {
   "cell_type": "code",
   "execution_count": 1,
   "metadata": {
    "collapsed": false
   },
   "outputs": [],
   "source": [
    "url<-\"https://raw.githubusercontent.com/WinVector/zmPDSwR/master/Spambase/spamD.tsv\""
   ]
  },
  {
   "cell_type": "code",
   "execution_count": 2,
   "metadata": {
    "collapsed": false
   },
   "outputs": [
    {
     "data": {
      "text/html": [
       "<table>\n",
       "<thead><tr><th scope=col>word.freq.make</th><th scope=col>word.freq.address</th><th scope=col>word.freq.all</th><th scope=col>word.freq.3d</th><th scope=col>word.freq.our</th><th scope=col>word.freq.over</th><th scope=col>word.freq.remove</th><th scope=col>word.freq.internet</th><th scope=col>word.freq.order</th><th scope=col>word.freq.mail</th><th scope=col>⋯</th><th scope=col>char.freq.lparen</th><th scope=col>char.freq.lbrack</th><th scope=col>char.freq.bang</th><th scope=col>char.freq.dollar</th><th scope=col>char.freq.hash</th><th scope=col>capital.run.length.average</th><th scope=col>capital.run.length.longest</th><th scope=col>capital.run.length.total</th><th scope=col>spam</th><th scope=col>rgroup</th></tr></thead>\n",
       "<tbody>\n",
       "\t<tr><td>0.00 </td><td>0.64 </td><td>0.64 </td><td>0    </td><td>0.32 </td><td>0.00 </td><td>0.00 </td><td>0.00 </td><td>0.00 </td><td>0.00 </td><td>⋯    </td><td>0.000</td><td>0    </td><td>0.778</td><td>0.000</td><td>0.000</td><td>3.756</td><td> 61  </td><td> 278 </td><td>spam </td><td>52   </td></tr>\n",
       "\t<tr><td>0.21 </td><td>0.28 </td><td>0.50 </td><td>0    </td><td>0.14 </td><td>0.28 </td><td>0.21 </td><td>0.07 </td><td>0.00 </td><td>0.94 </td><td>⋯    </td><td>0.132</td><td>0    </td><td>0.372</td><td>0.180</td><td>0.048</td><td>5.114</td><td>101  </td><td>1028 </td><td>spam </td><td>91   </td></tr>\n",
       "\t<tr><td>0.06 </td><td>0.00 </td><td>0.71 </td><td>0    </td><td>1.23 </td><td>0.19 </td><td>0.19 </td><td>0.12 </td><td>0.64 </td><td>0.25 </td><td>⋯    </td><td>0.143</td><td>0    </td><td>0.276</td><td>0.184</td><td>0.010</td><td>9.821</td><td>485  </td><td>2259 </td><td>spam </td><td>49   </td></tr>\n",
       "\t<tr><td>0.00 </td><td>0.00 </td><td>0.00 </td><td>0    </td><td>0.63 </td><td>0.00 </td><td>0.31 </td><td>0.63 </td><td>0.31 </td><td>0.63 </td><td>⋯    </td><td>0.137</td><td>0    </td><td>0.137</td><td>0.000</td><td>0.000</td><td>3.537</td><td> 40  </td><td> 191 </td><td>spam </td><td>88   </td></tr>\n",
       "\t<tr><td>0.00 </td><td>0.00 </td><td>0.00 </td><td>0    </td><td>0.63 </td><td>0.00 </td><td>0.31 </td><td>0.63 </td><td>0.31 </td><td>0.63 </td><td>⋯    </td><td>0.135</td><td>0    </td><td>0.135</td><td>0.000</td><td>0.000</td><td>3.537</td><td> 40  </td><td> 191 </td><td>spam </td><td>73   </td></tr>\n",
       "\t<tr><td>0.00 </td><td>0.00 </td><td>0.00 </td><td>0    </td><td>1.85 </td><td>0.00 </td><td>0.00 </td><td>1.85 </td><td>0.00 </td><td>0.00 </td><td>⋯    </td><td>0.223</td><td>0    </td><td>0.000</td><td>0.000</td><td>0.000</td><td>3.000</td><td> 15  </td><td>  54 </td><td>spam </td><td>45   </td></tr>\n",
       "</tbody>\n",
       "</table>\n"
      ],
      "text/latex": [
       "\\begin{tabular}{r|lllllllllllllllllllllllllllllllllllllllllllllllllllllllllll}\n",
       " word.freq.make & word.freq.address & word.freq.all & word.freq.3d & word.freq.our & word.freq.over & word.freq.remove & word.freq.internet & word.freq.order & word.freq.mail & ⋯ & char.freq.lparen & char.freq.lbrack & char.freq.bang & char.freq.dollar & char.freq.hash & capital.run.length.average & capital.run.length.longest & capital.run.length.total & spam & rgroup\\\\\n",
       "\\hline\n",
       "\t 0.00  & 0.64  & 0.64  & 0     & 0.32  & 0.00  & 0.00  & 0.00  & 0.00  & 0.00  & ⋯     & 0.000 & 0     & 0.778 & 0.000 & 0.000 & 3.756 &  61   &  278  & spam  & 52   \\\\\n",
       "\t 0.21  & 0.28  & 0.50  & 0     & 0.14  & 0.28  & 0.21  & 0.07  & 0.00  & 0.94  & ⋯     & 0.132 & 0     & 0.372 & 0.180 & 0.048 & 5.114 & 101   & 1028  & spam  & 91   \\\\\n",
       "\t 0.06  & 0.00  & 0.71  & 0     & 1.23  & 0.19  & 0.19  & 0.12  & 0.64  & 0.25  & ⋯     & 0.143 & 0     & 0.276 & 0.184 & 0.010 & 9.821 & 485   & 2259  & spam  & 49   \\\\\n",
       "\t 0.00  & 0.00  & 0.00  & 0     & 0.63  & 0.00  & 0.31  & 0.63  & 0.31  & 0.63  & ⋯     & 0.137 & 0     & 0.137 & 0.000 & 0.000 & 3.537 &  40   &  191  & spam  & 88   \\\\\n",
       "\t 0.00  & 0.00  & 0.00  & 0     & 0.63  & 0.00  & 0.31  & 0.63  & 0.31  & 0.63  & ⋯     & 0.135 & 0     & 0.135 & 0.000 & 0.000 & 3.537 &  40   &  191  & spam  & 73   \\\\\n",
       "\t 0.00  & 0.00  & 0.00  & 0     & 1.85  & 0.00  & 0.00  & 1.85  & 0.00  & 0.00  & ⋯     & 0.223 & 0     & 0.000 & 0.000 & 0.000 & 3.000 &  15   &   54  & spam  & 45   \\\\\n",
       "\\end{tabular}\n"
      ],
      "text/plain": [
       "  word.freq.make word.freq.address word.freq.all word.freq.3d word.freq.our\n",
       "1 0.00           0.64              0.64          0            0.32         \n",
       "2 0.21           0.28              0.50          0            0.14         \n",
       "3 0.06           0.00              0.71          0            1.23         \n",
       "4 0.00           0.00              0.00          0            0.63         \n",
       "5 0.00           0.00              0.00          0            0.63         \n",
       "6 0.00           0.00              0.00          0            1.85         \n",
       "  word.freq.over word.freq.remove word.freq.internet word.freq.order\n",
       "1 0.00           0.00             0.00               0.00           \n",
       "2 0.28           0.21             0.07               0.00           \n",
       "3 0.19           0.19             0.12               0.64           \n",
       "4 0.00           0.31             0.63               0.31           \n",
       "5 0.00           0.31             0.63               0.31           \n",
       "6 0.00           0.00             1.85               0.00           \n",
       "  word.freq.mail ⋯ char.freq.lparen char.freq.lbrack char.freq.bang\n",
       "1 0.00           ⋯ 0.000            0                0.778         \n",
       "2 0.94           ⋯ 0.132            0                0.372         \n",
       "3 0.25           ⋯ 0.143            0                0.276         \n",
       "4 0.63           ⋯ 0.137            0                0.137         \n",
       "5 0.63           ⋯ 0.135            0                0.135         \n",
       "6 0.00           ⋯ 0.223            0                0.000         \n",
       "  char.freq.dollar char.freq.hash capital.run.length.average\n",
       "1 0.000            0.000          3.756                     \n",
       "2 0.180            0.048          5.114                     \n",
       "3 0.184            0.010          9.821                     \n",
       "4 0.000            0.000          3.537                     \n",
       "5 0.000            0.000          3.537                     \n",
       "6 0.000            0.000          3.000                     \n",
       "  capital.run.length.longest capital.run.length.total spam rgroup\n",
       "1  61                         278                     spam 52    \n",
       "2 101                        1028                     spam 91    \n",
       "3 485                        2259                     spam 49    \n",
       "4  40                         191                     spam 88    \n",
       "5  40                         191                     spam 73    \n",
       "6  15                          54                     spam 45    "
      ]
     },
     "metadata": {},
     "output_type": "display_data"
    }
   ],
   "source": [
    "spamD <- read.table(url,header=T,sep='\\t')\n",
    "head(spamD)"
   ]
  },
  {
   "cell_type": "markdown",
   "metadata": {},
   "source": [
    "# Listing 5.1 Building and applying a logistic regression spam model"
   ]
  },
  {
   "cell_type": "code",
   "execution_count": 3,
   "metadata": {
    "collapsed": false
   },
   "outputs": [
    {
     "data": {
      "text/html": [
       "<ol class=list-inline>\n",
       "\t<li>'word.freq.make'</li>\n",
       "\t<li>'word.freq.address'</li>\n",
       "\t<li>'word.freq.all'</li>\n",
       "\t<li>'word.freq.3d'</li>\n",
       "\t<li>'word.freq.our'</li>\n",
       "\t<li>'word.freq.over'</li>\n",
       "</ol>\n"
      ],
      "text/latex": [
       "\\begin{enumerate*}\n",
       "\\item 'word.freq.make'\n",
       "\\item 'word.freq.address'\n",
       "\\item 'word.freq.all'\n",
       "\\item 'word.freq.3d'\n",
       "\\item 'word.freq.our'\n",
       "\\item 'word.freq.over'\n",
       "\\end{enumerate*}\n"
      ],
      "text/markdown": [
       "1. 'word.freq.make'\n",
       "2. 'word.freq.address'\n",
       "3. 'word.freq.all'\n",
       "4. 'word.freq.3d'\n",
       "5. 'word.freq.our'\n",
       "6. 'word.freq.over'\n",
       "\n",
       "\n"
      ],
      "text/plain": [
       "[1] \"word.freq.make\"    \"word.freq.address\" \"word.freq.all\"    \n",
       "[4] \"word.freq.3d\"      \"word.freq.our\"     \"word.freq.over\"   "
      ]
     },
     "metadata": {},
     "output_type": "display_data"
    }
   ],
   "source": [
    "spamTrain <- subset(spamD,spamD$rgroup>=10)\n",
    "spamTest <- subset(spamD,spamD$rgroup<=10)\n",
    "spamVars <- setdiff(colnames(spamD),list(\"rgroup\",\"spam\"))\n",
    "\n",
    "head(spamVars)"
   ]
  },
  {
   "cell_type": "code",
   "execution_count": 4,
   "metadata": {
    "collapsed": false
   },
   "outputs": [
    {
     "data": {
      "text/plain": [
       "spam == \"spam\" ~ word.freq.make + word.freq.address + word.freq.all + \n",
       "    word.freq.3d + word.freq.our + word.freq.over + word.freq.remove + \n",
       "    word.freq.internet + word.freq.order + word.freq.mail + word.freq.receive + \n",
       "    word.freq.will + word.freq.people + word.freq.report + word.freq.addresses + \n",
       "    word.freq.free + word.freq.business + word.freq.email + word.freq.you + \n",
       "    word.freq.credit + word.freq.your + word.freq.font + word.freq.000 + \n",
       "    word.freq.money + word.freq.hp + word.freq.hpl + word.freq.george + \n",
       "    word.freq.650 + word.freq.lab + word.freq.labs + word.freq.telnet + \n",
       "    word.freq.857 + word.freq.data + word.freq.415 + word.freq.85 + \n",
       "    word.freq.technology + word.freq.1999 + word.freq.parts + \n",
       "    word.freq.pm + word.freq.direct + word.freq.cs + word.freq.meeting + \n",
       "    word.freq.original + word.freq.project + word.freq.re + word.freq.edu + \n",
       "    word.freq.table + word.freq.conference + char.freq.semi + \n",
       "    char.freq.lparen + char.freq.lbrack + char.freq.bang + char.freq.dollar + \n",
       "    char.freq.hash + capital.run.length.average + capital.run.length.longest + \n",
       "    capital.run.length.total"
      ]
     },
     "metadata": {},
     "output_type": "display_data"
    }
   ],
   "source": [
    "spamFormula <- as.formula(paste('spam==\"spam\"',paste(spamVars,collapse = ' + '),sep = '~'))\n",
    "spamFormula"
   ]
  },
  {
   "cell_type": "code",
   "execution_count": 6,
   "metadata": {
    "collapsed": false
   },
   "outputs": [
    {
     "name": "stderr",
     "output_type": "stream",
     "text": [
      "Warning message:\n",
      "“glm.fit: fitted probabilities numerically 0 or 1 occurred”"
     ]
    },
    {
     "data": {
      "text/plain": [
       "\n",
       "Call:  glm(formula = spamFormula, family = binomial(link = \"logit\"), \n",
       "    data = spamTrain)\n",
       "\n",
       "Coefficients:\n",
       "               (Intercept)              word.freq.make  \n",
       "                -1.616e+00                  -3.268e-01  \n",
       "         word.freq.address               word.freq.all  \n",
       "                -1.546e-01                   1.494e-01  \n",
       "              word.freq.3d               word.freq.our  \n",
       "                 2.194e+00                   4.756e-01  \n",
       "            word.freq.over            word.freq.remove  \n",
       "                 7.444e-01                   2.339e+00  \n",
       "        word.freq.internet             word.freq.order  \n",
       "                 8.005e-01                   6.449e-01  \n",
       "            word.freq.mail           word.freq.receive  \n",
       "                 1.044e-01                  -2.830e-01  \n",
       "            word.freq.will            word.freq.people  \n",
       "                -1.315e-01                  -1.501e-01  \n",
       "          word.freq.report         word.freq.addresses  \n",
       "                 1.371e-01                   1.132e+00  \n",
       "            word.freq.free          word.freq.business  \n",
       "                 1.368e+00                   9.770e-01  \n",
       "           word.freq.email               word.freq.you  \n",
       "                 2.489e-02                   1.104e-01  \n",
       "          word.freq.credit              word.freq.your  \n",
       "                 1.765e+00                   2.102e-01  \n",
       "            word.freq.font               word.freq.000  \n",
       "                 1.769e-01                   2.043e+00  \n",
       "           word.freq.money                word.freq.hp  \n",
       "                 4.124e-01                  -1.816e+00  \n",
       "             word.freq.hpl            word.freq.george  \n",
       "                -8.932e-01                  -1.177e+01  \n",
       "             word.freq.650               word.freq.lab  \n",
       "                 3.842e-01                  -2.548e+00  \n",
       "            word.freq.labs            word.freq.telnet  \n",
       "                -6.103e-01                   8.901e-01  \n",
       "             word.freq.857              word.freq.data  \n",
       "                 2.467e+00                  -6.475e-01  \n",
       "             word.freq.415                word.freq.85  \n",
       "                -1.615e+01                  -2.115e+00  \n",
       "      word.freq.technology              word.freq.1999  \n",
       "                 7.414e-01                   8.544e-02  \n",
       "           word.freq.parts                word.freq.pm  \n",
       "                -7.668e-01                  -9.883e-01  \n",
       "          word.freq.direct                word.freq.cs  \n",
       "                -3.051e-01                  -4.458e+01  \n",
       "         word.freq.meeting          word.freq.original  \n",
       "                -2.955e+00                  -1.408e+00  \n",
       "         word.freq.project                word.freq.re  \n",
       "                -1.891e+00                  -8.785e-01  \n",
       "             word.freq.edu             word.freq.table  \n",
       "                -1.427e+00                  -2.381e+00  \n",
       "      word.freq.conference              char.freq.semi  \n",
       "                -3.776e+00                  -1.267e+00  \n",
       "          char.freq.lparen            char.freq.lbrack  \n",
       "                -4.789e-02                  -4.073e-01  \n",
       "            char.freq.bang            char.freq.dollar  \n",
       "                 3.029e-01                   5.667e+00  \n",
       "            char.freq.hash  capital.run.length.average  \n",
       "                 2.572e+00                   1.034e-02  \n",
       "capital.run.length.longest    capital.run.length.total  \n",
       "                 9.437e-03                   7.884e-04  \n",
       "\n",
       "Degrees of Freedom: 4142 Total (i.e. Null);  4085 Residual\n",
       "Null Deviance:\t    5556 \n",
       "Residual Deviance: 1614 \tAIC: 1730"
      ]
     },
     "metadata": {},
     "output_type": "display_data"
    }
   ],
   "source": [
    "spamModel <- glm(spamFormula,family = binomial(link=\"logit\"),data=spamTrain)\n",
    "spamModel"
   ]
  },
  {
   "cell_type": "code",
   "execution_count": 7,
   "metadata": {
    "collapsed": false
   },
   "outputs": [
    {
     "name": "stdout",
     "output_type": "stream",
     "text": [
      "          glmPred\n",
      "y          FALSE TRUE\n",
      "  non-spam   284   14\n",
      "  spam        24  174\n"
     ]
    }
   ],
   "source": [
    "spamTrain$pred <- predict(spamModel,newdata = spamTrain,type = \"response\")\n",
    "spamTest$pred <- predict(spamModel,newdata = spamTest,type = \"response\")\n",
    "\n",
    "print(with(spamTest,table(y=spam,glmPred=pred>0.5)))"
   ]
  },
  {
   "cell_type": "markdown",
   "metadata": {},
   "source": [
    "# Listing 5.2 Spam classifications"
   ]
  },
  {
   "cell_type": "code",
   "execution_count": null,
   "metadata": {
    "collapsed": true
   },
   "outputs": [],
   "source": []
  }
 ],
 "metadata": {
  "kernelspec": {
   "display_name": "R",
   "language": "R",
   "name": "ir"
  },
  "language_info": {
   "codemirror_mode": "r",
   "file_extension": ".r",
   "mimetype": "text/x-r-source",
   "name": "R",
   "pygments_lexer": "r",
   "version": "3.3.1"
  }
 },
 "nbformat": 4,
 "nbformat_minor": 0
}
