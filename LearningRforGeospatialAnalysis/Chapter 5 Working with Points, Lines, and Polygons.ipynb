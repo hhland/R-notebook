{
 "cells": [
  {
   "cell_type": "code",
   "execution_count": 4,
   "metadata": {
    "collapsed": false
   },
   "outputs": [
    {
     "name": "stderr",
     "output_type": "stream",
     "text": [
      "Loading required package: ggplot2\n"
     ]
    }
   ],
   "source": [
    "library(ggmap)\n",
    "addresses = c(\n",
    " \"2200 Sunport Blvd, Albuquerque, NM 87106, USA\",\n",
    " \"7401 Paseo Del Volcan Northwest Albuquerque, NM 87121, USA\",\n",
    " \"121 Aviation Dr, Santa Fe, NM 87507, USA\")"
   ]
  },
  {
   "cell_type": "code",
   "execution_count": 5,
   "metadata": {
    "collapsed": false
   },
   "outputs": [
    {
     "name": "stderr",
     "output_type": "stream",
     "text": [
      "Information from URL : http://maps.googleapis.com/maps/api/geocode/json?address=2200%20Sunport%20Blvd,%20Albuquerque,%20NM%2087106,%20USA&sensor=false\n",
      "Information from URL : http://maps.googleapis.com/maps/api/geocode/json?address=7401%20Paseo%20Del%20Volcan%20Northwest%20Albuquerque,%20NM%2087121,%20USA&sensor=false\n",
      "Information from URL : http://maps.googleapis.com/maps/api/geocode/json?address=121%20Aviation%20Dr,%20Santa%20Fe,%20NM%2087507,%20USA&sensor=false\n"
     ]
    },
    {
     "data": {
      "text/html": [
       "<table>\n",
       "<thead><tr><th scope=col>lon</th><th scope=col>lat</th></tr></thead>\n",
       "<tbody>\n",
       "\t<tr><td>-106.6164</td><td>35.04826 </td></tr>\n",
       "\t<tr><td>-106.7947</td><td>35.15559 </td></tr>\n",
       "\t<tr><td>-106.0830</td><td>35.61740 </td></tr>\n",
       "</tbody>\n",
       "</table>\n"
      ],
      "text/latex": [
       "\\begin{tabular}{r|ll}\n",
       " lon & lat\\\\\n",
       "\\hline\n",
       "\t -106.6164 & 35.04826 \\\\\n",
       "\t -106.7947 & 35.15559 \\\\\n",
       "\t -106.0830 & 35.61740 \\\\\n",
       "\\end{tabular}\n"
      ],
      "text/plain": [
       "  lon       lat     \n",
       "1 -106.6164 35.04826\n",
       "2 -106.7947 35.15559\n",
       "3 -106.0830 35.61740"
      ]
     },
     "metadata": {},
     "output_type": "display_data"
    }
   ],
   "source": [
    "airports <- geocode(addresses)\n",
    "\n",
    "airports"
   ]
  },
  {
   "cell_type": "code",
   "execution_count": 7,
   "metadata": {
    "collapsed": false
   },
   "outputs": [
    {
     "data": {
      "text/html": [
       "<table>\n",
       "<thead><tr><th scope=col>lon</th><th scope=col>lat</th><th scope=col>addresses</th></tr></thead>\n",
       "<tbody>\n",
       "\t<tr><td>-106.6164                                                 </td><td>35.04826                                                  </td><td>2200 Sunport Blvd, Albuquerque, NM 87106, USA             </td></tr>\n",
       "\t<tr><td>-106.7947                                                 </td><td>35.15559                                                  </td><td>7401 Paseo Del Volcan Northwest Albuquerque, NM 87121, USA</td></tr>\n",
       "\t<tr><td>-106.0830                                                 </td><td>35.61740                                                  </td><td>121 Aviation Dr, Santa Fe, NM 87507, USA                  </td></tr>\n",
       "</tbody>\n",
       "</table>\n"
      ],
      "text/latex": [
       "\\begin{tabular}{r|lll}\n",
       " lon & lat & addresses\\\\\n",
       "\\hline\n",
       "\t -106.6164                                                  & 35.04826                                                   & 2200 Sunport Blvd, Albuquerque, NM 87106, USA             \\\\\n",
       "\t -106.7947                                                  & 35.15559                                                   & 7401 Paseo Del Volcan Northwest Albuquerque, NM 87121, USA\\\\\n",
       "\t -106.0830                                                  & 35.61740                                                   & 121 Aviation Dr, Santa Fe, NM 87507, USA                  \\\\\n",
       "\\end{tabular}\n"
      ],
      "text/plain": [
       "  lon       lat      addresses                                                 \n",
       "1 -106.6164 35.04826 2200 Sunport Blvd, Albuquerque, NM 87106, USA             \n",
       "2 -106.7947 35.15559 7401 Paseo Del Volcan Northwest Albuquerque, NM 87121, USA\n",
       "3 -106.0830 35.61740 121 Aviation Dr, Santa Fe, NM 87507, USA                  "
      ]
     },
     "metadata": {},
     "output_type": "display_data"
    }
   ],
   "source": [
    "airports2<-cbind(airports,addresses)\n",
    "airports2"
   ]
  },
  {
   "cell_type": "code",
   "execution_count": null,
   "metadata": {
    "collapsed": true
   },
   "outputs": [],
   "source": []
  }
 ],
 "metadata": {
  "kernelspec": {
   "display_name": "R",
   "language": "R",
   "name": "ir"
  },
  "language_info": {
   "codemirror_mode": "r",
   "file_extension": ".r",
   "mimetype": "text/x-r-source",
   "name": "R",
   "pygments_lexer": "r",
   "version": "3.3.1"
  }
 },
 "nbformat": 4,
 "nbformat_minor": 1
}
