{
 "cells": [
  {
   "cell_type": "markdown",
   "metadata": {},
   "source": [
    "在\"FITNESS.csv\"是个人体能测试数据，其中每个变量的含义如下：\n",
    "Gender:性别\n",
    "RunTime:跑步锻炼时长\t\n",
    "Age:年龄\t\n",
    "Weight:体重\n",
    "Oxygen_Consumption:耗氧量\t\n",
    "Run_Pulse:跑步时脉搏数\t\t\n",
    "Rest_Pulse:休息时脉搏数\t\n",
    "Maximum_Pulse:最大脉搏数\n",
    "Performance:综合表现\n",
    "\n",
    "回答以下问题："
   ]
  },
  {
   "cell_type": "code",
   "execution_count": 41,
   "metadata": {
    "collapsed": false
   },
   "outputs": [
    {
     "data": {
      "text/html": [
       "<table>\n",
       "<thead><tr><th scope=col>Name</th><th scope=col>Gender</th><th scope=col>RunTime</th><th scope=col>Age</th><th scope=col>Weight</th><th scope=col>Oxygen_Consumption</th><th scope=col>Run_Pulse</th><th scope=col>Rest_Pulse</th><th scope=col>Maximum_Pulse</th><th scope=col>Performance</th></tr></thead>\n",
       "<tbody>\n",
       "\t<tr><td>Donna </td><td>F     </td><td>8.17  </td><td>42    </td><td>68.15 </td><td>59.57 </td><td>166   </td><td>40    </td><td>172   </td><td>90    </td></tr>\n",
       "\t<tr><td>Gracie</td><td>F     </td><td>8.63  </td><td>38    </td><td>81.87 </td><td>60.06 </td><td>170   </td><td>48    </td><td>186   </td><td>94    </td></tr>\n",
       "\t<tr><td>Luanne</td><td>F     </td><td>8.65  </td><td>43    </td><td>85.84 </td><td>54.30 </td><td>156   </td><td>45    </td><td>168   </td><td>83    </td></tr>\n",
       "\t<tr><td>Mimi  </td><td>F     </td><td>8.92  </td><td>50    </td><td>70.87 </td><td>54.63 </td><td>146   </td><td>48    </td><td>155   </td><td>67    </td></tr>\n",
       "\t<tr><td>Chris </td><td>M     </td><td>8.95  </td><td>49    </td><td>81.42 </td><td>49.16 </td><td>180   </td><td>44    </td><td>185   </td><td>72    </td></tr>\n",
       "\t<tr><td>Allen </td><td>M     </td><td>9.22  </td><td>38    </td><td>89.02 </td><td>49.87 </td><td>178   </td><td>55    </td><td>180   </td><td>92    </td></tr>\n",
       "</tbody>\n",
       "</table>\n"
      ],
      "text/latex": [
       "\\begin{tabular}{r|llllllllll}\n",
       " Name & Gender & RunTime & Age & Weight & Oxygen\\_Consumption & Run\\_Pulse & Rest\\_Pulse & Maximum\\_Pulse & Performance\\\\\n",
       "\\hline\n",
       "\t Donna  & F      & 8.17   & 42     & 68.15  & 59.57  & 166    & 40     & 172    & 90    \\\\\n",
       "\t Gracie & F      & 8.63   & 38     & 81.87  & 60.06  & 170    & 48     & 186    & 94    \\\\\n",
       "\t Luanne & F      & 8.65   & 43     & 85.84  & 54.30  & 156    & 45     & 168    & 83    \\\\\n",
       "\t Mimi   & F      & 8.92   & 50     & 70.87  & 54.63  & 146    & 48     & 155    & 67    \\\\\n",
       "\t Chris  & M      & 8.95   & 49     & 81.42  & 49.16  & 180    & 44     & 185    & 72    \\\\\n",
       "\t Allen  & M      & 9.22   & 38     & 89.02  & 49.87  & 178    & 55     & 180    & 92    \\\\\n",
       "\\end{tabular}\n"
      ],
      "text/plain": [
       "  Name   Gender RunTime Age Weight Oxygen_Consumption Run_Pulse Rest_Pulse\n",
       "1 Donna  F      8.17    42  68.15  59.57              166       40        \n",
       "2 Gracie F      8.63    38  81.87  60.06              170       48        \n",
       "3 Luanne F      8.65    43  85.84  54.30              156       45        \n",
       "4 Mimi   F      8.92    50  70.87  54.63              146       48        \n",
       "5 Chris  M      8.95    49  81.42  49.16              180       44        \n",
       "6 Allen  M      9.22    38  89.02  49.87              178       55        \n",
       "  Maximum_Pulse Performance\n",
       "1 172           90         \n",
       "2 186           94         \n",
       "3 168           83         \n",
       "4 155           67         \n",
       "5 185           72         \n",
       "6 180           92         "
      ]
     },
     "metadata": {},
     "output_type": "display_data"
    }
   ],
   "source": [
    "fitness<- read.csv(\"data/FITNESS.csv\",fileEncoding=\"GBK\")\n",
    "\n",
    "\n",
    "\n",
    "head(fitness)"
   ]
  },
  {
   "cell_type": "code",
   "execution_count": 44,
   "metadata": {
    "collapsed": false
   },
   "outputs": [
    {
     "data": {
      "text/html": [
       "<table>\n",
       "<thead><tr><th scope=col>Name</th><th scope=col>Gender</th><th scope=col>RunTime</th><th scope=col>Age</th><th scope=col>Weight</th><th scope=col>Oxygen_Consumption</th><th scope=col>Run_Pulse</th><th scope=col>Rest_Pulse</th><th scope=col>Maximum_Pulse</th><th scope=col>Performance</th></tr></thead>\n",
       "<tbody>\n",
       "\t<tr><td>Donna </td><td>1     </td><td>8.17  </td><td>42    </td><td>68.15 </td><td>59.57 </td><td>166   </td><td>40    </td><td>172   </td><td>90    </td></tr>\n",
       "\t<tr><td>Gracie</td><td>1     </td><td>8.63  </td><td>38    </td><td>81.87 </td><td>60.06 </td><td>170   </td><td>48    </td><td>186   </td><td>94    </td></tr>\n",
       "\t<tr><td>Luanne</td><td>1     </td><td>8.65  </td><td>43    </td><td>85.84 </td><td>54.30 </td><td>156   </td><td>45    </td><td>168   </td><td>83    </td></tr>\n",
       "\t<tr><td>Mimi  </td><td>1     </td><td>8.92  </td><td>50    </td><td>70.87 </td><td>54.63 </td><td>146   </td><td>48    </td><td>155   </td><td>67    </td></tr>\n",
       "\t<tr><td>Chris </td><td>2     </td><td>8.95  </td><td>49    </td><td>81.42 </td><td>49.16 </td><td>180   </td><td>44    </td><td>185   </td><td>72    </td></tr>\n",
       "\t<tr><td>Allen </td><td>2     </td><td>9.22  </td><td>38    </td><td>89.02 </td><td>49.87 </td><td>178   </td><td>55    </td><td>180   </td><td>92    </td></tr>\n",
       "</tbody>\n",
       "</table>\n"
      ],
      "text/latex": [
       "\\begin{tabular}{r|llllllllll}\n",
       " Name & Gender & RunTime & Age & Weight & Oxygen\\_Consumption & Run\\_Pulse & Rest\\_Pulse & Maximum\\_Pulse & Performance\\\\\n",
       "\\hline\n",
       "\t Donna  & 1      & 8.17   & 42     & 68.15  & 59.57  & 166    & 40     & 172    & 90    \\\\\n",
       "\t Gracie & 1      & 8.63   & 38     & 81.87  & 60.06  & 170    & 48     & 186    & 94    \\\\\n",
       "\t Luanne & 1      & 8.65   & 43     & 85.84  & 54.30  & 156    & 45     & 168    & 83    \\\\\n",
       "\t Mimi   & 1      & 8.92   & 50     & 70.87  & 54.63  & 146    & 48     & 155    & 67    \\\\\n",
       "\t Chris  & 2      & 8.95   & 49     & 81.42  & 49.16  & 180    & 44     & 185    & 72    \\\\\n",
       "\t Allen  & 2      & 9.22   & 38     & 89.02  & 49.87  & 178    & 55     & 180    & 92    \\\\\n",
       "\\end{tabular}\n"
      ],
      "text/plain": [
       "  Name   Gender RunTime Age Weight Oxygen_Consumption Run_Pulse Rest_Pulse\n",
       "1 Donna  1      8.17    42  68.15  59.57              166       40        \n",
       "2 Gracie 1      8.63    38  81.87  60.06              170       48        \n",
       "3 Luanne 1      8.65    43  85.84  54.30              156       45        \n",
       "4 Mimi   1      8.92    50  70.87  54.63              146       48        \n",
       "5 Chris  2      8.95    49  81.42  49.16              180       44        \n",
       "6 Allen  2      9.22    38  89.02  49.87              178       55        \n",
       "  Maximum_Pulse Performance\n",
       "1 172           90         \n",
       "2 186           94         \n",
       "3 168           83         \n",
       "4 155           67         \n",
       "5 185           72         \n",
       "6 180           92         "
      ]
     },
     "metadata": {},
     "output_type": "display_data"
    }
   ],
   "source": [
    "fitness1<-fitness\n",
    "fitness1$Gender<- unclass(as.factor(fitness1$Gender))\n",
    "\n",
    "head(fitness1)"
   ]
  },
  {
   "cell_type": "markdown",
   "metadata": {},
   "source": [
    "##    1、检验Performance这个变量是否为正态分布？"
   ]
  },
  {
   "cell_type": "code",
   "execution_count": 7,
   "metadata": {
    "collapsed": false
   },
   "outputs": [
    {
     "data": {
      "text/plain": [
       "\n",
       "\tShapiro-Wilk normality test\n",
       "\n",
       "data:  fitness$Performance\n",
       "W = 0.96698, p-value = 0.4401\n"
      ]
     },
     "metadata": {},
     "output_type": "display_data"
    }
   ],
   "source": [
    "\n",
    "shapiro.test(fitness$Performance)"
   ]
  },
  {
   "cell_type": "code",
   "execution_count": 32,
   "metadata": {
    "collapsed": false
   },
   "outputs": [
    {
     "data": {
      "image/png": "[encoded data removed]",
      "text/plain": [
       "Plot with title “Histogram of fitness$Performance”"
      ]
     },
     "metadata": {},
     "output_type": "display_data"
    }
   ],
   "source": [
    "hist(fitness$Performance)"
   ]
  },
  {
   "cell_type": "markdown",
   "metadata": {},
   "source": [
    "##    2、Performance和哪些变量有强相关关系？是否有非线性关系？\n",
    "\n"
   ]
  },
  {
   "cell_type": "code",
   "execution_count": 74,
   "metadata": {
    "collapsed": false,
    "scrolled": true
   },
   "outputs": [
    {
     "data": {
      "text/html": [
       "<ol class=list-inline>\n",
       "\t<li>'Gender'</li>\n",
       "\t<li>'RunTime'</li>\n",
       "\t<li>'Age'</li>\n",
       "\t<li>'Weight'</li>\n",
       "\t<li>'Oxygen_Consumption'</li>\n",
       "\t<li>'Run_Pulse'</li>\n",
       "\t<li>'Rest_Pulse'</li>\n",
       "\t<li>'Maximum_Pulse'</li>\n",
       "</ol>\n"
      ],
      "text/latex": [
       "\\begin{enumerate*}\n",
       "\\item 'Gender'\n",
       "\\item 'RunTime'\n",
       "\\item 'Age'\n",
       "\\item 'Weight'\n",
       "\\item 'Oxygen\\_Consumption'\n",
       "\\item 'Run\\_Pulse'\n",
       "\\item 'Rest\\_Pulse'\n",
       "\\item 'Maximum\\_Pulse'\n",
       "\\end{enumerate*}\n"
      ],
      "text/markdown": [
       "1. 'Gender'\n",
       "2. 'RunTime'\n",
       "3. 'Age'\n",
       "4. 'Weight'\n",
       "5. 'Oxygen_Consumption'\n",
       "6. 'Run_Pulse'\n",
       "7. 'Rest_Pulse'\n",
       "8. 'Maximum_Pulse'\n",
       "\n",
       "\n"
      ],
      "text/plain": [
       "[1] \"Gender\"             \"RunTime\"            \"Age\"               \n",
       "[4] \"Weight\"             \"Oxygen_Consumption\" \"Run_Pulse\"         \n",
       "[7] \"Rest_Pulse\"         \"Maximum_Pulse\"     "
      ]
     },
     "metadata": {},
     "output_type": "display_data"
    }
   ],
   "source": [
    "explained_col <- \"Performance\"\n",
    "\n",
    "explain_cols <- names(fitness1)[2:9]\n",
    "\n",
    "explain_cols"
   ]
  },
  {
   "cell_type": "code",
   "execution_count": 75,
   "metadata": {
    "collapsed": false
   },
   "outputs": [
    {
     "name": "stdout",
     "output_type": "stream",
     "text": [
      "[1] \"Performance --->  Gender\"\n"
     ]
    },
    {
     "name": "stderr",
     "output_type": "stream",
     "text": [
      "Warning message in cor.test.default(fitness1[, explain_col], fitness1[, explained_col], :\n",
      "“Cannot compute exact p-value with ties”"
     ]
    },
    {
     "name": "stdout",
     "output_type": "stream",
     "text": [
      "\n",
      "\tPearson's product-moment correlation\n",
      "\n",
      "data:  fitness1[, explain_col] and fitness1[, explained_col]\n",
      "t = -1.4086, df = 29, p-value = 0.1696\n",
      "alternative hypothesis: true correlation is not equal to 0\n",
      "95 percent confidence interval:\n",
      " -0.5574203  0.1112516\n",
      "sample estimates:\n",
      "       cor \n",
      "-0.2530645 \n",
      "\n",
      "\n",
      "\tSpearman's rank correlation rho\n",
      "\n",
      "data:  fitness1[, explain_col] and fitness1[, explained_col]\n",
      "S = 6106.2, p-value = 0.211\n",
      "alternative hypothesis: true rho is not equal to 0\n",
      "sample estimates:\n",
      "       rho \n",
      "-0.2310799 \n",
      "\n",
      "[1] \"Performance --->  RunTime\"\n"
     ]
    },
    {
     "name": "stderr",
     "output_type": "stream",
     "text": [
      "Warning message in cor.test.default(fitness1[, explain_col], fitness1[, explained_col], :\n",
      "“Cannot compute exact p-value with ties”"
     ]
    },
    {
     "name": "stdout",
     "output_type": "stream",
     "text": [
      "\n",
      "\tPearson's product-moment correlation\n",
      "\n",
      "data:  fitness1[, explain_col] and fitness1[, explained_col]\n",
      "t = -7.7292, df = 29, p-value = 1.597e-08\n",
      "alternative hypothesis: true correlation is not equal to 0\n",
      "95 percent confidence interval:\n",
      " -0.9102046 -0.6572288\n",
      "sample estimates:\n",
      "       cor \n",
      "-0.8204909 \n",
      "\n",
      "\n",
      "\tSpearman's rank correlation rho\n",
      "\n",
      "data:  fitness1[, explain_col] and fitness1[, explained_col]\n",
      "S = 8793.3, p-value = 3.485e-07\n",
      "alternative hypothesis: true rho is not equal to 0\n",
      "sample estimates:\n",
      "       rho \n",
      "-0.7728466 \n",
      "\n",
      "[1] \"Performance --->  Age\"\n"
     ]
    },
    {
     "name": "stderr",
     "output_type": "stream",
     "text": [
      "Warning message in cor.test.default(fitness1[, explain_col], fitness1[, explained_col], :\n",
      "“Cannot compute exact p-value with ties”"
     ]
    },
    {
     "name": "stdout",
     "output_type": "stream",
     "text": [
      "\n",
      "\tPearson's product-moment correlation\n",
      "\n",
      "data:  fitness1[, explain_col] and fitness1[, explained_col]\n",
      "t = -5.4694, df = 29, p-value = 6.888e-06\n",
      "alternative hypothesis: true correlation is not equal to 0\n",
      "95 percent confidence interval:\n",
      " -0.8518297 -0.4792320\n",
      "sample estimates:\n",
      "       cor \n",
      "-0.7125698 \n",
      "\n",
      "\n",
      "\tSpearman's rank correlation rho\n",
      "\n",
      "data:  fitness1[, explain_col] and fitness1[, explained_col]\n",
      "S = 8318.7, p-value = 2.869e-05\n",
      "alternative hypothesis: true rho is not equal to 0\n",
      "sample estimates:\n",
      "       rho \n",
      "-0.6771533 \n",
      "\n",
      "[1] \"Performance --->  Weight\"\n"
     ]
    },
    {
     "name": "stderr",
     "output_type": "stream",
     "text": [
      "Warning message in cor.test.default(fitness1[, explain_col], fitness1[, explained_col], :\n",
      "“Cannot compute exact p-value with ties”"
     ]
    },
    {
     "name": "stdout",
     "output_type": "stream",
     "text": [
      "\n",
      "\tPearson's product-moment correlation\n",
      "\n",
      "data:  fitness1[, explain_col] and fitness1[, explained_col]\n",
      "t = 0.48523, df = 29, p-value = 0.6312\n",
      "alternative hypothesis: true correlation is not equal to 0\n",
      "95 percent confidence interval:\n",
      " -0.2732894  0.4303950\n",
      "sample estimates:\n",
      "       cor \n",
      "0.08974098 \n",
      "\n",
      "\n",
      "\tSpearman's rank correlation rho\n",
      "\n",
      "data:  fitness1[, explain_col] and fitness1[, explained_col]\n",
      "S = 4362.4, p-value = 0.5185\n",
      "alternative hypothesis: true rho is not equal to 0\n",
      "sample estimates:\n",
      "      rho \n",
      "0.1204844 \n",
      "\n",
      "[1] \"Performance --->  Oxygen_Consumption\"\n"
     ]
    },
    {
     "name": "stderr",
     "output_type": "stream",
     "text": [
      "Warning message in cor.test.default(fitness1[, explain_col], fitness1[, explained_col], :\n",
      "“Cannot compute exact p-value with ties”"
     ]
    },
    {
     "name": "stdout",
     "output_type": "stream",
     "text": [
      "\n",
      "\tPearson's product-moment correlation\n",
      "\n",
      "data:  fitness1[, explain_col] and fitness1[, explained_col]\n",
      "t = 6.6883, df = 29, p-value = 2.458e-07\n",
      "alternative hypothesis: true correlation is not equal to 0\n",
      "95 percent confidence interval:\n",
      " 0.5864082 0.8881233\n",
      "sample estimates:\n",
      "      cor \n",
      "0.7789019 \n",
      "\n",
      "\n",
      "\tSpearman's rank correlation rho\n",
      "\n",
      "data:  fitness1[, explain_col] and fitness1[, explained_col]\n",
      "S = 1711, p-value = 6.37e-05\n",
      "alternative hypothesis: true rho is not equal to 0\n",
      "sample estimates:\n",
      "      rho \n",
      "0.6550334 \n",
      "\n",
      "[1] \"Performance --->  Run_Pulse\"\n"
     ]
    },
    {
     "name": "stderr",
     "output_type": "stream",
     "text": [
      "Warning message in cor.test.default(fitness1[, explain_col], fitness1[, explained_col], :\n",
      "“Cannot compute exact p-value with ties”"
     ]
    },
    {
     "name": "stdout",
     "output_type": "stream",
     "text": [
      "\n",
      "\tPearson's product-moment correlation\n",
      "\n",
      "data:  fitness1[, explain_col] and fitness1[, explained_col]\n",
      "t = -0.15858, df = 29, p-value = 0.8751\n",
      "alternative hypothesis: true correlation is not equal to 0\n",
      "95 percent confidence interval:\n",
      " -0.3798135  0.3283297\n",
      "sample estimates:\n",
      "        cor \n",
      "-0.02943483 \n",
      "\n",
      "\n",
      "\tSpearman's rank correlation rho\n",
      "\n",
      "data:  fitness1[, explain_col] and fitness1[, explained_col]\n",
      "S = 5123.2, p-value = 0.8605\n",
      "alternative hypothesis: true rho is not equal to 0\n",
      "sample estimates:\n",
      "        rho \n",
      "-0.03290155 \n",
      "\n",
      "[1] \"Performance --->  Rest_Pulse\"\n"
     ]
    },
    {
     "name": "stderr",
     "output_type": "stream",
     "text": [
      "Warning message in cor.test.default(fitness1[, explain_col], fitness1[, explained_col], :\n",
      "“Cannot compute exact p-value with ties”"
     ]
    },
    {
     "name": "stdout",
     "output_type": "stream",
     "text": [
      "\n",
      "\tPearson's product-moment correlation\n",
      "\n",
      "data:  fitness1[, explain_col] and fitness1[, explained_col]\n",
      "t = -1.247, df = 29, p-value = 0.2224\n",
      "alternative hypothesis: true correlation is not equal to 0\n",
      "95 percent confidence interval:\n",
      " -0.5370115  0.1399262\n",
      "sample estimates:\n",
      "       cor \n",
      "-0.2255995 \n",
      "\n",
      "\n",
      "\tSpearman's rank correlation rho\n",
      "\n",
      "data:  fitness1[, explain_col] and fitness1[, explained_col]\n",
      "S = 6220.7, p-value = 0.1676\n",
      "alternative hypothesis: true rho is not equal to 0\n",
      "sample estimates:\n",
      "       rho \n",
      "-0.2541807 \n",
      "\n",
      "[1] \"Performance --->  Maximum_Pulse\"\n"
     ]
    },
    {
     "name": "stderr",
     "output_type": "stream",
     "text": [
      "Warning message in cor.test.default(fitness1[, explain_col], fitness1[, explained_col], :\n",
      "“Cannot compute exact p-value with ties”"
     ]
    },
    {
     "name": "stdout",
     "output_type": "stream",
     "text": [
      "\n",
      "\tPearson's product-moment correlation\n",
      "\n",
      "data:  fitness1[, explain_col] and fitness1[, explained_col]\n",
      "t = 0.48672, df = 29, p-value = 0.6301\n",
      "alternative hypothesis: true correlation is not equal to 0\n",
      "95 percent confidence interval:\n",
      " -0.2730332  0.4306206\n",
      "sample estimates:\n",
      "       cor \n",
      "0.09001562 \n",
      "\n",
      "\n",
      "\tSpearman's rank correlation rho\n",
      "\n",
      "data:  fitness1[, explain_col] and fitness1[, explained_col]\n",
      "S = 4768.3, p-value = 0.8365\n",
      "alternative hypothesis: true rho is not equal to 0\n",
      "sample estimates:\n",
      "       rho \n",
      "0.03864931 \n",
      "\n"
     ]
    }
   ],
   "source": [
    "for (explain_col in explain_cols){ \n",
    "\n",
    "print(sprintf(\"%s --->  %s\",explained_col,explain_col))\n",
    "pct<- cor.test(fitness1[,explain_col],fitness1[,explained_col],method=\"pearson\")\n",
    "sct<-cor.test(fitness1[,explain_col],fitness1[,explained_col],method=\"spearman\")\n",
    "\n",
    "print(pct)\n",
    "print(sct)\n",
    "    \n",
    "}"
   ]
  },
  {
   "cell_type": "markdown",
   "metadata": {},
   "source": [
    "##    3、解释变量之间是否有强线性关系？\n"
   ]
  },
  {
   "cell_type": "code",
   "execution_count": 76,
   "metadata": {
    "collapsed": false
   },
   "outputs": [
    {
     "name": "stdout",
     "output_type": "stream",
     "text": [
      "[1] \"RunTime --->  Gender\"\n"
     ]
    },
    {
     "name": "stderr",
     "output_type": "stream",
     "text": [
      "Warning message in cor.test.default(fitness1[, explain_col], fitness1[, explain_col2], :\n",
      "“Cannot compute exact p-value with ties”"
     ]
    },
    {
     "name": "stdout",
     "output_type": "stream",
     "text": [
      "\n",
      "\tPearson's product-moment correlation\n",
      "\n",
      "data:  fitness1[, explain_col] and fitness1[, explain_col2]\n",
      "t = 2.5739, df = 29, p-value = 0.01543\n",
      "alternative hypothesis: true correlation is not equal to 0\n",
      "95 percent confidence interval:\n",
      " 0.09076053 0.68144548\n",
      "sample estimates:\n",
      "      cor \n",
      "0.4312322 \n",
      "\n",
      "\n",
      "\tSpearman's rank correlation rho\n",
      "\n",
      "data:  fitness1[, explain_col] and fitness1[, explain_col2]\n",
      "S = 2883.8, p-value = 0.0191\n",
      "alternative hypothesis: true rho is not equal to 0\n",
      "sample estimates:\n",
      "      rho \n",
      "0.4185789 \n",
      "\n",
      "[1] \"Age --->  Gender\"\n"
     ]
    },
    {
     "name": "stderr",
     "output_type": "stream",
     "text": [
      "Warning message in cor.test.default(fitness1[, explain_col], fitness1[, explain_col2], :\n",
      "“Cannot compute exact p-value with ties”"
     ]
    },
    {
     "name": "stdout",
     "output_type": "stream",
     "text": [
      "\n",
      "\tPearson's product-moment correlation\n",
      "\n",
      "data:  fitness1[, explain_col] and fitness1[, explain_col2]\n",
      "t = 0.3255, df = 29, p-value = 0.7471\n",
      "alternative hypothesis: true correlation is not equal to 0\n",
      "95 percent confidence interval:\n",
      " -0.3004288  0.4059946\n",
      "sample estimates:\n",
      "       cor \n",
      "0.06033416 \n",
      "\n",
      "\n",
      "\tSpearman's rank correlation rho\n",
      "\n",
      "data:  fitness1[, explain_col] and fitness1[, explain_col2]\n",
      "S = 4619, p-value = 0.7133\n",
      "alternative hypothesis: true rho is not equal to 0\n",
      "sample estimates:\n",
      "       rho \n",
      "0.06874772 \n",
      "\n",
      "[1] \"Weight --->  Gender\"\n"
     ]
    },
    {
     "name": "stderr",
     "output_type": "stream",
     "text": [
      "Warning message in cor.test.default(fitness1[, explain_col], fitness1[, explain_col2], :\n",
      "“Cannot compute exact p-value with ties”"
     ]
    },
    {
     "name": "stdout",
     "output_type": "stream",
     "text": [
      "\n",
      "\tPearson's product-moment correlation\n",
      "\n",
      "data:  fitness1[, explain_col] and fitness1[, explain_col2]\n",
      "t = 3.753, df = 29, p-value = 0.0007789\n",
      "alternative hypothesis: true correlation is not equal to 0\n",
      "95 percent confidence interval:\n",
      " 0.2726622 0.7700841\n",
      "sample estimates:\n",
      "      cor \n",
      "0.5717615 \n",
      "\n",
      "\n",
      "\tSpearman's rank correlation rho\n",
      "\n",
      "data:  fitness1[, explain_col] and fitness1[, explain_col2]\n",
      "S = 2113.1, p-value = 0.0007351\n",
      "alternative hypothesis: true rho is not equal to 0\n",
      "sample estimates:\n",
      "      rho \n",
      "0.5739733 \n",
      "\n",
      "[1] \"Oxygen_Consumption --->  Gender\"\n"
     ]
    },
    {
     "name": "stderr",
     "output_type": "stream",
     "text": [
      "Warning message in cor.test.default(fitness1[, explain_col], fitness1[, explain_col2], :\n",
      "“Cannot compute exact p-value with ties”"
     ]
    },
    {
     "name": "stdout",
     "output_type": "stream",
     "text": [
      "\n",
      "\tPearson's product-moment correlation\n",
      "\n",
      "data:  fitness1[, explain_col] and fitness1[, explain_col2]\n",
      "t = -2.9824, df = 29, p-value = 0.005746\n",
      "alternative hypothesis: true correlation is not equal to 0\n",
      "95 percent confidence interval:\n",
      " -0.7159147 -0.1571048\n",
      "sample estimates:\n",
      "       cor \n",
      "-0.4844749 \n",
      "\n",
      "\n",
      "\tSpearman's rank correlation rho\n",
      "\n",
      "data:  fitness1[, explain_col] and fitness1[, explain_col2]\n",
      "S = 7107.7, p-value = 0.01497\n",
      "alternative hypothesis: true rho is not equal to 0\n",
      "sample estimates:\n",
      "       rho \n",
      "-0.4330127 \n",
      "\n",
      "[1] \"Run_Pulse --->  Gender\"\n"
     ]
    },
    {
     "name": "stderr",
     "output_type": "stream",
     "text": [
      "Warning message in cor.test.default(fitness1[, explain_col], fitness1[, explain_col2], :\n",
      "“Cannot compute exact p-value with ties”"
     ]
    },
    {
     "name": "stdout",
     "output_type": "stream",
     "text": [
      "\n",
      "\tPearson's product-moment correlation\n",
      "\n",
      "data:  fitness1[, explain_col] and fitness1[, explain_col2]\n",
      "t = 1.3625, df = 29, p-value = 0.1835\n",
      "alternative hypothesis: true correlation is not equal to 0\n",
      "95 percent confidence interval:\n",
      " -0.1194415  0.5516725\n",
      "sample estimates:\n",
      "      cor \n",
      "0.2452795 \n",
      "\n",
      "\n",
      "\tSpearman's rank correlation rho\n",
      "\n",
      "data:  fitness1[, explain_col] and fitness1[, explain_col2]\n",
      "S = 3846.3, p-value = 0.2246\n",
      "alternative hypothesis: true rho is not equal to 0\n",
      "sample estimates:\n",
      "      rho \n",
      "0.2245396 \n",
      "\n",
      "[1] \"Rest_Pulse --->  Gender\"\n"
     ]
    },
    {
     "name": "stderr",
     "output_type": "stream",
     "text": [
      "Warning message in cor.test.default(fitness1[, explain_col], fitness1[, explain_col2], :\n",
      "“Cannot compute exact p-value with ties”"
     ]
    },
    {
     "name": "stdout",
     "output_type": "stream",
     "text": [
      "\n",
      "\tPearson's product-moment correlation\n",
      "\n",
      "data:  fitness1[, explain_col] and fitness1[, explain_col2]\n",
      "t = 1.661, df = 29, p-value = 0.1075\n",
      "alternative hypothesis: true correlation is not equal to 0\n",
      "95 percent confidence interval:\n",
      " -0.06654612  0.58770452\n",
      "sample estimates:\n",
      "      cor \n",
      "0.2947441 \n",
      "\n",
      "\n",
      "\tSpearman's rank correlation rho\n",
      "\n",
      "data:  fitness1[, explain_col] and fitness1[, explain_col2]\n",
      "S = 3378.1, p-value = 0.08034\n",
      "alternative hypothesis: true rho is not equal to 0\n",
      "sample estimates:\n",
      "      rho \n",
      "0.3189281 \n",
      "\n",
      "[1] \"Maximum_Pulse --->  Gender\"\n"
     ]
    },
    {
     "name": "stderr",
     "output_type": "stream",
     "text": [
      "Warning message in cor.test.default(fitness1[, explain_col], fitness1[, explain_col2], :\n",
      "“Cannot compute exact p-value with ties”"
     ]
    },
    {
     "name": "stdout",
     "output_type": "stream",
     "text": [
      "\n",
      "\tPearson's product-moment correlation\n",
      "\n",
      "data:  fitness1[, explain_col] and fitness1[, explain_col2]\n",
      "t = 1.2005, df = 29, p-value = 0.2397\n",
      "alternative hypothesis: true correlation is not equal to 0\n",
      "95 percent confidence interval:\n",
      " -0.1481872  0.5309810\n",
      "sample estimates:\n",
      "      cor \n",
      "0.2175776 \n",
      "\n",
      "\n",
      "\tSpearman's rank correlation rho\n",
      "\n",
      "data:  fitness1[, explain_col] and fitness1[, explain_col2]\n",
      "S = 3916, p-value = 0.2557\n",
      "alternative hypothesis: true rho is not equal to 0\n",
      "sample estimates:\n",
      "     rho \n",
      "0.210481 \n",
      "\n",
      "[1] \"Gender --->  RunTime\"\n"
     ]
    },
    {
     "name": "stderr",
     "output_type": "stream",
     "text": [
      "Warning message in cor.test.default(fitness1[, explain_col], fitness1[, explain_col2], :\n",
      "“Cannot compute exact p-value with ties”"
     ]
    },
    {
     "name": "stdout",
     "output_type": "stream",
     "text": [
      "\n",
      "\tPearson's product-moment correlation\n",
      "\n",
      "data:  fitness1[, explain_col] and fitness1[, explain_col2]\n",
      "t = 2.5739, df = 29, p-value = 0.01543\n",
      "alternative hypothesis: true correlation is not equal to 0\n",
      "95 percent confidence interval:\n",
      " 0.09076053 0.68144548\n",
      "sample estimates:\n",
      "      cor \n",
      "0.4312322 \n",
      "\n",
      "\n",
      "\tSpearman's rank correlation rho\n",
      "\n",
      "data:  fitness1[, explain_col] and fitness1[, explain_col2]\n",
      "S = 2883.8, p-value = 0.0191\n",
      "alternative hypothesis: true rho is not equal to 0\n",
      "sample estimates:\n",
      "      rho \n",
      "0.4185789 \n",
      "\n",
      "[1] \"Age --->  RunTime\"\n"
     ]
    },
    {
     "name": "stderr",
     "output_type": "stream",
     "text": [
      "Warning message in cor.test.default(fitness1[, explain_col], fitness1[, explain_col2], :\n",
      "“Cannot compute exact p-value with ties”"
     ]
    },
    {
     "name": "stdout",
     "output_type": "stream",
     "text": [
      "\n",
      "\tPearson's product-moment correlation\n",
      "\n",
      "data:  fitness1[, explain_col] and fitness1[, explain_col2]\n",
      "t = 1.072, df = 29, p-value = 0.2926\n",
      "alternative hypothesis: true correlation is not equal to 0\n",
      "95 percent confidence interval:\n",
      " -0.1709368  0.5140105\n",
      "sample estimates:\n",
      "      cor \n",
      "0.1952282 \n",
      "\n",
      "\n",
      "\tSpearman's rank correlation rho\n",
      "\n",
      "data:  fitness1[, explain_col] and fitness1[, explain_col2]\n",
      "S = 4094.6, p-value = 0.3479\n",
      "alternative hypothesis: true rho is not equal to 0\n",
      "sample estimates:\n",
      "      rho \n",
      "0.1744674 \n",
      "\n",
      "[1] \"Weight --->  RunTime\"\n"
     ]
    },
    {
     "name": "stderr",
     "output_type": "stream",
     "text": [
      "Warning message in cor.test.default(fitness1[, explain_col], fitness1[, explain_col2], :\n",
      "“Cannot compute exact p-value with ties”"
     ]
    },
    {
     "name": "stdout",
     "output_type": "stream",
     "text": [
      "\n",
      "\tPearson's product-moment correlation\n",
      "\n",
      "data:  fitness1[, explain_col] and fitness1[, explain_col2]\n",
      "t = 0.78089, df = 29, p-value = 0.4412\n",
      "alternative hypothesis: true correlation is not equal to 0\n",
      "95 percent confidence interval:\n",
      " -0.2221279  0.4737569\n",
      "sample estimates:\n",
      "      cor \n",
      "0.1435076 \n",
      "\n",
      "\n",
      "\tSpearman's rank correlation rho\n",
      "\n",
      "data:  fitness1[, explain_col] and fitness1[, explain_col2]\n",
      "S = 4588.9, p-value = 0.6891\n",
      "alternative hypothesis: true rho is not equal to 0\n",
      "sample estimates:\n",
      "       rho \n",
      "0.07482857 \n",
      "\n",
      "[1] \"Oxygen_Consumption --->  RunTime\"\n",
      "\n",
      "\tPearson's product-moment correlation\n",
      "\n",
      "data:  fitness1[, explain_col] and fitness1[, explain_col2]\n",
      "t = -9.1652, df = 29, p-value = 4.59e-10\n",
      "alternative hypothesis: true correlation is not equal to 0\n",
      "95 percent confidence interval:\n",
      " -0.9318415 -0.7312458\n",
      "sample estimates:\n",
      "       cor \n",
      "-0.8621853 \n",
      "\n",
      "\n",
      "\tSpearman's rank correlation rho\n",
      "\n",
      "data:  fitness1[, explain_col] and fitness1[, explain_col2]\n",
      "S = 8968, p-value = 8.873e-07\n",
      "alternative hypothesis: true rho is not equal to 0\n",
      "sample estimates:\n",
      "       rho \n",
      "-0.8080645 \n",
      "\n",
      "[1] \"Run_Pulse --->  RunTime\"\n"
     ]
    },
    {
     "name": "stderr",
     "output_type": "stream",
     "text": [
      "Warning message in cor.test.default(fitness1[, explain_col], fitness1[, explain_col2], :\n",
      "“Cannot compute exact p-value with ties”"
     ]
    },
    {
     "name": "stdout",
     "output_type": "stream",
     "text": [
      "\n",
      "\tPearson's product-moment correlation\n",
      "\n",
      "data:  fitness1[, explain_col] and fitness1[, explain_col2]\n",
      "t = 1.7788, df = 29, p-value = 0.08576\n",
      "alternative hypothesis: true correlation is not equal to 0\n",
      "95 percent confidence interval:\n",
      " -0.0457803  0.6011745\n",
      "sample estimates:\n",
      "      cor \n",
      "0.3136478 \n",
      "\n",
      "\n",
      "\tSpearman's rank correlation rho\n",
      "\n",
      "data:  fitness1[, explain_col] and fitness1[, explain_col2]\n",
      "S = 3551.9, p-value = 0.1217\n",
      "alternative hypothesis: true rho is not equal to 0\n",
      "sample estimates:\n",
      "     rho \n",
      "0.283895 \n",
      "\n",
      "[1] \"Rest_Pulse --->  RunTime\"\n"
     ]
    },
    {
     "name": "stderr",
     "output_type": "stream",
     "text": [
      "Warning message in cor.test.default(fitness1[, explain_col], fitness1[, explain_col2], :\n",
      "“Cannot compute exact p-value with ties”"
     ]
    },
    {
     "name": "stdout",
     "output_type": "stream",
     "text": [
      "\n",
      "\tPearson's product-moment correlation\n",
      "\n",
      "data:  fitness1[, explain_col] and fitness1[, explain_col2]\n",
      "t = 2.7165, df = 29, p-value = 0.01101\n",
      "alternative hypothesis: true correlation is not equal to 0\n",
      "95 percent confidence interval:\n",
      " 0.1142803 0.6939726\n",
      "sample estimates:\n",
      "      cor \n",
      "0.4503826 \n",
      "\n",
      "\n",
      "\tSpearman's rank correlation rho\n",
      "\n",
      "data:  fitness1[, explain_col] and fitness1[, explain_col2]\n",
      "S = 2548.5, p-value = 0.005553\n",
      "alternative hypothesis: true rho is not equal to 0\n",
      "sample estimates:\n",
      "      rho \n",
      "0.4861846 \n",
      "\n",
      "[1] \"Maximum_Pulse --->  RunTime\"\n"
     ]
    },
    {
     "name": "stderr",
     "output_type": "stream",
     "text": [
      "Warning message in cor.test.default(fitness1[, explain_col], fitness1[, explain_col2], :\n",
      "“Cannot compute exact p-value with ties”"
     ]
    },
    {
     "name": "stdout",
     "output_type": "stream",
     "text": [
      "\n",
      "\tPearson's product-moment correlation\n",
      "\n",
      "data:  fitness1[, explain_col] and fitness1[, explain_col2]\n",
      "t = 1.25, df = 29, p-value = 0.2213\n",
      "alternative hypothesis: true correlation is not equal to 0\n",
      "95 percent confidence interval:\n",
      " -0.1394059  0.5373890\n",
      "sample estimates:\n",
      "     cor \n",
      "0.226103 \n",
      "\n",
      "\n",
      "\tSpearman's rank correlation rho\n",
      "\n",
      "data:  fitness1[, explain_col] and fitness1[, explain_col2]\n",
      "S = 3939.2, p-value = 0.2667\n",
      "alternative hypothesis: true rho is not equal to 0\n",
      "sample estimates:\n",
      "      rho \n",
      "0.2058022 \n",
      "\n",
      "[1] \"Gender --->  Age\"\n"
     ]
    },
    {
     "name": "stderr",
     "output_type": "stream",
     "text": [
      "Warning message in cor.test.default(fitness1[, explain_col], fitness1[, explain_col2], :\n",
      "“Cannot compute exact p-value with ties”"
     ]
    },
    {
     "name": "stdout",
     "output_type": "stream",
     "text": [
      "\n",
      "\tPearson's product-moment correlation\n",
      "\n",
      "data:  fitness1[, explain_col] and fitness1[, explain_col2]\n",
      "t = 0.3255, df = 29, p-value = 0.7471\n",
      "alternative hypothesis: true correlation is not equal to 0\n",
      "95 percent confidence interval:\n",
      " -0.3004288  0.4059946\n",
      "sample estimates:\n",
      "       cor \n",
      "0.06033416 \n",
      "\n",
      "\n",
      "\tSpearman's rank correlation rho\n",
      "\n",
      "data:  fitness1[, explain_col] and fitness1[, explain_col2]\n",
      "S = 4619, p-value = 0.7133\n",
      "alternative hypothesis: true rho is not equal to 0\n",
      "sample estimates:\n",
      "       rho \n",
      "0.06874772 \n",
      "\n",
      "[1] \"RunTime --->  Age\"\n"
     ]
    },
    {
     "name": "stderr",
     "output_type": "stream",
     "text": [
      "Warning message in cor.test.default(fitness1[, explain_col], fitness1[, explain_col2], :\n",
      "“Cannot compute exact p-value with ties”"
     ]
    },
    {
     "name": "stdout",
     "output_type": "stream",
     "text": [
      "\n",
      "\tPearson's product-moment correlation\n",
      "\n",
      "data:  fitness1[, explain_col] and fitness1[, explain_col2]\n",
      "t = 1.072, df = 29, p-value = 0.2926\n",
      "alternative hypothesis: true correlation is not equal to 0\n",
      "95 percent confidence interval:\n",
      " -0.1709368  0.5140105\n",
      "sample estimates:\n",
      "      cor \n",
      "0.1952282 \n",
      "\n",
      "\n",
      "\tSpearman's rank correlation rho\n",
      "\n",
      "data:  fitness1[, explain_col] and fitness1[, explain_col2]\n",
      "S = 4094.6, p-value = 0.3479\n",
      "alternative hypothesis: true rho is not equal to 0\n",
      "sample estimates:\n",
      "      rho \n",
      "0.1744674 \n",
      "\n",
      "[1] \"Weight --->  Age\"\n"
     ]
    },
    {
     "name": "stderr",
     "output_type": "stream",
     "text": [
      "Warning message in cor.test.default(fitness1[, explain_col], fitness1[, explain_col2], :\n",
      "“Cannot compute exact p-value with ties”"
     ]
    },
    {
     "name": "stdout",
     "output_type": "stream",
     "text": [
      "\n",
      "\tPearson's product-moment correlation\n",
      "\n",
      "data:  fitness1[, explain_col] and fitness1[, explain_col2]\n",
      "t = -1.3343, df = 29, p-value = 0.1925\n",
      "alternative hypothesis: true correlation is not equal to 0\n",
      "95 percent confidence interval:\n",
      " -0.5481327  0.1244403\n",
      "sample estimates:\n",
      "       cor \n",
      "-0.2405047 \n",
      "\n",
      "\n",
      "\tSpearman's rank correlation rho\n",
      "\n",
      "data:  fitness1[, explain_col] and fitness1[, explain_col2]\n",
      "S = 5796.6, p-value = 0.3644\n",
      "alternative hypothesis: true rho is not equal to 0\n",
      "sample estimates:\n",
      "       rho \n",
      "-0.1686727 \n",
      "\n",
      "[1] \"Oxygen_Consumption --->  Age\"\n"
     ]
    },
    {
     "name": "stderr",
     "output_type": "stream",
     "text": [
      "Warning message in cor.test.default(fitness1[, explain_col], fitness1[, explain_col2], :\n",
      "“Cannot compute exact p-value with ties”"
     ]
    },
    {
     "name": "stdout",
     "output_type": "stream",
     "text": [
      "\n",
      "\tPearson's product-moment correlation\n",
      "\n",
      "data:  fitness1[, explain_col] and fitness1[, explain_col2]\n",
      "t = -1.7661, df = 29, p-value = 0.08791\n",
      "alternative hypothesis: true correlation is not equal to 0\n",
      "95 percent confidence interval:\n",
      " -0.59973599  0.04802501\n",
      "sample estimates:\n",
      "      cor \n",
      "-0.311618 \n",
      "\n",
      "\n",
      "\tSpearman's rank correlation rho\n",
      "\n",
      "data:  fitness1[, explain_col] and fitness1[, explain_col2]\n",
      "S = 5918.6, p-value = 0.2975\n",
      "alternative hypothesis: true rho is not equal to 0\n",
      "sample estimates:\n",
      "       rho \n",
      "-0.1932687 \n",
      "\n",
      "[1] \"Run_Pulse --->  Age\"\n"
     ]
    },
    {
     "name": "stderr",
     "output_type": "stream",
     "text": [
      "Warning message in cor.test.default(fitness1[, explain_col], fitness1[, explain_col2], :\n",
      "“Cannot compute exact p-value with ties”"
     ]
    },
    {
     "name": "stdout",
     "output_type": "stream",
     "text": [
      "\n",
      "\tPearson's product-moment correlation\n",
      "\n",
      "data:  fitness1[, explain_col] and fitness1[, explain_col2]\n",
      "t = -1.794, df = 29, p-value = 0.08324\n",
      "alternative hypothesis: true correlation is not equal to 0\n",
      "95 percent confidence interval:\n",
      " -0.60288536  0.04310221\n",
      "sample estimates:\n",
      "       cor \n",
      "-0.3160651 \n",
      "\n",
      "\n",
      "\tSpearman's rank correlation rho\n",
      "\n",
      "data:  fitness1[, explain_col] and fitness1[, explain_col2]\n",
      "S = 6299.5, p-value = 0.1417\n",
      "alternative hypothesis: true rho is not equal to 0\n",
      "sample estimates:\n",
      "      rho \n",
      "-0.270062 \n",
      "\n",
      "[1] \"Rest_Pulse --->  Age\"\n"
     ]
    },
    {
     "name": "stderr",
     "output_type": "stream",
     "text": [
      "Warning message in cor.test.default(fitness1[, explain_col], fitness1[, explain_col2], :\n",
      "“Cannot compute exact p-value with ties”"
     ]
    },
    {
     "name": "stdout",
     "output_type": "stream",
     "text": [
      "\n",
      "\tPearson's product-moment correlation\n",
      "\n",
      "data:  fitness1[, explain_col] and fitness1[, explain_col2]\n",
      "t = -0.82189, df = 29, p-value = 0.4178\n",
      "alternative hypothesis: true correlation is not equal to 0\n",
      "95 percent confidence interval:\n",
      " -0.4795752  0.2149585\n",
      "sample estimates:\n",
      "       cor \n",
      "-0.1508734 \n",
      "\n",
      "\n",
      "\tSpearman's rank correlation rho\n",
      "\n",
      "data:  fitness1[, explain_col] and fitness1[, explain_col2]\n",
      "S = 5419.2, p-value = 0.6203\n",
      "alternative hypothesis: true rho is not equal to 0\n",
      "sample estimates:\n",
      "        rho \n",
      "-0.09258895 \n",
      "\n",
      "[1] \"Maximum_Pulse --->  Age\"\n"
     ]
    },
    {
     "name": "stderr",
     "output_type": "stream",
     "text": [
      "Warning message in cor.test.default(fitness1[, explain_col], fitness1[, explain_col2], :\n",
      "“Cannot compute exact p-value with ties”"
     ]
    },
    {
     "name": "stdout",
     "output_type": "stream",
     "text": [
      "\n",
      "\tPearson's product-moment correlation\n",
      "\n",
      "data:  fitness1[, explain_col] and fitness1[, explain_col2]\n",
      "t = -2.4557, df = 29, p-value = 0.02029\n",
      "alternative hypothesis: true correlation is not equal to 0\n",
      "95 percent confidence interval:\n",
      " -0.67064660 -0.07100091\n",
      "sample estimates:\n",
      "       cor \n",
      "-0.4149027 \n",
      "\n",
      "\n",
      "\tSpearman's rank correlation rho\n",
      "\n",
      "data:  fitness1[, explain_col] and fitness1[, explain_col2]\n",
      "S = 6757, p-value = 0.04518\n",
      "alternative hypothesis: true rho is not equal to 0\n",
      "sample estimates:\n",
      "       rho \n",
      "-0.3623072 \n",
      "\n",
      "[1] \"Gender --->  Weight\"\n"
     ]
    },
    {
     "name": "stderr",
     "output_type": "stream",
     "text": [
      "Warning message in cor.test.default(fitness1[, explain_col], fitness1[, explain_col2], :\n",
      "“Cannot compute exact p-value with ties”"
     ]
    },
    {
     "name": "stdout",
     "output_type": "stream",
     "text": [
      "\n",
      "\tPearson's product-moment correlation\n",
      "\n",
      "data:  fitness1[, explain_col] and fitness1[, explain_col2]\n",
      "t = 3.753, df = 29, p-value = 0.0007789\n",
      "alternative hypothesis: true correlation is not equal to 0\n",
      "95 percent confidence interval:\n",
      " 0.2726622 0.7700841\n",
      "sample estimates:\n",
      "      cor \n",
      "0.5717615 \n",
      "\n",
      "\n",
      "\tSpearman's rank correlation rho\n",
      "\n",
      "data:  fitness1[, explain_col] and fitness1[, explain_col2]\n",
      "S = 2113.1, p-value = 0.0007351\n",
      "alternative hypothesis: true rho is not equal to 0\n",
      "sample estimates:\n",
      "      rho \n",
      "0.5739733 \n",
      "\n",
      "[1] \"RunTime --->  Weight\"\n"
     ]
    },
    {
     "name": "stderr",
     "output_type": "stream",
     "text": [
      "Warning message in cor.test.default(fitness1[, explain_col], fitness1[, explain_col2], :\n",
      "“Cannot compute exact p-value with ties”"
     ]
    },
    {
     "name": "stdout",
     "output_type": "stream",
     "text": [
      "\n",
      "\tPearson's product-moment correlation\n",
      "\n",
      "data:  fitness1[, explain_col] and fitness1[, explain_col2]\n",
      "t = 0.78089, df = 29, p-value = 0.4412\n",
      "alternative hypothesis: true correlation is not equal to 0\n",
      "95 percent confidence interval:\n",
      " -0.2221279  0.4737569\n",
      "sample estimates:\n",
      "      cor \n",
      "0.1435076 \n",
      "\n",
      "\n",
      "\tSpearman's rank correlation rho\n",
      "\n",
      "data:  fitness1[, explain_col] and fitness1[, explain_col2]\n",
      "S = 4588.9, p-value = 0.6891\n",
      "alternative hypothesis: true rho is not equal to 0\n",
      "sample estimates:\n",
      "       rho \n",
      "0.07482857 \n",
      "\n",
      "[1] \"Age --->  Weight\"\n"
     ]
    },
    {
     "name": "stderr",
     "output_type": "stream",
     "text": [
      "Warning message in cor.test.default(fitness1[, explain_col], fitness1[, explain_col2], :\n",
      "“Cannot compute exact p-value with ties”"
     ]
    },
    {
     "name": "stdout",
     "output_type": "stream",
     "text": [
      "\n",
      "\tPearson's product-moment correlation\n",
      "\n",
      "data:  fitness1[, explain_col] and fitness1[, explain_col2]\n",
      "t = -1.3343, df = 29, p-value = 0.1925\n",
      "alternative hypothesis: true correlation is not equal to 0\n",
      "95 percent confidence interval:\n",
      " -0.5481327  0.1244403\n",
      "sample estimates:\n",
      "       cor \n",
      "-0.2405047 \n",
      "\n",
      "\n",
      "\tSpearman's rank correlation rho\n",
      "\n",
      "data:  fitness1[, explain_col] and fitness1[, explain_col2]\n",
      "S = 5796.6, p-value = 0.3644\n",
      "alternative hypothesis: true rho is not equal to 0\n",
      "sample estimates:\n",
      "       rho \n",
      "-0.1686727 \n",
      "\n",
      "[1] \"Oxygen_Consumption --->  Weight\"\n"
     ]
    },
    {
     "name": "stderr",
     "output_type": "stream",
     "text": [
      "Warning message in cor.test.default(fitness1[, explain_col], fitness1[, explain_col2], :\n",
      "“Cannot compute exact p-value with ties”"
     ]
    },
    {
     "name": "stdout",
     "output_type": "stream",
     "text": [
      "\n",
      "\tPearson's product-moment correlation\n",
      "\n",
      "data:  fitness1[, explain_col] and fitness1[, explain_col2]\n",
      "t = -0.88907, df = 29, p-value = 0.3813\n",
      "alternative hypothesis: true correlation is not equal to 0\n",
      "95 percent confidence interval:\n",
      " -0.4890063  0.2031762\n",
      "sample estimates:\n",
      "       cor \n",
      "-0.1628911 \n",
      "\n",
      "\n",
      "\tSpearman's rank correlation rho\n",
      "\n",
      "data:  fitness1[, explain_col] and fitness1[, explain_col2]\n",
      "S = 5422.2, p-value = 0.6181\n",
      "alternative hypothesis: true rho is not equal to 0\n",
      "sample estimates:\n",
      "        rho \n",
      "-0.09318274 \n",
      "\n",
      "[1] \"Run_Pulse --->  Weight\"\n"
     ]
    },
    {
     "name": "stderr",
     "output_type": "stream",
     "text": [
      "Warning message in cor.test.default(fitness1[, explain_col], fitness1[, explain_col2], :\n",
      "“Cannot compute exact p-value with ties”"
     ]
    },
    {
     "name": "stdout",
     "output_type": "stream",
     "text": [
      "\n",
      "\tPearson's product-moment correlation\n",
      "\n",
      "data:  fitness1[, explain_col] and fitness1[, explain_col2]\n",
      "t = 0.99401, df = 29, p-value = 0.3284\n",
      "alternative hypothesis: true correlation is not equal to 0\n",
      "95 percent confidence interval:\n",
      " -0.1847037  0.5034738\n",
      "sample estimates:\n",
      "      cor \n",
      "0.1815163 \n",
      "\n",
      "\n",
      "\tSpearman's rank correlation rho\n",
      "\n",
      "data:  fitness1[, explain_col] and fitness1[, explain_col2]\n",
      "S = 4586, p-value = 0.6868\n",
      "alternative hypothesis: true rho is not equal to 0\n",
      "sample estimates:\n",
      "       rho \n",
      "0.07540525 \n",
      "\n",
      "[1] \"Rest_Pulse --->  Weight\"\n"
     ]
    },
    {
     "name": "stderr",
     "output_type": "stream",
     "text": [
      "Warning message in cor.test.default(fitness1[, explain_col], fitness1[, explain_col2], :\n",
      "“Cannot compute exact p-value with ties”"
     ]
    },
    {
     "name": "stdout",
     "output_type": "stream",
     "text": [
      "\n",
      "\tPearson's product-moment correlation\n",
      "\n",
      "data:  fitness1[, explain_col] and fitness1[, explain_col2]\n",
      "t = 0.23704, df = 29, p-value = 0.8143\n",
      "alternative hypothesis: true correlation is not equal to 0\n",
      "95 percent confidence interval:\n",
      " -0.3152786  0.3922031\n",
      "sample estimates:\n",
      "       cor \n",
      "0.04397417 \n",
      "\n",
      "\n",
      "\tSpearman's rank correlation rho\n",
      "\n",
      "data:  fitness1[, explain_col] and fitness1[, explain_col2]\n",
      "S = 5106.7, p-value = 0.8745\n",
      "alternative hypothesis: true rho is not equal to 0\n",
      "sample estimates:\n",
      "        rho \n",
      "-0.02957584 \n",
      "\n",
      "[1] \"Maximum_Pulse --->  Weight\"\n"
     ]
    },
    {
     "name": "stderr",
     "output_type": "stream",
     "text": [
      "Warning message in cor.test.default(fitness1[, explain_col], fitness1[, explain_col2], :\n",
      "“Cannot compute exact p-value with ties”"
     ]
    },
    {
     "name": "stdout",
     "output_type": "stream",
     "text": [
      "\n",
      "\tPearson's product-moment correlation\n",
      "\n",
      "data:  fitness1[, explain_col] and fitness1[, explain_col2]\n",
      "t = 1.3868, df = 29, p-value = 0.1761\n",
      "alternative hypothesis: true correlation is not equal to 0\n",
      "95 percent confidence interval:\n",
      " -0.1151327  0.5547045\n",
      "sample estimates:\n",
      "      cor \n",
      "0.2493812 \n",
      "\n",
      "\n",
      "\tSpearman's rank correlation rho\n",
      "\n",
      "data:  fitness1[, explain_col] and fitness1[, explain_col2]\n",
      "S = 4252.7, p-value = 0.4441\n",
      "alternative hypothesis: true rho is not equal to 0\n",
      "sample estimates:\n",
      "      rho \n",
      "0.1425983 \n",
      "\n",
      "[1] \"Gender --->  Oxygen_Consumption\"\n"
     ]
    },
    {
     "name": "stderr",
     "output_type": "stream",
     "text": [
      "Warning message in cor.test.default(fitness1[, explain_col], fitness1[, explain_col2], :\n",
      "“Cannot compute exact p-value with ties”"
     ]
    },
    {
     "name": "stdout",
     "output_type": "stream",
     "text": [
      "\n",
      "\tPearson's product-moment correlation\n",
      "\n",
      "data:  fitness1[, explain_col] and fitness1[, explain_col2]\n",
      "t = -2.9824, df = 29, p-value = 0.005746\n",
      "alternative hypothesis: true correlation is not equal to 0\n",
      "95 percent confidence interval:\n",
      " -0.7159147 -0.1571048\n",
      "sample estimates:\n",
      "       cor \n",
      "-0.4844749 \n",
      "\n",
      "\n",
      "\tSpearman's rank correlation rho\n",
      "\n",
      "data:  fitness1[, explain_col] and fitness1[, explain_col2]\n",
      "S = 7107.7, p-value = 0.01497\n",
      "alternative hypothesis: true rho is not equal to 0\n",
      "sample estimates:\n",
      "       rho \n",
      "-0.4330127 \n",
      "\n",
      "[1] \"RunTime --->  Oxygen_Consumption\"\n",
      "\n",
      "\tPearson's product-moment correlation\n",
      "\n",
      "data:  fitness1[, explain_col] and fitness1[, explain_col2]\n",
      "t = -9.1652, df = 29, p-value = 4.59e-10\n",
      "alternative hypothesis: true correlation is not equal to 0\n",
      "95 percent confidence interval:\n",
      " -0.9318415 -0.7312458\n",
      "sample estimates:\n",
      "       cor \n",
      "-0.8621853 \n",
      "\n",
      "\n",
      "\tSpearman's rank correlation rho\n",
      "\n",
      "data:  fitness1[, explain_col] and fitness1[, explain_col2]\n",
      "S = 8968, p-value = 8.873e-07\n",
      "alternative hypothesis: true rho is not equal to 0\n",
      "sample estimates:\n",
      "       rho \n",
      "-0.8080645 \n",
      "\n",
      "[1] \"Age --->  Oxygen_Consumption\"\n"
     ]
    },
    {
     "name": "stderr",
     "output_type": "stream",
     "text": [
      "Warning message in cor.test.default(fitness1[, explain_col], fitness1[, explain_col2], :\n",
      "“Cannot compute exact p-value with ties”"
     ]
    },
    {
     "name": "stdout",
     "output_type": "stream",
     "text": [
      "\n",
      "\tPearson's product-moment correlation\n",
      "\n",
      "data:  fitness1[, explain_col] and fitness1[, explain_col2]\n",
      "t = -1.7661, df = 29, p-value = 0.08791\n",
      "alternative hypothesis: true correlation is not equal to 0\n",
      "95 percent confidence interval:\n",
      " -0.59973599  0.04802501\n",
      "sample estimates:\n",
      "      cor \n",
      "-0.311618 \n",
      "\n",
      "\n",
      "\tSpearman's rank correlation rho\n",
      "\n",
      "data:  fitness1[, explain_col] and fitness1[, explain_col2]\n",
      "S = 5918.6, p-value = 0.2975\n",
      "alternative hypothesis: true rho is not equal to 0\n",
      "sample estimates:\n",
      "       rho \n",
      "-0.1932687 \n",
      "\n",
      "[1] \"Weight --->  Oxygen_Consumption\"\n"
     ]
    },
    {
     "name": "stderr",
     "output_type": "stream",
     "text": [
      "Warning message in cor.test.default(fitness1[, explain_col], fitness1[, explain_col2], :\n",
      "“Cannot compute exact p-value with ties”"
     ]
    },
    {
     "name": "stdout",
     "output_type": "stream",
     "text": [
      "\n",
      "\tPearson's product-moment correlation\n",
      "\n",
      "data:  fitness1[, explain_col] and fitness1[, explain_col2]\n",
      "t = -0.88907, df = 29, p-value = 0.3813\n",
      "alternative hypothesis: true correlation is not equal to 0\n",
      "95 percent confidence interval:\n",
      " -0.4890063  0.2031762\n",
      "sample estimates:\n",
      "       cor \n",
      "-0.1628911 \n",
      "\n",
      "\n",
      "\tSpearman's rank correlation rho\n",
      "\n",
      "data:  fitness1[, explain_col] and fitness1[, explain_col2]\n",
      "S = 5422.2, p-value = 0.6181\n",
      "alternative hypothesis: true rho is not equal to 0\n",
      "sample estimates:\n",
      "        rho \n",
      "-0.09318274 \n",
      "\n",
      "[1] \"Run_Pulse --->  Oxygen_Consumption\"\n"
     ]
    },
    {
     "name": "stderr",
     "output_type": "stream",
     "text": [
      "Warning message in cor.test.default(fitness1[, explain_col], fitness1[, explain_col2], :\n",
      "“Cannot compute exact p-value with ties”"
     ]
    },
    {
     "name": "stdout",
     "output_type": "stream",
     "text": [
      "\n",
      "\tPearson's product-moment correlation\n",
      "\n",
      "data:  fitness1[, explain_col] and fitness1[, explain_col2]\n",
      "t = -2.3369, df = 29, p-value = 0.02656\n",
      "alternative hypothesis: true correlation is not equal to 0\n",
      "95 percent confidence interval:\n",
      " -0.65940672 -0.05092235\n",
      "sample estimates:\n",
      "       cor \n",
      "-0.3980796 \n",
      "\n",
      "\n",
      "\tSpearman's rank correlation rho\n",
      "\n",
      "data:  fitness1[, explain_col] and fitness1[, explain_col2]\n",
      "S = 7129.9, p-value = 0.01385\n",
      "alternative hypothesis: true rho is not equal to 0\n",
      "sample estimates:\n",
      "       rho \n",
      "-0.4374776 \n",
      "\n",
      "[1] \"Rest_Pulse --->  Oxygen_Consumption\"\n"
     ]
    },
    {
     "name": "stderr",
     "output_type": "stream",
     "text": [
      "Warning message in cor.test.default(fitness1[, explain_col], fitness1[, explain_col2], :\n",
      "“Cannot compute exact p-value with ties”"
     ]
    },
    {
     "name": "stdout",
     "output_type": "stream",
     "text": [
      "\n",
      "\tPearson's product-moment correlation\n",
      "\n",
      "data:  fitness1[, explain_col] and fitness1[, explain_col2]\n",
      "t = -2.3457, df = 29, p-value = 0.02604\n",
      "alternative hypothesis: true correlation is not equal to 0\n",
      "95 percent confidence interval:\n",
      " -0.66025797 -0.05242598\n",
      "sample estimates:\n",
      "       cor \n",
      "-0.3993476 \n",
      "\n",
      "\n",
      "\tSpearman's rank correlation rho\n",
      "\n",
      "data:  fitness1[, explain_col] and fitness1[, explain_col2]\n",
      "S = 6846.2, p-value = 0.03483\n",
      "alternative hypothesis: true rho is not equal to 0\n",
      "sample estimates:\n",
      "      rho \n",
      "-0.380281 \n",
      "\n",
      "[1] \"Maximum_Pulse --->  Oxygen_Consumption\"\n"
     ]
    },
    {
     "name": "stderr",
     "output_type": "stream",
     "text": [
      "Warning message in cor.test.default(fitness1[, explain_col], fitness1[, explain_col2], :\n",
      "“Cannot compute exact p-value with ties”"
     ]
    },
    {
     "name": "stdout",
     "output_type": "stream",
     "text": [
      "\n",
      "\tPearson's product-moment correlation\n",
      "\n",
      "data:  fitness1[, explain_col] and fitness1[, explain_col2]\n",
      "t = -1.3123, df = 29, p-value = 0.1997\n",
      "alternative hypothesis: true correlation is not equal to 0\n",
      "95 percent confidence interval:\n",
      " -0.5453543  0.1283400\n",
      "sample estimates:\n",
      "       cor \n",
      "-0.2367673 \n",
      "\n",
      "\n",
      "\tSpearman's rank correlation rho\n",
      "\n",
      "data:  fitness1[, explain_col] and fitness1[, explain_col2]\n",
      "S = 6559.1, p-value = 0.07693\n",
      "alternative hypothesis: true rho is not equal to 0\n",
      "sample estimates:\n",
      "       rho \n",
      "-0.3223896 \n",
      "\n",
      "[1] \"Gender --->  Run_Pulse\"\n"
     ]
    },
    {
     "name": "stderr",
     "output_type": "stream",
     "text": [
      "Warning message in cor.test.default(fitness1[, explain_col], fitness1[, explain_col2], :\n",
      "“Cannot compute exact p-value with ties”"
     ]
    },
    {
     "name": "stdout",
     "output_type": "stream",
     "text": [
      "\n",
      "\tPearson's product-moment correlation\n",
      "\n",
      "data:  fitness1[, explain_col] and fitness1[, explain_col2]\n",
      "t = 1.3625, df = 29, p-value = 0.1835\n",
      "alternative hypothesis: true correlation is not equal to 0\n",
      "95 percent confidence interval:\n",
      " -0.1194415  0.5516725\n",
      "sample estimates:\n",
      "      cor \n",
      "0.2452795 \n",
      "\n",
      "\n",
      "\tSpearman's rank correlation rho\n",
      "\n",
      "data:  fitness1[, explain_col] and fitness1[, explain_col2]\n",
      "S = 3846.3, p-value = 0.2246\n",
      "alternative hypothesis: true rho is not equal to 0\n",
      "sample estimates:\n",
      "      rho \n",
      "0.2245396 \n",
      "\n",
      "[1] \"RunTime --->  Run_Pulse\"\n"
     ]
    },
    {
     "name": "stderr",
     "output_type": "stream",
     "text": [
      "Warning message in cor.test.default(fitness1[, explain_col], fitness1[, explain_col2], :\n",
      "“Cannot compute exact p-value with ties”"
     ]
    },
    {
     "name": "stdout",
     "output_type": "stream",
     "text": [
      "\n",
      "\tPearson's product-moment correlation\n",
      "\n",
      "data:  fitness1[, explain_col] and fitness1[, explain_col2]\n",
      "t = 1.7788, df = 29, p-value = 0.08576\n",
      "alternative hypothesis: true correlation is not equal to 0\n",
      "95 percent confidence interval:\n",
      " -0.0457803  0.6011745\n",
      "sample estimates:\n",
      "      cor \n",
      "0.3136478 \n",
      "\n",
      "\n",
      "\tSpearman's rank correlation rho\n",
      "\n",
      "data:  fitness1[, explain_col] and fitness1[, explain_col2]\n",
      "S = 3551.9, p-value = 0.1217\n",
      "alternative hypothesis: true rho is not equal to 0\n",
      "sample estimates:\n",
      "     rho \n",
      "0.283895 \n",
      "\n",
      "[1] \"Age --->  Run_Pulse\"\n"
     ]
    },
    {
     "name": "stderr",
     "output_type": "stream",
     "text": [
      "Warning message in cor.test.default(fitness1[, explain_col], fitness1[, explain_col2], :\n",
      "“Cannot compute exact p-value with ties”"
     ]
    },
    {
     "name": "stdout",
     "output_type": "stream",
     "text": [
      "\n",
      "\tPearson's product-moment correlation\n",
      "\n",
      "data:  fitness1[, explain_col] and fitness1[, explain_col2]\n",
      "t = -1.794, df = 29, p-value = 0.08324\n",
      "alternative hypothesis: true correlation is not equal to 0\n",
      "95 percent confidence interval:\n",
      " -0.60288536  0.04310221\n",
      "sample estimates:\n",
      "       cor \n",
      "-0.3160651 \n",
      "\n",
      "\n",
      "\tSpearman's rank correlation rho\n",
      "\n",
      "data:  fitness1[, explain_col] and fitness1[, explain_col2]\n",
      "S = 6299.5, p-value = 0.1417\n",
      "alternative hypothesis: true rho is not equal to 0\n",
      "sample estimates:\n",
      "      rho \n",
      "-0.270062 \n",
      "\n",
      "[1] \"Weight --->  Run_Pulse\"\n"
     ]
    },
    {
     "name": "stderr",
     "output_type": "stream",
     "text": [
      "Warning message in cor.test.default(fitness1[, explain_col], fitness1[, explain_col2], :\n",
      "“Cannot compute exact p-value with ties”"
     ]
    },
    {
     "name": "stdout",
     "output_type": "stream",
     "text": [
      "\n",
      "\tPearson's product-moment correlation\n",
      "\n",
      "data:  fitness1[, explain_col] and fitness1[, explain_col2]\n",
      "t = 0.99401, df = 29, p-value = 0.3284\n",
      "alternative hypothesis: true correlation is not equal to 0\n",
      "95 percent confidence interval:\n",
      " -0.1847037  0.5034738\n",
      "sample estimates:\n",
      "      cor \n",
      "0.1815163 \n",
      "\n",
      "\n",
      "\tSpearman's rank correlation rho\n",
      "\n",
      "data:  fitness1[, explain_col] and fitness1[, explain_col2]\n",
      "S = 4586, p-value = 0.6868\n",
      "alternative hypothesis: true rho is not equal to 0\n",
      "sample estimates:\n",
      "       rho \n",
      "0.07540525 \n",
      "\n",
      "[1] \"Oxygen_Consumption --->  Run_Pulse\"\n"
     ]
    },
    {
     "name": "stderr",
     "output_type": "stream",
     "text": [
      "Warning message in cor.test.default(fitness1[, explain_col], fitness1[, explain_col2], :\n",
      "“Cannot compute exact p-value with ties”"
     ]
    },
    {
     "name": "stdout",
     "output_type": "stream",
     "text": [
      "\n",
      "\tPearson's product-moment correlation\n",
      "\n",
      "data:  fitness1[, explain_col] and fitness1[, explain_col2]\n",
      "t = -2.3369, df = 29, p-value = 0.02656\n",
      "alternative hypothesis: true correlation is not equal to 0\n",
      "95 percent confidence interval:\n",
      " -0.65940672 -0.05092235\n",
      "sample estimates:\n",
      "       cor \n",
      "-0.3980796 \n",
      "\n",
      "\n",
      "\tSpearman's rank correlation rho\n",
      "\n",
      "data:  fitness1[, explain_col] and fitness1[, explain_col2]\n",
      "S = 7129.9, p-value = 0.01385\n",
      "alternative hypothesis: true rho is not equal to 0\n",
      "sample estimates:\n",
      "       rho \n",
      "-0.4374776 \n",
      "\n",
      "[1] \"Rest_Pulse --->  Run_Pulse\"\n"
     ]
    },
    {
     "name": "stderr",
     "output_type": "stream",
     "text": [
      "Warning message in cor.test.default(fitness1[, explain_col], fitness1[, explain_col2], :\n",
      "“Cannot compute exact p-value with ties”"
     ]
    },
    {
     "name": "stdout",
     "output_type": "stream",
     "text": [
      "\n",
      "\tPearson's product-moment correlation\n",
      "\n",
      "data:  fitness1[, explain_col] and fitness1[, explain_col2]\n",
      "t = 2.0282, df = 29, p-value = 0.05181\n",
      "alternative hypothesis: true correlation is not equal to 0\n",
      "95 percent confidence interval:\n",
      " -0.002147756  0.628328223\n",
      "sample estimates:\n",
      "      cor \n",
      "0.3524606 \n",
      "\n",
      "\n",
      "\tSpearman's rank correlation rho\n",
      "\n",
      "data:  fitness1[, explain_col] and fitness1[, explain_col2]\n",
      "S = 3136.5, p-value = 0.04188\n",
      "alternative hypothesis: true rho is not equal to 0\n",
      "sample estimates:\n",
      "      rho \n",
      "0.3676457 \n",
      "\n",
      "[1] \"Maximum_Pulse --->  Run_Pulse\"\n"
     ]
    },
    {
     "name": "stderr",
     "output_type": "stream",
     "text": [
      "Warning message in cor.test.default(fitness1[, explain_col], fitness1[, explain_col2], :\n",
      "“Cannot compute exact p-value with ties”"
     ]
    },
    {
     "name": "stdout",
     "output_type": "stream",
     "text": [
      "\n",
      "\tPearson's product-moment correlation\n",
      "\n",
      "data:  fitness1[, explain_col] and fitness1[, explain_col2]\n",
      "t = 13.599, df = 29, p-value = 4.095e-14\n",
      "alternative hypothesis: true correlation is not equal to 0\n",
      "95 percent confidence interval:\n",
      " 0.8581207 0.9658842\n",
      "sample estimates:\n",
      "      cor \n",
      "0.9297538 \n",
      "\n",
      "\n",
      "\tSpearman's rank correlation rho\n",
      "\n",
      "data:  fitness1[, explain_col] and fitness1[, explain_col2]\n",
      "S = 339.64, p-value = 2.861e-14\n",
      "alternative hypothesis: true rho is not equal to 0\n",
      "sample estimates:\n",
      "      rho \n",
      "0.9315241 \n",
      "\n",
      "[1] \"Gender --->  Rest_Pulse\"\n"
     ]
    },
    {
     "name": "stderr",
     "output_type": "stream",
     "text": [
      "Warning message in cor.test.default(fitness1[, explain_col], fitness1[, explain_col2], :\n",
      "“Cannot compute exact p-value with ties”"
     ]
    },
    {
     "name": "stdout",
     "output_type": "stream",
     "text": [
      "\n",
      "\tPearson's product-moment correlation\n",
      "\n",
      "data:  fitness1[, explain_col] and fitness1[, explain_col2]\n",
      "t = 1.661, df = 29, p-value = 0.1075\n",
      "alternative hypothesis: true correlation is not equal to 0\n",
      "95 percent confidence interval:\n",
      " -0.06654612  0.58770452\n",
      "sample estimates:\n",
      "      cor \n",
      "0.2947441 \n",
      "\n",
      "\n",
      "\tSpearman's rank correlation rho\n",
      "\n",
      "data:  fitness1[, explain_col] and fitness1[, explain_col2]\n",
      "S = 3378.1, p-value = 0.08034\n",
      "alternative hypothesis: true rho is not equal to 0\n",
      "sample estimates:\n",
      "      rho \n",
      "0.3189281 \n",
      "\n",
      "[1] \"RunTime --->  Rest_Pulse\"\n"
     ]
    },
    {
     "name": "stderr",
     "output_type": "stream",
     "text": [
      "Warning message in cor.test.default(fitness1[, explain_col], fitness1[, explain_col2], :\n",
      "“Cannot compute exact p-value with ties”"
     ]
    },
    {
     "name": "stdout",
     "output_type": "stream",
     "text": [
      "\n",
      "\tPearson's product-moment correlation\n",
      "\n",
      "data:  fitness1[, explain_col] and fitness1[, explain_col2]\n",
      "t = 2.7165, df = 29, p-value = 0.01101\n",
      "alternative hypothesis: true correlation is not equal to 0\n",
      "95 percent confidence interval:\n",
      " 0.1142803 0.6939726\n",
      "sample estimates:\n",
      "      cor \n",
      "0.4503826 \n",
      "\n",
      "\n",
      "\tSpearman's rank correlation rho\n",
      "\n",
      "data:  fitness1[, explain_col] and fitness1[, explain_col2]\n",
      "S = 2548.5, p-value = 0.005553\n",
      "alternative hypothesis: true rho is not equal to 0\n",
      "sample estimates:\n",
      "      rho \n",
      "0.4861846 \n",
      "\n",
      "[1] \"Age --->  Rest_Pulse\"\n"
     ]
    },
    {
     "name": "stderr",
     "output_type": "stream",
     "text": [
      "Warning message in cor.test.default(fitness1[, explain_col], fitness1[, explain_col2], :\n",
      "“Cannot compute exact p-value with ties”"
     ]
    },
    {
     "name": "stdout",
     "output_type": "stream",
     "text": [
      "\n",
      "\tPearson's product-moment correlation\n",
      "\n",
      "data:  fitness1[, explain_col] and fitness1[, explain_col2]\n",
      "t = -0.82189, df = 29, p-value = 0.4178\n",
      "alternative hypothesis: true correlation is not equal to 0\n",
      "95 percent confidence interval:\n",
      " -0.4795752  0.2149585\n",
      "sample estimates:\n",
      "       cor \n",
      "-0.1508734 \n",
      "\n",
      "\n",
      "\tSpearman's rank correlation rho\n",
      "\n",
      "data:  fitness1[, explain_col] and fitness1[, explain_col2]\n",
      "S = 5419.2, p-value = 0.6203\n",
      "alternative hypothesis: true rho is not equal to 0\n",
      "sample estimates:\n",
      "        rho \n",
      "-0.09258895 \n",
      "\n",
      "[1] \"Weight --->  Rest_Pulse\"\n"
     ]
    },
    {
     "name": "stderr",
     "output_type": "stream",
     "text": [
      "Warning message in cor.test.default(fitness1[, explain_col], fitness1[, explain_col2], :\n",
      "“Cannot compute exact p-value with ties”"
     ]
    },
    {
     "name": "stdout",
     "output_type": "stream",
     "text": [
      "\n",
      "\tPearson's product-moment correlation\n",
      "\n",
      "data:  fitness1[, explain_col] and fitness1[, explain_col2]\n",
      "t = 0.23704, df = 29, p-value = 0.8143\n",
      "alternative hypothesis: true correlation is not equal to 0\n",
      "95 percent confidence interval:\n",
      " -0.3152786  0.3922031\n",
      "sample estimates:\n",
      "       cor \n",
      "0.04397417 \n",
      "\n",
      "\n",
      "\tSpearman's rank correlation rho\n",
      "\n",
      "data:  fitness1[, explain_col] and fitness1[, explain_col2]\n",
      "S = 5106.7, p-value = 0.8745\n",
      "alternative hypothesis: true rho is not equal to 0\n",
      "sample estimates:\n",
      "        rho \n",
      "-0.02957584 \n",
      "\n",
      "[1] \"Oxygen_Consumption --->  Rest_Pulse\"\n"
     ]
    },
    {
     "name": "stderr",
     "output_type": "stream",
     "text": [
      "Warning message in cor.test.default(fitness1[, explain_col], fitness1[, explain_col2], :\n",
      "“Cannot compute exact p-value with ties”"
     ]
    },
    {
     "name": "stdout",
     "output_type": "stream",
     "text": [
      "\n",
      "\tPearson's product-moment correlation\n",
      "\n",
      "data:  fitness1[, explain_col] and fitness1[, explain_col2]\n",
      "t = -2.3457, df = 29, p-value = 0.02604\n",
      "alternative hypothesis: true correlation is not equal to 0\n",
      "95 percent confidence interval:\n",
      " -0.66025797 -0.05242598\n",
      "sample estimates:\n",
      "       cor \n",
      "-0.3993476 \n",
      "\n",
      "\n",
      "\tSpearman's rank correlation rho\n",
      "\n",
      "data:  fitness1[, explain_col] and fitness1[, explain_col2]\n",
      "S = 6846.2, p-value = 0.03483\n",
      "alternative hypothesis: true rho is not equal to 0\n",
      "sample estimates:\n",
      "      rho \n",
      "-0.380281 \n",
      "\n",
      "[1] \"Run_Pulse --->  Rest_Pulse\"\n"
     ]
    },
    {
     "name": "stderr",
     "output_type": "stream",
     "text": [
      "Warning message in cor.test.default(fitness1[, explain_col], fitness1[, explain_col2], :\n",
      "“Cannot compute exact p-value with ties”"
     ]
    },
    {
     "name": "stdout",
     "output_type": "stream",
     "text": [
      "\n",
      "\tPearson's product-moment correlation\n",
      "\n",
      "data:  fitness1[, explain_col] and fitness1[, explain_col2]\n",
      "t = 2.0282, df = 29, p-value = 0.05181\n",
      "alternative hypothesis: true correlation is not equal to 0\n",
      "95 percent confidence interval:\n",
      " -0.002147756  0.628328223\n",
      "sample estimates:\n",
      "      cor \n",
      "0.3524606 \n",
      "\n",
      "\n",
      "\tSpearman's rank correlation rho\n",
      "\n",
      "data:  fitness1[, explain_col] and fitness1[, explain_col2]\n",
      "S = 3136.5, p-value = 0.04188\n",
      "alternative hypothesis: true rho is not equal to 0\n",
      "sample estimates:\n",
      "      rho \n",
      "0.3676457 \n",
      "\n",
      "[1] \"Maximum_Pulse --->  Rest_Pulse\"\n"
     ]
    },
    {
     "name": "stderr",
     "output_type": "stream",
     "text": [
      "Warning message in cor.test.default(fitness1[, explain_col], fitness1[, explain_col2], :\n",
      "“Cannot compute exact p-value with ties”"
     ]
    },
    {
     "name": "stdout",
     "output_type": "stream",
     "text": [
      "\n",
      "\tPearson's product-moment correlation\n",
      "\n",
      "data:  fitness1[, explain_col] and fitness1[, explain_col2]\n",
      "t = 1.7254, df = 29, p-value = 0.09509\n",
      "alternative hypothesis: true correlation is not equal to 0\n",
      "95 percent confidence interval:\n",
      " -0.0551823  0.5951210\n",
      "sample estimates:\n",
      "     cor \n",
      "0.305124 \n",
      "\n",
      "\n",
      "\tSpearman's rank correlation rho\n",
      "\n",
      "data:  fitness1[, explain_col] and fitness1[, explain_col2]\n",
      "S = 3341.3, p-value = 0.07317\n",
      "alternative hypothesis: true rho is not equal to 0\n",
      "sample estimates:\n",
      "      rho \n",
      "0.3263418 \n",
      "\n",
      "[1] \"Gender --->  Maximum_Pulse\"\n"
     ]
    },
    {
     "name": "stderr",
     "output_type": "stream",
     "text": [
      "Warning message in cor.test.default(fitness1[, explain_col], fitness1[, explain_col2], :\n",
      "“Cannot compute exact p-value with ties”"
     ]
    },
    {
     "name": "stdout",
     "output_type": "stream",
     "text": [
      "\n",
      "\tPearson's product-moment correlation\n",
      "\n",
      "data:  fitness1[, explain_col] and fitness1[, explain_col2]\n",
      "t = 1.2005, df = 29, p-value = 0.2397\n",
      "alternative hypothesis: true correlation is not equal to 0\n",
      "95 percent confidence interval:\n",
      " -0.1481872  0.5309810\n",
      "sample estimates:\n",
      "      cor \n",
      "0.2175776 \n",
      "\n",
      "\n",
      "\tSpearman's rank correlation rho\n",
      "\n",
      "data:  fitness1[, explain_col] and fitness1[, explain_col2]\n",
      "S = 3916, p-value = 0.2557\n",
      "alternative hypothesis: true rho is not equal to 0\n",
      "sample estimates:\n",
      "     rho \n",
      "0.210481 \n",
      "\n",
      "[1] \"RunTime --->  Maximum_Pulse\"\n"
     ]
    },
    {
     "name": "stderr",
     "output_type": "stream",
     "text": [
      "Warning message in cor.test.default(fitness1[, explain_col], fitness1[, explain_col2], :\n",
      "“Cannot compute exact p-value with ties”"
     ]
    },
    {
     "name": "stdout",
     "output_type": "stream",
     "text": [
      "\n",
      "\tPearson's product-moment correlation\n",
      "\n",
      "data:  fitness1[, explain_col] and fitness1[, explain_col2]\n",
      "t = 1.25, df = 29, p-value = 0.2213\n",
      "alternative hypothesis: true correlation is not equal to 0\n",
      "95 percent confidence interval:\n",
      " -0.1394059  0.5373890\n",
      "sample estimates:\n",
      "     cor \n",
      "0.226103 \n",
      "\n",
      "\n",
      "\tSpearman's rank correlation rho\n",
      "\n",
      "data:  fitness1[, explain_col] and fitness1[, explain_col2]\n",
      "S = 3939.2, p-value = 0.2667\n",
      "alternative hypothesis: true rho is not equal to 0\n",
      "sample estimates:\n",
      "      rho \n",
      "0.2058022 \n",
      "\n",
      "[1] \"Age --->  Maximum_Pulse\"\n"
     ]
    },
    {
     "name": "stderr",
     "output_type": "stream",
     "text": [
      "Warning message in cor.test.default(fitness1[, explain_col], fitness1[, explain_col2], :\n",
      "“Cannot compute exact p-value with ties”"
     ]
    },
    {
     "name": "stdout",
     "output_type": "stream",
     "text": [
      "\n",
      "\tPearson's product-moment correlation\n",
      "\n",
      "data:  fitness1[, explain_col] and fitness1[, explain_col2]\n",
      "t = -2.4557, df = 29, p-value = 0.02029\n",
      "alternative hypothesis: true correlation is not equal to 0\n",
      "95 percent confidence interval:\n",
      " -0.67064660 -0.07100091\n",
      "sample estimates:\n",
      "       cor \n",
      "-0.4149027 \n",
      "\n",
      "\n",
      "\tSpearman's rank correlation rho\n",
      "\n",
      "data:  fitness1[, explain_col] and fitness1[, explain_col2]\n",
      "S = 6757, p-value = 0.04518\n",
      "alternative hypothesis: true rho is not equal to 0\n",
      "sample estimates:\n",
      "       rho \n",
      "-0.3623072 \n",
      "\n",
      "[1] \"Weight --->  Maximum_Pulse\"\n"
     ]
    },
    {
     "name": "stderr",
     "output_type": "stream",
     "text": [
      "Warning message in cor.test.default(fitness1[, explain_col], fitness1[, explain_col2], :\n",
      "“Cannot compute exact p-value with ties”"
     ]
    },
    {
     "name": "stdout",
     "output_type": "stream",
     "text": [
      "\n",
      "\tPearson's product-moment correlation\n",
      "\n",
      "data:  fitness1[, explain_col] and fitness1[, explain_col2]\n",
      "t = 1.3868, df = 29, p-value = 0.1761\n",
      "alternative hypothesis: true correlation is not equal to 0\n",
      "95 percent confidence interval:\n",
      " -0.1151327  0.5547045\n",
      "sample estimates:\n",
      "      cor \n",
      "0.2493812 \n",
      "\n",
      "\n",
      "\tSpearman's rank correlation rho\n",
      "\n",
      "data:  fitness1[, explain_col] and fitness1[, explain_col2]\n",
      "S = 4252.7, p-value = 0.4441\n",
      "alternative hypothesis: true rho is not equal to 0\n",
      "sample estimates:\n",
      "      rho \n",
      "0.1425983 \n",
      "\n",
      "[1] \"Oxygen_Consumption --->  Maximum_Pulse\"\n"
     ]
    },
    {
     "name": "stderr",
     "output_type": "stream",
     "text": [
      "Warning message in cor.test.default(fitness1[, explain_col], fitness1[, explain_col2], :\n",
      "“Cannot compute exact p-value with ties”"
     ]
    },
    {
     "name": "stdout",
     "output_type": "stream",
     "text": [
      "\n",
      "\tPearson's product-moment correlation\n",
      "\n",
      "data:  fitness1[, explain_col] and fitness1[, explain_col2]\n",
      "t = -1.3123, df = 29, p-value = 0.1997\n",
      "alternative hypothesis: true correlation is not equal to 0\n",
      "95 percent confidence interval:\n",
      " -0.5453543  0.1283400\n",
      "sample estimates:\n",
      "       cor \n",
      "-0.2367673 \n",
      "\n",
      "\n",
      "\tSpearman's rank correlation rho\n",
      "\n",
      "data:  fitness1[, explain_col] and fitness1[, explain_col2]\n",
      "S = 6559.1, p-value = 0.07693\n",
      "alternative hypothesis: true rho is not equal to 0\n",
      "sample estimates:\n",
      "       rho \n",
      "-0.3223896 \n",
      "\n",
      "[1] \"Run_Pulse --->  Maximum_Pulse\"\n"
     ]
    },
    {
     "name": "stderr",
     "output_type": "stream",
     "text": [
      "Warning message in cor.test.default(fitness1[, explain_col], fitness1[, explain_col2], :\n",
      "“Cannot compute exact p-value with ties”"
     ]
    },
    {
     "name": "stdout",
     "output_type": "stream",
     "text": [
      "\n",
      "\tPearson's product-moment correlation\n",
      "\n",
      "data:  fitness1[, explain_col] and fitness1[, explain_col2]\n",
      "t = 13.599, df = 29, p-value = 4.095e-14\n",
      "alternative hypothesis: true correlation is not equal to 0\n",
      "95 percent confidence interval:\n",
      " 0.8581207 0.9658842\n",
      "sample estimates:\n",
      "      cor \n",
      "0.9297538 \n",
      "\n",
      "\n",
      "\tSpearman's rank correlation rho\n",
      "\n",
      "data:  fitness1[, explain_col] and fitness1[, explain_col2]\n",
      "S = 339.64, p-value = 2.861e-14\n",
      "alternative hypothesis: true rho is not equal to 0\n",
      "sample estimates:\n",
      "      rho \n",
      "0.9315241 \n",
      "\n",
      "[1] \"Rest_Pulse --->  Maximum_Pulse\"\n"
     ]
    },
    {
     "name": "stderr",
     "output_type": "stream",
     "text": [
      "Warning message in cor.test.default(fitness1[, explain_col], fitness1[, explain_col2], :\n",
      "“Cannot compute exact p-value with ties”"
     ]
    },
    {
     "name": "stdout",
     "output_type": "stream",
     "text": [
      "\n",
      "\tPearson's product-moment correlation\n",
      "\n",
      "data:  fitness1[, explain_col] and fitness1[, explain_col2]\n",
      "t = 1.7254, df = 29, p-value = 0.09509\n",
      "alternative hypothesis: true correlation is not equal to 0\n",
      "95 percent confidence interval:\n",
      " -0.0551823  0.5951210\n",
      "sample estimates:\n",
      "     cor \n",
      "0.305124 \n",
      "\n",
      "\n",
      "\tSpearman's rank correlation rho\n",
      "\n",
      "data:  fitness1[, explain_col] and fitness1[, explain_col2]\n",
      "S = 3341.3, p-value = 0.07317\n",
      "alternative hypothesis: true rho is not equal to 0\n",
      "sample estimates:\n",
      "      rho \n",
      "0.3263418 \n",
      "\n"
     ]
    }
   ],
   "source": [
    "for (explain_col in explain_cols){\n",
    "   \n",
    "    for (explain_col2 in explain_cols){\n",
    "        \n",
    "        if(explain_col!=explain_col2){\n",
    "            \n",
    "            print(sprintf(\"%s --->  %s\",explain_col2,explain_col))\n",
    "            pct<- cor.test(fitness1[,explain_col],fitness1[,explain_col2],method=\"pearson\")\n",
    "            sct<-cor.test(fitness1[,explain_col],fitness1[,explain_col2],method=\"spearman\")\n",
    "\n",
    "            print(pct)\n",
    "            print(sct)\n",
    "            \n",
    "        }\n",
    "\n",
    "    }\n",
    "\n",
    "}"
   ]
  },
  {
   "cell_type": "markdown",
   "metadata": {},
   "source": [
    "##    4、使用Performance作为被解释变量，其它变量作为解释变量，构建线性回归模型。注意分类变量要转换为因子类型的变量和避免共线性问题。\n"
   ]
  },
  {
   "cell_type": "code",
   "execution_count": 20,
   "metadata": {
    "collapsed": false
   },
   "outputs": [
    {
     "data": {
      "text/html": [
       "<dl class=dl-horizontal>\n",
       "\t<dt>(Intercept)</dt>\n",
       "\t\t<dd>252.066298664124</dd>\n",
       "\t<dt>GenderM</dt>\n",
       "\t\t<dd>3.95829318425375</dd>\n",
       "\t<dt>RunTime</dt>\n",
       "\t\t<dd>-9.84792674404426</dd>\n",
       "\t<dt>Age</dt>\n",
       "\t\t<dd>-1.98769124669618</dd>\n",
       "\t<dt>Weight</dt>\n",
       "\t\t<dd>-0.00280930999489168</dd>\n",
       "\t<dt>Oxygen_Consumption</dt>\n",
       "\t\t<dd>0.0397891711513534</dd>\n",
       "\t<dt>Run_Pulse</dt>\n",
       "\t\t<dd>0.0183152245112285</dd>\n",
       "\t<dt>Rest_Pulse</dt>\n",
       "\t\t<dd>-0.0121621833421417</dd>\n",
       "\t<dt>Maximum_Pulse</dt>\n",
       "\t\t<dd>-0.0140498854669044</dd>\n",
       "</dl>\n"
      ],
      "text/latex": [
       "\\begin{description*}\n",
       "\\item[(Intercept)] 252.066298664124\n",
       "\\item[GenderM] 3.95829318425375\n",
       "\\item[RunTime] -9.84792674404426\n",
       "\\item[Age] -1.98769124669618\n",
       "\\item[Weight] -0.00280930999489168\n",
       "\\item[Oxygen\\textbackslash{}\\_Consumption] 0.0397891711513534\n",
       "\\item[Run\\textbackslash{}\\_Pulse] 0.0183152245112285\n",
       "\\item[Rest\\textbackslash{}\\_Pulse] -0.0121621833421417\n",
       "\\item[Maximum\\textbackslash{}\\_Pulse] -0.0140498854669044\n",
       "\\end{description*}\n"
      ],
      "text/markdown": [
       "(Intercept)\n",
       ":   252.066298664124GenderM\n",
       ":   3.95829318425375RunTime\n",
       ":   -9.84792674404426Age\n",
       ":   -1.98769124669618Weight\n",
       ":   -0.00280930999489168Oxygen_Consumption\n",
       ":   0.0397891711513534Run_Pulse\n",
       ":   0.0183152245112285Rest_Pulse\n",
       ":   -0.0121621833421417Maximum_Pulse\n",
       ":   -0.0140498854669044\n",
       "\n"
      ],
      "text/plain": [
       "       (Intercept)            GenderM            RunTime                Age \n",
       "      252.06629866         3.95829318        -9.84792674        -1.98769125 \n",
       "            Weight Oxygen_Consumption          Run_Pulse         Rest_Pulse \n",
       "       -0.00280931         0.03978917         0.01831522        -0.01216218 \n",
       "     Maximum_Pulse \n",
       "       -0.01404989 "
      ]
     },
     "metadata": {},
     "output_type": "display_data"
    },
    {
     "data": {
      "text/plain": [
       "\n",
       "Call:\n",
       "lm(formula = Performance ~ Gender + RunTime + Age + Weight + \n",
       "    Oxygen_Consumption + Run_Pulse + Rest_Pulse + Maximum_Pulse, \n",
       "    data = fitness)\n",
       "\n",
       "Residuals:\n",
       "     Min       1Q   Median       3Q      Max \n",
       "-0.44175 -0.24517 -0.00653  0.20811  0.50915 \n",
       "\n",
       "Coefficients:\n",
       "                     Estimate Std. Error  t value Pr(>|t|)    \n",
       "(Intercept)        252.066299   3.292199   76.565   <2e-16 ***\n",
       "GenderM              3.958293   0.161872   24.453   <2e-16 ***\n",
       "RunTime             -9.847927   0.089620 -109.885   <2e-16 ***\n",
       "Age                 -1.987691   0.014794 -134.356   <2e-16 ***\n",
       "Weight              -0.002809   0.009421   -0.298    0.768    \n",
       "Oxygen_Consumption   0.039789   0.027914    1.425    0.168    \n",
       "Run_Pulse            0.018315   0.019197    0.954    0.350    \n",
       "Rest_Pulse          -0.012162   0.009164   -1.327    0.198    \n",
       "Maximum_Pulse       -0.014050   0.020369   -0.690    0.498    \n",
       "---\n",
       "Signif. codes:  0 ‘***’ 0.001 ‘**’ 0.01 ‘*’ 0.05 ‘.’ 0.1 ‘ ’ 1\n",
       "\n",
       "Residual standard error: 0.3147 on 22 degrees of freedom\n",
       "Multiple R-squared:  0.9998,\tAdjusted R-squared:  0.9997 \n",
       "F-statistic: 1.271e+04 on 8 and 22 DF,  p-value: < 2.2e-16\n"
      ]
     },
     "metadata": {},
     "output_type": "display_data"
    }
   ],
   "source": [
    "lm_p <- lm(Performance~Gender+RunTime+Age+Weight+Oxygen_Consumption+Run_Pulse+Rest_Pulse+Maximum_Pulse,data=fitness)\n",
    "\n",
    "coef(lm_p)\n",
    "summary(lm_p)"
   ]
  },
  {
   "cell_type": "markdown",
   "metadata": {},
   "source": [
    "##    5、进行残差检验（异方差、正态分布）、强影响点检验，注意是否需要对变量进行转换？\n"
   ]
  },
  {
   "cell_type": "code",
   "execution_count": 57,
   "metadata": {
    "collapsed": false
   },
   "outputs": [
    {
     "name": "stderr",
     "output_type": "stream",
     "text": [
      "Loading required package: zoo\n",
      "\n",
      "Attaching package: ‘zoo’\n",
      "\n",
      "The following objects are masked from ‘package:base’:\n",
      "\n",
      "    as.Date, as.Date.numeric\n",
      "\n"
     ]
    }
   ],
   "source": [
    " library(lmtest)"
   ]
  },
  {
   "cell_type": "code",
   "execution_count": 71,
   "metadata": {
    "collapsed": false
   },
   "outputs": [
    {
     "name": "stdout",
     "output_type": "stream",
     "text": [
      "[1] \"Gender --->  Performance\"\n",
      "\n",
      "Call:\n",
      "lm(formula = explained_vals ~ explain_vals)\n",
      "\n",
      "Residuals:\n",
      "    Min      1Q  Median      3Q     Max \n",
      "-31.933 -11.433  -3.933   7.567  40.067 \n",
      "\n",
      "Coefficients:\n",
      "             Estimate Std. Error t value Pr(>|t|)    \n",
      "(Intercept)    70.192     10.147   6.917 1.33e-07 ***\n",
      "explain_vals   -9.129      6.481  -1.409     0.17    \n",
      "---\n",
      "Signif. codes:  0 ‘***’ 0.001 ‘**’ 0.01 ‘*’ 0.05 ‘.’ 0.1 ‘ ’ 1\n",
      "\n",
      "Residual standard error: 18.03 on 29 degrees of freedom\n",
      "Multiple R-squared:  0.06404,\tAdjusted R-squared:  0.03177 \n",
      "F-statistic: 1.984 on 1 and 29 DF,  p-value: 0.1696\n",
      "\n",
      "\n",
      "\tstudentized Breusch-Pagan test\n",
      "\n",
      "data:  ana1\n",
      "BP = 0.98404, df = 1, p-value = 0.3212\n",
      "\n",
      "[1] \"強影響點圖\"\n"
     ]
    },
    {
     "data": {
      "image/png": "[encoded data removed]",
      "text/plain": [
       "plot without title"
      ]
     },
     "metadata": {},
     "output_type": "display_data"
    },
    {
     "name": "stdout",
     "output_type": "stream",
     "text": [
      "[1] \"RunTime --->  Performance\"\n",
      "\n",
      "Call:\n",
      "lm(formula = explained_vals ~ explain_vals)\n",
      "\n",
      "Residuals:\n",
      "    Min      1Q  Median      3Q     Max \n",
      "-20.756  -8.539  -1.741   8.510  20.549 \n",
      "\n",
      "Coefficients:\n",
      "             Estimate Std. Error t value Pr(>|t|)    \n",
      "(Intercept)   171.373     14.966  11.451  2.8e-12 ***\n",
      "explain_vals  -10.838      1.402  -7.729  1.6e-08 ***\n",
      "---\n",
      "Signif. codes:  0 ‘***’ 0.001 ‘**’ 0.01 ‘*’ 0.05 ‘.’ 0.1 ‘ ’ 1\n",
      "\n",
      "Residual standard error: 10.66 on 29 degrees of freedom\n",
      "Multiple R-squared:  0.6732,\tAdjusted R-squared:  0.6619 \n",
      "F-statistic: 59.74 on 1 and 29 DF,  p-value: 1.597e-08\n",
      "\n"
     ]
    },
    {
     "data": {
      "image/png": "[encoded data removed]",
      "text/plain": [
       "plot without title"
      ]
     },
     "metadata": {},
     "output_type": "display_data"
    },
    {
     "name": "stdout",
     "output_type": "stream",
     "text": [
      "\n",
      "\tstudentized Breusch-Pagan test\n",
      "\n",
      "data:  ana1\n",
      "BP = 0.07547, df = 1, p-value = 0.7835\n",
      "\n",
      "[1] \"強影響點圖\"\n"
     ]
    },
    {
     "data": {
      "image/png": "[encoded data removed]",
      "text/plain": [
       "plot without title"
      ]
     },
     "metadata": {},
     "output_type": "display_data"
    },
    {
     "name": "stdout",
     "output_type": "stream",
     "text": [
      "[1] \"Age --->  Performance\"\n",
      "\n",
      "Call:\n",
      "lm(formula = explained_vals ~ explain_vals)\n",
      "\n",
      "Residuals:\n",
      "    Min      1Q  Median      3Q     Max \n",
      "-33.289  -8.030   1.229   9.785  19.266 \n",
      "\n",
      "Coefficients:\n",
      "             Estimate Std. Error t value Pr(>|t|)    \n",
      "(Intercept)  174.9557    21.7587   8.041 7.23e-09 ***\n",
      "explain_vals  -2.4815     0.4537  -5.469 6.89e-06 ***\n",
      "---\n",
      "Signif. codes:  0 ‘***’ 0.001 ‘**’ 0.01 ‘*’ 0.05 ‘.’ 0.1 ‘ ’ 1\n",
      "\n",
      "Residual standard error: 13.08 on 29 degrees of freedom\n",
      "Multiple R-squared:  0.5078,\tAdjusted R-squared:  0.4908 \n",
      "F-statistic: 29.91 on 1 and 29 DF,  p-value: 6.888e-06\n",
      "\n"
     ]
    },
    {
     "data": {
      "image/png": "[encoded data removed]",
      "text/plain": [
       "plot without title"
      ]
     },
     "metadata": {},
     "output_type": "display_data"
    },
    {
     "name": "stdout",
     "output_type": "stream",
     "text": [
      "\n",
      "\tstudentized Breusch-Pagan test\n",
      "\n",
      "data:  ana1\n",
      "BP = 1.4533, df = 1, p-value = 0.228\n",
      "\n",
      "[1] \"強影響點圖\"\n"
     ]
    },
    {
     "data": {
      "image/png": "[encoded data removed]",
      "text/plain": [
       "plot without title"
      ]
     },
     "metadata": {},
     "output_type": "display_data"
    },
    {
     "name": "stdout",
     "output_type": "stream",
     "text": [
      "[1] \"Weight --->  Performance\"\n",
      "\n",
      "Call:\n",
      "lm(formula = explained_vals ~ explain_vals)\n",
      "\n",
      "Residuals:\n",
      "    Min      1Q  Median      3Q     Max \n",
      "-36.446  -8.837  -0.982   9.421  36.481 \n",
      "\n",
      "Coefficients:\n",
      "             Estimate Std. Error t value Pr(>|t|)\n",
      "(Intercept)   41.3528    31.6918   1.305    0.202\n",
      "explain_vals   0.1975     0.4069   0.485    0.631\n",
      "\n",
      "Residual standard error: 18.56 on 29 degrees of freedom\n",
      "Multiple R-squared:  0.008053,\tAdjusted R-squared:  -0.02615 \n",
      "F-statistic: 0.2354 on 1 and 29 DF,  p-value: 0.6312\n",
      "\n"
     ]
    },
    {
     "data": {
      "image/png": "[encoded data removed]",
      "text/plain": [
       "plot without title"
      ]
     },
     "metadata": {},
     "output_type": "display_data"
    },
    {
     "name": "stdout",
     "output_type": "stream",
     "text": [
      "\n",
      "\tstudentized Breusch-Pagan test\n",
      "\n",
      "data:  ana1\n",
      "BP = 2.0913, df = 1, p-value = 0.1481\n",
      "\n",
      "[1] \"貌似是異方差，進行對數轉換\"\n",
      "\n",
      "Call:\n",
      "lm(formula = explained_vals_ln ~ explain_vals_ln)\n",
      "\n",
      "Residuals:\n",
      "     Min       1Q   Median       3Q      Max \n",
      "-0.97824 -0.13455  0.04575  0.20953  0.55562 \n",
      "\n",
      "Coefficients:\n",
      "                Estimate Std. Error t value Pr(>|t|)\n",
      "(Intercept)       3.4368     2.6280   1.308    0.201\n",
      "explain_vals_ln   0.1251     0.6048   0.207    0.838\n",
      "\n",
      "Residual standard error: 0.3646 on 29 degrees of freedom\n",
      "Multiple R-squared:  0.001472,\tAdjusted R-squared:  -0.03296 \n",
      "F-statistic: 0.04276 on 1 and 29 DF,  p-value: 0.8376\n",
      "\n"
     ]
    },
    {
     "ename": "ERROR",
     "evalue": "Error in print(bpt2): object 'bpt2' not found\n",
     "output_type": "error",
     "traceback": [
      "Error in print(bpt2): object 'bpt2' not found\nTraceback:\n",
      "1. print(bpt2)   # at line 44 of file <text>"
     ]
    },
    {
     "data": {
      "image/png": "[encoded data removed]",
      "text/plain": [
       "plot without title"
      ]
     },
     "metadata": {},
     "output_type": "display_data"
    },
    {
     "data": {
      "image/png": "[encoded data removed]",
      "text/plain": [
       "plot without title"
      ]
     },
     "metadata": {},
     "output_type": "display_data"
    }
   ],
   "source": [
    "for (explain_col in explain_cols){ \n",
    "    \n",
    "    print(sprintf(\"%s --->  %s\",explain_col,explained_col))\n",
    "    explained_vals<-fitness1[,explained_col]\n",
    "    explain_vals<-fitness1[,explain_col]\n",
    "    ana1<-lm(explained_vals~explain_vals)\n",
    "    sum1<-summary(ana1)\n",
    "    print(sum1)\n",
    "    \n",
    "    pred1<-predict(ana1)\n",
    "    res1<-resid(ana1)\n",
    "    plot(res1~pred1)\n",
    "    \n",
    "   \n",
    "    bpt1<-bptest(ana1)\n",
    "    print(bpt1)\n",
    "    \n",
    "    \n",
    "    explained_vals2<-explained_vals\n",
    "    explain_vals2<-explain_vals\n",
    "    \n",
    "    res_t1<-(res1-mean(res1))/sd(res1)\n",
    "    #Find outlier\n",
    "    res_t1[abs(res_t1)>2]\n",
    "    \n",
    "    if(bpt1[\"p.value\"]<0.2){\n",
    "        print(\"貌似是異方差，進行對數轉換\")\n",
    "        explained_vals_ln<- log(explained_vals)\n",
    "        explain_vals_ln<- log(explain_vals)\n",
    "        \n",
    "        explained_vals2<-explained_vals_ln\n",
    "        explain_vals2<-explained_vals_ln\n",
    "        \n",
    "        ana2<-lm(explained_vals_ln~explain_vals_ln)\n",
    "        sum2<-summary(ana2)\n",
    "        print(sum2)\n",
    "\n",
    "        pred2<-predict(ana2)\n",
    "        res2<-resid(ana2)\n",
    "        plot(res2~pred2)\n",
    "\n",
    "\n",
    "        bpt1<-bptest(ana2)\n",
    "        print(bpt2)\n",
    "        \n",
    "        res_t1<-(res2-mean(res2))/sd(res2)\n",
    "        #Find outlier\n",
    "        res_t1[abs(res_t1)>2]\n",
    "    }\n",
    "    \n",
    "    \n",
    "    \n",
    "    #Drop outlier\n",
    "    fitness2<-subset(fitness,abs(res_t1)<=2)\n",
    "    ana4<-lm(explained_vals2~explain_vals2)\n",
    "    pred2<-predict(ana4)\n",
    "    res2<-resid(ana4)\n",
    "    \n",
    "    print(\"強影響點圖\")\n",
    "    plot(res2~pred2)\n",
    "    \n",
    "}"
   ]
  },
  {
   "cell_type": "code",
   "execution_count": null,
   "metadata": {
    "collapsed": true
   },
   "outputs": [],
   "source": [
    "for (explain_col in explain_cols){ \n",
    "\n",
    "    \n",
    "}"
   ]
  },
  {
   "cell_type": "markdown",
   "metadata": {
    "collapsed": true
   },
   "source": [
    "##   6、使用岭回归和LASSO方法构建同样的线性回归模型。"
   ]
  },
  {
   "cell_type": "code",
   "execution_count": 27,
   "metadata": {
    "collapsed": false
   },
   "outputs": [],
   "source": [
    "library(MASS)\n",
    "lmr<-lm.ridge(Performance~.,data=fitness[,c(2,3,4,5,6,7,8,9,10)],lambda=seq(0,10,1))\n"
   ]
  },
  {
   "cell_type": "code",
   "execution_count": 24,
   "metadata": {
    "collapsed": false
   },
   "outputs": [
    {
     "data": {
      "image/png": "[encoded data removed]",
      "text/plain": [
       "plot without title"
      ]
     },
     "metadata": {},
     "output_type": "display_data"
    }
   ],
   "source": [
    "plot(lmr)"
   ]
  },
  {
   "cell_type": "code",
   "execution_count": 28,
   "metadata": {
    "collapsed": false
   },
   "outputs": [
    {
     "name": "stdout",
     "output_type": "stream",
     "text": [
      "modified HKB estimator is 0.002045025 \n",
      "modified L-W estimator is 0.001828671 \n",
      "smallest value of GCV  at 0 \n"
     ]
    }
   ],
   "source": [
    "select(lmr)"
   ]
  },
  {
   "cell_type": "code",
   "execution_count": 29,
   "metadata": {
    "collapsed": false
   },
   "outputs": [
    {
     "name": "stderr",
     "output_type": "stream",
     "text": [
      "Loading required package: Matrix\n",
      "Loading required package: foreach\n",
      "Loaded glmnet 2.0-5\n",
      "\n"
     ]
    }
   ],
   "source": [
    "library(glmnet)"
   ]
  },
  {
   "cell_type": "code",
   "execution_count": 50,
   "metadata": {
    "collapsed": false
   },
   "outputs": [],
   "source": [
    "x <- as.matrix(fitness1[,explain_cols ])\n",
    "y <- as.matrix(fitness1[,c(explained_col) ])\n",
    "\n",
    "\n",
    "r2 <- glmnet(x = x, y = y, family = \"gaussian\", alpha = 1)\n"
   ]
  },
  {
   "cell_type": "code",
   "execution_count": 51,
   "metadata": {
    "collapsed": false
   },
   "outputs": [
    {
     "data": {
      "image/png": "[encoded data removed]",
      "text/plain": [
       "plot without title"
      ]
     },
     "metadata": {},
     "output_type": "display_data"
    }
   ],
   "source": [
    "plot(r2, xvar = \"lambda\")"
   ]
  },
  {
   "cell_type": "code",
   "execution_count": null,
   "metadata": {
    "collapsed": true
   },
   "outputs": [],
   "source": []
  }
 ],
 "metadata": {
  "kernelspec": {
   "display_name": "R",
   "language": "R",
   "name": "ir"
  },
  "language_info": {
   "codemirror_mode": "r",
   "file_extension": ".r",
   "mimetype": "text/x-r-source",
   "name": "R",
   "pygments_lexer": "r",
   "version": "3.3.1"
  }
 },
 "nbformat": 4,
 "nbformat_minor": 1
}
