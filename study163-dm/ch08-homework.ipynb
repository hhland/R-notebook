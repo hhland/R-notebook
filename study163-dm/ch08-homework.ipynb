{
 "cells": [
  {
   "cell_type": "markdown",
   "metadata": {},
   "source": [
    "1、使用课程数据中的“date_data2.csv”数据，使用C50和CART分别构建决策树，并解释婚恋网站男性客户是否被相亲的模式。"
   ]
  },
  {
   "cell_type": "code",
   "execution_count": 20,
   "metadata": {
    "collapsed": false
   },
   "outputs": [
    {
     "data": {
      "text/html": [
       "<table>\n",
       "<thead><tr><th scope=col>income</th><th scope=col>attractive</th><th scope=col>assets</th><th scope=col>edueduclass</th><th scope=col>Dated</th><th scope=col>income_rank</th><th scope=col>attractive_rank</th><th scope=col>assets_rank</th></tr></thead>\n",
       "<tbody>\n",
       "\t<tr><td>3000     </td><td> 9.0     </td><td> 5.145476</td><td>1        </td><td>0        </td><td>0        </td><td>0        </td><td>0        </td></tr>\n",
       "\t<tr><td>3000     </td><td>14.5     </td><td>40.643781</td><td>4        </td><td>1        </td><td>0        </td><td>0        </td><td>1        </td></tr>\n",
       "\t<tr><td>3000     </td><td> 6.0     </td><td> 5.145476</td><td>1        </td><td>0        </td><td>0        </td><td>0        </td><td>0        </td></tr>\n",
       "\t<tr><td>3000     </td><td> 1.0     </td><td> 7.067434</td><td>1        </td><td>0        </td><td>0        </td><td>0        </td><td>0        </td></tr>\n",
       "\t<tr><td>3500     </td><td>14.5     </td><td> 3.728400</td><td>2        </td><td>0        </td><td>0        </td><td>0        </td><td>0        </td></tr>\n",
       "\t<tr><td>3500     </td><td>28.0     </td><td>12.569146</td><td>3        </td><td>0        </td><td>0        </td><td>1        </td><td>0        </td></tr>\n",
       "</tbody>\n",
       "</table>\n"
      ],
      "text/latex": [
       "\\begin{tabular}{r|llllllll}\n",
       " income & attractive & assets & edueduclass & Dated & income\\_rank & attractive\\_rank & assets\\_rank\\\\\n",
       "\\hline\n",
       "\t 3000      &  9.0      &  5.145476 & 1         & 0         & 0         & 0         & 0        \\\\\n",
       "\t 3000      & 14.5      & 40.643781 & 4         & 1         & 0         & 0         & 1        \\\\\n",
       "\t 3000      &  6.0      &  5.145476 & 1         & 0         & 0         & 0         & 0        \\\\\n",
       "\t 3000      &  1.0      &  7.067434 & 1         & 0         & 0         & 0         & 0        \\\\\n",
       "\t 3500      & 14.5      &  3.728400 & 2         & 0         & 0         & 0         & 0        \\\\\n",
       "\t 3500      & 28.0      & 12.569146 & 3         & 0         & 0         & 1         & 0        \\\\\n",
       "\\end{tabular}\n"
      ],
      "text/plain": [
       "  income attractive assets    edueduclass Dated income_rank attractive_rank\n",
       "1 3000    9.0        5.145476 1           0     0           0              \n",
       "2 3000   14.5       40.643781 4           1     0           0              \n",
       "3 3000    6.0        5.145476 1           0     0           0              \n",
       "4 3000    1.0        7.067434 1           0     0           0              \n",
       "5 3500   14.5        3.728400 2           0     0           0              \n",
       "6 3500   28.0       12.569146 3           0     0           1              \n",
       "  assets_rank\n",
       "1 0          \n",
       "2 1          \n",
       "3 0          \n",
       "4 0          \n",
       "5 0          \n",
       "6 0          "
      ]
     },
     "metadata": {},
     "output_type": "display_data"
    }
   ],
   "source": [
    "date2<-read.csv(\"data/date_data2.csv\",fileEncoding=\"GBK\")\n",
    "\n",
    "head(date2)"
   ]
  },
  {
   "cell_type": "code",
   "execution_count": 25,
   "metadata": {
    "collapsed": false
   },
   "outputs": [
    {
     "data": {
      "text/html": [
       "<table>\n",
       "<thead><tr><th scope=col>edueduclass</th><th scope=col>income_rank</th><th scope=col>attractive_rank</th><th scope=col>assets_rank</th><th scope=col>Dated</th></tr></thead>\n",
       "<tbody>\n",
       "\t<tr><td>1</td><td>0</td><td>0</td><td>0</td><td>0</td></tr>\n",
       "\t<tr><td>4</td><td>0</td><td>0</td><td>1</td><td>1</td></tr>\n",
       "\t<tr><td>1</td><td>0</td><td>0</td><td>0</td><td>0</td></tr>\n",
       "\t<tr><td>1</td><td>0</td><td>0</td><td>0</td><td>0</td></tr>\n",
       "\t<tr><td>2</td><td>0</td><td>0</td><td>0</td><td>0</td></tr>\n",
       "\t<tr><td>3</td><td>0</td><td>1</td><td>0</td><td>0</td></tr>\n",
       "</tbody>\n",
       "</table>\n"
      ],
      "text/latex": [
       "\\begin{tabular}{r|lllll}\n",
       " edueduclass & income\\_rank & attractive\\_rank & assets\\_rank & Dated\\\\\n",
       "\\hline\n",
       "\t 1 & 0 & 0 & 0 & 0\\\\\n",
       "\t 4 & 0 & 0 & 1 & 1\\\\\n",
       "\t 1 & 0 & 0 & 0 & 0\\\\\n",
       "\t 1 & 0 & 0 & 0 & 0\\\\\n",
       "\t 2 & 0 & 0 & 0 & 0\\\\\n",
       "\t 3 & 0 & 1 & 0 & 0\\\\\n",
       "\\end{tabular}\n"
      ],
      "text/plain": [
       "  edueduclass income_rank attractive_rank assets_rank Dated\n",
       "1 1           0           0               0           0    \n",
       "2 4           0           0               1           1    \n",
       "3 1           0           0               0           0    \n",
       "4 1           0           0               0           0    \n",
       "5 2           0           0               0           0    \n",
       "6 3           0           1               0           0    "
      ]
     },
     "metadata": {},
     "output_type": "display_data"
    }
   ],
   "source": [
    "explaned_col<-\"Dated\"\n",
    "explan_cols<-c(\"edueduclass\",\"income_rank\",\"attractive_rank\",\"assets_rank\")\n",
    "\n",
    "\n",
    "date2<-date2[,c(explan_cols,explaned_col)]\n",
    "\n",
    "date2<-na.omit(date2)\n",
    "\n",
    "for(ec in colnames(date2)){\n",
    "     date2[,ec]=as.factor(date2[,ec])\n",
    "}\n",
    "    \n",
    "head(date2)\n"
   ]
  },
  {
   "cell_type": "code",
   "execution_count": 26,
   "metadata": {
    "collapsed": false
   },
   "outputs": [
    {
     "data": {
      "text/html": [
       "<dl class=dl-horizontal>\n",
       "\t<dt>0</dt>\n",
       "\t\t<dd>50</dd>\n",
       "\t<dt>1</dt>\n",
       "\t\t<dd>50</dd>\n",
       "</dl>\n"
      ],
      "text/latex": [
       "\\begin{description*}\n",
       "\\item[0] 50\n",
       "\\item[1] 50\n",
       "\\end{description*}\n"
      ],
      "text/markdown": [
       "0\n",
       ":   501\n",
       ":   50\n",
       "\n"
      ],
      "text/plain": [
       " 0  1 \n",
       "50 50 "
      ]
     },
     "metadata": {},
     "output_type": "display_data"
    }
   ],
   "source": [
    "set.seed(10)\n",
    "select<-sample(1:nrow(date2),length(date2$Dated)*0.7)\n",
    "train=date2[select,]\n",
    "test=date2[-select,]\n",
    "summary(date2$Dated)"
   ]
  },
  {
   "cell_type": "code",
   "execution_count": 27,
   "metadata": {
    "collapsed": true
   },
   "outputs": [],
   "source": [
    "library(C50)\n",
    "tc<-C5.0Control(minCases = 2,winnow=F,CF=0.99,noGlobalPruning=T)"
   ]
  },
  {
   "cell_type": "code",
   "execution_count": 28,
   "metadata": {
    "collapsed": false
   },
   "outputs": [
    {
     "data": {
      "text/plain": [
       "\n",
       "Call:\n",
       "C5.0.formula(formula = Dated ~ ., data = train, rules = F, control = tc)\n",
       "\n",
       "\n",
       "C5.0 [Release 2.07 GPL Edition]  \tThu Nov 10 22:07:23 2016\n",
       "-------------------------------\n",
       "\n",
       "Class specified by attribute `outcome'\n",
       "\n",
       "Read 70 cases (5 attributes) from undefined.data\n",
       "\n",
       "Decision tree:\n",
       "\n",
       "assets_rank in {0,1}:\n",
       ":...edueduclass in {1,2,3,5,6}: 0 (25)\n",
       ":   edueduclass = 4:\n",
       ":   :...attractive_rank in {0,2,3}: 0 (9/2)\n",
       ":       attractive_rank = 1: 1 (1)\n",
       "assets_rank in {2,3}:\n",
       ":...assets_rank = 3: 1 (20)\n",
       "    assets_rank = 2:\n",
       "    :...attractive_rank = 0: 0 (1)\n",
       "        attractive_rank in {1,2,3}: 1 (14/2)\n",
       "\n",
       "\n",
       "Evaluation on training data (70 cases):\n",
       "\n",
       "\t    Decision Tree   \n",
       "\t  ----------------  \n",
       "\t  Size      Errors  \n",
       "\n",
       "\t     6    4( 5.7%)   <<\n",
       "\n",
       "\n",
       "\t   (a)   (b)    <-classified as\n",
       "\t  ----  ----\n",
       "\t    33     2    (a): class 0\n",
       "\t     2    33    (b): class 1\n",
       "\n",
       "\n",
       "\tAttribute usage:\n",
       "\n",
       "\t100.00%\tassets_rank\n",
       "\t 50.00%\tedueduclass\n",
       "\t 35.71%\tattractive_rank\n",
       "\n",
       "\n",
       "Time: 0.0 secs\n"
      ]
     },
     "metadata": {},
     "output_type": "display_data"
    }
   ],
   "source": [
    "model<- C5.0(Dated~.,data=train,rules = F,control = tc)\n",
    "\n",
    "summary(model)"
   ]
  },
  {
   "cell_type": "code",
   "execution_count": 29,
   "metadata": {
    "collapsed": false
   },
   "outputs": [
    {
     "data": {
      "image/png": "[encoded data removed]",
      "text/plain": [
       "plot without title"
      ]
     },
     "metadata": {},
     "output_type": "display_data"
    }
   ],
   "source": [
    "plot(model)"
   ]
  },
  {
   "cell_type": "code",
   "execution_count": 30,
   "metadata": {
    "collapsed": false
   },
   "outputs": [
    {
     "data": {
      "text/html": [
       "<table>\n",
       "<thead><tr><th></th><th scope=col>Overall</th></tr></thead>\n",
       "<tbody>\n",
       "\t<tr><th scope=row>assets_rank</th><td>100.00</td></tr>\n",
       "\t<tr><th scope=row>edueduclass</th><td> 50.00</td></tr>\n",
       "\t<tr><th scope=row>attractive_rank</th><td> 35.71</td></tr>\n",
       "\t<tr><th scope=row>income_rank</th><td>  0.00</td></tr>\n",
       "</tbody>\n",
       "</table>\n"
      ],
      "text/latex": [
       "\\begin{tabular}{r|l}\n",
       "  & Overall\\\\\n",
       "\\hline\n",
       "\tassets\\_rank & 100.00\\\\\n",
       "\tedueduclass &  50.00\\\\\n",
       "\tattractive\\_rank &  35.71\\\\\n",
       "\tincome\\_rank &   0.00\\\\\n",
       "\\end{tabular}\n"
      ],
      "text/plain": [
       "                Overall\n",
       "assets_rank     100.00 \n",
       "edueduclass      50.00 \n",
       "attractive_rank  35.71 \n",
       "income_rank       0.00 "
      ]
     },
     "metadata": {},
     "output_type": "display_data"
    }
   ],
   "source": [
    "C5imp(model)"
   ]
  },
  {
   "cell_type": "code",
   "execution_count": 32,
   "metadata": {
    "collapsed": false
   },
   "outputs": [
    {
     "data": {
      "text/plain": [
       "\n",
       "Call:\n",
       "C5.0.formula(formula = Dated ~ ., data = train, rules = T, control = tc)\n",
       "\n",
       "\n",
       "C5.0 [Release 2.07 GPL Edition]  \tThu Nov 10 22:09:52 2016\n",
       "-------------------------------\n",
       "\n",
       "Class specified by attribute `outcome'\n",
       "\n",
       "Read 70 cases (5 attributes) from undefined.data\n",
       "\n",
       "Rules:\n",
       "\n",
       "Rule 1: (25, lift 1.9)\n",
       "\tedueduclass in {1, 2, 3}\n",
       "\tassets_rank in {0, 1}\n",
       "\t->  class 0  [0.963]\n",
       "\n",
       "Rule 2: (26/2, lift 1.8)\n",
       "\tattractive_rank in {0, 2, 3}\n",
       "\tassets_rank in {0, 1}\n",
       "\t->  class 0  [0.893]\n",
       "\n",
       "Rule 3: (14/3, lift 1.5)\n",
       "\tattractive_rank = 0\n",
       "\t->  class 0  [0.750]\n",
       "\n",
       "Rule 4: (20, lift 1.9)\n",
       "\tassets_rank = 3\n",
       "\t->  class 1  [0.955]\n",
       "\n",
       "Rule 5: (32/2, lift 1.8)\n",
       "\tattractive_rank in {1, 2, 3}\n",
       "\tassets_rank in {2, 3}\n",
       "\t->  class 1  [0.912]\n",
       "\n",
       "Rule 6: (7, lift 1.8)\n",
       "\tedueduclass = 4\n",
       "\tattractive_rank = 1\n",
       "\t->  class 1  [0.889]\n",
       "\n",
       "Default class: 0\n",
       "\n",
       "\n",
       "Evaluation on training data (70 cases):\n",
       "\n",
       "\t        Rules     \n",
       "\t  ----------------\n",
       "\t    No      Errors\n",
       "\n",
       "\t     6    4( 5.7%)   <<\n",
       "\n",
       "\n",
       "\t   (a)   (b)    <-classified as\n",
       "\t  ----  ----\n",
       "\t    33     2    (a): class 0\n",
       "\t     2    33    (b): class 1\n",
       "\n",
       "\n",
       "\tAttribute usage:\n",
       "\n",
       "\t 97.14%\tassets_rank\n",
       "\t 88.57%\tattractive_rank\n",
       "\t 45.71%\tedueduclass\n",
       "\n",
       "\n",
       "Time: 0.0 secs\n"
      ]
     },
     "metadata": {},
     "output_type": "display_data"
    }
   ],
   "source": [
    "rule<- C5.0(Dated ~.,data=train,rules=T,control =tc)\n",
    "summary( rule )"
   ]
  },
  {
   "cell_type": "code",
   "execution_count": 33,
   "metadata": {
    "collapsed": true
   },
   "outputs": [],
   "source": [
    "library(rpart)\n",
    "\n",
    "tc <- rpart.control(minsplit=20,minbucket=20,maxdepth=10,xval=5,cp=0.005)"
   ]
  },
  {
   "cell_type": "code",
   "execution_count": 34,
   "metadata": {
    "collapsed": false
   },
   "outputs": [
    {
     "name": "stdout",
     "output_type": "stream",
     "text": [
      "Call:\n",
      "rpart(formula = Dated ~ ., data = train, method = \"class\", parms = list(prior = c(0.65, \n",
      "    0.35), split = \"gini\"), control = tc)\n",
      "  n= 70 \n",
      "\n",
      "        CP nsplit rel error   xerror      xstd\n",
      "1 0.755102      0  1.000000 1.000000 0.1195229\n",
      "2 0.005000      1  0.244898 0.244898 0.1001932\n",
      "\n",
      "Variable importance\n",
      "    assets_rank     edueduclass     income_rank attractive_rank \n",
      "             39              27              24              10 \n",
      "\n",
      "Node number 1: 70 observations,    complexity param=0.755102\n",
      "  predicted class=0  expected loss=0.35  P(node) =1\n",
      "    class counts:    35    35\n",
      "   probabilities: 0.650 0.350 \n",
      "  left son=2 (35 obs) right son=3 (35 obs)\n",
      "  Primary splits:\n",
      "      assets_rank     splits as  LLRR,   improve=21.208480, (0 missing)\n",
      "      edueduclass     splits as  LLLRRR, improve=13.664300, (0 missing)\n",
      "      income_rank     splits as  LLRR,   improve= 6.073023, (0 missing)\n",
      "      attractive_rank splits as  LRLR,   improve= 1.163529, (0 missing)\n",
      "  Surrogate splits:\n",
      "      edueduclass     splits as  LLLRRR, agree=0.843, adj=0.686, (0 split)\n",
      "      income_rank     splits as  LLRR,   agree=0.814, adj=0.629, (0 split)\n",
      "      attractive_rank splits as  LLRR,   agree=0.629, adj=0.257, (0 split)\n",
      "\n",
      "Node number 2: 35 observations\n",
      "  predicted class=0  expected loss=0.04805492  P(node) =0.6242857\n",
      "    class counts:    32     3\n",
      "   probabilities: 0.952 0.048 \n",
      "\n",
      "Node number 3: 35 observations\n",
      "  predicted class=1  expected loss=0.148289  P(node) =0.3757143\n",
      "    class counts:     3    32\n",
      "   probabilities: 0.148 0.852 \n",
      "\n"
     ]
    }
   ],
   "source": [
    "rpart.mod=rpart(Dated ~.,data=train,method=\"class\",\n",
    "                parms = list(prior = c(0.65,0.35), split = \"gini\"),\n",
    "                control=tc)\n",
    "summary(rpart.mod)"
   ]
  },
  {
   "cell_type": "code",
   "execution_count": 35,
   "metadata": {
    "collapsed": false
   },
   "outputs": [
    {
     "data": {
      "text/html": [
       "<dl class=dl-horizontal>\n",
       "\t<dt>assets_rank</dt>\n",
       "\t\t<dd>21.208484656011</dd>\n",
       "\t<dt>edueduclass</dt>\n",
       "\t\t<dd>14.542960906979</dd>\n",
       "\t<dt>income_rank</dt>\n",
       "\t\t<dd>13.3310474980641</dd>\n",
       "\t<dt>attractive_rank</dt>\n",
       "\t\t<dd>5.45361034011711</dd>\n",
       "</dl>\n"
      ],
      "text/latex": [
       "\\begin{description*}\n",
       "\\item[assets\\textbackslash{}\\_rank] 21.208484656011\n",
       "\\item[edueduclass] 14.542960906979\n",
       "\\item[income\\textbackslash{}\\_rank] 13.3310474980641\n",
       "\\item[attractive\\textbackslash{}\\_rank] 5.45361034011711\n",
       "\\end{description*}\n"
      ],
      "text/markdown": [
       "assets_rank\n",
       ":   21.208484656011edueduclass\n",
       ":   14.542960906979income_rank\n",
       ":   13.3310474980641attractive_rank\n",
       ":   5.45361034011711\n",
       "\n"
      ],
      "text/plain": [
       "    assets_rank     edueduclass     income_rank attractive_rank \n",
       "       21.20848        14.54296        13.33105         5.45361 "
      ]
     },
     "metadata": {},
     "output_type": "display_data"
    }
   ],
   "source": [
    "rpart.mod$variable.importance"
   ]
  },
  {
   "cell_type": "code",
   "execution_count": 41,
   "metadata": {
    "collapsed": false
   },
   "outputs": [
    {
     "data": {
      "image/png": "[encoded data removed]",
      "text/plain": [
       "plot without title"
      ]
     },
     "metadata": {},
     "output_type": "display_data"
    }
   ],
   "source": [
    "plotcp(rpart.mod)"
   ]
  },
  {
   "cell_type": "code",
   "execution_count": 40,
   "metadata": {
    "collapsed": false
   },
   "outputs": [
    {
     "data": {
      "image/png": "[encoded data removed]",
      "text/plain": [
       "Plot with title “决策树”"
      ]
     },
     "metadata": {},
     "output_type": "display_data"
    }
   ],
   "source": [
    "library(rpart.plot)\n",
    "\n",
    "rpart.plot(rpart.mod,branch=1, extra=106, under=TRUE, faclen=0,\n",
    "           cex=0.8, main=\"决策树\")"
   ]
  },
  {
   "cell_type": "markdown",
   "metadata": {},
   "source": [
    "2、比较C50和CART两个决策树是否一致？预测的准确性是否相似？"
   ]
  },
  {
   "cell_type": "code",
   "execution_count": 51,
   "metadata": {
    "collapsed": false
   },
   "outputs": [
    {
     "data": {
      "text/html": [
       "<ol class=list-inline>\n",
       "\t<li>0</li>\n",
       "\t<li>0</li>\n",
       "\t<li>0</li>\n",
       "\t<li>0</li>\n",
       "\t<li>0</li>\n",
       "\t<li>0</li>\n",
       "\t<li>0</li>\n",
       "\t<li>0</li>\n",
       "\t<li>1</li>\n",
       "\t<li>1</li>\n",
       "\t<li>0</li>\n",
       "\t<li>1</li>\n",
       "\t<li>0</li>\n",
       "\t<li>0</li>\n",
       "\t<li>0</li>\n",
       "\t<li>0</li>\n",
       "\t<li>1</li>\n",
       "\t<li>0</li>\n",
       "\t<li>1</li>\n",
       "\t<li>1</li>\n",
       "\t<li>1</li>\n",
       "\t<li>0</li>\n",
       "\t<li>1</li>\n",
       "\t<li>1</li>\n",
       "\t<li>1</li>\n",
       "\t<li>1</li>\n",
       "\t<li>0</li>\n",
       "\t<li>1</li>\n",
       "\t<li>1</li>\n",
       "\t<li>1</li>\n",
       "</ol>\n"
      ],
      "text/latex": [
       "\\begin{enumerate*}\n",
       "\\item 0\n",
       "\\item 0\n",
       "\\item 0\n",
       "\\item 0\n",
       "\\item 0\n",
       "\\item 0\n",
       "\\item 0\n",
       "\\item 0\n",
       "\\item 1\n",
       "\\item 1\n",
       "\\item 0\n",
       "\\item 1\n",
       "\\item 0\n",
       "\\item 0\n",
       "\\item 0\n",
       "\\item 0\n",
       "\\item 1\n",
       "\\item 0\n",
       "\\item 1\n",
       "\\item 1\n",
       "\\item 1\n",
       "\\item 0\n",
       "\\item 1\n",
       "\\item 1\n",
       "\\item 1\n",
       "\\item 1\n",
       "\\item 0\n",
       "\\item 1\n",
       "\\item 1\n",
       "\\item 1\n",
       "\\end{enumerate*}\n"
      ],
      "text/markdown": [
       "1. 0\n",
       "2. 0\n",
       "3. 0\n",
       "4. 0\n",
       "5. 0\n",
       "6. 0\n",
       "7. 0\n",
       "8. 0\n",
       "9. 1\n",
       "10. 1\n",
       "11. 0\n",
       "12. 1\n",
       "13. 0\n",
       "14. 0\n",
       "15. 0\n",
       "16. 0\n",
       "17. 1\n",
       "18. 0\n",
       "19. 1\n",
       "20. 1\n",
       "21. 1\n",
       "22. 0\n",
       "23. 1\n",
       "24. 1\n",
       "25. 1\n",
       "26. 1\n",
       "27. 0\n",
       "28. 1\n",
       "29. 1\n",
       "30. 1\n",
       "\n",
       "\n"
      ],
      "text/plain": [
       " [1] 0 0 0 0 0 0 0 0 1 1 0 1 0 0 0 0 1 0 1 1 1 0 1 1 1 1 0 1 1 1\n",
       "Levels: 0 1"
      ]
     },
     "metadata": {},
     "output_type": "display_data"
    }
   ],
   "source": [
    "c50_pred<-predict(model,test)\n",
    "\n",
    "c50_pred"
   ]
  },
  {
   "cell_type": "code",
   "execution_count": 42,
   "metadata": {
    "collapsed": false
   },
   "outputs": [
    {
     "data": {
      "text/html": [
       "<table>\n",
       "<thead><tr><th></th><th scope=col>CP</th><th scope=col>nsplit</th><th scope=col>rel error</th><th scope=col>xerror</th><th scope=col>xstd</th></tr></thead>\n",
       "<tbody>\n",
       "\t<tr><th scope=row>1</th><td>0.755102 </td><td>0        </td><td>1.000000 </td><td>1.000000 </td><td>0.1195229</td></tr>\n",
       "\t<tr><th scope=row>2</th><td>0.005000 </td><td>1        </td><td>0.244898 </td><td>0.244898 </td><td>0.1001932</td></tr>\n",
       "</tbody>\n",
       "</table>\n"
      ],
      "text/latex": [
       "\\begin{tabular}{r|lllll}\n",
       "  & CP & nsplit & rel error & xerror & xstd\\\\\n",
       "\\hline\n",
       "\t1 & 0.755102  & 0         & 1.000000  & 1.000000  & 0.1195229\\\\\n",
       "\t2 & 0.005000  & 1         & 0.244898  & 0.244898  & 0.1001932\\\\\n",
       "\\end{tabular}\n"
      ],
      "text/markdown": [
       "1. 0.755102040816326\n",
       "2. 0.005\n",
       "3. 0\n",
       "4. 1\n",
       "5. 1\n",
       "6. 0.244897959183673\n",
       "7. 0.999999999999999\n",
       "8. 0.244897959183673\n",
       "9. 0.119522860933439\n",
       "10. 0.100193185206745\n",
       "\n",
       "\n"
      ],
      "text/plain": [
       "  CP       nsplit rel error xerror   xstd     \n",
       "1 0.755102 0      1.000000  1.000000 0.1195229\n",
       "2 0.005000 1      0.244898  0.244898 0.1001932"
      ]
     },
     "metadata": {},
     "output_type": "display_data"
    }
   ],
   "source": [
    "#使用cart預測\n",
    "rpart.mod.pru<-prune(rpart.mod, cp= rpart.mod$cptable[which.min(rpart.mod$cptable[,\"xerror\"]),\"CP\"]) \n",
    "rpart.mod.pru$cp"
   ]
  },
  {
   "cell_type": "code",
   "execution_count": 43,
   "metadata": {
    "collapsed": true
   },
   "outputs": [],
   "source": [
    "rpart.pred<-predict(rpart.mod.pru,test)"
   ]
  },
  {
   "cell_type": "code",
   "execution_count": 49,
   "metadata": {
    "collapsed": false
   },
   "outputs": [
    {
     "data": {
      "text/html": [
       "<dl class=dl-horizontal>\n",
       "\t<dt>4</dt>\n",
       "\t\t<dd>0</dd>\n",
       "\t<dt>8</dt>\n",
       "\t\t<dd>0</dd>\n",
       "\t<dt>11</dt>\n",
       "\t\t<dd>0</dd>\n",
       "\t<dt>13</dt>\n",
       "\t\t<dd>0</dd>\n",
       "\t<dt>16</dt>\n",
       "\t\t<dd>0</dd>\n",
       "\t<dt>19</dt>\n",
       "\t\t<dd>0</dd>\n",
       "\t<dt>24</dt>\n",
       "\t\t<dd>1</dd>\n",
       "\t<dt>25</dt>\n",
       "\t\t<dd>0</dd>\n",
       "\t<dt>29</dt>\n",
       "\t\t<dd>1</dd>\n",
       "\t<dt>30</dt>\n",
       "\t\t<dd>1</dd>\n",
       "\t<dt>32</dt>\n",
       "\t\t<dd>0</dd>\n",
       "\t<dt>34</dt>\n",
       "\t\t<dd>1</dd>\n",
       "\t<dt>35</dt>\n",
       "\t\t<dd>0</dd>\n",
       "\t<dt>36</dt>\n",
       "\t\t<dd>0</dd>\n",
       "\t<dt>39</dt>\n",
       "\t\t<dd>1</dd>\n",
       "\t<dt>47</dt>\n",
       "\t\t<dd>0</dd>\n",
       "\t<dt>48</dt>\n",
       "\t\t<dd>1</dd>\n",
       "\t<dt>54</dt>\n",
       "\t\t<dd>1</dd>\n",
       "\t<dt>64</dt>\n",
       "\t\t<dd>1</dd>\n",
       "\t<dt>65</dt>\n",
       "\t\t<dd>1</dd>\n",
       "\t<dt>66</dt>\n",
       "\t\t<dd>0</dd>\n",
       "\t<dt>72</dt>\n",
       "\t\t<dd>0</dd>\n",
       "\t<dt>80</dt>\n",
       "\t\t<dd>1</dd>\n",
       "\t<dt>82</dt>\n",
       "\t\t<dd>1</dd>\n",
       "\t<dt>83</dt>\n",
       "\t\t<dd>1</dd>\n",
       "\t<dt>87</dt>\n",
       "\t\t<dd>1</dd>\n",
       "\t<dt>88</dt>\n",
       "\t\t<dd>0</dd>\n",
       "\t<dt>89</dt>\n",
       "\t\t<dd>1</dd>\n",
       "\t<dt>91</dt>\n",
       "\t\t<dd>1</dd>\n",
       "\t<dt>92</dt>\n",
       "\t\t<dd>1</dd>\n",
       "</dl>\n"
      ],
      "text/latex": [
       "\\begin{description*}\n",
       "\\item[4] 0\n",
       "\\item[8] 0\n",
       "\\item[11] 0\n",
       "\\item[13] 0\n",
       "\\item[16] 0\n",
       "\\item[19] 0\n",
       "\\item[24] 1\n",
       "\\item[25] 0\n",
       "\\item[29] 1\n",
       "\\item[30] 1\n",
       "\\item[32] 0\n",
       "\\item[34] 1\n",
       "\\item[35] 0\n",
       "\\item[36] 0\n",
       "\\item[39] 1\n",
       "\\item[47] 0\n",
       "\\item[48] 1\n",
       "\\item[54] 1\n",
       "\\item[64] 1\n",
       "\\item[65] 1\n",
       "\\item[66] 0\n",
       "\\item[72] 0\n",
       "\\item[80] 1\n",
       "\\item[82] 1\n",
       "\\item[83] 1\n",
       "\\item[87] 1\n",
       "\\item[88] 0\n",
       "\\item[89] 1\n",
       "\\item[91] 1\n",
       "\\item[92] 1\n",
       "\\end{description*}\n"
      ],
      "text/markdown": [
       "4\n",
       ":   08\n",
       ":   011\n",
       ":   013\n",
       ":   016\n",
       ":   019\n",
       ":   024\n",
       ":   125\n",
       ":   029\n",
       ":   130\n",
       ":   132\n",
       ":   034\n",
       ":   135\n",
       ":   036\n",
       ":   039\n",
       ":   147\n",
       ":   048\n",
       ":   154\n",
       ":   164\n",
       ":   165\n",
       ":   166\n",
       ":   072\n",
       ":   080\n",
       ":   182\n",
       ":   183\n",
       ":   187\n",
       ":   188\n",
       ":   089\n",
       ":   191\n",
       ":   192\n",
       ":   1\n",
       "\n"
      ],
      "text/plain": [
       " 4  8 11 13 16 19 24 25 29 30 32 34 35 36 39 47 48 54 64 65 66 72 80 82 83 87 \n",
       " 0  0  0  0  0  0  1  0  1  1  0  1  0  0  1  0  1  1  1  1  0  0  1  1  1  1 \n",
       "88 89 91 92 \n",
       " 0  1  1  1 \n",
       "Levels: 0 1"
      ]
     },
     "metadata": {},
     "output_type": "display_data"
    }
   ],
   "source": [
    "cart_pred<-predict(rpart.mod.pru,test,type=\"class\")\n",
    "\n",
    "cart_pred"
   ]
  },
  {
   "cell_type": "code",
   "execution_count": 50,
   "metadata": {
    "collapsed": false
   },
   "outputs": [
    {
     "data": {
      "text/plain": [
       "        cart_pred\n",
       "c50_pred  0  1\n",
       "       0 13  3\n",
       "       1  1 13"
      ]
     },
     "metadata": {},
     "output_type": "display_data"
    }
   ],
   "source": [
    "table(c50_pred,cart_pred)"
   ]
  },
  {
   "cell_type": "markdown",
   "metadata": {},
   "source": [
    "3、运行“第8讲_2 汽车贷款违约的模式表述.R”这个脚本，使用C50做决策树，描述你发现的违约和不违约人群的模式。"
   ]
  },
  {
   "cell_type": "code",
   "execution_count": null,
   "metadata": {
    "collapsed": true
   },
   "outputs": [],
   "source": []
  }
 ],
 "metadata": {
  "kernelspec": {
   "display_name": "R",
   "language": "R",
   "name": "ir"
  },
  "language_info": {
   "codemirror_mode": "r",
   "file_extension": ".r",
   "mimetype": "text/x-r-source",
   "name": "R",
   "pygments_lexer": "r",
   "version": "3.3.1"
  }
 },
 "nbformat": 4,
 "nbformat_minor": 1
}
