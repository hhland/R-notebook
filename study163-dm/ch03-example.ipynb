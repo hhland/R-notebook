{
 "cells": [
  {
   "cell_type": "markdown",
   "metadata": {},
   "source": [
    "##   1.描述性统计"
   ]
  },
  {
   "cell_type": "code",
   "execution_count": 1,
   "metadata": {
    "collapsed": false
   },
   "outputs": [
    {
     "data": {
      "text/html": [
       "<table>\n",
       "<thead><tr><th scope=col>application_id</th><th scope=col>account_number</th><th scope=col>bad_ind</th><th scope=col>vehicle_year</th><th scope=col>vehicle_make</th><th scope=col>bankruptcy_ind</th><th scope=col>tot_derog</th><th scope=col>tot_tr</th><th scope=col>age_oldest_tr</th><th scope=col>tot_open_tr</th><th scope=col>⋯</th><th scope=col>fico_score</th><th scope=col>purch_price</th><th scope=col>msrp</th><th scope=col>down_pyt</th><th scope=col>loan_term</th><th scope=col>loan_amt</th><th scope=col>ltv</th><th scope=col>tot_income</th><th scope=col>veh_mileage</th><th scope=col>used_ind</th></tr></thead>\n",
       "<tbody>\n",
       "\t<tr><td>2314049 </td><td>11613   </td><td>1       </td><td>1998    </td><td>FORD    </td><td>N       </td><td>7       </td><td> 9      </td><td> 64     </td><td> 2      </td><td>⋯       </td><td>650     </td><td>17200.00</td><td>17350   </td><td>   0.00 </td><td>36      </td><td>17200.00</td><td> 99     </td><td>6550.00 </td><td>24000   </td><td>1       </td></tr>\n",
       "\t<tr><td>  63539 </td><td>13449   </td><td>0       </td><td>2000    </td><td>DAEWOO  </td><td>N       </td><td>0       </td><td>21      </td><td>240     </td><td>11      </td><td>⋯       </td><td>649     </td><td>19588.54</td><td>19788   </td><td> 683.54 </td><td>60      </td><td>19588.54</td><td> 99     </td><td>4666.67 </td><td>   22   </td><td>0       </td></tr>\n",
       "\t<tr><td>7328510 </td><td>14323   </td><td>1       </td><td>1998    </td><td>PLYMOUTH</td><td>N       </td><td>7       </td><td>10      </td><td> 60     </td><td>NA      </td><td>⋯       </td><td>613     </td><td>13595.00</td><td>11450   </td><td>   0.00 </td><td>60      </td><td>10500.00</td><td> 92     </td><td>2000.00 </td><td>19600   </td><td>1       </td></tr>\n",
       "\t<tr><td>8725187 </td><td>15359   </td><td>1       </td><td>1997    </td><td>FORD    </td><td>N       </td><td>3       </td><td>10      </td><td> 35     </td><td> 5      </td><td>⋯       </td><td>603     </td><td>12999.00</td><td>12100   </td><td>3099.00 </td><td>60      </td><td>10800.00</td><td>118     </td><td>1500.00 </td><td>10000   </td><td>1       </td></tr>\n",
       "\t<tr><td>4275127 </td><td>15812   </td><td>0       </td><td>2000    </td><td>TOYOTA  </td><td>N       </td><td>0       </td><td>10      </td><td>104     </td><td> 2      </td><td>⋯       </td><td>764     </td><td>26328.04</td><td>22024   </td><td>   0.00 </td><td>60      </td><td>26328.04</td><td>122     </td><td>4144.00 </td><td>   14   </td><td>0       </td></tr>\n",
       "\t<tr><td>8712513 </td><td>16979   </td><td>0       </td><td>2000    </td><td>DODGE   </td><td>Y       </td><td>2       </td><td>15      </td><td>136     </td><td> 4      </td><td>⋯       </td><td>680     </td><td>26272.72</td><td>26375   </td><td>   0.00 </td><td>36      </td><td>26272.72</td><td>100     </td><td>5400.00 </td><td>    1   </td><td>0       </td></tr>\n",
       "</tbody>\n",
       "</table>\n"
      ],
      "text/latex": [
       "\\begin{tabular}{r|llllllllllllllllllllllll}\n",
       " application\\_id & account\\_number & bad\\_ind & vehicle\\_year & vehicle\\_make & bankruptcy\\_ind & tot\\_derog & tot\\_tr & age\\_oldest\\_tr & tot\\_open\\_tr & ⋯ & fico\\_score & purch\\_price & msrp & down\\_pyt & loan\\_term & loan\\_amt & ltv & tot\\_income & veh\\_mileage & used\\_ind\\\\\n",
       "\\hline\n",
       "\t 2314049  & 11613    & 1        & 1998     & FORD     & N        & 7        &  9       &  64      &  2       & ⋯        & 650      & 17200.00 & 17350    &    0.00  & 36       & 17200.00 &  99      & 6550.00  & 24000    & 1       \\\\\n",
       "\t   63539  & 13449    & 0        & 2000     & DAEWOO   & N        & 0        & 21       & 240      & 11       & ⋯        & 649      & 19588.54 & 19788    &  683.54  & 60       & 19588.54 &  99      & 4666.67  &    22    & 0       \\\\\n",
       "\t 7328510  & 14323    & 1        & 1998     & PLYMOUTH & N        & 7        & 10       &  60      & NA       & ⋯        & 613      & 13595.00 & 11450    &    0.00  & 60       & 10500.00 &  92      & 2000.00  & 19600    & 1       \\\\\n",
       "\t 8725187  & 15359    & 1        & 1997     & FORD     & N        & 3        & 10       &  35      &  5       & ⋯        & 603      & 12999.00 & 12100    & 3099.00  & 60       & 10800.00 & 118      & 1500.00  & 10000    & 1       \\\\\n",
       "\t 4275127  & 15812    & 0        & 2000     & TOYOTA   & N        & 0        & 10       & 104      &  2       & ⋯        & 764      & 26328.04 & 22024    &    0.00  & 60       & 26328.04 & 122      & 4144.00  &    14    & 0       \\\\\n",
       "\t 8712513  & 16979    & 0        & 2000     & DODGE    & Y        & 2        & 15       & 136      &  4       & ⋯        & 680      & 26272.72 & 26375    &    0.00  & 36       & 26272.72 & 100      & 5400.00  &     1    & 0       \\\\\n",
       "\\end{tabular}\n"
      ],
      "text/plain": [
       "  application_id account_number bad_ind vehicle_year vehicle_make\n",
       "1 2314049        11613          1       1998         FORD        \n",
       "2   63539        13449          0       2000         DAEWOO      \n",
       "3 7328510        14323          1       1998         PLYMOUTH    \n",
       "4 8725187        15359          1       1997         FORD        \n",
       "5 4275127        15812          0       2000         TOYOTA      \n",
       "6 8712513        16979          0       2000         DODGE       \n",
       "  bankruptcy_ind tot_derog tot_tr age_oldest_tr tot_open_tr ⋯ fico_score\n",
       "1 N              7          9      64            2          ⋯ 650       \n",
       "2 N              0         21     240           11          ⋯ 649       \n",
       "3 N              7         10      60           NA          ⋯ 613       \n",
       "4 N              3         10      35            5          ⋯ 603       \n",
       "5 N              0         10     104            2          ⋯ 764       \n",
       "6 Y              2         15     136            4          ⋯ 680       \n",
       "  purch_price msrp  down_pyt loan_term loan_amt ltv tot_income veh_mileage\n",
       "1 17200.00    17350    0.00  36        17200.00  99 6550.00    24000      \n",
       "2 19588.54    19788  683.54  60        19588.54  99 4666.67       22      \n",
       "3 13595.00    11450    0.00  60        10500.00  92 2000.00    19600      \n",
       "4 12999.00    12100 3099.00  60        10800.00 118 1500.00    10000      \n",
       "5 26328.04    22024    0.00  60        26328.04 122 4144.00       14      \n",
       "6 26272.72    26375    0.00  36        26272.72 100 5400.00        1      \n",
       "  used_ind\n",
       "1 1       \n",
       "2 0       \n",
       "3 1       \n",
       "4 1       \n",
       "5 0       \n",
       "6 0       "
      ]
     },
     "metadata": {},
     "output_type": "display_data"
    }
   ],
   "source": [
    "###数据集描述与属性说明###：\n",
    "##数据说明：本数据是一份汽车贷款违约数据,因变量为是否违约(bad_ind)\n",
    "##[T]因变量,[N]数值变量,[C]分类变量,[S]序数变量,[D]时间\n",
    "##application_id\t申请者ID\n",
    "##account_number\t帐户号\n",
    "##[T]bad_ind\t是否违约\n",
    "##[D]vehicle_year\t汽车购买时间\n",
    "##[C]vehicle_make\t汽车制造商\n",
    "##[C]bankruptcy_ind\t曾经破产标识\n",
    "##[N]tot_derog\t五年内信用不良事件数量(比如手机欠费消号)\n",
    "##[N]tot_tr\t全部帐户数量\n",
    "##[N]age_oldest_tr\t最久账号存续时间(月)\n",
    "##[N]tot_open_tr\t在使用帐户数量\n",
    "##[N]tot_rev_tr\t在使用可循环贷款帐户数量(比如信用卡)\n",
    "##[N]tot_rev_debt\t在使用可循环贷款帐户余额(比如信用卡欠款)\n",
    "##[N]tot_rev_line\t可循环贷款帐户限额(信用卡授权额度)\n",
    "##[N]rev_util\t可循环贷款帐户使用比例(余额/限额)\n",
    "##[N]fico_score\tFICO打分\n",
    "##[N]purch_price\t汽车购买金额(元)\n",
    "##[N]msrp\t建议售价\n",
    "##[N]down_pyt\t分期付款的首次交款\n",
    "##[N]loan_term\t贷款期限(月)\n",
    "##[N]loan_amt\t贷款金额\n",
    "##[N]ltv\t贷款金额/建议售价*100\n",
    "##[N]tot_income\t月均收入(元)\n",
    "##[N]veh_mileage\t行使历程(Mile)\n",
    "##[C]used_ind\t是否使用\n",
    "##[N]weight\t样本权重\n",
    "##读取数据\n",
    "\n",
    "accepts=read.csv(\"data/accepts.csv\",fileEncoding=\"GBK\")\n",
    "\n",
    "head(accepts)"
   ]
  },
  {
   "cell_type": "code",
   "execution_count": 2,
   "metadata": {
    "collapsed": false
   },
   "outputs": [
    {
     "data": {
      "text/html": [
       "<dl class=dl-horizontal>\n",
       "\t<dt>application_id</dt>\n",
       "\t\t<dd>'integer'</dd>\n",
       "\t<dt>account_number</dt>\n",
       "\t\t<dd>'integer'</dd>\n",
       "\t<dt>bad_ind</dt>\n",
       "\t\t<dd>'integer'</dd>\n",
       "\t<dt>vehicle_year</dt>\n",
       "\t\t<dd>'integer'</dd>\n",
       "\t<dt>vehicle_make</dt>\n",
       "\t\t<dd>'factor'</dd>\n",
       "\t<dt>bankruptcy_ind</dt>\n",
       "\t\t<dd>'factor'</dd>\n",
       "\t<dt>tot_derog</dt>\n",
       "\t\t<dd>'integer'</dd>\n",
       "\t<dt>tot_tr</dt>\n",
       "\t\t<dd>'integer'</dd>\n",
       "\t<dt>age_oldest_tr</dt>\n",
       "\t\t<dd>'integer'</dd>\n",
       "\t<dt>tot_open_tr</dt>\n",
       "\t\t<dd>'integer'</dd>\n",
       "\t<dt>tot_rev_tr</dt>\n",
       "\t\t<dd>'integer'</dd>\n",
       "\t<dt>tot_rev_debt</dt>\n",
       "\t\t<dd>'integer'</dd>\n",
       "\t<dt>tot_rev_line</dt>\n",
       "\t\t<dd>'integer'</dd>\n",
       "\t<dt>rev_util</dt>\n",
       "\t\t<dd>'integer'</dd>\n",
       "\t<dt>fico_score</dt>\n",
       "\t\t<dd>'integer'</dd>\n",
       "\t<dt>purch_price</dt>\n",
       "\t\t<dd>'numeric'</dd>\n",
       "\t<dt>msrp</dt>\n",
       "\t\t<dd>'numeric'</dd>\n",
       "\t<dt>down_pyt</dt>\n",
       "\t\t<dd>'numeric'</dd>\n",
       "\t<dt>loan_term</dt>\n",
       "\t\t<dd>'integer'</dd>\n",
       "\t<dt>loan_amt</dt>\n",
       "\t\t<dd>'numeric'</dd>\n",
       "\t<dt>ltv</dt>\n",
       "\t\t<dd>'integer'</dd>\n",
       "\t<dt>tot_income</dt>\n",
       "\t\t<dd>'numeric'</dd>\n",
       "\t<dt>veh_mileage</dt>\n",
       "\t\t<dd>'integer'</dd>\n",
       "\t<dt>used_ind</dt>\n",
       "\t\t<dd>'integer'</dd>\n",
       "</dl>\n"
      ],
      "text/latex": [
       "\\begin{description*}\n",
       "\\item[application\\textbackslash{}\\_id] 'integer'\n",
       "\\item[account\\textbackslash{}\\_number] 'integer'\n",
       "\\item[bad\\textbackslash{}\\_ind] 'integer'\n",
       "\\item[vehicle\\textbackslash{}\\_year] 'integer'\n",
       "\\item[vehicle\\textbackslash{}\\_make] 'factor'\n",
       "\\item[bankruptcy\\textbackslash{}\\_ind] 'factor'\n",
       "\\item[tot\\textbackslash{}\\_derog] 'integer'\n",
       "\\item[tot\\textbackslash{}\\_tr] 'integer'\n",
       "\\item[age\\textbackslash{}\\_oldest\\textbackslash{}\\_tr] 'integer'\n",
       "\\item[tot\\textbackslash{}\\_open\\textbackslash{}\\_tr] 'integer'\n",
       "\\item[tot\\textbackslash{}\\_rev\\textbackslash{}\\_tr] 'integer'\n",
       "\\item[tot\\textbackslash{}\\_rev\\textbackslash{}\\_debt] 'integer'\n",
       "\\item[tot\\textbackslash{}\\_rev\\textbackslash{}\\_line] 'integer'\n",
       "\\item[rev\\textbackslash{}\\_util] 'integer'\n",
       "\\item[fico\\textbackslash{}\\_score] 'integer'\n",
       "\\item[purch\\textbackslash{}\\_price] 'numeric'\n",
       "\\item[msrp] 'numeric'\n",
       "\\item[down\\textbackslash{}\\_pyt] 'numeric'\n",
       "\\item[loan\\textbackslash{}\\_term] 'integer'\n",
       "\\item[loan\\textbackslash{}\\_amt] 'numeric'\n",
       "\\item[ltv] 'integer'\n",
       "\\item[tot\\textbackslash{}\\_income] 'numeric'\n",
       "\\item[veh\\textbackslash{}\\_mileage] 'integer'\n",
       "\\item[used\\textbackslash{}\\_ind] 'integer'\n",
       "\\end{description*}\n"
      ],
      "text/markdown": [
       "application_id\n",
       ":   'integer'account_number\n",
       ":   'integer'bad_ind\n",
       ":   'integer'vehicle_year\n",
       ":   'integer'vehicle_make\n",
       ":   'factor'bankruptcy_ind\n",
       ":   'factor'tot_derog\n",
       ":   'integer'tot_tr\n",
       ":   'integer'age_oldest_tr\n",
       ":   'integer'tot_open_tr\n",
       ":   'integer'tot_rev_tr\n",
       ":   'integer'tot_rev_debt\n",
       ":   'integer'tot_rev_line\n",
       ":   'integer'rev_util\n",
       ":   'integer'fico_score\n",
       ":   'integer'purch_price\n",
       ":   'numeric'msrp\n",
       ":   'numeric'down_pyt\n",
       ":   'numeric'loan_term\n",
       ":   'integer'loan_amt\n",
       ":   'numeric'ltv\n",
       ":   'integer'tot_income\n",
       ":   'numeric'veh_mileage\n",
       ":   'integer'used_ind\n",
       ":   'integer'\n",
       "\n"
      ],
      "text/plain": [
       "application_id account_number        bad_ind   vehicle_year   vehicle_make \n",
       "     \"integer\"      \"integer\"      \"integer\"      \"integer\"       \"factor\" \n",
       "bankruptcy_ind      tot_derog         tot_tr  age_oldest_tr    tot_open_tr \n",
       "      \"factor\"      \"integer\"      \"integer\"      \"integer\"      \"integer\" \n",
       "    tot_rev_tr   tot_rev_debt   tot_rev_line       rev_util     fico_score \n",
       "     \"integer\"      \"integer\"      \"integer\"      \"integer\"      \"integer\" \n",
       "   purch_price           msrp       down_pyt      loan_term       loan_amt \n",
       "     \"numeric\"      \"numeric\"      \"numeric\"      \"integer\"      \"numeric\" \n",
       "           ltv     tot_income    veh_mileage       used_ind \n",
       "     \"integer\"      \"numeric\"      \"integer\"      \"integer\" "
      ]
     },
     "metadata": {},
     "output_type": "display_data"
    },
    {
     "data": {
      "text/plain": [
       " application_id     account_number        bad_ind        vehicle_year \n",
       " Min.   :    4065   Min.   :   11613   Min.   :0.0000   Min.   :   0  \n",
       " 1st Qu.: 2513980   1st Qu.: 2567174   1st Qu.:0.0000   1st Qu.:1997  \n",
       " Median : 5110443   Median : 4988152   Median :0.0000   Median :1999  \n",
       " Mean   : 5039359   Mean   : 5021740   Mean   :0.2048   Mean   :1902  \n",
       " 3rd Qu.: 7526973   3rd Qu.: 7556672   3rd Qu.:0.0000   3rd Qu.:2000  \n",
       " Max.   :10000115   Max.   :10010219   Max.   :1.0000   Max.   :9999  \n",
       "                                                        NA's   :1     \n",
       "    vehicle_make  bankruptcy_ind   tot_derog         tot_tr     \n",
       " FORD     :1112    : 217         Min.   : 0.00   Min.   : 0.00  \n",
       " CHEVY    : 654   N:5180         1st Qu.: 0.00   1st Qu.: 9.00  \n",
       " DODGE    : 533   Y: 448         Median : 0.00   Median :16.00  \n",
       " TOYOTA   : 417                  Mean   : 1.91   Mean   :17.08  \n",
       "          : 299                  3rd Qu.: 2.00   3rd Qu.:24.00  \n",
       " CHEVROLET: 265                  Max.   :32.00   Max.   :77.00  \n",
       " (Other)  :2565                  NA's   :213     NA's   :213    \n",
       " age_oldest_tr    tot_open_tr      tot_rev_tr      tot_rev_debt  \n",
       " Min.   :  1.0   Min.   : 0.00   Min.   : 0.000   Min.   :    0  \n",
       " 1st Qu.: 78.0   1st Qu.: 3.00   1st Qu.: 1.000   1st Qu.:  791  \n",
       " Median :137.0   Median : 5.00   Median : 3.000   Median : 3009  \n",
       " Mean   :154.3   Mean   : 5.72   Mean   : 3.093   Mean   : 6219  \n",
       " 3rd Qu.:205.0   3rd Qu.: 7.00   3rd Qu.: 4.000   3rd Qu.: 8462  \n",
       " Max.   :588.0   Max.   :26.00   Max.   :24.000   Max.   :96260  \n",
       " NA's   :216     NA's   :1419    NA's   :638      NA's   :478    \n",
       "  tot_rev_line       rev_util         fico_score     purch_price    \n",
       " Min.   :     0   Min.   :   0.00   Min.   :443.0   Min.   :     0  \n",
       " 1st Qu.:  3236   1st Qu.:   5.00   1st Qu.:653.0   1st Qu.: 12684  \n",
       " Median : 10574   Median :  30.00   Median :693.0   Median : 18018  \n",
       " Mean   : 18263   Mean   :  43.44   Mean   :693.5   Mean   : 19145  \n",
       " 3rd Qu.: 26196   3rd Qu.:  66.00   3rd Qu.:735.5   3rd Qu.: 24500  \n",
       " Max.   :205395   Max.   :2500.00   Max.   :848.0   Max.   :111554  \n",
       " NA's   :478                        NA's   :314                     \n",
       "      msrp           down_pyt       loan_term         loan_amt     \n",
       " Min.   :     0   Min.   :    0   Min.   : 12.00   Min.   :  2133  \n",
       " 1st Qu.: 12050   1st Qu.:    0   1st Qu.: 51.00   1st Qu.: 11023  \n",
       " Median : 17475   Median :  500   Median : 60.00   Median : 16200  \n",
       " Mean   : 18643   Mean   : 1325   Mean   : 56.81   Mean   : 17660  \n",
       " 3rd Qu.: 23751   3rd Qu.: 1750   3rd Qu.: 60.00   3rd Qu.: 22800  \n",
       " Max.   :222415   Max.   :35000   Max.   :660.00   Max.   :111554  \n",
       " NA's   :1                                                         \n",
       "      ltv           tot_income       veh_mileage        used_ind     \n",
       " Min.   :  0.00   Min.   :      0   Min.   :     0   Min.   :0.0000  \n",
       " 1st Qu.: 90.00   1st Qu.:   2218   1st Qu.:     1   1st Qu.:0.0000  \n",
       " Median :100.00   Median :   3400   Median :  8000   Median :1.0000  \n",
       " Mean   : 98.79   Mean   :   6206   Mean   : 20168   Mean   :0.5648  \n",
       " 3rd Qu.:109.00   3rd Qu.:   5156   3rd Qu.: 34136   3rd Qu.:1.0000  \n",
       " Max.   :176.00   Max.   :8147167   Max.   :999999   Max.   :1.0000  \n",
       " NA's   :1        NA's   :5         NA's   :1                        "
      ]
     },
     "metadata": {},
     "output_type": "display_data"
    }
   ],
   "source": [
    "##数据预处理\n",
    "sapply(accepts,class)#查看数据类型\n",
    "summary(accepts)"
   ]
  },
  {
   "cell_type": "code",
   "execution_count": 3,
   "metadata": {
    "collapsed": false
   },
   "outputs": [],
   "source": [
    "accepts$bad_ind=as.factor(accepts$bad_ind)\n",
    "#accepts$bankruptcy_ind=as.factor(accepts$bankruptcy_ind)\n",
    "accepts$used_ind=as.factor(accepts$used_ind)\n"
   ]
  },
  {
   "cell_type": "markdown",
   "metadata": {},
   "source": [
    "##    3.1 描述性统计与探索型数据分析"
   ]
  },
  {
   "cell_type": "code",
   "execution_count": 4,
   "metadata": {
    "collapsed": false
   },
   "outputs": [
    {
     "data": {
      "text/plain": [
       "\n",
       "   0    1 \n",
       "4648 1197 "
      ]
     },
     "metadata": {},
     "output_type": "display_data"
    }
   ],
   "source": [
    "table(accepts$bad_ind)"
   ]
  },
  {
   "cell_type": "code",
   "execution_count": 5,
   "metadata": {
    "collapsed": false
   },
   "outputs": [
    {
     "data": {
      "text/html": [
       "<table>\n",
       "<tbody>\n",
       "\t<tr><td>0.03712575</td></tr>\n",
       "\t<tr><td>0.88622754</td></tr>\n",
       "\t<tr><td>0.07664671</td></tr>\n",
       "</tbody>\n",
       "</table>\n"
      ],
      "text/latex": [
       "\\begin{tabular}{l}\n",
       "\t 0.03712575\\\\\n",
       "\t 0.88622754\\\\\n",
       "\t 0.07664671\\\\\n",
       "\\end{tabular}\n"
      ],
      "text/markdown": [
       "1. 0.037125748502994\n",
       "2. 0.88622754491018\n",
       "3. 0.0766467065868263\n",
       "\n",
       "\n"
      ],
      "text/plain": [
       "     [,1]      \n",
       "[1,] 0.03712575\n",
       "[2,] 0.88622754\n",
       "[3,] 0.07664671"
      ]
     },
     "metadata": {},
     "output_type": "display_data"
    }
   ],
   "source": [
    "m<-matrix(table(accepts$bankruptcy_ind))\n",
    "prop.table(m,2)"
   ]
  },
  {
   "cell_type": "code",
   "execution_count": 6,
   "metadata": {
    "collapsed": false
   },
   "outputs": [
    {
     "data": {
      "image/png": "[encoded data removed]",
      "text/plain": [
       "plot without title"
      ]
     },
     "metadata": {},
     "output_type": "display_data"
    }
   ],
   "source": [
    "#对于两分类变量，也可以使用prettyR包中的xtab函数\n",
    "barplot(table(accepts$bankruptcy_ind))"
   ]
  },
  {
   "cell_type": "code",
   "execution_count": 7,
   "metadata": {
    "collapsed": false
   },
   "outputs": [
    {
     "data": {
      "text/html": [
       "693.528656662448"
      ],
      "text/latex": [
       "693.528656662448"
      ],
      "text/markdown": [
       "693.528656662448"
      ],
      "text/plain": [
       "[1] 693.5287"
      ]
     },
     "metadata": {},
     "output_type": "display_data"
    },
    {
     "data": {
      "text/html": [
       "693"
      ],
      "text/latex": [
       "693"
      ],
      "text/markdown": [
       "693"
      ],
      "text/plain": [
       "[1] 693"
      ]
     },
     "metadata": {},
     "output_type": "display_data"
    },
    {
     "data": {
      "text/html": [
       "<dl class=dl-horizontal>\n",
       "\t<dt>25%</dt>\n",
       "\t\t<dd>653</dd>\n",
       "\t<dt>50%</dt>\n",
       "\t\t<dd>693</dd>\n",
       "\t<dt>75%</dt>\n",
       "\t\t<dd>735.5</dd>\n",
       "</dl>\n"
      ],
      "text/latex": [
       "\\begin{description*}\n",
       "\\item[25\\textbackslash{}\\%] 653\n",
       "\\item[50\\textbackslash{}\\%] 693\n",
       "\\item[75\\textbackslash{}\\%] 735.5\n",
       "\\end{description*}\n"
      ],
      "text/markdown": [
       "25%\n",
       ":   65350%\n",
       ":   69375%\n",
       ":   735.5\n",
       "\n"
      ],
      "text/plain": [
       "  25%   50%   75% \n",
       "653.0 693.0 735.5 "
      ]
     },
     "metadata": {},
     "output_type": "display_data"
    },
    {
     "data": {
      "image/png": "[encoded data removed]",
      "text/plain": [
       "Plot with title “Histogram of fs”"
      ]
     },
     "metadata": {},
     "output_type": "display_data"
    }
   ],
   "source": [
    "##3.1.2.连续变量分析\n",
    "##3.1.2.2.1.数据的集中趋势2\n",
    "#FICO_SCORE的均值与中位数\n",
    "fs=accepts$fico_score\n",
    "mean(fs,na.rm=T)#求fs的均值\n",
    "median(fs,na.rm=T)#求fs的中位数\n",
    "quantile(fs,probs=c(0.25,0.5,0.75),na.rm=T)#求a的上下四分位数与中位数\n",
    "hist(fs,nclass=20)#绘制fs的直方图"
   ]
  },
  {
   "cell_type": "code",
   "execution_count": 8,
   "metadata": {
    "collapsed": false
   },
   "outputs": [
    {
     "data": {
      "text/html": [
       "405"
      ],
      "text/latex": [
       "405"
      ],
      "text/markdown": [
       "405"
      ],
      "text/plain": [
       "[1] 405"
      ]
     },
     "metadata": {},
     "output_type": "display_data"
    },
    {
     "data": {
      "text/html": [
       "46.9740201355513"
      ],
      "text/latex": [
       "46.9740201355513"
      ],
      "text/markdown": [
       "46.9740201355513"
      ],
      "text/plain": [
       "[1] 46.97402"
      ]
     },
     "metadata": {},
     "output_type": "display_data"
    },
    {
     "data": {
      "text/html": [
       "3345.64162891845"
      ],
      "text/latex": [
       "3345.64162891845"
      ],
      "text/markdown": [
       "3345.64162891845"
      ],
      "text/plain": [
       "[1] 3345.642"
      ]
     },
     "metadata": {},
     "output_type": "display_data"
    },
    {
     "data": {
      "text/html": [
       "57.8415216684213"
      ],
      "text/latex": [
       "57.8415216684213"
      ],
      "text/markdown": [
       "57.8415216684213"
      ],
      "text/plain": [
       "[1] 57.84152"
      ]
     },
     "metadata": {},
     "output_type": "display_data"
    },
    {
     "data": {
      "text/html": [
       "82.5"
      ],
      "text/latex": [
       "82.5"
      ],
      "text/markdown": [
       "82.5"
      ],
      "text/plain": [
       "[1] 82.5"
      ]
     },
     "metadata": {},
     "output_type": "display_data"
    }
   ],
   "source": [
    "##3.1.2.2.数据的离散程度\n",
    "fs=accepts$fico_score\n",
    "mad=function(x){\n",
    "  mean(abs(x-mean(x,na.rm=T)),na.rm=T)\n",
    "  }#定义平均绝对偏差函数mad()\n",
    "max(fs,na.rm=T)-min(fs,na.rm=T)#极差\n",
    "mad(fs)#平均绝对偏差\n",
    "var(fs,na.rm=T)#求方差\n",
    "sd(fs,na.rm=T)#求标准差\n",
    "IQR(fs,na.rm=T)"
   ]
  },
  {
   "cell_type": "code",
   "execution_count": null,
   "metadata": {
    "collapsed": true
   },
   "outputs": [],
   "source": []
  }
 ],
 "metadata": {
  "kernelspec": {
   "display_name": "R",
   "language": "R",
   "name": "ir"
  },
  "language_info": {
   "codemirror_mode": "r",
   "file_extension": ".r",
   "mimetype": "text/x-r-source",
   "name": "R",
   "pygments_lexer": "r",
   "version": "3.3.1"
  }
 },
 "nbformat": 4,
 "nbformat_minor": 1
}
