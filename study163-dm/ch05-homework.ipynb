{
 "cells": [
  {
   "cell_type": "markdown",
   "metadata": {},
   "source": [
    "第一题：\n",
    "使用SQL语句完成以下任务\n",
    "统计一下不同借贷类型、交易类型、交易特征的发生频次，总交易额和平均交易额\n",
    "\n",
    "\n",
    "数据集为:\n"
   ]
  },
  {
   "cell_type": "code",
   "execution_count": 1,
   "metadata": {
    "collapsed": true
   },
   "outputs": [],
   "source": [
    "accounts <- read.csv(\"data/accounts.csv\",stringsAsFactors =F,fileEncoding=\"GBK\")\n",
    "card <- read.csv(\"data/card.csv\",stringsAsFactors =F,fileEncoding=\"GBK\")\n",
    "clients <- read.csv(\"data/clients.csv\",stringsAsFactors =F,fileEncoding=\"GBK\")\n",
    "disp <- read.csv(\"data/disp.csv\",stringsAsFactors =F,fileEncoding=\"GBK\")\n",
    "district<- read.csv(\"data/district.csv\",stringsAsFactors =F,fileEncoding=\"GBK\")\n",
    "loans <- read.csv(\"data/loans.csv\",stringsAsFactors =F,fileEncoding=\"GBK\")\n",
    "order <- read.csv(\"data/order.csv\",stringsAsFactors =F,fileEncoding=\"GBK\")\n",
    "trans <- read.csv(\"data/trans.csv\",stringsAsFactors =F,fileEncoding=\"GBK\")"
   ]
  },
  {
   "cell_type": "markdown",
   "metadata": {},
   "source": [
    "第二题：\n",
    "使用SQL语句完成以下任务\n",
    "根据借贷类型、交易特征这两个变量，获取账户中贷款前2年各类的支出情况的均值和标准差，账户中前2年各类收入情况的均值和标准差。每种支出和收入的交易特征产生一个变量（使用R的转置），\n",
    "\n",
    "最后计算总的出入账比率（各项支出的总和除以各项收入的总和）。\n",
    "\n",
    "说明：借贷类型中（type），借代表账户出款的项目，贷代表账户入款的项目。"
   ]
  },
  {
   "cell_type": "markdown",
   "metadata": {},
   "source": [
    "第三题：\n",
    "检验以下指标是否和违约（bad_ind）相关\n",
    "性别、贷款时年龄、居住地区的平均失业率、居住地区的平均犯罪率、人均GDP、贷款前3年的平均资产、账户余额的标准差、账户余额的中位数、账户余额的四分位差、账户余额的变异系数.\n",
    "要求根据变量的度量类型，选取最合适的假设检验方法。"
   ]
  },
  {
   "cell_type": "code",
   "execution_count": null,
   "metadata": {
    "collapsed": true
   },
   "outputs": [],
   "source": []
  }
 ],
 "metadata": {
  "kernelspec": {
   "display_name": "R",
   "language": "R",
   "name": "ir"
  },
  "language_info": {
   "codemirror_mode": "r",
   "file_extension": ".r",
   "mimetype": "text/x-r-source",
   "name": "R",
   "pygments_lexer": "r",
   "version": "3.3.1"
  }
 },
 "nbformat": 4,
 "nbformat_minor": 1
}
