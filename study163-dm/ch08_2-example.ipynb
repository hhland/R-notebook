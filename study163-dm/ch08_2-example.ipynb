{
 "cells": [
  {
   "cell_type": "code",
   "execution_count": 2,
   "metadata": {
    "collapsed": false
   },
   "outputs": [
    {
     "data": {
      "text/html": [
       "<table>\n",
       "<thead><tr><th scope=col>application_id</th><th scope=col>account_number</th><th scope=col>bad_ind</th><th scope=col>vehicle_year</th><th scope=col>vehicle_make</th><th scope=col>bankruptcy_ind</th><th scope=col>tot_derog</th><th scope=col>tot_tr</th><th scope=col>age_oldest_tr</th><th scope=col>tot_open_tr</th><th scope=col>⋯</th><th scope=col>fico_score</th><th scope=col>purch_price</th><th scope=col>msrp</th><th scope=col>down_pyt</th><th scope=col>loan_term</th><th scope=col>loan_amt</th><th scope=col>ltv</th><th scope=col>tot_income</th><th scope=col>veh_mileage</th><th scope=col>used_ind</th></tr></thead>\n",
       "<tbody>\n",
       "\t<tr><td>2314049 </td><td>11613   </td><td>1       </td><td>1998    </td><td>FORD    </td><td>N       </td><td>7       </td><td> 9      </td><td> 64     </td><td> 2      </td><td>⋯       </td><td>650     </td><td>17200.00</td><td>17350   </td><td>   0.00 </td><td>36      </td><td>17200.00</td><td> 99     </td><td>6550.00 </td><td>24000   </td><td>1       </td></tr>\n",
       "\t<tr><td>  63539 </td><td>13449   </td><td>0       </td><td>2000    </td><td>DAEWOO  </td><td>N       </td><td>0       </td><td>21      </td><td>240     </td><td>11      </td><td>⋯       </td><td>649     </td><td>19588.54</td><td>19788   </td><td> 683.54 </td><td>60      </td><td>19588.54</td><td> 99     </td><td>4666.67 </td><td>   22   </td><td>0       </td></tr>\n",
       "\t<tr><td>7328510 </td><td>14323   </td><td>1       </td><td>1998    </td><td>PLYMOUTH</td><td>N       </td><td>7       </td><td>10      </td><td> 60     </td><td>NA      </td><td>⋯       </td><td>613     </td><td>13595.00</td><td>11450   </td><td>   0.00 </td><td>60      </td><td>10500.00</td><td> 92     </td><td>2000.00 </td><td>19600   </td><td>1       </td></tr>\n",
       "\t<tr><td>8725187 </td><td>15359   </td><td>1       </td><td>1997    </td><td>FORD    </td><td>N       </td><td>3       </td><td>10      </td><td> 35     </td><td> 5      </td><td>⋯       </td><td>603     </td><td>12999.00</td><td>12100   </td><td>3099.00 </td><td>60      </td><td>10800.00</td><td>118     </td><td>1500.00 </td><td>10000   </td><td>1       </td></tr>\n",
       "\t<tr><td>4275127 </td><td>15812   </td><td>0       </td><td>2000    </td><td>TOYOTA  </td><td>N       </td><td>0       </td><td>10      </td><td>104     </td><td> 2      </td><td>⋯       </td><td>764     </td><td>26328.04</td><td>22024   </td><td>   0.00 </td><td>60      </td><td>26328.04</td><td>122     </td><td>4144.00 </td><td>   14   </td><td>0       </td></tr>\n",
       "\t<tr><td>8712513 </td><td>16979   </td><td>0       </td><td>2000    </td><td>DODGE   </td><td>Y       </td><td>2       </td><td>15      </td><td>136     </td><td> 4      </td><td>⋯       </td><td>680     </td><td>26272.72</td><td>26375   </td><td>   0.00 </td><td>36      </td><td>26272.72</td><td>100     </td><td>5400.00 </td><td>    1   </td><td>0       </td></tr>\n",
       "</tbody>\n",
       "</table>\n"
      ],
      "text/latex": [
       "\\begin{tabular}{r|llllllllllllllllllllllll}\n",
       " application\\_id & account\\_number & bad\\_ind & vehicle\\_year & vehicle\\_make & bankruptcy\\_ind & tot\\_derog & tot\\_tr & age\\_oldest\\_tr & tot\\_open\\_tr & ⋯ & fico\\_score & purch\\_price & msrp & down\\_pyt & loan\\_term & loan\\_amt & ltv & tot\\_income & veh\\_mileage & used\\_ind\\\\\n",
       "\\hline\n",
       "\t 2314049  & 11613    & 1        & 1998     & FORD     & N        & 7        &  9       &  64      &  2       & ⋯        & 650      & 17200.00 & 17350    &    0.00  & 36       & 17200.00 &  99      & 6550.00  & 24000    & 1       \\\\\n",
       "\t   63539  & 13449    & 0        & 2000     & DAEWOO   & N        & 0        & 21       & 240      & 11       & ⋯        & 649      & 19588.54 & 19788    &  683.54  & 60       & 19588.54 &  99      & 4666.67  &    22    & 0       \\\\\n",
       "\t 7328510  & 14323    & 1        & 1998     & PLYMOUTH & N        & 7        & 10       &  60      & NA       & ⋯        & 613      & 13595.00 & 11450    &    0.00  & 60       & 10500.00 &  92      & 2000.00  & 19600    & 1       \\\\\n",
       "\t 8725187  & 15359    & 1        & 1997     & FORD     & N        & 3        & 10       &  35      &  5       & ⋯        & 603      & 12999.00 & 12100    & 3099.00  & 60       & 10800.00 & 118      & 1500.00  & 10000    & 1       \\\\\n",
       "\t 4275127  & 15812    & 0        & 2000     & TOYOTA   & N        & 0        & 10       & 104      &  2       & ⋯        & 764      & 26328.04 & 22024    &    0.00  & 60       & 26328.04 & 122      & 4144.00  &    14    & 0       \\\\\n",
       "\t 8712513  & 16979    & 0        & 2000     & DODGE    & Y        & 2        & 15       & 136      &  4       & ⋯        & 680      & 26272.72 & 26375    &    0.00  & 36       & 26272.72 & 100      & 5400.00  &     1    & 0       \\\\\n",
       "\\end{tabular}\n"
      ],
      "text/plain": [
       "  application_id account_number bad_ind vehicle_year vehicle_make\n",
       "1 2314049        11613          1       1998         FORD        \n",
       "2   63539        13449          0       2000         DAEWOO      \n",
       "3 7328510        14323          1       1998         PLYMOUTH    \n",
       "4 8725187        15359          1       1997         FORD        \n",
       "5 4275127        15812          0       2000         TOYOTA      \n",
       "6 8712513        16979          0       2000         DODGE       \n",
       "  bankruptcy_ind tot_derog tot_tr age_oldest_tr tot_open_tr ⋯ fico_score\n",
       "1 N              7          9      64            2          ⋯ 650       \n",
       "2 N              0         21     240           11          ⋯ 649       \n",
       "3 N              7         10      60           NA          ⋯ 613       \n",
       "4 N              3         10      35            5          ⋯ 603       \n",
       "5 N              0         10     104            2          ⋯ 764       \n",
       "6 Y              2         15     136            4          ⋯ 680       \n",
       "  purch_price msrp  down_pyt loan_term loan_amt ltv tot_income veh_mileage\n",
       "1 17200.00    17350    0.00  36        17200.00  99 6550.00    24000      \n",
       "2 19588.54    19788  683.54  60        19588.54  99 4666.67       22      \n",
       "3 13595.00    11450    0.00  60        10500.00  92 2000.00    19600      \n",
       "4 12999.00    12100 3099.00  60        10800.00 118 1500.00    10000      \n",
       "5 26328.04    22024    0.00  60        26328.04 122 4144.00       14      \n",
       "6 26272.72    26375    0.00  36        26272.72 100 5400.00        1      \n",
       "  used_ind\n",
       "1 1       \n",
       "2 0       \n",
       "3 1       \n",
       "4 1       \n",
       "5 0       \n",
       "6 0       "
      ]
     },
     "metadata": {},
     "output_type": "display_data"
    }
   ],
   "source": [
    "accepts<- read.csv(\"data/accepts.csv\",fileEncoding=\"GBK\")\n",
    "\n",
    "head(accepts)"
   ]
  },
  {
   "cell_type": "code",
   "execution_count": 3,
   "metadata": {
    "collapsed": false
   },
   "outputs": [
    {
     "data": {
      "text/html": [
       "<table>\n",
       "<thead><tr><th scope=col>bad_ind</th><th scope=col>tot_derog</th><th scope=col>tot_tr</th><th scope=col>age_oldest_tr</th><th scope=col>tot_open_tr</th><th scope=col>tot_rev_tr</th><th scope=col>tot_rev_debt</th><th scope=col>tot_rev_line</th><th scope=col>rev_util</th><th scope=col>fico_score</th><th scope=col>purch_price</th><th scope=col>msrp</th><th scope=col>down_pyt</th><th scope=col>loan_term</th><th scope=col>loan_amt</th><th scope=col>ltv</th><th scope=col>tot_income</th><th scope=col>veh_mileage</th><th scope=col>used_ind</th></tr></thead>\n",
       "<tbody>\n",
       "\t<tr><td>1       </td><td>7       </td><td> 9      </td><td> 64     </td><td> 2      </td><td> 1      </td><td>  506   </td><td>  500   </td><td>101     </td><td>650     </td><td>17200.00</td><td>17350   </td><td>   0.00 </td><td>36      </td><td>17200.00</td><td> 99     </td><td>6550.00 </td><td>24000   </td><td>1       </td></tr>\n",
       "\t<tr><td>0       </td><td>0       </td><td>21      </td><td>240     </td><td>11      </td><td> 7      </td><td>34605   </td><td>57241   </td><td> 60     </td><td>649     </td><td>19588.54</td><td>19788   </td><td> 683.54 </td><td>60      </td><td>19588.54</td><td> 99     </td><td>4666.67 </td><td>   22   </td><td>0       </td></tr>\n",
       "\t<tr><td>1       </td><td>7       </td><td>10      </td><td> 60     </td><td>NA      </td><td>NA      </td><td>   NA   </td><td>   NA   </td><td>  0     </td><td>613     </td><td>13595.00</td><td>11450   </td><td>   0.00 </td><td>60      </td><td>10500.00</td><td> 92     </td><td>2000.00 </td><td>19600   </td><td>1       </td></tr>\n",
       "\t<tr><td>1       </td><td>3       </td><td>10      </td><td> 35     </td><td> 5      </td><td> 4      </td><td> 4019   </td><td> 5946   </td><td> 68     </td><td>603     </td><td>12999.00</td><td>12100   </td><td>3099.00 </td><td>60      </td><td>10800.00</td><td>118     </td><td>1500.00 </td><td>10000   </td><td>1       </td></tr>\n",
       "\t<tr><td>0       </td><td>0       </td><td>10      </td><td>104     </td><td> 2      </td><td> 0      </td><td>    0   </td><td> 1800   </td><td>  0     </td><td>764     </td><td>26328.04</td><td>22024   </td><td>   0.00 </td><td>60      </td><td>26328.04</td><td>122     </td><td>4144.00 </td><td>   14   </td><td>0       </td></tr>\n",
       "\t<tr><td>0       </td><td>2       </td><td>15      </td><td>136     </td><td> 4      </td><td> 3      </td><td> 3651   </td><td> 5747   </td><td> 64     </td><td>680     </td><td>26272.72</td><td>26375   </td><td>   0.00 </td><td>36      </td><td>26272.72</td><td>100     </td><td>5400.00 </td><td>    1   </td><td>0       </td></tr>\n",
       "</tbody>\n",
       "</table>\n"
      ],
      "text/latex": [
       "\\begin{tabular}{r|lllllllllllllllllll}\n",
       " bad\\_ind & tot\\_derog & tot\\_tr & age\\_oldest\\_tr & tot\\_open\\_tr & tot\\_rev\\_tr & tot\\_rev\\_debt & tot\\_rev\\_line & rev\\_util & fico\\_score & purch\\_price & msrp & down\\_pyt & loan\\_term & loan\\_amt & ltv & tot\\_income & veh\\_mileage & used\\_ind\\\\\n",
       "\\hline\n",
       "\t 1        & 7        &  9       &  64      &  2       &  1       &   506    &   500    & 101      & 650      & 17200.00 & 17350    &    0.00  & 36       & 17200.00 &  99      & 6550.00  & 24000    & 1       \\\\\n",
       "\t 0        & 0        & 21       & 240      & 11       &  7       & 34605    & 57241    &  60      & 649      & 19588.54 & 19788    &  683.54  & 60       & 19588.54 &  99      & 4666.67  &    22    & 0       \\\\\n",
       "\t 1        & 7        & 10       &  60      & NA       & NA       &    NA    &    NA    &   0      & 613      & 13595.00 & 11450    &    0.00  & 60       & 10500.00 &  92      & 2000.00  & 19600    & 1       \\\\\n",
       "\t 1        & 3        & 10       &  35      &  5       &  4       &  4019    &  5946    &  68      & 603      & 12999.00 & 12100    & 3099.00  & 60       & 10800.00 & 118      & 1500.00  & 10000    & 1       \\\\\n",
       "\t 0        & 0        & 10       & 104      &  2       &  0       &     0    &  1800    &   0      & 764      & 26328.04 & 22024    &    0.00  & 60       & 26328.04 & 122      & 4144.00  &    14    & 0       \\\\\n",
       "\t 0        & 2        & 15       & 136      &  4       &  3       &  3651    &  5747    &  64      & 680      & 26272.72 & 26375    &    0.00  & 36       & 26272.72 & 100      & 5400.00  &     1    & 0       \\\\\n",
       "\\end{tabular}\n"
      ],
      "text/plain": [
       "  bad_ind tot_derog tot_tr age_oldest_tr tot_open_tr tot_rev_tr tot_rev_debt\n",
       "1 1       7          9      64            2           1           506       \n",
       "2 0       0         21     240           11           7         34605       \n",
       "3 1       7         10      60           NA          NA            NA       \n",
       "4 1       3         10      35            5           4          4019       \n",
       "5 0       0         10     104            2           0             0       \n",
       "6 0       2         15     136            4           3          3651       \n",
       "  tot_rev_line rev_util fico_score purch_price msrp  down_pyt loan_term\n",
       "1   500        101      650        17200.00    17350    0.00  36       \n",
       "2 57241         60      649        19588.54    19788  683.54  60       \n",
       "3    NA          0      613        13595.00    11450    0.00  60       \n",
       "4  5946         68      603        12999.00    12100 3099.00  60       \n",
       "5  1800          0      764        26328.04    22024    0.00  60       \n",
       "6  5747         64      680        26272.72    26375    0.00  36       \n",
       "  loan_amt ltv tot_income veh_mileage used_ind\n",
       "1 17200.00  99 6550.00    24000       1       \n",
       "2 19588.54  99 4666.67       22       0       \n",
       "3 10500.00  92 2000.00    19600       1       \n",
       "4 10800.00 118 1500.00    10000       1       \n",
       "5 26328.04 122 4144.00       14       0       \n",
       "6 26272.72 100 5400.00        1       0       "
      ]
     },
     "metadata": {},
     "output_type": "display_data"
    }
   ],
   "source": [
    "accepts$bad_ind<-as.factor(accepts$bad_ind)\n",
    "\n",
    "accepts<- accepts[,c(3,7:24)]\n",
    "\n",
    "head(accepts)"
   ]
  },
  {
   "cell_type": "code",
   "execution_count": 5,
   "metadata": {
    "collapsed": false
   },
   "outputs": [
    {
     "data": {
      "text/html": [
       "<dl class=dl-horizontal>\n",
       "\t<dt>0</dt>\n",
       "\t\t<dd>3233</dd>\n",
       "\t<dt>1</dt>\n",
       "\t\t<dd>858</dd>\n",
       "</dl>\n"
      ],
      "text/latex": [
       "\\begin{description*}\n",
       "\\item[0] 3233\n",
       "\\item[1] 858\n",
       "\\end{description*}\n"
      ],
      "text/markdown": [
       "0\n",
       ":   32331\n",
       ":   858\n",
       "\n"
      ],
      "text/plain": [
       "   0    1 \n",
       "3233  858 "
      ]
     },
     "metadata": {},
     "output_type": "display_data"
    }
   ],
   "source": [
    "set.seed(10)\n",
    "\n",
    "select<-sample(1:nrow(accepts),length(accepts$bad_ind)*0.7)\n",
    "train<-accepts[select,]\n",
    "test<-accepts[-select,]\n",
    "\n",
    "summary(train$bad_ind)"
   ]
  },
  {
   "cell_type": "markdown",
   "metadata": {},
   "source": [
    "##   Section 1: C50算法"
   ]
  },
  {
   "cell_type": "code",
   "execution_count": 8,
   "metadata": {
    "collapsed": true
   },
   "outputs": [],
   "source": [
    "#请注意，R中的C50包比较新，存在一些问题，比如遇到缺失值、字符类型变量会报错“c50 code called exit with value 1”\n",
    "train<-na.omit(train)\n",
    "library(C50)"
   ]
  },
  {
   "cell_type": "code",
   "execution_count": 9,
   "metadata": {
    "collapsed": false
   },
   "outputs": [
    {
     "data": {
      "text/plain": [
       "\n",
       "Call:\n",
       "C5.0.formula(formula = bad_ind ~ ., data = train, rules = F, control = tc)\n",
       "\n",
       "\n",
       "C5.0 [Release 2.07 GPL Edition]  \tThu Nov 10 16:48:03 2016\n",
       "-------------------------------\n",
       "\n",
       "Class specified by attribute `outcome'\n",
       "\n",
       "Read 3001 cases (19 attributes) from undefined.data\n",
       "\n",
       "Decision tree:\n",
       "\n",
       "fico_score > 661: 0 (2161/262)\n",
       "fico_score <= 661:\n",
       ":...tot_tr > 13:\n",
       "    :...ltv <= 83: 0 (49/4)\n",
       "    :   ltv > 83:\n",
       "    :   :...fico_score <= 588: 1 (52/20)\n",
       "    :       fico_score > 588: 0 (411/125)\n",
       "    tot_tr <= 13:\n",
       "    :...rev_util > 116: 1 (26/5)\n",
       "        rev_util <= 116:\n",
       "        :...used_ind > 0: 0 (181/78)\n",
       "            used_ind <= 0:\n",
       "            :...purch_price <= 25000: 1 (92/40)\n",
       "                purch_price > 25000: 0 (29/5)\n",
       "\n",
       "\n",
       "Evaluation on training data (3001 cases):\n",
       "\n",
       "\t    Decision Tree   \n",
       "\t  ----------------  \n",
       "\t  Size      Errors  \n",
       "\n",
       "\t     8  539(18.0%)   <<\n",
       "\n",
       "\n",
       "\t   (a)   (b)    <-classified as\n",
       "\t  ----  ----\n",
       "\t  2357    65    (a): class 0\n",
       "\t   474   105    (b): class 1\n",
       "\n",
       "\n",
       "\tAttribute usage:\n",
       "\n",
       "\t100.00%\tfico_score\n",
       "\t 27.99%\ttot_tr\n",
       "\t 17.06%\tltv\n",
       "\t 10.93%\trev_util\n",
       "\t 10.06%\tused_ind\n",
       "\t  4.03%\tpurch_price\n",
       "\n",
       "\n",
       "Time: 0.1 secs\n"
      ]
     },
     "metadata": {},
     "output_type": "display_data"
    }
   ],
   "source": [
    "tc <- C5.0Control(subset=F,CF=0.25,winnow=F,noGlobalPruning = F,minCases = 20)\n",
    "\n",
    "model<- C5.0(bad_ind~.,data=train,rules = F,control = tc)\n",
    "\n",
    "summary(model)"
   ]
  },
  {
   "cell_type": "code",
   "execution_count": 10,
   "metadata": {
    "collapsed": false
   },
   "outputs": [
    {
     "data": {
      "image/png": "[encoded data removed]",
      "text/plain": [
       "plot without title"
      ]
     },
     "metadata": {},
     "output_type": "display_data"
    }
   ],
   "source": [
    "plot(model)"
   ]
  },
  {
   "cell_type": "code",
   "execution_count": 11,
   "metadata": {
    "collapsed": false
   },
   "outputs": [
    {
     "data": {
      "text/html": [
       "<table>\n",
       "<thead><tr><th></th><th scope=col>Overall</th></tr></thead>\n",
       "<tbody>\n",
       "\t<tr><th scope=row>fico_score</th><td>100.00</td></tr>\n",
       "\t<tr><th scope=row>tot_tr</th><td> 27.99</td></tr>\n",
       "\t<tr><th scope=row>ltv</th><td> 17.06</td></tr>\n",
       "\t<tr><th scope=row>rev_util</th><td> 10.93</td></tr>\n",
       "\t<tr><th scope=row>used_ind</th><td> 10.06</td></tr>\n",
       "\t<tr><th scope=row>purch_price</th><td>  4.03</td></tr>\n",
       "\t<tr><th scope=row>tot_derog</th><td>  0.00</td></tr>\n",
       "\t<tr><th scope=row>age_oldest_tr</th><td>  0.00</td></tr>\n",
       "\t<tr><th scope=row>tot_open_tr</th><td>  0.00</td></tr>\n",
       "\t<tr><th scope=row>tot_rev_tr</th><td>  0.00</td></tr>\n",
       "\t<tr><th scope=row>tot_rev_debt</th><td>  0.00</td></tr>\n",
       "\t<tr><th scope=row>tot_rev_line</th><td>  0.00</td></tr>\n",
       "\t<tr><th scope=row>msrp</th><td>  0.00</td></tr>\n",
       "\t<tr><th scope=row>down_pyt</th><td>  0.00</td></tr>\n",
       "\t<tr><th scope=row>loan_term</th><td>  0.00</td></tr>\n",
       "\t<tr><th scope=row>loan_amt</th><td>  0.00</td></tr>\n",
       "\t<tr><th scope=row>tot_income</th><td>  0.00</td></tr>\n",
       "\t<tr><th scope=row>veh_mileage</th><td>  0.00</td></tr>\n",
       "</tbody>\n",
       "</table>\n"
      ],
      "text/latex": [
       "\\begin{tabular}{r|l}\n",
       "  & Overall\\\\\n",
       "\\hline\n",
       "\tfico\\_score & 100.00\\\\\n",
       "\ttot\\_tr &  27.99\\\\\n",
       "\tltv &  17.06\\\\\n",
       "\trev\\_util &  10.93\\\\\n",
       "\tused\\_ind &  10.06\\\\\n",
       "\tpurch\\_price &   4.03\\\\\n",
       "\ttot\\_derog &   0.00\\\\\n",
       "\tage\\_oldest\\_tr &   0.00\\\\\n",
       "\ttot\\_open\\_tr &   0.00\\\\\n",
       "\ttot\\_rev\\_tr &   0.00\\\\\n",
       "\ttot\\_rev\\_debt &   0.00\\\\\n",
       "\ttot\\_rev\\_line &   0.00\\\\\n",
       "\tmsrp &   0.00\\\\\n",
       "\tdown\\_pyt &   0.00\\\\\n",
       "\tloan\\_term &   0.00\\\\\n",
       "\tloan\\_amt &   0.00\\\\\n",
       "\ttot\\_income &   0.00\\\\\n",
       "\tveh\\_mileage &   0.00\\\\\n",
       "\\end{tabular}\n"
      ],
      "text/plain": [
       "              Overall\n",
       "fico_score    100.00 \n",
       "tot_tr         27.99 \n",
       "ltv            17.06 \n",
       "rev_util       10.93 \n",
       "used_ind       10.06 \n",
       "purch_price     4.03 \n",
       "tot_derog       0.00 \n",
       "age_oldest_tr   0.00 \n",
       "tot_open_tr     0.00 \n",
       "tot_rev_tr      0.00 \n",
       "tot_rev_debt    0.00 \n",
       "tot_rev_line    0.00 \n",
       "msrp            0.00 \n",
       "down_pyt        0.00 \n",
       "loan_term       0.00 \n",
       "loan_amt        0.00 \n",
       "tot_income      0.00 \n",
       "veh_mileage     0.00 "
      ]
     },
     "metadata": {},
     "output_type": "display_data"
    }
   ],
   "source": [
    "C5imp(model)"
   ]
  },
  {
   "cell_type": "code",
   "execution_count": 13,
   "metadata": {
    "collapsed": false
   },
   "outputs": [
    {
     "data": {
      "text/plain": [
       "\n",
       "Call:\n",
       "C5.0.formula(formula = bad_ind ~ ., data = train, rules = T, control = tc)\n",
       "\n",
       "\n",
       "C5.0 [Release 2.07 GPL Edition]  \tThu Nov 10 16:50:06 2016\n",
       "-------------------------------\n",
       "\n",
       "Class specified by attribute `outcome'\n",
       "\n",
       "Read 3001 cases (19 attributes) from undefined.data\n",
       "\n",
       "Rules:\n",
       "\n",
       "Rule 1: (2161/262, lift 1.1)\n",
       "\tfico_score > 661\n",
       "\t->  class 0  [0.878]\n",
       "\n",
       "Rule 2: (2015/301, lift 1.1)\n",
       "\ttot_tr > 13\n",
       "\t->  class 0  [0.850]\n",
       "\n",
       "Rule 3: (2879/531, lift 1.0)\n",
       "\trev_util <= 116\n",
       "\t->  class 0  [0.815]\n",
       "\n",
       "Rule 4: (26/5, lift 4.1)\n",
       "\ttot_tr <= 13\n",
       "\trev_util > 116\n",
       "\tfico_score <= 661\n",
       "\t->  class 1  [0.786]\n",
       "\n",
       "Default class: 0\n",
       "\n",
       "\n",
       "Evaluation on training data (3001 cases):\n",
       "\n",
       "\t        Rules     \n",
       "\t  ----------------\n",
       "\t    No      Errors\n",
       "\n",
       "\t     4  563(18.8%)   <<\n",
       "\n",
       "\n",
       "\t   (a)   (b)    <-classified as\n",
       "\t  ----  ----\n",
       "\t  2417     5    (a): class 0\n",
       "\t   558    21    (b): class 1\n",
       "\n",
       "\n",
       "\tAttribute usage:\n",
       "\n",
       "\t 96.80%\trev_util\n",
       "\t 72.88%\tfico_score\n",
       "\t 68.01%\ttot_tr\n",
       "\n",
       "\n",
       "Time: 0.1 secs\n"
      ]
     },
     "metadata": {},
     "output_type": "display_data"
    }
   ],
   "source": [
    "rules<- C5.0(bad_ind~.,data=train,rules = T,control = tc)\n",
    "\n",
    "summary(rules)"
   ]
  },
  {
   "cell_type": "markdown",
   "metadata": {},
   "source": [
    "##  Section 2: CART算法(分类树)"
   ]
  },
  {
   "cell_type": "code",
   "execution_count": 14,
   "metadata": {
    "collapsed": true
   },
   "outputs": [],
   "source": [
    "#1.建立CART模型(依然使用原数据集)\n",
    "##建模\n",
    "#CART在R中的实现\n",
    "#rpart包中有针对CART决策树算法提供的函数，比如rpart函数\n",
    "#以及用于剪枝的prune函数\n",
    "#rpart函数的基本形式：rpart(formula,data,subset,na.action=na.rpart,method.parms,control,...)\n",
    "library(rpart)"
   ]
  },
  {
   "cell_type": "code",
   "execution_count": 15,
   "metadata": {
    "collapsed": true
   },
   "outputs": [],
   "source": [
    "#1.建立CART模型\n",
    "#1.1 设置前向剪枝的条件"
   ]
  },
  {
   "cell_type": "code",
   "execution_count": 16,
   "metadata": {
    "collapsed": true
   },
   "outputs": [],
   "source": [
    "tc <- rpart.control(minsplit = 20,minbucket = 20,maxdepth = 10,xval = 5,cp=0.005)\n",
    "\n",
    "## rpart.control对树进行一些设置  \n",
    "## minsplit是最小分支节点数，这里指大于等于20，那么该节点会继续分划下去，否则停止  \n",
    "## minbucket：树中叶节点包含的最小样本数  \n",
    "## maxdepth：决策树最大深度 \n",
    "## xval:交叉验证的次数\n",
    "## cp全称为complexity parameter，指某个点的复杂度，对每一步拆分,模型的拟合优度必须提高的程度  "
   ]
  },
  {
   "cell_type": "code",
   "execution_count": 17,
   "metadata": {
    "collapsed": false
   },
   "outputs": [
    {
     "name": "stdout",
     "output_type": "stream",
     "text": [
      "Call:\n",
      "rpart(formula = bad_ind ~ ., data = train, method = \"class\", \n",
      "    parms = list(prior = c(0.65, 0.35), split = \"gini\"))\n",
      "  n= 3001 \n",
      "\n",
      "         CP nsplit rel error    xerror       xstd\n",
      "1 0.1464694      0 1.0000000 1.0000000 0.03733488\n",
      "2 0.0102015      1 0.8535306 0.8620024 0.02968324\n",
      "3 0.0100000      6 0.7842969 0.8816929 0.03174097\n",
      "\n",
      "Variable importance\n",
      "   fico_score     tot_derog      rev_util age_oldest_tr  tot_rev_line \n",
      "           59            13             7             5             5 \n",
      "     loan_amt        tot_tr          msrp   purch_price  tot_rev_debt \n",
      "            2             2             2             2             1 \n",
      "  veh_mileage      used_ind \n",
      "            1             1 \n",
      "\n",
      "Node number 1: 3001 observations,    complexity param=0.1464694\n",
      "  predicted class=0  expected loss=0.35  P(node) =1\n",
      "    class counts:  2422   579\n",
      "   probabilities: 0.650 0.350 \n",
      "  left son=2 (2161 obs) right son=3 (840 obs)\n",
      "  Primary splits:\n",
      "      fico_score    < 661.5    to the right, improve=153.98410, (0 missing)\n",
      "      tot_rev_line  < 7868.5   to the right, improve=102.19200, (0 missing)\n",
      "      tot_derog     < 0.5      to the left,  improve= 72.48255, (0 missing)\n",
      "      rev_util      < 61.5     to the left,  improve= 65.54821, (0 missing)\n",
      "      age_oldest_tr < 161.5    to the right, improve= 55.14238, (0 missing)\n",
      "  Surrogate splits:\n",
      "      tot_derog     < 3.5      to the left,  agree=0.781, adj=0.219, (0 split)\n",
      "      rev_util      < 77.5     to the left,  agree=0.743, adj=0.082, (0 split)\n",
      "      tot_rev_line  < 1070.5   to the right, agree=0.729, adj=0.032, (0 split)\n",
      "      age_oldest_tr < 14.5     to the right, agree=0.721, adj=0.004, (0 split)\n",
      "      loan_amt      < 2987.5   to the right, agree=0.721, adj=0.004, (0 split)\n",
      "\n",
      "Node number 2: 2161 observations\n",
      "  predicted class=0  expected loss=0.2370844  P(node) =0.6680173\n",
      "    class counts:  1899   262\n",
      "   probabilities: 0.763 0.237 \n",
      "\n",
      "Node number 3: 840 observations,    complexity param=0.0102015\n",
      "  predicted class=1  expected loss=0.4227907  P(node) =0.3319827\n",
      "    class counts:   523   317\n",
      "   probabilities: 0.423 0.577 \n",
      "  left son=6 (587 obs) right son=7 (253 obs)\n",
      "  Primary splits:\n",
      "      age_oldest_tr < 76.5     to the right, improve=13.626090, (0 missing)\n",
      "      tot_tr        < 13.5     to the right, improve=12.955330, (0 missing)\n",
      "      ltv           < 100.5    to the left,  improve= 9.323423, (0 missing)\n",
      "      tot_rev_debt  < 3198.5   to the right, improve= 9.253776, (0 missing)\n",
      "      tot_rev_line  < 7800.5   to the right, improve= 8.531642, (0 missing)\n",
      "  Surrogate splits:\n",
      "      tot_tr       < 10.5     to the right, agree=0.814, adj=0.383, (0 split)\n",
      "      tot_derog    < 0.5      to the right, agree=0.738, adj=0.130, (0 split)\n",
      "      tot_rev_line < 241      to the right, agree=0.704, adj=0.016, (0 split)\n",
      "      fico_score   < 520.5    to the right, agree=0.704, adj=0.016, (0 split)\n",
      "      ltv          < 133.5    to the left,  agree=0.704, adj=0.016, (0 split)\n",
      "\n",
      "Node number 6: 587 observations,    complexity param=0.0102015\n",
      "  predicted class=1  expected loss=0.4812351  P(node) =0.2213974\n",
      "    class counts:   397   190\n",
      "   probabilities: 0.481 0.519 \n",
      "  left son=12 (543 obs) right son=13 (44 obs)\n",
      "  Primary splits:\n",
      "      fico_score    < 573      to the right, improve=6.997363, (0 missing)\n",
      "      ltv           < 83.5     to the left,  improve=6.746739, (0 missing)\n",
      "      age_oldest_tr < 188.5    to the right, improve=6.363018, (0 missing)\n",
      "      tot_rev_line  < 820.5    to the right, improve=6.171358, (0 missing)\n",
      "      tot_rev_debt  < 3346     to the right, improve=5.463136, (0 missing)\n",
      "\n",
      "Node number 7: 253 observations\n",
      "  predicted class=1  expected loss=0.3057823  P(node) =0.1105853\n",
      "    class counts:   126   127\n",
      "   probabilities: 0.306 0.694 \n",
      "\n",
      "Node number 12: 543 observations,    complexity param=0.0102015\n",
      "  predicted class=0  expected loss=0.4957647  P(node) =0.201186\n",
      "    class counts:   378   165\n",
      "   probabilities: 0.504 0.496 \n",
      "  left son=24 (492 obs) right son=25 (51 obs)\n",
      "  Primary splits:\n",
      "      tot_rev_line  < 820.5    to the right, improve=6.369989, (0 missing)\n",
      "      ltv           < 83.5     to the left,  improve=5.721470, (0 missing)\n",
      "      loan_term     < 37.5     to the left,  improve=5.721470, (0 missing)\n",
      "      down_pyt      < 4506.375 to the right, improve=5.068795, (0 missing)\n",
      "      age_oldest_tr < 179.5    to the right, improve=4.934508, (0 missing)\n",
      "  Surrogate splits:\n",
      "      tot_rev_debt < 293.5    to the right, agree=0.926, adj=0.216, (0 split)\n",
      "      rev_util     < 0.5      to the right, agree=0.921, adj=0.157, (0 split)\n",
      "      tot_rev_tr   < 0.5      to the right, agree=0.913, adj=0.078, (0 split)\n",
      "\n",
      "Node number 13: 44 observations\n",
      "  predicted class=1  expected loss=0.2522885  P(node) =0.02021135\n",
      "    class counts:    19    25\n",
      "   probabilities: 0.252 0.748 \n",
      "\n",
      "Node number 24: 492 observations,    complexity param=0.0102015\n",
      "  predicted class=0  expected loss=0.4700392  P(node) =0.1787599\n",
      "    class counts:   353   139\n",
      "   probabilities: 0.530 0.470 \n",
      "  left son=48 (264 obs) right son=49 (228 obs)\n",
      "  Primary splits:\n",
      "      loan_amt     < 18404.5  to the left,  improve=5.697882, (0 missing)\n",
      "      purch_price  < 20555.5  to the left,  improve=5.064852, (0 missing)\n",
      "      tot_rev_debt < 129      to the left,  improve=4.718529, (0 missing)\n",
      "      loan_term    < 37.5     to the left,  improve=4.400942, (0 missing)\n",
      "      down_pyt     < 4506.375 to the right, improve=4.334372, (0 missing)\n",
      "  Surrogate splits:\n",
      "      msrp        < 18965    to the left,  agree=0.941, adj=0.873, (0 split)\n",
      "      purch_price < 18404.5  to the left,  agree=0.933, adj=0.855, (0 split)\n",
      "      veh_mileage < 9713.5   to the right, agree=0.695, adj=0.342, (0 split)\n",
      "      used_ind    < 0.5      to the right, agree=0.659, adj=0.263, (0 split)\n",
      "      tot_income  < 4408.335 to the left,  agree=0.622, adj=0.184, (0 split)\n",
      "\n",
      "Node number 25: 51 observations\n",
      "  predicted class=1  expected loss=0.2991753  P(node) =0.02242608\n",
      "    class counts:    25    26\n",
      "   probabilities: 0.299 0.701 \n",
      "\n",
      "Node number 48: 264 observations\n",
      "  predicted class=0  expected loss=0.3984882  P(node) =0.09101757\n",
      "    class counts:   204    60\n",
      "   probabilities: 0.602 0.398 \n",
      "\n",
      "Node number 49: 228 observations,    complexity param=0.0102015\n",
      "  predicted class=1  expected loss=0.455739  P(node) =0.08774236\n",
      "    class counts:   149    79\n",
      "   probabilities: 0.456 0.544 \n",
      "  left son=98 (106 obs) right son=99 (122 obs)\n",
      "  Primary splits:\n",
      "      rev_util      < 61.5     to the left,  improve=5.729277, (0 missing)\n",
      "      loan_term     < 37.5     to the left,  improve=5.021218, (0 missing)\n",
      "      age_oldest_tr < 93.5     to the left,  improve=4.858315, (0 missing)\n",
      "      tot_rev_line  < 1016     to the left,  improve=4.415857, (0 missing)\n",
      "      purch_price   < 25266.74 to the right, improve=3.784411, (0 missing)\n",
      "  Surrogate splits:\n",
      "      tot_rev_debt  < 1818     to the left,  agree=0.658, adj=0.264, (0 split)\n",
      "      tot_rev_line  < 28145    to the right, agree=0.632, adj=0.208, (0 split)\n",
      "      tot_open_tr   < 3.5      to the left,  agree=0.601, adj=0.142, (0 split)\n",
      "      tot_tr        < 27.5     to the right, agree=0.596, adj=0.132, (0 split)\n",
      "      age_oldest_tr < 196      to the right, agree=0.596, adj=0.132, (0 split)\n",
      "\n",
      "Node number 98: 106 observations\n",
      "  predicted class=0  expected loss=0.4226455  P(node) =0.03718661\n",
      "    class counts:    80    26\n",
      "   probabilities: 0.577 0.423 \n",
      "\n",
      "Node number 99: 122 observations\n",
      "  predicted class=1  expected loss=0.3662838  P(node) =0.05055575\n",
      "    class counts:    69    53\n",
      "   probabilities: 0.366 0.634 \n",
      "\n"
     ]
    }
   ],
   "source": [
    "#1.2 建模\n",
    "\n",
    "rpart.mod <- rpart(bad_ind~.,data = train,method = \"class\",parms = list(prior=c(0.65,0.35),split=\"gini\"))\n",
    "\n",
    "summary(rpart.mod)"
   ]
  },
  {
   "cell_type": "code",
   "execution_count": 19,
   "metadata": {
    "collapsed": false
   },
   "outputs": [
    {
     "data": {
      "text/html": [
       "<dl class=dl-horizontal>\n",
       "\t<dt>fico_score</dt>\n",
       "\t\t<dd>161.196870692939</dd>\n",
       "\t<dt>tot_derog</dt>\n",
       "\t\t<dd>35.5071606924251</dd>\n",
       "\t<dt>rev_util</dt>\n",
       "\t\t<dd>19.377182423815</dd>\n",
       "\t<dt>age_oldest_tr</dt>\n",
       "\t\t<dd>14.9327266776036</dd>\n",
       "\t<dt>tot_rev_line</dt>\n",
       "\t\t<dd>12.7240046809926</dd>\n",
       "\t<dt>loan_amt</dt>\n",
       "\t\t<dd>6.24782558905601</dd>\n",
       "\t<dt>tot_tr</dt>\n",
       "\t\t<dd>5.98092775148163</dd>\n",
       "\t<dt>msrp</dt>\n",
       "\t\t<dd>4.97315179916574</dd>\n",
       "\t<dt>purch_price</dt>\n",
       "\t\t<dd>4.87318894893125</dd>\n",
       "\t<dt>tot_rev_debt</dt>\n",
       "\t\t<dd>2.88731304580298</dd>\n",
       "\t<dt>veh_mileage</dt>\n",
       "\t\t<dd>1.9492755795725</dd>\n",
       "\t<dt>used_ind</dt>\n",
       "\t\t<dd>1.49944275351731</dd>\n",
       "\t<dt>tot_income</dt>\n",
       "\t\t<dd>1.04960992746212</dd>\n",
       "\t<dt>tot_open_tr</dt>\n",
       "\t\t<dd>0.810746679871258</dd>\n",
       "\t<dt>tot_rev_tr</dt>\n",
       "\t\t<dd>0.499606997591501</dd>\n",
       "\t<dt>ltv</dt>\n",
       "\t\t<dd>0.215432200011074</dd>\n",
       "</dl>\n"
      ],
      "text/latex": [
       "\\begin{description*}\n",
       "\\item[fico\\textbackslash{}\\_score] 161.196870692939\n",
       "\\item[tot\\textbackslash{}\\_derog] 35.5071606924251\n",
       "\\item[rev\\textbackslash{}\\_util] 19.377182423815\n",
       "\\item[age\\textbackslash{}\\_oldest\\textbackslash{}\\_tr] 14.9327266776036\n",
       "\\item[tot\\textbackslash{}\\_rev\\textbackslash{}\\_line] 12.7240046809926\n",
       "\\item[loan\\textbackslash{}\\_amt] 6.24782558905601\n",
       "\\item[tot\\textbackslash{}\\_tr] 5.98092775148163\n",
       "\\item[msrp] 4.97315179916574\n",
       "\\item[purch\\textbackslash{}\\_price] 4.87318894893125\n",
       "\\item[tot\\textbackslash{}\\_rev\\textbackslash{}\\_debt] 2.88731304580298\n",
       "\\item[veh\\textbackslash{}\\_mileage] 1.9492755795725\n",
       "\\item[used\\textbackslash{}\\_ind] 1.49944275351731\n",
       "\\item[tot\\textbackslash{}\\_income] 1.04960992746212\n",
       "\\item[tot\\textbackslash{}\\_open\\textbackslash{}\\_tr] 0.810746679871258\n",
       "\\item[tot\\textbackslash{}\\_rev\\textbackslash{}\\_tr] 0.499606997591501\n",
       "\\item[ltv] 0.215432200011074\n",
       "\\end{description*}\n"
      ],
      "text/markdown": [
       "fico_score\n",
       ":   161.196870692939tot_derog\n",
       ":   35.5071606924251rev_util\n",
       ":   19.377182423815age_oldest_tr\n",
       ":   14.9327266776036tot_rev_line\n",
       ":   12.7240046809926loan_amt\n",
       ":   6.24782558905601tot_tr\n",
       ":   5.98092775148163msrp\n",
       ":   4.97315179916574purch_price\n",
       ":   4.87318894893125tot_rev_debt\n",
       ":   2.88731304580298veh_mileage\n",
       ":   1.9492755795725used_ind\n",
       ":   1.49944275351731tot_income\n",
       ":   1.04960992746212tot_open_tr\n",
       ":   0.810746679871258tot_rev_tr\n",
       ":   0.499606997591501ltv\n",
       ":   0.215432200011074\n",
       "\n"
      ],
      "text/plain": [
       "   fico_score     tot_derog      rev_util age_oldest_tr  tot_rev_line \n",
       "  161.1968707    35.5071607    19.3771824    14.9327267    12.7240047 \n",
       "     loan_amt        tot_tr          msrp   purch_price  tot_rev_debt \n",
       "    6.2478256     5.9809278     4.9731518     4.8731889     2.8873130 \n",
       "  veh_mileage      used_ind    tot_income   tot_open_tr    tot_rev_tr \n",
       "    1.9492756     1.4994428     1.0496099     0.8107467     0.4996070 \n",
       "          ltv \n",
       "    0.2154322 "
      ]
     },
     "metadata": {},
     "output_type": "display_data"
    }
   ],
   "source": [
    "#1.3看变量重要性\n",
    "\n",
    "rpart.mod$variable.importance"
   ]
  },
  {
   "cell_type": "code",
   "execution_count": 20,
   "metadata": {
    "collapsed": false
   },
   "outputs": [
    {
     "data": {
      "text/html": [
       "<table>\n",
       "<thead><tr><th></th><th scope=col>CP</th><th scope=col>nsplit</th><th scope=col>rel error</th><th scope=col>xerror</th><th scope=col>xstd</th></tr></thead>\n",
       "<tbody>\n",
       "\t<tr><th scope=row>1</th><td>0.1464694 </td><td>0         </td><td>1.0000000 </td><td>1.0000000 </td><td>0.03733488</td></tr>\n",
       "\t<tr><th scope=row>2</th><td>0.0102015 </td><td>1         </td><td>0.8535306 </td><td>0.8620024 </td><td>0.02968324</td></tr>\n",
       "\t<tr><th scope=row>3</th><td>0.0100000 </td><td>6         </td><td>0.7842969 </td><td>0.8816929 </td><td>0.03174097</td></tr>\n",
       "</tbody>\n",
       "</table>\n"
      ],
      "text/latex": [
       "\\begin{tabular}{r|lllll}\n",
       "  & CP & nsplit & rel error & xerror & xstd\\\\\n",
       "\\hline\n",
       "\t1 & 0.1464694  & 0          & 1.0000000  & 1.0000000  & 0.03733488\\\\\n",
       "\t2 & 0.0102015  & 1          & 0.8535306  & 0.8620024  & 0.02968324\\\\\n",
       "\t3 & 0.0100000  & 6          & 0.7842969  & 0.8816929  & 0.03174097\\\\\n",
       "\\end{tabular}\n"
      ],
      "text/markdown": [
       "1. 0.14646937573436\n",
       "2. 0.0102015009084489\n",
       "3. 0.01\n",
       "4. 0\n",
       "5. 1\n",
       "6. 6\n",
       "7. 1\n",
       "8. 0.85353062426564\n",
       "9. 0.784296856902035\n",
       "10. 1.00000000000001\n",
       "11. 0.862002394776231\n",
       "12. 0.881692879014496\n",
       "13. 0.0373348825832635\n",
       "14. 0.0296832370104303\n",
       "15. 0.0317409678390105\n",
       "\n",
       "\n"
      ],
      "text/plain": [
       "  CP        nsplit rel error xerror    xstd      \n",
       "1 0.1464694 0      1.0000000 1.0000000 0.03733488\n",
       "2 0.0102015 1      0.8535306 0.8620024 0.02968324\n",
       "3 0.0100000 6      0.7842969 0.8816929 0.03174097"
      ]
     },
     "metadata": {},
     "output_type": "display_data"
    }
   ],
   "source": [
    "#cp是每次分割对应的复杂度系数\n",
    "rpart.mod$cp"
   ]
  },
  {
   "cell_type": "code",
   "execution_count": 21,
   "metadata": {
    "collapsed": false
   },
   "outputs": [
    {
     "data": {
      "image/png": "[encoded data removed]",
      "text/plain": [
       "plot without title"
      ]
     },
     "metadata": {},
     "output_type": "display_data"
    }
   ],
   "source": [
    "plotcp(rpart.mod)"
   ]
  },
  {
   "cell_type": "code",
   "execution_count": 22,
   "metadata": {
    "collapsed": false
   },
   "outputs": [
    {
     "data": {
      "image/png": "[encoded data removed]",
      "text/plain": [
       "Plot with title “决策树”"
      ]
     },
     "metadata": {},
     "output_type": "display_data"
    }
   ],
   "source": [
    "library(rpart.plot)\n",
    "\n",
    "rpart.plot(rpart.mod,branch=1, extra=106, under=TRUE, faclen=0,\n",
    "           cex=0.8, main=\"决策树\")"
   ]
  },
  {
   "cell_type": "code",
   "execution_count": 24,
   "metadata": {
    "collapsed": false
   },
   "outputs": [
    {
     "data": {
      "image/png": "[encoded data removed]",
      "text/plain": [
       "plot without title"
      ]
     },
     "metadata": {},
     "output_type": "display_data"
    }
   ],
   "source": [
    "plot(rpart.mod)\n",
    "text(rpart.mod,all=TRUE,digits=7,use.n=TRUE,cex=0.9,xpd=TRUE)"
   ]
  },
  {
   "cell_type": "markdown",
   "metadata": {},
   "source": [
    "#   2.cart剪枝方法"
   ]
  },
  {
   "cell_type": "code",
   "execution_count": 25,
   "metadata": {
    "collapsed": false
   },
   "outputs": [
    {
     "data": {
      "text/html": [
       "<table>\n",
       "<thead><tr><th></th><th scope=col>CP</th><th scope=col>nsplit</th><th scope=col>rel error</th><th scope=col>xerror</th><th scope=col>xstd</th></tr></thead>\n",
       "<tbody>\n",
       "\t<tr><th scope=row>1</th><td>0.1464694 </td><td>0         </td><td>1.0000000 </td><td>1.0000000 </td><td>0.03733488</td></tr>\n",
       "\t<tr><th scope=row>2</th><td>0.0102015 </td><td>1         </td><td>0.8535306 </td><td>0.8620024 </td><td>0.02968324</td></tr>\n",
       "</tbody>\n",
       "</table>\n"
      ],
      "text/latex": [
       "\\begin{tabular}{r|lllll}\n",
       "  & CP & nsplit & rel error & xerror & xstd\\\\\n",
       "\\hline\n",
       "\t1 & 0.1464694  & 0          & 1.0000000  & 1.0000000  & 0.03733488\\\\\n",
       "\t2 & 0.0102015  & 1          & 0.8535306  & 0.8620024  & 0.02968324\\\\\n",
       "\\end{tabular}\n"
      ],
      "text/markdown": [
       "1. 0.14646937573436\n",
       "2. 0.0102015009084489\n",
       "3. 0\n",
       "4. 1\n",
       "5. 1\n",
       "6. 0.85353062426564\n",
       "7. 1.00000000000001\n",
       "8. 0.862002394776231\n",
       "9. 0.0373348825832635\n",
       "10. 0.0296832370104303\n",
       "\n",
       "\n"
      ],
      "text/plain": [
       "  CP        nsplit rel error xerror    xstd      \n",
       "1 0.1464694 0      1.0000000 1.0000000 0.03733488\n",
       "2 0.0102015 1      0.8535306 0.8620024 0.02968324"
      ]
     },
     "metadata": {},
     "output_type": "display_data"
    }
   ],
   "source": [
    "#prune函数可以实现最小代价复杂度剪枝法，对于CART的结果，每个节点均输出一个对应的cp\n",
    "#prune函数通过设置cp参数来对决策树进行修剪,cp为复杂度系数\n",
    "## 我们可以用下面的办法选择具有最小xerror的cp的办法： \n",
    "\n",
    "rpart.mod.pru<-prune(rpart.mod,cp=rpart.mod$cptable[which.min(rpart.mod$cptable[,\"xerror\"]),\"CP\"])\n",
    "rpart.mod.pru$cp"
   ]
  },
  {
   "cell_type": "code",
   "execution_count": 26,
   "metadata": {
    "collapsed": false
   },
   "outputs": [
    {
     "data": {
      "image/png": "[encoded data removed]",
      "text/plain": [
       "Plot with title “决策树”"
      ]
     },
     "metadata": {},
     "output_type": "display_data"
    }
   ],
   "source": [
    "#3.绘制rpart.mod.pru的树状图\n",
    "rpart.plot(rpart.mod.pru,branch=1, extra=106, under=TRUE, faclen=0,\n",
    "           cex=0.8, main=\"决策树\")"
   ]
  },
  {
   "cell_type": "code",
   "execution_count": 29,
   "metadata": {
    "collapsed": false
   },
   "outputs": [
    {
     "data": {
      "text/html": [
       "<table>\n",
       "<thead><tr><th></th><th scope=col>0</th><th scope=col>1</th></tr></thead>\n",
       "<tbody>\n",
       "\t<tr><th scope=row>1</th><td>0.4227907</td><td>0.5772093</td></tr>\n",
       "\t<tr><th scope=row>3</th><td>0.4227907</td><td>0.5772093</td></tr>\n",
       "\t<tr><th scope=row>11</th><td>0.7629156</td><td>0.2370844</td></tr>\n",
       "\t<tr><th scope=row>14</th><td>0.7629156</td><td>0.2370844</td></tr>\n",
       "\t<tr><th scope=row>25</th><td>0.7629156</td><td>0.2370844</td></tr>\n",
       "\t<tr><th scope=row>26</th><td>0.4227907</td><td>0.5772093</td></tr>\n",
       "</tbody>\n",
       "</table>\n"
      ],
      "text/latex": [
       "\\begin{tabular}{r|ll}\n",
       "  & 0 & 1\\\\\n",
       "\\hline\n",
       "\t1 & 0.4227907 & 0.5772093\\\\\n",
       "\t3 & 0.4227907 & 0.5772093\\\\\n",
       "\t11 & 0.7629156 & 0.2370844\\\\\n",
       "\t14 & 0.7629156 & 0.2370844\\\\\n",
       "\t25 & 0.7629156 & 0.2370844\\\\\n",
       "\t26 & 0.4227907 & 0.5772093\\\\\n",
       "\\end{tabular}\n"
      ],
      "text/markdown": [
       "1. 0.422790732591712\n",
       "2. 0.422790732591712\n",
       "3. 0.762915555798466\n",
       "4. 0.762915555798466\n",
       "5. 0.762915555798466\n",
       "6. 0.422790732591712\n",
       "7. 0.577209267408288\n",
       "8. 0.577209267408288\n",
       "9. 0.237084444201534\n",
       "10. 0.237084444201534\n",
       "11. 0.237084444201534\n",
       "12. 0.577209267408288\n",
       "\n",
       "\n"
      ],
      "text/plain": [
       "   0         1        \n",
       "1  0.4227907 0.5772093\n",
       "3  0.4227907 0.5772093\n",
       "11 0.7629156 0.2370844\n",
       "14 0.7629156 0.2370844\n",
       "25 0.7629156 0.2370844\n",
       "26 0.4227907 0.5772093"
      ]
     },
     "metadata": {},
     "output_type": "display_data"
    }
   ],
   "source": [
    "#4.cart预测\n",
    "#使用模型对测试集进行预测\n",
    "#使用模型进行预测\n",
    "rpart.pred<-predict(rpart.mod.pru,test)\n",
    "#可以看到，rpart.pred的结果有两列，第一列是为0的概率，第二列是为1的概率\n",
    "\n",
    "head(rpart.pred)\n"
   ]
  },
  {
   "cell_type": "code",
   "execution_count": 31,
   "metadata": {
    "collapsed": false
   },
   "outputs": [
    {
     "data": {
      "text/html": [
       "<dl class=dl-horizontal>\n",
       "\t<dt>1</dt>\n",
       "\t\t<dd>1</dd>\n",
       "\t<dt>3</dt>\n",
       "\t\t<dd>1</dd>\n",
       "\t<dt>11</dt>\n",
       "\t\t<dd>0</dd>\n",
       "\t<dt>14</dt>\n",
       "\t\t<dd>0</dd>\n",
       "\t<dt>25</dt>\n",
       "\t\t<dd>0</dd>\n",
       "\t<dt>26</dt>\n",
       "\t\t<dd>1</dd>\n",
       "</dl>\n"
      ],
      "text/latex": [
       "\\begin{description*}\n",
       "\\item[1] 1\n",
       "\\item[3] 1\n",
       "\\item[11] 0\n",
       "\\item[14] 0\n",
       "\\item[25] 0\n",
       "\\item[26] 1\n",
       "\\end{description*}\n"
      ],
      "text/markdown": [
       "1\n",
       ":   13\n",
       ":   111\n",
       ":   014\n",
       ":   025\n",
       ":   026\n",
       ":   1\n",
       "\n"
      ],
      "text/plain": [
       " 1  3 11 14 25 26 \n",
       " 1  1  0  0  0  1 "
      ]
     },
     "metadata": {},
     "output_type": "display_data"
    }
   ],
   "source": [
    "#通过设定阀值，得到预测分类\n",
    "pre<-ifelse(rpart.pred[,2]>0.5,1,0)\n",
    "\n",
    "head(pre)"
   ]
  },
  {
   "cell_type": "code",
   "execution_count": 32,
   "metadata": {
    "collapsed": false
   },
   "outputs": [
    {
     "data": {
      "text/html": [
       "<dl class=dl-horizontal>\n",
       "\t<dt>1</dt>\n",
       "\t\t<dd>1</dd>\n",
       "\t<dt>3</dt>\n",
       "\t\t<dd>1</dd>\n",
       "\t<dt>11</dt>\n",
       "\t\t<dd>0</dd>\n",
       "\t<dt>14</dt>\n",
       "\t\t<dd>0</dd>\n",
       "\t<dt>25</dt>\n",
       "\t\t<dd>0</dd>\n",
       "\t<dt>26</dt>\n",
       "\t\t<dd>1</dd>\n",
       "</dl>\n"
      ],
      "text/latex": [
       "\\begin{description*}\n",
       "\\item[1] 1\n",
       "\\item[3] 1\n",
       "\\item[11] 0\n",
       "\\item[14] 0\n",
       "\\item[25] 0\n",
       "\\item[26] 1\n",
       "\\end{description*}\n"
      ],
      "text/markdown": [
       "1\n",
       ":   13\n",
       ":   111\n",
       ":   014\n",
       ":   025\n",
       ":   026\n",
       ":   1\n",
       "\n"
      ],
      "text/plain": [
       " 1  3 11 14 25 26 \n",
       " 1  1  0  0  0  1 \n",
       "Levels: 0 1"
      ]
     },
     "metadata": {},
     "output_type": "display_data"
    }
   ],
   "source": [
    "#也可以通过如下方式来实现\n",
    "preType<-predict(rpart.mod.pru,test,type=\"class\")\n",
    "\n",
    "head(preType)"
   ]
  },
  {
   "cell_type": "markdown",
   "metadata": {},
   "source": [
    "## Section 3: 随机森林(分类树)"
   ]
  },
  {
   "cell_type": "code",
   "execution_count": 34,
   "metadata": {
    "collapsed": false
   },
   "outputs": [
    {
     "name": "stderr",
     "output_type": "stream",
     "text": [
      "randomForest 4.6-12\n",
      "Type rfNews() to see new features/changes/bug fixes.\n"
     ]
    }
   ],
   "source": [
    "library(randomForest)"
   ]
  },
  {
   "cell_type": "code",
   "execution_count": 35,
   "metadata": {
    "collapsed": false
   },
   "outputs": [
    {
     "data": {
      "text/html": [
       "<table>\n",
       "<thead><tr><th></th><th scope=col>0</th><th scope=col>1</th><th scope=col>MeanDecreaseAccuracy</th><th scope=col>MeanDecreaseGini</th></tr></thead>\n",
       "<tbody>\n",
       "\t<tr><th scope=row>tot_derog</th><td> 0.0098793066</td><td> 0.0087339080</td><td> 0.0095334659</td><td> 39.964384   </td></tr>\n",
       "\t<tr><th scope=row>tot_tr</th><td> 0.0120428310</td><td> 0.0053958805</td><td> 0.0106905682</td><td> 57.743948   </td></tr>\n",
       "\t<tr><th scope=row>age_oldest_tr</th><td> 0.0183300079</td><td> 0.0122474004</td><td> 0.0169876160</td><td> 63.879752   </td></tr>\n",
       "\t<tr><th scope=row>tot_open_tr</th><td> 0.0050754228</td><td>-0.0261620364</td><td>-0.0010203660</td><td> 36.009973   </td></tr>\n",
       "\t<tr><th scope=row>tot_rev_tr</th><td> 0.0074249609</td><td>-0.0073922815</td><td> 0.0044752427</td><td> 25.484725   </td></tr>\n",
       "\t<tr><th scope=row>tot_rev_debt</th><td> 0.0138145402</td><td>-0.0013086957</td><td> 0.0108100558</td><td> 51.137768   </td></tr>\n",
       "\t<tr><th scope=row>tot_rev_line</th><td> 0.0401144222</td><td>-0.0080109248</td><td> 0.0308097402</td><td>100.134945   </td></tr>\n",
       "\t<tr><th scope=row>rev_util</th><td> 0.0185980605</td><td> 0.0127549467</td><td> 0.0176072428</td><td> 59.836009   </td></tr>\n",
       "\t<tr><th scope=row>fico_score</th><td> 0.0105374238</td><td> 0.0487344770</td><td> 0.0179857890</td><td> 96.525010   </td></tr>\n",
       "\t<tr><th scope=row>purch_price</th><td> 0.0106336716</td><td> 0.0178616339</td><td> 0.0119416083</td><td> 57.224670   </td></tr>\n",
       "\t<tr><th scope=row>msrp</th><td> 0.0053896032</td><td> 0.0213395639</td><td> 0.0081512844</td><td> 57.381374   </td></tr>\n",
       "\t<tr><th scope=row>down_pyt</th><td>-0.0018602301</td><td> 0.0014865076</td><td>-0.0011926297</td><td> 40.130524   </td></tr>\n",
       "\t<tr><th scope=row>loan_term</th><td>-0.0029788955</td><td> 0.0063774734</td><td>-0.0012063931</td><td> 17.373092   </td></tr>\n",
       "\t<tr><th scope=row>loan_amt</th><td>-0.0002263288</td><td> 0.0006495114</td><td>-0.0003014677</td><td> 67.717016   </td></tr>\n",
       "\t<tr><th scope=row>ltv</th><td>-0.0018570709</td><td>-0.0123543720</td><td>-0.0039182411</td><td> 68.412844   </td></tr>\n",
       "\t<tr><th scope=row>tot_income</th><td>-0.0021698428</td><td>-0.0188740949</td><td>-0.0053905745</td><td> 58.837580   </td></tr>\n",
       "\t<tr><th scope=row>veh_mileage</th><td> 0.0049704515</td><td> 0.0030441400</td><td> 0.0045944693</td><td> 43.470441   </td></tr>\n",
       "\t<tr><th scope=row>used_ind</th><td> 0.0022822137</td><td> 0.0000000000</td><td> 0.0018329015</td><td>  7.580553   </td></tr>\n",
       "</tbody>\n",
       "</table>\n"
      ],
      "text/latex": [
       "\\begin{tabular}{r|llll}\n",
       "  & 0 & 1 & MeanDecreaseAccuracy & MeanDecreaseGini\\\\\n",
       "\\hline\n",
       "\ttot\\_derog &  0.0098793066 &  0.0087339080 &  0.0095334659 &  39.964384   \\\\\n",
       "\ttot\\_tr &  0.0120428310 &  0.0053958805 &  0.0106905682 &  57.743948   \\\\\n",
       "\tage\\_oldest\\_tr &  0.0183300079 &  0.0122474004 &  0.0169876160 &  63.879752   \\\\\n",
       "\ttot\\_open\\_tr &  0.0050754228 & -0.0261620364 & -0.0010203660 &  36.009973   \\\\\n",
       "\ttot\\_rev\\_tr &  0.0074249609 & -0.0073922815 &  0.0044752427 &  25.484725   \\\\\n",
       "\ttot\\_rev\\_debt &  0.0138145402 & -0.0013086957 &  0.0108100558 &  51.137768   \\\\\n",
       "\ttot\\_rev\\_line &  0.0401144222 & -0.0080109248 &  0.0308097402 & 100.134945   \\\\\n",
       "\trev\\_util &  0.0185980605 &  0.0127549467 &  0.0176072428 &  59.836009   \\\\\n",
       "\tfico\\_score &  0.0105374238 &  0.0487344770 &  0.0179857890 &  96.525010   \\\\\n",
       "\tpurch\\_price &  0.0106336716 &  0.0178616339 &  0.0119416083 &  57.224670   \\\\\n",
       "\tmsrp &  0.0053896032 &  0.0213395639 &  0.0081512844 &  57.381374   \\\\\n",
       "\tdown\\_pyt & -0.0018602301 &  0.0014865076 & -0.0011926297 &  40.130524   \\\\\n",
       "\tloan\\_term & -0.0029788955 &  0.0063774734 & -0.0012063931 &  17.373092   \\\\\n",
       "\tloan\\_amt & -0.0002263288 &  0.0006495114 & -0.0003014677 &  67.717016   \\\\\n",
       "\tltv & -0.0018570709 & -0.0123543720 & -0.0039182411 &  68.412844   \\\\\n",
       "\ttot\\_income & -0.0021698428 & -0.0188740949 & -0.0053905745 &  58.837580   \\\\\n",
       "\tveh\\_mileage &  0.0049704515 &  0.0030441400 &  0.0045944693 &  43.470441   \\\\\n",
       "\tused\\_ind &  0.0022822137 &  0.0000000000 &  0.0018329015 &   7.580553   \\\\\n",
       "\\end{tabular}\n"
      ],
      "text/markdown": [
       "1. 0.00987930661359925\n",
       "2. 0.0120428310398307\n",
       "3. 0.0183300078804106\n",
       "4. 0.00507542282034294\n",
       "5. 0.00742496087118418\n",
       "6. 0.0138145402021927\n",
       "7. 0.0401144222277468\n",
       "8. 0.0185980604521758\n",
       "9. 0.0105374238252215\n",
       "10. 0.010633671626423\n",
       "11. 0.00538960320227158\n",
       "12. -0.00186023008731071\n",
       "13. -0.00297889547310121\n",
       "14. -0.000226328826816165\n",
       "15. -0.00185707092055561\n",
       "16. -0.00216984275974168\n",
       "17. 0.00497045148448592\n",
       "18. 0.0022822136832851\n",
       "19. 0.00873390802145123\n",
       "20. 0.00539588045349152\n",
       "21. 0.0122474003897637\n",
       "22. -0.0261620364443306\n",
       "23. -0.00739228154027795\n",
       "24. -0.00130869571402154\n",
       "25. -0.0080109247642214\n",
       "26. 0.0127549467275495\n",
       "27. 0.0487344770195878\n",
       "28. 0.0178616338781491\n",
       "29. 0.0213395638629283\n",
       "30. 0.00148650763168751\n",
       "31. 0.00637747336377473\n",
       "32. 0.000649511372850254\n",
       "33. -0.0123543720394316\n",
       "34. -0.0188740949373391\n",
       "35. 0.0030441400304414\n",
       "36. 0\n",
       "37. 0.00953346589227939\n",
       "38. 0.010690568209676\n",
       "39. 0.0169876159817243\n",
       "40. -0.00102036602400611\n",
       "41. 0.00447524272706333\n",
       "42. 0.0108100558054503\n",
       "43. 0.0308097401622992\n",
       "44. 0.0176072427632545\n",
       "45. 0.0179857890360678\n",
       "46. 0.0119416082643007\n",
       "47. 0.00815128435907033\n",
       "48. -0.00119262969781292\n",
       "49. -0.00120639306479493\n",
       "50. -0.00030146774094641\n",
       "51. -0.0039182411036851\n",
       "52. -0.00539057452901018\n",
       "53. 0.00459446927233289\n",
       "54. 0.00183290152981616\n",
       "55. 39.9643839520612\n",
       "56. 57.7439479186783\n",
       "57. 63.8797515307277\n",
       "58. 36.0099734852897\n",
       "59. 25.4847245614124\n",
       "60. 51.1377676419528\n",
       "61. 100.134944660948\n",
       "62. 59.8360093733305\n",
       "63. 96.5250099492212\n",
       "64. 57.2246695954909\n",
       "65. 57.3813740826548\n",
       "66. 40.1305244547971\n",
       "67. 17.3730921139764\n",
       "68. 67.7170161403112\n",
       "69. 68.412844459915\n",
       "70. 58.8375798711094\n",
       "71. 43.4704408957171\n",
       "72. 7.58055266551065\n",
       "\n",
       "\n"
      ],
      "text/plain": [
       "              0             1             MeanDecreaseAccuracy MeanDecreaseGini\n",
       "tot_derog      0.0098793066  0.0087339080  0.0095334659         39.964384      \n",
       "tot_tr         0.0120428310  0.0053958805  0.0106905682         57.743948      \n",
       "age_oldest_tr  0.0183300079  0.0122474004  0.0169876160         63.879752      \n",
       "tot_open_tr    0.0050754228 -0.0261620364 -0.0010203660         36.009973      \n",
       "tot_rev_tr     0.0074249609 -0.0073922815  0.0044752427         25.484725      \n",
       "tot_rev_debt   0.0138145402 -0.0013086957  0.0108100558         51.137768      \n",
       "tot_rev_line   0.0401144222 -0.0080109248  0.0308097402        100.134945      \n",
       "rev_util       0.0185980605  0.0127549467  0.0176072428         59.836009      \n",
       "fico_score     0.0105374238  0.0487344770  0.0179857890         96.525010      \n",
       "purch_price    0.0106336716  0.0178616339  0.0119416083         57.224670      \n",
       "msrp           0.0053896032  0.0213395639  0.0081512844         57.381374      \n",
       "down_pyt      -0.0018602301  0.0014865076 -0.0011926297         40.130524      \n",
       "loan_term     -0.0029788955  0.0063774734 -0.0012063931         17.373092      \n",
       "loan_amt      -0.0002263288  0.0006495114 -0.0003014677         67.717016      \n",
       "ltv           -0.0018570709 -0.0123543720 -0.0039182411         68.412844      \n",
       "tot_income    -0.0021698428 -0.0188740949 -0.0053905745         58.837580      \n",
       "veh_mileage    0.0049704515  0.0030441400  0.0045944693         43.470441      \n",
       "used_ind       0.0022822137  0.0000000000  0.0018329015          7.580553      "
      ]
     },
     "metadata": {},
     "output_type": "display_data"
    }
   ],
   "source": [
    "rf<-randomForest(bad_ind~.,data=train,importance = T,ntree=3)\n",
    "\n",
    "rf$importance"
   ]
  },
  {
   "cell_type": "code",
   "execution_count": 36,
   "metadata": {
    "collapsed": false
   },
   "outputs": [
    {
     "data": {
      "image/png": "[encoded data removed]",
      "text/plain": [
       "plot without title"
      ]
     },
     "metadata": {},
     "output_type": "display_data"
    }
   ],
   "source": [
    "varImpPlot(rf)"
   ]
  },
  {
   "cell_type": "code",
   "execution_count": 37,
   "metadata": {
    "collapsed": false
   },
   "outputs": [
    {
     "data": {
      "text/html": [
       "<table>\n",
       "<thead><tr><th></th><th scope=col>0</th><th scope=col>1</th><th scope=col>MeanDecreaseAccuracy</th><th scope=col>MeanDecreaseGini</th></tr></thead>\n",
       "<tbody>\n",
       "\t<tr><th scope=row>tot_derog</th><td> 2.67951758</td><td> 0.53902219</td><td> 1.94370420</td><td> 39.964384 </td></tr>\n",
       "\t<tr><th scope=row>tot_tr</th><td> 2.09467923</td><td> 0.45686368</td><td> 1.61828814</td><td> 57.743948 </td></tr>\n",
       "\t<tr><th scope=row>age_oldest_tr</th><td> 3.09540916</td><td> 0.61926950</td><td> 2.21460450</td><td> 63.879752 </td></tr>\n",
       "\t<tr><th scope=row>tot_open_tr</th><td> 1.45187028</td><td>-2.15743457</td><td>-0.19517371</td><td> 36.009973 </td></tr>\n",
       "\t<tr><th scope=row>tot_rev_tr</th><td>34.09462575</td><td>-0.95024527</td><td> 2.67601599</td><td> 25.484725 </td></tr>\n",
       "\t<tr><th scope=row>tot_rev_debt</th><td> 9.04819605</td><td>-0.09247148</td><td> 4.87037031</td><td> 51.137768 </td></tr>\n",
       "\t<tr><th scope=row>tot_rev_line</th><td> 4.85169235</td><td>-0.61970108</td><td> 4.95687658</td><td>100.134945 </td></tr>\n",
       "\t<tr><th scope=row>rev_util</th><td> 2.19170012</td><td> 2.44196932</td><td> 2.45046937</td><td> 59.836009 </td></tr>\n",
       "\t<tr><th scope=row>fico_score</th><td> 1.86899939</td><td> 5.68611083</td><td> 5.02252773</td><td> 96.525010 </td></tr>\n",
       "\t<tr><th scope=row>purch_price</th><td> 3.06468660</td><td> 2.43251288</td><td> 2.97291725</td><td> 57.224670 </td></tr>\n",
       "\t<tr><th scope=row>msrp</th><td> 1.10125276</td><td> 1.75516059</td><td> 4.33513444</td><td> 57.381374 </td></tr>\n",
       "\t<tr><th scope=row>down_pyt</th><td>-6.06003265</td><td> 0.44908902</td><td>-2.44941626</td><td> 40.130524 </td></tr>\n",
       "\t<tr><th scope=row>loan_term</th><td>-2.44616014</td><td> 2.44196932</td><td>-2.44856955</td><td> 17.373092 </td></tr>\n",
       "\t<tr><th scope=row>loan_amt</th><td>-0.04636871</td><td> 0.05540869</td><td>-0.08562186</td><td> 67.717016 </td></tr>\n",
       "\t<tr><th scope=row>ltv</th><td>-3.07256726</td><td>-2.23231223</td><td>-2.63399114</td><td> 68.412844 </td></tr>\n",
       "\t<tr><th scope=row>tot_income</th><td>-0.41226300</td><td>-1.97628866</td><td>-1.96180987</td><td> 58.837580 </td></tr>\n",
       "\t<tr><th scope=row>veh_mileage</th><td> 1.01507695</td><td> 1.22474487</td><td> 1.04796931</td><td> 43.470441 </td></tr>\n",
       "\t<tr><th scope=row>used_ind</th><td> 1.06036817</td><td> 0.00000000</td><td> 1.06347439</td><td>  7.580553 </td></tr>\n",
       "</tbody>\n",
       "</table>\n"
      ],
      "text/latex": [
       "\\begin{tabular}{r|llll}\n",
       "  & 0 & 1 & MeanDecreaseAccuracy & MeanDecreaseGini\\\\\n",
       "\\hline\n",
       "\ttot\\_derog &  2.67951758 &  0.53902219 &  1.94370420 &  39.964384 \\\\\n",
       "\ttot\\_tr &  2.09467923 &  0.45686368 &  1.61828814 &  57.743948 \\\\\n",
       "\tage\\_oldest\\_tr &  3.09540916 &  0.61926950 &  2.21460450 &  63.879752 \\\\\n",
       "\ttot\\_open\\_tr &  1.45187028 & -2.15743457 & -0.19517371 &  36.009973 \\\\\n",
       "\ttot\\_rev\\_tr & 34.09462575 & -0.95024527 &  2.67601599 &  25.484725 \\\\\n",
       "\ttot\\_rev\\_debt &  9.04819605 & -0.09247148 &  4.87037031 &  51.137768 \\\\\n",
       "\ttot\\_rev\\_line &  4.85169235 & -0.61970108 &  4.95687658 & 100.134945 \\\\\n",
       "\trev\\_util &  2.19170012 &  2.44196932 &  2.45046937 &  59.836009 \\\\\n",
       "\tfico\\_score &  1.86899939 &  5.68611083 &  5.02252773 &  96.525010 \\\\\n",
       "\tpurch\\_price &  3.06468660 &  2.43251288 &  2.97291725 &  57.224670 \\\\\n",
       "\tmsrp &  1.10125276 &  1.75516059 &  4.33513444 &  57.381374 \\\\\n",
       "\tdown\\_pyt & -6.06003265 &  0.44908902 & -2.44941626 &  40.130524 \\\\\n",
       "\tloan\\_term & -2.44616014 &  2.44196932 & -2.44856955 &  17.373092 \\\\\n",
       "\tloan\\_amt & -0.04636871 &  0.05540869 & -0.08562186 &  67.717016 \\\\\n",
       "\tltv & -3.07256726 & -2.23231223 & -2.63399114 &  68.412844 \\\\\n",
       "\ttot\\_income & -0.41226300 & -1.97628866 & -1.96180987 &  58.837580 \\\\\n",
       "\tveh\\_mileage &  1.01507695 &  1.22474487 &  1.04796931 &  43.470441 \\\\\n",
       "\tused\\_ind &  1.06036817 &  0.00000000 &  1.06347439 &   7.580553 \\\\\n",
       "\\end{tabular}\n"
      ],
      "text/markdown": [
       "1. 2.67951757637958\n",
       "2. 2.0946792318634\n",
       "3. 3.09540915646887\n",
       "4. 1.45187027861499\n",
       "5. 34.0946257472416\n",
       "6. 9.04819605316871\n",
       "7. 4.85169235122671\n",
       "8. 2.19170011882821\n",
       "9. 1.86899938737503\n",
       "10. 3.06468660490503\n",
       "11. 1.1012527578968\n",
       "12. -6.06003265221651\n",
       "13. -2.446160141861\n",
       "14. -0.046368711318507\n",
       "15. -3.07256726178312\n",
       "16. -0.412263004545792\n",
       "17. 1.01507695181101\n",
       "18. 1.06036817110117\n",
       "19. 0.539022188818932\n",
       "20. 0.456863678779832\n",
       "21. 0.619269503003317\n",
       "22. -2.15743457204709\n",
       "23. -0.950245272780052\n",
       "24. -0.0924714810910371\n",
       "25. -0.619701078819799\n",
       "26. 2.44196931762673\n",
       "27. 5.68611083465698\n",
       "28. 2.43251288258267\n",
       "29. 1.75516058691273\n",
       "30. 0.449089015524661\n",
       "31. 2.44196931762673\n",
       "32. 0.0554086941806568\n",
       "33. -2.23231222840064\n",
       "34. -1.97628865653801\n",
       "35. 1.22474487139159\n",
       "36. 0\n",
       "37. 1.94370419726564\n",
       "38. 1.61828813662829\n",
       "39. 2.21460449558802\n",
       "40. -0.195173705217801\n",
       "41. 2.67601598766884\n",
       "42. 4.8703703126683\n",
       "43. 4.95687658068278\n",
       "44. 2.45046937364533\n",
       "45. 5.02252773368328\n",
       "46. 2.97291725186325\n",
       "47. 4.3351344365045\n",
       "48. -2.4494162569298\n",
       "49. -2.44856954600611\n",
       "50. -0.085621860011223\n",
       "51. -2.63399114389458\n",
       "52. -1.96180986709418\n",
       "53. 1.04796930763538\n",
       "54. 1.06347438719162\n",
       "55. 39.9643839520612\n",
       "56. 57.7439479186783\n",
       "57. 63.8797515307277\n",
       "58. 36.0099734852897\n",
       "59. 25.4847245614124\n",
       "60. 51.1377676419528\n",
       "61. 100.134944660948\n",
       "62. 59.8360093733305\n",
       "63. 96.5250099492212\n",
       "64. 57.2246695954909\n",
       "65. 57.3813740826548\n",
       "66. 40.1305244547971\n",
       "67. 17.3730921139764\n",
       "68. 67.7170161403112\n",
       "69. 68.412844459915\n",
       "70. 58.8375798711094\n",
       "71. 43.4704408957171\n",
       "72. 7.58055266551065\n",
       "\n",
       "\n"
      ],
      "text/plain": [
       "              0           1           MeanDecreaseAccuracy MeanDecreaseGini\n",
       "tot_derog      2.67951758  0.53902219  1.94370420           39.964384      \n",
       "tot_tr         2.09467923  0.45686368  1.61828814           57.743948      \n",
       "age_oldest_tr  3.09540916  0.61926950  2.21460450           63.879752      \n",
       "tot_open_tr    1.45187028 -2.15743457 -0.19517371           36.009973      \n",
       "tot_rev_tr    34.09462575 -0.95024527  2.67601599           25.484725      \n",
       "tot_rev_debt   9.04819605 -0.09247148  4.87037031           51.137768      \n",
       "tot_rev_line   4.85169235 -0.61970108  4.95687658          100.134945      \n",
       "rev_util       2.19170012  2.44196932  2.45046937           59.836009      \n",
       "fico_score     1.86899939  5.68611083  5.02252773           96.525010      \n",
       "purch_price    3.06468660  2.43251288  2.97291725           57.224670      \n",
       "msrp           1.10125276  1.75516059  4.33513444           57.381374      \n",
       "down_pyt      -6.06003265  0.44908902 -2.44941626           40.130524      \n",
       "loan_term     -2.44616014  2.44196932 -2.44856955           17.373092      \n",
       "loan_amt      -0.04636871  0.05540869 -0.08562186           67.717016      \n",
       "ltv           -3.07256726 -2.23231223 -2.63399114           68.412844      \n",
       "tot_income    -0.41226300 -1.97628866 -1.96180987           58.837580      \n",
       "veh_mileage    1.01507695  1.22474487  1.04796931           43.470441      \n",
       "used_ind       1.06036817  0.00000000  1.06347439            7.580553      "
      ]
     },
     "metadata": {},
     "output_type": "display_data"
    }
   ],
   "source": [
    "importance(rf)"
   ]
  },
  {
   "cell_type": "code",
   "execution_count": 38,
   "metadata": {
    "collapsed": false
   },
   "outputs": [
    {
     "data": {
      "text/html": [
       "<dl class=dl-horizontal>\n",
       "\t<dt>2967</dt>\n",
       "\t\t<dd>1</dd>\n",
       "\t<dt>2495</dt>\n",
       "\t\t<dd>0</dd>\n",
       "\t<dt>4050</dt>\n",
       "\t\t<dd>1</dd>\n",
       "\t<dt>498</dt>\n",
       "\t\t<dd>0</dd>\n",
       "\t<dt>1603</dt>\n",
       "\t\t<dd>0</dd>\n",
       "\t<dt>3595</dt>\n",
       "\t\t<dd>0</dd>\n",
       "</dl>\n"
      ],
      "text/latex": [
       "\\begin{description*}\n",
       "\\item[2967] 1\n",
       "\\item[2495] 0\n",
       "\\item[4050] 1\n",
       "\\item[498] 0\n",
       "\\item[1603] 0\n",
       "\\item[3595] 0\n",
       "\\end{description*}\n"
      ],
      "text/markdown": [
       "2967\n",
       ":   12495\n",
       ":   04050\n",
       ":   1498\n",
       ":   01603\n",
       ":   03595\n",
       ":   0\n",
       "\n"
      ],
      "text/plain": [
       "2967 2495 4050  498 1603 3595 \n",
       "   1    0    1    0    0    0 \n",
       "Levels: 0 1"
      ]
     },
     "metadata": {},
     "output_type": "display_data"
    }
   ],
   "source": [
    "pre<-predict(rf,train,type=\"response\")\n",
    "\n",
    "head(pre)"
   ]
  },
  {
   "cell_type": "code",
   "execution_count": null,
   "metadata": {
    "collapsed": true
   },
   "outputs": [],
   "source": []
  }
 ],
 "metadata": {
  "kernelspec": {
   "display_name": "R",
   "language": "R",
   "name": "ir"
  },
  "language_info": {
   "codemirror_mode": "r",
   "file_extension": ".r",
   "mimetype": "text/x-r-source",
   "name": "R",
   "pygments_lexer": "r",
   "version": "3.3.1"
  }
 },
 "nbformat": 4,
 "nbformat_minor": 1
}
