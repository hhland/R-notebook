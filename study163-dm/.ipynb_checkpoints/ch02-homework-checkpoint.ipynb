{
 "cells": [
  {
   "cell_type": "code",
   "execution_count": 1,
   "metadata": {
    "collapsed": false
   },
   "outputs": [
    {
     "name": "stderr",
     "output_type": "stream",
     "text": [
      "/usr/local/lib/python2.7/dist-packages/rpy2-2.8.2-py2.7-linux-x86_64.egg/rpy2/rinterface/__init__.py:185: RRuntimeWarning: Error in dyn.load(file, DLLpath = DLLpath, ...) : \n",
      "  unable to load shared object '/usr/local/lib64/R/library/stats/libs/stats.so':\n",
      "  libRlapack.so: cannot open shared object file: No such file or directory\n",
      "\n",
      "  warnings.warn(x, RRuntimeWarning)\n",
      "/usr/local/lib/python2.7/dist-packages/rpy2-2.8.2-py2.7-linux-x86_64.egg/rpy2/rinterface/__init__.py:185: RRuntimeWarning: During startup - \n",
      "  warnings.warn(x, RRuntimeWarning)\n",
      "/usr/local/lib/python2.7/dist-packages/rpy2-2.8.2-py2.7-linux-x86_64.egg/rpy2/rinterface/__init__.py:185: RRuntimeWarning: Warning message:\n",
      "\n",
      "  warnings.warn(x, RRuntimeWarning)\n",
      "/usr/local/lib/python2.7/dist-packages/rpy2-2.8.2-py2.7-linux-x86_64.egg/rpy2/rinterface/__init__.py:185: RRuntimeWarning: package ‘stats’ in options(\"defaultPackages\") was not found \n",
      "\n",
      "  warnings.warn(x, RRuntimeWarning)\n",
      "/usr/local/lib/python2.7/dist-packages/IPython/extensions/rmagic.py:693: UserWarning: The rmagic extension in IPython is deprecated in favour of rpy2.ipython. If available, that will be loaded instead.\n",
      "http://rpy.sourceforge.net/\n",
      "  warnings.warn(\"The rmagic extension in IPython is deprecated in favour of \"\n"
     ]
    },
    {
     "name": "stdout",
     "output_type": "stream",
     "text": [
      "Populating the interactive namespace from numpy and matplotlib\n"
     ]
    }
   ],
   "source": [
    "%pylab inline\n",
    "%load_ext rmagic"
   ]
  },
  {
   "cell_type": "markdown",
   "metadata": {},
   "source": [
    "2、创建一个函数，计算从x到y的累加值，函数名称为sumadd(x,y),要求使用循环完成。"
   ]
  },
  {
   "cell_type": "code",
   "execution_count": 3,
   "metadata": {
    "collapsed": true
   },
   "outputs": [],
   "source": [
    "%%R\n",
    "\n",
    "sumadd<-function(x,y){\n",
    "  re<-0\n",
    "  for (i in x:y){\n",
    "    re<-re+i\n",
    "  }\n",
    "  return(re)\n",
    "}"
   ]
  },
  {
   "cell_type": "code",
   "execution_count": 4,
   "metadata": {
    "collapsed": false
   },
   "outputs": [
    {
     "data": {
      "text/plain": [
       "array([ 20.])"
      ]
     },
     "execution_count": 4,
     "metadata": {},
     "output_type": "execute_result"
    }
   ],
   "source": [
    "%R sumadd(2,6)"
   ]
  },
  {
   "cell_type": "markdown",
   "metadata": {},
   "source": [
    "3、使用“loans”数据，根据“status”变量生成违约标识变量（bad_good），其中当等于status=A时，取值为bad_good=0，其中当等于status in (B,D)时，取值为bad_good=1，等于status=C时，bad_good为缺失值。"
   ]
  },
  {
   "cell_type": "code",
   "execution_count": 5,
   "metadata": {
    "collapsed": true
   },
   "outputs": [],
   "source": [
    "%%R\n",
    "f<- function(r){\n",
    "  re <-NA\n",
    "  re <-switch (r,A=0,B=1,C=NA,D=1)\n",
    "  return(re)\n",
    "}"
   ]
  },
  {
   "cell_type": "code",
   "execution_count": 11,
   "metadata": {
    "collapsed": false
   },
   "outputs": [
    {
     "data": {
      "text/plain": [
       "  loan_id account_id       date amount duration payments status bad_good\n",
       "1    5314       1787 1993-07-05  96396       12     8033      B        1\n",
       "2    5316       1801 1993-07-11 165960       36     4610      A        0\n",
       "3    6863       9188 1993-07-28 127080       60     2118      A        0\n",
       "4    5325       1843 1993-08-03 105804       36     2939      A        0\n",
       "5    7240      11013 1993-09-06 274740       60     4579      A        0\n",
       "6    6687       8261 1993-09-13  87840       24     3660      A        0\n"
      ]
     },
     "metadata": {},
     "output_type": "display_data"
    }
   ],
   "source": [
    "%%R\n",
    "loans <- read.csv(\"data/loans.csv\")\n",
    "\n",
    "loans$bad_good <-lapply(loans$status,f)\n",
    "\n",
    "head(loans)"
   ]
  },
  {
   "cell_type": "markdown",
   "metadata": {},
   "source": [
    "4、使用“clients”数据，根据“birth_date”变量计算2010年1月1日时每个客户的年龄（age）变量"
   ]
  },
  {
   "cell_type": "code",
   "execution_count": 12,
   "metadata": {
    "collapsed": true
   },
   "outputs": [],
   "source": [
    "%%R\n",
    "a <- function(r){\n",
    "  \n",
    "  brithday<-strptime(r, \"%Y-%m-%d\")\n",
    "  \n",
    "  today  <-as.Date(\"2010-01-01\")\n",
    "  \n",
    "  yb<-as.POSIXlt(brithday)$year\n",
    "  yt<-as.POSIXlt(today)$year\n",
    "  age<-yt-yb\n",
    "  return(age)\n",
    "  \n",
    "}"
   ]
  },
  {
   "cell_type": "code",
   "execution_count": 13,
   "metadata": {
    "collapsed": false
   },
   "outputs": [
    {
     "data": {
      "text/plain": [
       "  client_id      sex birth_date district_id age\n",
       "1         1        Ů 1970-12-13          18  40\n",
       "2         2 \\xc4\\xd0 1945-02-04           1  65\n",
       "3         3        Ů 1940-10-09           1  70\n",
       "4         4 \\xc4\\xd0 1956-12-01           5  54\n",
       "5         5        Ů 1960-07-03           5  50\n",
       "6         6 \\xc4\\xd0 1919-09-22          12  91\n"
      ]
     },
     "metadata": {},
     "output_type": "display_data"
    }
   ],
   "source": [
    "%%R\n",
    "\n",
    "clients <- read.csv(\"data/clients.csv\")\n",
    "\n",
    "clients$age<-lapply(clients$birth_date,a)\n",
    "\n",
    "head(clients)"
   ]
  },
  {
   "cell_type": "markdown",
   "metadata": {},
   "source": [
    "5、使用“clients”和“loans”数据，根据“birth_date”变量和“date”变量计算每个客户贷款时的年龄（age）变量。注意在连接表时，只保留账户的所有者，去除一般用户。"
   ]
  },
  {
   "cell_type": "code",
   "execution_count": 16,
   "metadata": {
    "collapsed": true
   },
   "outputs": [],
   "source": [
    "%%R\n",
    "\n",
    "s <- function(r){\n",
    "  \n",
    "  brithday<-strptime(r[\"birth_date\"], \"%Y-%m-%d\")\n",
    "  \n",
    "  today <-strptime(r[\"date\"], \"%Y-%m-%d\")\n",
    "  \n",
    "  yb<-as.POSIXlt(brithday)$year\n",
    "  yt<-as.POSIXlt(today)$year\n",
    "  age<-yt-yb\n",
    "  return(age)\n",
    "}"
   ]
  },
  {
   "cell_type": "code",
   "execution_count": 18,
   "metadata": {
    "collapsed": false
   },
   "outputs": [
    {
     "data": {
      "text/plain": [
       "  client_id      sex birth_date district_id age loan_id       date amount\n",
       "1         2 \\xc4\\xd0 1945-02-04           1  65    4959 1994-01-05  80952\n",
       "2        19 \\xc4\\xd0 1942-12-28          47  68    4961 1996-04-29  30276\n",
       "3        25        Ů 1939-04-23          21  71    4962 1997-12-08  30276\n",
       "4        37 \\xc4\\xd0 1970-08-10           7  40    4967 1998-10-14 318480\n",
       "5        38        Ů 1973-07-23          36  37    4968 1998-04-19 110736\n",
       "6        67        Ů 1932-11-11          29  78    4973 1996-05-02 165960\n",
       "  duration payments status bad_good loan_age\n",
       "1       24     3373      A        0       49\n",
       "2       12     2523      B        1       54\n",
       "3       12     2523      A        0       58\n",
       "4       60     5308      D        1       28\n",
       "5       48     2307      C       NA       25\n",
       "6       24     6915      A        0       64\n"
      ]
     },
     "metadata": {},
     "output_type": "display_data"
    }
   ],
   "source": [
    "%%R\n",
    "\n",
    "clients_loans<-merge(clients,loans,by.x = \"client_id\",by.y=\"account_id\")\n",
    "\n",
    "clients_loans$loan_age<- apply(clients_loans,1,s)\n",
    "\n",
    "head(clients_loans)"
   ]
  },
  {
   "cell_type": "code",
   "execution_count": null,
   "metadata": {
    "collapsed": true
   },
   "outputs": [],
   "source": []
  }
 ],
 "metadata": {
  "kernelspec": {
   "display_name": "Python 2",
   "language": "python",
   "name": "python2"
  },
  "language_info": {
   "codemirror_mode": {
    "name": "ipython",
    "version": 2
   },
   "file_extension": ".py",
   "mimetype": "text/x-python",
   "name": "python",
   "nbconvert_exporter": "python",
   "pygments_lexer": "ipython2",
   "version": "2.7.3"
  }
 },
 "nbformat": 4,
 "nbformat_minor": 0
}
