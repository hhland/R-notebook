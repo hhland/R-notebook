{
 "cells": [
  {
   "cell_type": "markdown",
   "metadata": {},
   "source": [
    "第一题：\n",
    "使用SQL语句完成以下任务\n",
    "统计一下不同借贷类型、交易类型、交易特征的发生频次，总交易额和平均交易额\n",
    "\n",
    "\n",
    "数据集为:\n"
   ]
  },
  {
   "cell_type": "code",
   "execution_count": 177,
   "metadata": {
    "collapsed": true
   },
   "outputs": [],
   "source": [
    "accounts <- read.csv(\"data/accounts.csv\",stringsAsFactors =F,fileEncoding=\"GBK\")\n",
    "card <- read.csv(\"data/card.csv\",stringsAsFactors =F,fileEncoding=\"GBK\")\n",
    "clients <- read.csv(\"data/clients.csv\",stringsAsFactors =F,fileEncoding=\"GBK\")\n",
    "disp <- read.csv(\"data/disp.csv\",stringsAsFactors =F,fileEncoding=\"GBK\")\n",
    "district<- read.csv(\"data/district.csv\",stringsAsFactors =F,fileEncoding=\"GBK\")\n",
    "loans <- read.csv(\"data/loans.csv\",stringsAsFactors =F,fileEncoding=\"GBK\")\n",
    "order <- read.csv(\"data/order.csv\",stringsAsFactors =F,fileEncoding=\"GBK\")\n",
    "trans <- read.csv(\"data/trans.csv\",stringsAsFactors =F,fileEncoding=\"GBK\")\n",
    "library(sqldf)"
   ]
  },
  {
   "cell_type": "code",
   "execution_count": 5,
   "metadata": {
    "collapsed": false
   },
   "outputs": [
    {
     "data": {
      "text/html": [
       "<table>\n",
       "<thead><tr><th scope=col>account_id</th><th scope=col>district_id</th><th scope=col>frequency</th><th scope=col>date</th></tr></thead>\n",
       "<tbody>\n",
       "\t<tr><td> 576      </td><td>55        </td><td>月结      </td><td>1993-01-01</td></tr>\n",
       "\t<tr><td>3818      </td><td>74        </td><td>月结      </td><td>1993-01-01</td></tr>\n",
       "\t<tr><td> 704      </td><td>55        </td><td>月结      </td><td>1993-01-01</td></tr>\n",
       "\t<tr><td>2378      </td><td>16        </td><td>月结      </td><td>1993-01-01</td></tr>\n",
       "\t<tr><td>2632      </td><td>24        </td><td>月结      </td><td>1993-01-02</td></tr>\n",
       "\t<tr><td>1972      </td><td>77        </td><td>月结      </td><td>1993-01-02</td></tr>\n",
       "</tbody>\n",
       "</table>\n"
      ],
      "text/latex": [
       "\\begin{tabular}{r|llll}\n",
       " account\\_id & district\\_id & frequency & date\\\\\n",
       "\\hline\n",
       "\t  576       & 55         & 月结       & 1993-01-01\\\\\n",
       "\t 3818       & 74         & 月结       & 1993-01-01\\\\\n",
       "\t  704       & 55         & 月结       & 1993-01-01\\\\\n",
       "\t 2378       & 16         & 月结       & 1993-01-01\\\\\n",
       "\t 2632       & 24         & 月结       & 1993-01-02\\\\\n",
       "\t 1972       & 77         & 月结       & 1993-01-02\\\\\n",
       "\\end{tabular}\n"
      ],
      "text/plain": [
       "  account_id district_id frequency date      \n",
       "1  576       55          月结      1993-01-01\n",
       "2 3818       74          月结      1993-01-01\n",
       "3  704       55          月结      1993-01-01\n",
       "4 2378       16          月结      1993-01-01\n",
       "5 2632       24          月结      1993-01-02\n",
       "6 1972       77          月结      1993-01-02"
      ]
     },
     "metadata": {},
     "output_type": "display_data"
    },
    {
     "data": {
      "text/html": [
       "<table>\n",
       "<thead><tr><th scope=col>card_id</th><th scope=col>disp_id</th><th scope=col>issued</th><th scope=col>type</th></tr></thead>\n",
       "<tbody>\n",
       "\t<tr><td>1005      </td><td>9285      </td><td>1993-11-07</td><td>普通卡    </td></tr>\n",
       "\t<tr><td> 104      </td><td> 588      </td><td>1994-01-19</td><td>普通卡    </td></tr>\n",
       "\t<tr><td> 747      </td><td>4915      </td><td>1994-02-05</td><td>普通卡    </td></tr>\n",
       "\t<tr><td>  70      </td><td> 439      </td><td>1994-02-08</td><td>普通卡    </td></tr>\n",
       "\t<tr><td> 577      </td><td>3687      </td><td>1994-02-15</td><td>普通卡    </td></tr>\n",
       "\t<tr><td> 377      </td><td>2429      </td><td>1994-03-03</td><td>普通卡    </td></tr>\n",
       "</tbody>\n",
       "</table>\n"
      ],
      "text/latex": [
       "\\begin{tabular}{r|llll}\n",
       " card\\_id & disp\\_id & issued & type\\\\\n",
       "\\hline\n",
       "\t 1005       & 9285       & 1993-11-07 & 普通卡    \\\\\n",
       "\t  104       &  588       & 1994-01-19 & 普通卡    \\\\\n",
       "\t  747       & 4915       & 1994-02-05 & 普通卡    \\\\\n",
       "\t   70       &  439       & 1994-02-08 & 普通卡    \\\\\n",
       "\t  577       & 3687       & 1994-02-15 & 普通卡    \\\\\n",
       "\t  377       & 2429       & 1994-03-03 & 普通卡    \\\\\n",
       "\\end{tabular}\n"
      ],
      "text/plain": [
       "  card_id disp_id issued     type  \n",
       "1 1005    9285    1993-11-07 普通卡\n",
       "2  104     588    1994-01-19 普通卡\n",
       "3  747    4915    1994-02-05 普通卡\n",
       "4   70     439    1994-02-08 普通卡\n",
       "5  577    3687    1994-02-15 普通卡\n",
       "6  377    2429    1994-03-03 普通卡"
      ]
     },
     "metadata": {},
     "output_type": "display_data"
    },
    {
     "data": {
      "text/html": [
       "<table>\n",
       "<thead><tr><th scope=col>client_id</th><th scope=col>sex</th><th scope=col>birth_date</th><th scope=col>district_id</th></tr></thead>\n",
       "<tbody>\n",
       "\t<tr><td>1         </td><td>女        </td><td>1970-12-13</td><td>18        </td></tr>\n",
       "\t<tr><td>2         </td><td>男        </td><td>1945-02-04</td><td> 1        </td></tr>\n",
       "\t<tr><td>3         </td><td>女        </td><td>1940-10-09</td><td> 1        </td></tr>\n",
       "\t<tr><td>4         </td><td>男        </td><td>1956-12-01</td><td> 5        </td></tr>\n",
       "\t<tr><td>5         </td><td>女        </td><td>1960-07-03</td><td> 5        </td></tr>\n",
       "\t<tr><td>6         </td><td>男        </td><td>1919-09-22</td><td>12        </td></tr>\n",
       "</tbody>\n",
       "</table>\n"
      ],
      "text/latex": [
       "\\begin{tabular}{r|llll}\n",
       " client\\_id & sex & birth\\_date & district\\_id\\\\\n",
       "\\hline\n",
       "\t 1          & 女         & 1970-12-13 & 18        \\\\\n",
       "\t 2          & 男         & 1945-02-04 &  1        \\\\\n",
       "\t 3          & 女         & 1940-10-09 &  1        \\\\\n",
       "\t 4          & 男         & 1956-12-01 &  5        \\\\\n",
       "\t 5          & 女         & 1960-07-03 &  5        \\\\\n",
       "\t 6          & 男         & 1919-09-22 & 12        \\\\\n",
       "\\end{tabular}\n"
      ],
      "text/plain": [
       "  client_id sex birth_date district_id\n",
       "1 1         女  1970-12-13 18         \n",
       "2 2         男  1945-02-04  1         \n",
       "3 3         女  1940-10-09  1         \n",
       "4 4         男  1956-12-01  5         \n",
       "5 5         女  1960-07-03  5         \n",
       "6 6         男  1919-09-22 12         "
      ]
     },
     "metadata": {},
     "output_type": "display_data"
    }
   ],
   "source": [
    "head(accounts)\n",
    "head(card)\n",
    "head(clients)\n"
   ]
  },
  {
   "cell_type": "code",
   "execution_count": 6,
   "metadata": {
    "collapsed": false
   },
   "outputs": [
    {
     "data": {
      "text/html": [
       "<table>\n",
       "<thead><tr><th scope=col>disp_id</th><th scope=col>client_id</th><th scope=col>account_id</th><th scope=col>type</th></tr></thead>\n",
       "<tbody>\n",
       "\t<tr><td>1     </td><td>1     </td><td>1     </td><td>所有者</td></tr>\n",
       "\t<tr><td>2     </td><td>2     </td><td>2     </td><td>所有者</td></tr>\n",
       "\t<tr><td>3     </td><td>3     </td><td>2     </td><td>用户  </td></tr>\n",
       "\t<tr><td>4     </td><td>4     </td><td>3     </td><td>所有者</td></tr>\n",
       "\t<tr><td>5     </td><td>5     </td><td>3     </td><td>用户  </td></tr>\n",
       "\t<tr><td>6     </td><td>6     </td><td>4     </td><td>所有者</td></tr>\n",
       "</tbody>\n",
       "</table>\n"
      ],
      "text/latex": [
       "\\begin{tabular}{r|llll}\n",
       " disp\\_id & client\\_id & account\\_id & type\\\\\n",
       "\\hline\n",
       "\t 1      & 1      & 1      & 所有者\\\\\n",
       "\t 2      & 2      & 2      & 所有者\\\\\n",
       "\t 3      & 3      & 2      & 用户  \\\\\n",
       "\t 4      & 4      & 3      & 所有者\\\\\n",
       "\t 5      & 5      & 3      & 用户  \\\\\n",
       "\t 6      & 6      & 4      & 所有者\\\\\n",
       "\\end{tabular}\n"
      ],
      "text/plain": [
       "  disp_id client_id account_id type  \n",
       "1 1       1         1          所有者\n",
       "2 2       2         2          所有者\n",
       "3 3       3         2          用户  \n",
       "4 4       4         3          所有者\n",
       "5 5       5         3          用户  \n",
       "6 6       6         4          所有者"
      ]
     },
     "metadata": {},
     "output_type": "display_data"
    },
    {
     "data": {
      "text/html": [
       "<table>\n",
       "<thead><tr><th scope=col>A1</th><th scope=col>GDP</th><th scope=col>A4</th><th scope=col>A10</th><th scope=col>A11</th><th scope=col>A12</th><th scope=col>A13</th><th scope=col>A14</th><th scope=col>A15</th><th scope=col>a16</th></tr></thead>\n",
       "<tbody>\n",
       "\t<tr><td>1      </td><td>283894 </td><td>1204953</td><td>100.0  </td><td>12541  </td><td>0.29   </td><td>0.43   </td><td>167    </td><td>35.6   </td><td>41.1   </td></tr>\n",
       "\t<tr><td>2      </td><td> 11655 </td><td>  88884</td><td> 46.7  </td><td> 8507  </td><td>1.67   </td><td>1.85   </td><td>132    </td><td>12.1   </td><td>15.0   </td></tr>\n",
       "\t<tr><td>3      </td><td> 13146 </td><td>  75232</td><td> 41.7  </td><td> 8980  </td><td>1.95   </td><td>2.21   </td><td>111    </td><td>18.8   </td><td>18.7   </td></tr>\n",
       "\t<tr><td>4      </td><td> 16108 </td><td> 149893</td><td> 67.4  </td><td> 9753  </td><td>4.64   </td><td>5.05   </td><td>109    </td><td>17.5   </td><td>19.7   </td></tr>\n",
       "\t<tr><td>5      </td><td> 13452 </td><td>  95616</td><td> 51.4  </td><td> 9307  </td><td>3.85   </td><td>4.43   </td><td>118    </td><td>13.7   </td><td>15.9   </td></tr>\n",
       "\t<tr><td>6      </td><td> 12268 </td><td>  77963</td><td> 51.5  </td><td> 8546  </td><td>2.95   </td><td>4.02   </td><td>126    </td><td>16.9   </td><td>20.0   </td></tr>\n",
       "</tbody>\n",
       "</table>\n"
      ],
      "text/latex": [
       "\\begin{tabular}{r|llllllllll}\n",
       " A1 & GDP & A4 & A10 & A11 & A12 & A13 & A14 & A15 & a16\\\\\n",
       "\\hline\n",
       "\t 1       & 283894  & 1204953 & 100.0   & 12541   & 0.29    & 0.43    & 167     & 35.6    & 41.1   \\\\\n",
       "\t 2       &  11655  &   88884 &  46.7   &  8507   & 1.67    & 1.85    & 132     & 12.1    & 15.0   \\\\\n",
       "\t 3       &  13146  &   75232 &  41.7   &  8980   & 1.95    & 2.21    & 111     & 18.8    & 18.7   \\\\\n",
       "\t 4       &  16108  &  149893 &  67.4   &  9753   & 4.64    & 5.05    & 109     & 17.5    & 19.7   \\\\\n",
       "\t 5       &  13452  &   95616 &  51.4   &  9307   & 3.85    & 4.43    & 118     & 13.7    & 15.9   \\\\\n",
       "\t 6       &  12268  &   77963 &  51.5   &  8546   & 2.95    & 4.02    & 126     & 16.9    & 20.0   \\\\\n",
       "\\end{tabular}\n"
      ],
      "text/plain": [
       "  A1 GDP    A4      A10   A11   A12  A13  A14 A15  a16 \n",
       "1 1  283894 1204953 100.0 12541 0.29 0.43 167 35.6 41.1\n",
       "2 2   11655   88884  46.7  8507 1.67 1.85 132 12.1 15.0\n",
       "3 3   13146   75232  41.7  8980 1.95 2.21 111 18.8 18.7\n",
       "4 4   16108  149893  67.4  9753 4.64 5.05 109 17.5 19.7\n",
       "5 5   13452   95616  51.4  9307 3.85 4.43 118 13.7 15.9\n",
       "6 6   12268   77963  51.5  8546 2.95 4.02 126 16.9 20.0"
      ]
     },
     "metadata": {},
     "output_type": "display_data"
    },
    {
     "data": {
      "text/html": [
       "<table>\n",
       "<thead><tr><th scope=col>loan_id</th><th scope=col>account_id</th><th scope=col>date</th><th scope=col>amount</th><th scope=col>duration</th><th scope=col>payments</th><th scope=col>status</th></tr></thead>\n",
       "<tbody>\n",
       "\t<tr><td>5314      </td><td> 1787     </td><td>1993-07-05</td><td> 96396    </td><td>12        </td><td>8033      </td><td>B         </td></tr>\n",
       "\t<tr><td>5316      </td><td> 1801     </td><td>1993-07-11</td><td>165960    </td><td>36        </td><td>4610      </td><td>A         </td></tr>\n",
       "\t<tr><td>6863      </td><td> 9188     </td><td>1993-07-28</td><td>127080    </td><td>60        </td><td>2118      </td><td>A         </td></tr>\n",
       "\t<tr><td>5325      </td><td> 1843     </td><td>1993-08-03</td><td>105804    </td><td>36        </td><td>2939      </td><td>A         </td></tr>\n",
       "\t<tr><td>7240      </td><td>11013     </td><td>1993-09-06</td><td>274740    </td><td>60        </td><td>4579      </td><td>A         </td></tr>\n",
       "\t<tr><td>6687      </td><td> 8261     </td><td>1993-09-13</td><td> 87840    </td><td>24        </td><td>3660      </td><td>A         </td></tr>\n",
       "</tbody>\n",
       "</table>\n"
      ],
      "text/latex": [
       "\\begin{tabular}{r|lllllll}\n",
       " loan\\_id & account\\_id & date & amount & duration & payments & status\\\\\n",
       "\\hline\n",
       "\t 5314       &  1787      & 1993-07-05 &  96396     & 12         & 8033       & B         \\\\\n",
       "\t 5316       &  1801      & 1993-07-11 & 165960     & 36         & 4610       & A         \\\\\n",
       "\t 6863       &  9188      & 1993-07-28 & 127080     & 60         & 2118       & A         \\\\\n",
       "\t 5325       &  1843      & 1993-08-03 & 105804     & 36         & 2939       & A         \\\\\n",
       "\t 7240       & 11013      & 1993-09-06 & 274740     & 60         & 4579       & A         \\\\\n",
       "\t 6687       &  8261      & 1993-09-13 &  87840     & 24         & 3660       & A         \\\\\n",
       "\\end{tabular}\n"
      ],
      "text/plain": [
       "  loan_id account_id date       amount duration payments status\n",
       "1 5314     1787      1993-07-05  96396 12       8033     B     \n",
       "2 5316     1801      1993-07-11 165960 36       4610     A     \n",
       "3 6863     9188      1993-07-28 127080 60       2118     A     \n",
       "4 5325     1843      1993-08-03 105804 36       2939     A     \n",
       "5 7240    11013      1993-09-06 274740 60       4579     A     \n",
       "6 6687     8261      1993-09-13  87840 24       3660     A     "
      ]
     },
     "metadata": {},
     "output_type": "display_data"
    }
   ],
   "source": [
    "head(disp)\n",
    "head(district)\n",
    "head(loans)\n"
   ]
  },
  {
   "cell_type": "code",
   "execution_count": 7,
   "metadata": {
    "collapsed": false
   },
   "outputs": [
    {
     "data": {
      "text/html": [
       "<table>\n",
       "<thead><tr><th scope=col>order_id</th><th scope=col>account_id</th><th scope=col>bank_to</th><th scope=col>account_to</th><th scope=col>amount</th><th scope=col>k_symbol</th></tr></thead>\n",
       "<tbody>\n",
       "\t<tr><td>29405   </td><td> 3      </td><td>CD      </td><td>24485939</td><td> 327    </td><td>        </td></tr>\n",
       "\t<tr><td>29413   </td><td> 8      </td><td>IJ      </td><td>93210345</td><td>6712    </td><td>        </td></tr>\n",
       "\t<tr><td>29430   </td><td>24      </td><td>QR      </td><td>46086388</td><td>7641    </td><td>        </td></tr>\n",
       "\t<tr><td>29433   </td><td>25      </td><td>AB      </td><td>79838293</td><td>1110    </td><td>        </td></tr>\n",
       "\t<tr><td>29440   </td><td>29      </td><td>MN      </td><td>93088209</td><td> 829    </td><td>        </td></tr>\n",
       "\t<tr><td>29447   </td><td>34      </td><td>IJ      </td><td>58999049</td><td>6070    </td><td>        </td></tr>\n",
       "</tbody>\n",
       "</table>\n"
      ],
      "text/latex": [
       "\\begin{tabular}{r|llllll}\n",
       " order\\_id & account\\_id & bank\\_to & account\\_to & amount & k\\_symbol\\\\\n",
       "\\hline\n",
       "\t 29405    &  3       & CD       & 24485939 &  327     &         \\\\\n",
       "\t 29413    &  8       & IJ       & 93210345 & 6712     &         \\\\\n",
       "\t 29430    & 24       & QR       & 46086388 & 7641     &         \\\\\n",
       "\t 29433    & 25       & AB       & 79838293 & 1110     &         \\\\\n",
       "\t 29440    & 29       & MN       & 93088209 &  829     &         \\\\\n",
       "\t 29447    & 34       & IJ       & 58999049 & 6070     &         \\\\\n",
       "\\end{tabular}\n"
      ],
      "text/plain": [
       "  order_id account_id bank_to account_to amount k_symbol\n",
       "1 29405     3         CD      24485939    327           \n",
       "2 29413     8         IJ      93210345   6712           \n",
       "3 29430    24         QR      46086388   7641           \n",
       "4 29433    25         AB      79838293   1110           \n",
       "5 29440    29         MN      93088209    829           \n",
       "6 29447    34         IJ      58999049   6070           "
      ]
     },
     "metadata": {},
     "output_type": "display_data"
    },
    {
     "data": {
      "text/html": [
       "<table>\n",
       "<thead><tr><th scope=col>trans_id</th><th scope=col>account_id</th><th scope=col>date</th><th scope=col>type</th><th scope=col>operation</th><th scope=col>amount</th><th scope=col>balance</th><th scope=col>k_symbol</th><th scope=col>bank</th><th scope=col>account</th></tr></thead>\n",
       "<tbody>\n",
       "\t<tr><td> 695247   </td><td>2378      </td><td>1993-01-01</td><td>贷        </td><td>信贷资金  </td><td>$700      </td><td>$700      </td><td>          </td><td>          </td><td>NA        </td></tr>\n",
       "\t<tr><td> 171812   </td><td> 576      </td><td>1993-01-01</td><td>贷        </td><td>信贷资金  </td><td>$900      </td><td>$900      </td><td>          </td><td>          </td><td>NA        </td></tr>\n",
       "\t<tr><td> 207264   </td><td> 704      </td><td>1993-01-01</td><td>贷        </td><td>信贷资金  </td><td>$1,000    </td><td>$1,000    </td><td>          </td><td>          </td><td>NA        </td></tr>\n",
       "\t<tr><td>1117247   </td><td>3818      </td><td>1993-01-01</td><td>贷        </td><td>信贷资金  </td><td>$600      </td><td>$600      </td><td>          </td><td>          </td><td>NA        </td></tr>\n",
       "\t<tr><td> 579373   </td><td>1972      </td><td>1993-01-02</td><td>贷        </td><td>信贷资金  </td><td>$400      </td><td>$400      </td><td>          </td><td>          </td><td>NA        </td></tr>\n",
       "\t<tr><td> 771035   </td><td>2632      </td><td>1993-01-02</td><td>贷        </td><td>信贷资金  </td><td>$1,100    </td><td>$1,100    </td><td>          </td><td>          </td><td>NA        </td></tr>\n",
       "</tbody>\n",
       "</table>\n"
      ],
      "text/latex": [
       "\\begin{tabular}{r|llllllllll}\n",
       " trans\\_id & account\\_id & date & type & operation & amount & balance & k\\_symbol & bank & account\\\\\n",
       "\\hline\n",
       "\t  695247    & 2378       & 1993-01-01 & 贷         & 信贷资金   & \\$700     & \\$700     &            &            & NA        \\\\\n",
       "\t  171812    &  576       & 1993-01-01 & 贷         & 信贷资金   & \\$900     & \\$900     &            &            & NA        \\\\\n",
       "\t  207264    &  704       & 1993-01-01 & 贷         & 信贷资金   & \\$1,000   & \\$1,000   &            &            & NA        \\\\\n",
       "\t 1117247    & 3818       & 1993-01-01 & 贷         & 信贷资金   & \\$600     & \\$600     &            &            & NA        \\\\\n",
       "\t  579373    & 1972       & 1993-01-02 & 贷         & 信贷资金   & \\$400     & \\$400     &            &            & NA        \\\\\n",
       "\t  771035    & 2632       & 1993-01-02 & 贷         & 信贷资金   & \\$1,100   & \\$1,100   &            &            & NA        \\\\\n",
       "\\end{tabular}\n"
      ],
      "text/plain": [
       "  trans_id account_id date       type operation amount balance k_symbol bank\n",
       "1  695247  2378       1993-01-01 贷   信贷资金  $700   $700                 \n",
       "2  171812   576       1993-01-01 贷   信贷资金  $900   $900                 \n",
       "3  207264   704       1993-01-01 贷   信贷资金  $1,000 $1,000               \n",
       "4 1117247  3818       1993-01-01 贷   信贷资金  $600   $600                 \n",
       "5  579373  1972       1993-01-02 贷   信贷资金  $400   $400                 \n",
       "6  771035  2632       1993-01-02 贷   信贷资金  $1,100 $1,100               \n",
       "  account\n",
       "1 NA     \n",
       "2 NA     \n",
       "3 NA     \n",
       "4 NA     \n",
       "5 NA     \n",
       "6 NA     "
      ]
     },
     "metadata": {},
     "output_type": "display_data"
    }
   ],
   "source": [
    "head(order)\n",
    "head(trans)"
   ]
  },
  {
   "cell_type": "code",
   "execution_count": 76,
   "metadata": {
    "collapsed": true
   },
   "outputs": [],
   "source": [
    "trans$amount <- as.numeric(substr(gsub(\",\",\"\",trans$amount),2,nchar(trans$amount)))\n"
   ]
  },
  {
   "cell_type": "code",
   "execution_count": 125,
   "metadata": {
    "collapsed": false
   },
   "outputs": [
    {
     "name": "stdout",
     "output_type": "stream",
     "text": [
      "  type   freq sum_amount avg_amount\n",
      "1   借 634571 2821775775   4446.746\n",
      "2   贷 421749 3436086422   8147.231\n",
      "         operation   freq sum_amount avg_amount\n",
      "1                  183114   27479762   150.0691\n",
      "2       从他行收款  65226  781479953 11981.1111\n",
      "3       信用卡借方   8036   18170400  2261.1249\n",
      "4         信贷资金 156743 2418522949 15429.8626\n",
      "5 汇款到另一家银行 208283  672638484  3229.4450\n",
      "6             现金 434918 2339570649  5379.3374\n",
      "  k_symbol   freq sum_amount avg_amount\n",
      "1          535314 5482193926 10241.0808\n",
      "2   保险费  18500   24175193  1306.7672\n",
      "3   养老金  30338  167472118  5520.2096\n",
      "4 利息所得 184691   27517498   148.9921\n",
      "5 房屋贷款 118065  498506416  4222.3048\n",
      "6 支付贷款  13580   55253001  4068.7041\n",
      "7     支票 155832    2744045    17.6090\n"
     ]
    }
   ],
   "source": [
    "\n",
    "cols<-c(\"type\",\"operation\",\"k_symbol\")\n",
    "\n",
    "for(col in cols){\n",
    "\n",
    "    sql <- sprintf(\"select %s,count(%s) as freq,sum(amount) as sum_amount,avg(amount) as avg_amount \n",
    "    from trans group by %s\",col,col,col)\n",
    "\n",
    "    d<- sqldf(sql)\n",
    "\n",
    "    print(d)\n",
    "    \n",
    "}\n",
    "\n",
    "\n",
    "\n"
   ]
  },
  {
   "cell_type": "markdown",
   "metadata": {},
   "source": [
    "第二题：\n",
    "使用SQL语句完成以下任务\n",
    "根据借贷类型、交易特征这两个变量，获取账户中贷款前2年各类的支出情况的均值和标准差，账户中前2年各类收入情况的均值和标准差。每种支出和收入的交易特征产生一个变量（使用R的转置），\n",
    "\n",
    "最后计算总的出入账比率（各项支出的总和除以各项收入的总和）。\n",
    "\n",
    "说明：借贷类型中（type），借代表账户出款的项目，贷代表账户入款的项目。"
   ]
  },
  {
   "cell_type": "code",
   "execution_count": 67,
   "metadata": {
    "collapsed": false
   },
   "outputs": [
    {
     "data": {
      "text/html": [
       "<table>\n",
       "<thead><tr><th scope=col>loan_id</th><th scope=col>account_id</th><th scope=col>date</th><th scope=col>amount</th><th scope=col>duration</th><th scope=col>payments</th><th scope=col>status</th><th scope=col>t_date</th></tr></thead>\n",
       "<tbody>\n",
       "\t<tr><td>5314      </td><td> 1787     </td><td>1993-07-05</td><td> 96396    </td><td>12        </td><td>8033      </td><td>B         </td><td>1993-07-05</td></tr>\n",
       "\t<tr><td>5316      </td><td> 1801     </td><td>1993-07-11</td><td>165960    </td><td>36        </td><td>4610      </td><td>A         </td><td>1993-07-11</td></tr>\n",
       "\t<tr><td>6863      </td><td> 9188     </td><td>1993-07-28</td><td>127080    </td><td>60        </td><td>2118      </td><td>A         </td><td>1993-07-28</td></tr>\n",
       "\t<tr><td>5325      </td><td> 1843     </td><td>1993-08-03</td><td>105804    </td><td>36        </td><td>2939      </td><td>A         </td><td>1993-08-03</td></tr>\n",
       "\t<tr><td>7240      </td><td>11013     </td><td>1993-09-06</td><td>274740    </td><td>60        </td><td>4579      </td><td>A         </td><td>1993-09-06</td></tr>\n",
       "\t<tr><td>6687      </td><td> 8261     </td><td>1993-09-13</td><td> 87840    </td><td>24        </td><td>3660      </td><td>A         </td><td>1993-09-13</td></tr>\n",
       "</tbody>\n",
       "</table>\n"
      ],
      "text/latex": [
       "\\begin{tabular}{r|llllllll}\n",
       " loan\\_id & account\\_id & date & amount & duration & payments & status & t\\_date\\\\\n",
       "\\hline\n",
       "\t 5314       &  1787      & 1993-07-05 &  96396     & 12         & 8033       & B          & 1993-07-05\\\\\n",
       "\t 5316       &  1801      & 1993-07-11 & 165960     & 36         & 4610       & A          & 1993-07-11\\\\\n",
       "\t 6863       &  9188      & 1993-07-28 & 127080     & 60         & 2118       & A          & 1993-07-28\\\\\n",
       "\t 5325       &  1843      & 1993-08-03 & 105804     & 36         & 2939       & A          & 1993-08-03\\\\\n",
       "\t 7240       & 11013      & 1993-09-06 & 274740     & 60         & 4579       & A          & 1993-09-06\\\\\n",
       "\t 6687       &  8261      & 1993-09-13 &  87840     & 24         & 3660       & A          & 1993-09-13\\\\\n",
       "\\end{tabular}\n"
      ],
      "text/plain": [
       "  loan_id account_id date       amount duration payments status t_date    \n",
       "1 5314     1787      1993-07-05  96396 12       8033     B      1993-07-05\n",
       "2 5316     1801      1993-07-11 165960 36       4610     A      1993-07-11\n",
       "3 6863     9188      1993-07-28 127080 60       2118     A      1993-07-28\n",
       "4 5325     1843      1993-08-03 105804 36       2939     A      1993-08-03\n",
       "5 7240    11013      1993-09-06 274740 60       4579     A      1993-09-06\n",
       "6 6687     8261      1993-09-13  87840 24       3660     A      1993-09-13"
      ]
     },
     "metadata": {},
     "output_type": "display_data"
    }
   ],
   "source": [
    "head(loans)"
   ]
  },
  {
   "cell_type": "code",
   "execution_count": 93,
   "metadata": {
    "collapsed": false
   },
   "outputs": [
    {
     "data": {
      "text/html": [
       "<table>\n",
       "<thead><tr><th></th><th scope=col>account_id</th><th scope=col>tr_date</th><th scope=col>lo_date</th><th scope=col>amount</th><th scope=col>type</th><th scope=col>k_symbol</th></tr></thead>\n",
       "<tbody>\n",
       "\t<tr><th scope=row>240</th><td>2         </td><td>1993-02-26</td><td>1994-01-05</td><td> 1100     </td><td>贷        </td><td>          </td></tr>\n",
       "\t<tr><th scope=row>241</th><td>2         </td><td>1993-03-12</td><td>1994-01-05</td><td>20236     </td><td>贷        </td><td>          </td></tr>\n",
       "\t<tr><th scope=row>242</th><td>2         </td><td>1993-03-28</td><td>1994-01-05</td><td> 3700     </td><td>贷        </td><td>          </td></tr>\n",
       "\t<tr><th scope=row>243</th><td>2         </td><td>1993-03-31</td><td>1994-01-05</td><td>   14     </td><td>贷        </td><td>利息所得  </td></tr>\n",
       "\t<tr><th scope=row>244</th><td>2         </td><td>1993-04-12</td><td>1994-01-05</td><td>20236     </td><td>贷        </td><td>          </td></tr>\n",
       "\t<tr><th scope=row>245</th><td>2         </td><td>1993-04-27</td><td>1994-01-05</td><td>11000     </td><td>借        </td><td>          </td></tr>\n",
       "</tbody>\n",
       "</table>\n"
      ],
      "text/latex": [
       "\\begin{tabular}{r|llllll}\n",
       "  & account\\_id & tr\\_date & lo\\_date & amount & type & k\\_symbol\\\\\n",
       "\\hline\n",
       "\t240 & 2          & 1993-02-26 & 1994-01-05 &  1100      & 贷         &           \\\\\n",
       "\t241 & 2          & 1993-03-12 & 1994-01-05 & 20236      & 贷         &           \\\\\n",
       "\t242 & 2          & 1993-03-28 & 1994-01-05 &  3700      & 贷         &           \\\\\n",
       "\t243 & 2          & 1993-03-31 & 1994-01-05 &    14      & 贷         & 利息所得  \\\\\n",
       "\t244 & 2          & 1993-04-12 & 1994-01-05 & 20236      & 贷         &           \\\\\n",
       "\t245 & 2          & 1993-04-27 & 1994-01-05 & 11000      & 借         &           \\\\\n",
       "\\end{tabular}\n"
      ],
      "text/plain": [
       "    account_id tr_date    lo_date    amount type k_symbol\n",
       "240 2          1993-02-26 1994-01-05  1100  贷           \n",
       "241 2          1993-03-12 1994-01-05 20236  贷           \n",
       "242 2          1993-03-28 1994-01-05  3700  贷           \n",
       "243 2          1993-03-31 1994-01-05    14  贷   利息所得\n",
       "244 2          1993-04-12 1994-01-05 20236  贷           \n",
       "245 2          1993-04-27 1994-01-05 11000  借           "
      ]
     },
     "metadata": {},
     "output_type": "display_data"
    }
   ],
   "source": [
    "\n",
    "loans_d<-sqldf(\"select account_id,min(date) as lo_date from loans group by account_id\")\n",
    "\n",
    "trans_d<-sqldf(\"select tr.account_id,tr.date as tr_date,lo.lo_date, tr.amount,tr.type,tr.k_symbol                \n",
    "from trans as tr \n",
    "left join loans_d as lo on lo.account_id=tr.account_id\n",
    "order by tr.account_id\")\n",
    "\n",
    "trans_d2<- trans_d[is.na(trans_d$lo_date)==F,]\n",
    "\n",
    "head(trans_d2)\n"
   ]
  },
  {
   "cell_type": "code",
   "execution_count": 96,
   "metadata": {
    "collapsed": false
   },
   "outputs": [
    {
     "data": {
      "text/html": [
       "<table>\n",
       "<thead><tr><th></th><th scope=col>account_id</th><th scope=col>tr_date</th><th scope=col>lo_date</th><th scope=col>amount</th><th scope=col>type</th><th scope=col>k_symbol</th></tr></thead>\n",
       "<tbody>\n",
       "\t<tr><th scope=row>240</th><td>2         </td><td>1993-02-26</td><td>1994-01-05</td><td> 1100     </td><td>贷        </td><td>other     </td></tr>\n",
       "\t<tr><th scope=row>241</th><td>2         </td><td>1993-03-12</td><td>1994-01-05</td><td>20236     </td><td>贷        </td><td>other     </td></tr>\n",
       "\t<tr><th scope=row>242</th><td>2         </td><td>1993-03-28</td><td>1994-01-05</td><td> 3700     </td><td>贷        </td><td>other     </td></tr>\n",
       "\t<tr><th scope=row>243</th><td>2         </td><td>1993-03-31</td><td>1994-01-05</td><td>   14     </td><td>贷        </td><td>利息所得  </td></tr>\n",
       "\t<tr><th scope=row>244</th><td>2         </td><td>1993-04-12</td><td>1994-01-05</td><td>20236     </td><td>贷        </td><td>other     </td></tr>\n",
       "\t<tr><th scope=row>245</th><td>2         </td><td>1993-04-27</td><td>1994-01-05</td><td>11000     </td><td>借        </td><td>other     </td></tr>\n",
       "</tbody>\n",
       "</table>\n"
      ],
      "text/latex": [
       "\\begin{tabular}{r|llllll}\n",
       "  & account\\_id & tr\\_date & lo\\_date & amount & type & k\\_symbol\\\\\n",
       "\\hline\n",
       "\t240 & 2          & 1993-02-26 & 1994-01-05 &  1100      & 贷         & other     \\\\\n",
       "\t241 & 2          & 1993-03-12 & 1994-01-05 & 20236      & 贷         & other     \\\\\n",
       "\t242 & 2          & 1993-03-28 & 1994-01-05 &  3700      & 贷         & other     \\\\\n",
       "\t243 & 2          & 1993-03-31 & 1994-01-05 &    14      & 贷         & 利息所得  \\\\\n",
       "\t244 & 2          & 1993-04-12 & 1994-01-05 & 20236      & 贷         & other     \\\\\n",
       "\t245 & 2          & 1993-04-27 & 1994-01-05 & 11000      & 借         & other     \\\\\n",
       "\\end{tabular}\n"
      ],
      "text/plain": [
       "    account_id tr_date    lo_date    amount type k_symbol\n",
       "240 2          1993-02-26 1994-01-05  1100  贷   other   \n",
       "241 2          1993-03-12 1994-01-05 20236  贷   other   \n",
       "242 2          1993-03-28 1994-01-05  3700  贷   other   \n",
       "243 2          1993-03-31 1994-01-05    14  贷   利息所得\n",
       "244 2          1993-04-12 1994-01-05 20236  贷   other   \n",
       "245 2          1993-04-27 1994-01-05 11000  借   other   "
      ]
     },
     "metadata": {},
     "output_type": "display_data"
    }
   ],
   "source": [
    "trans_d2$tr_date<-as.Date(trans_d2$tr_date)\n",
    "trans_d2$lo_date<-as.Date(trans_d2$lo_date)\n",
    "\n",
    "trans_d2[trans_d2$k_symbol==\"\",]$k_symbol=\"other\"\n",
    "\n",
    "head(trans_d2)"
   ]
  },
  {
   "cell_type": "code",
   "execution_count": 98,
   "metadata": {
    "collapsed": false
   },
   "outputs": [
    {
     "data": {
      "text/html": [
       "<table>\n",
       "<thead><tr><th></th><th scope=col>account_id</th><th scope=col>tr_date</th><th scope=col>lo_date</th><th scope=col>amount</th><th scope=col>type</th><th scope=col>k_symbol</th></tr></thead>\n",
       "<tbody>\n",
       "\t<tr><th scope=row>240</th><td>2         </td><td>1993-02-26</td><td>1994-01-05</td><td> 1100     </td><td>贷        </td><td>other     </td></tr>\n",
       "\t<tr><th scope=row>241</th><td>2         </td><td>1993-03-12</td><td>1994-01-05</td><td>20236     </td><td>贷        </td><td>other     </td></tr>\n",
       "\t<tr><th scope=row>242</th><td>2         </td><td>1993-03-28</td><td>1994-01-05</td><td> 3700     </td><td>贷        </td><td>other     </td></tr>\n",
       "\t<tr><th scope=row>243</th><td>2         </td><td>1993-03-31</td><td>1994-01-05</td><td>   14     </td><td>贷        </td><td>利息所得  </td></tr>\n",
       "\t<tr><th scope=row>244</th><td>2         </td><td>1993-04-12</td><td>1994-01-05</td><td>20236     </td><td>贷        </td><td>other     </td></tr>\n",
       "\t<tr><th scope=row>245</th><td>2         </td><td>1993-04-27</td><td>1994-01-05</td><td>11000     </td><td>借        </td><td>other     </td></tr>\n",
       "</tbody>\n",
       "</table>\n"
      ],
      "text/latex": [
       "\\begin{tabular}{r|llllll}\n",
       "  & account\\_id & tr\\_date & lo\\_date & amount & type & k\\_symbol\\\\\n",
       "\\hline\n",
       "\t240 & 2          & 1993-02-26 & 1994-01-05 &  1100      & 贷         & other     \\\\\n",
       "\t241 & 2          & 1993-03-12 & 1994-01-05 & 20236      & 贷         & other     \\\\\n",
       "\t242 & 2          & 1993-03-28 & 1994-01-05 &  3700      & 贷         & other     \\\\\n",
       "\t243 & 2          & 1993-03-31 & 1994-01-05 &    14      & 贷         & 利息所得  \\\\\n",
       "\t244 & 2          & 1993-04-12 & 1994-01-05 & 20236      & 贷         & other     \\\\\n",
       "\t245 & 2          & 1993-04-27 & 1994-01-05 & 11000      & 借         & other     \\\\\n",
       "\\end{tabular}\n"
      ],
      "text/plain": [
       "    account_id tr_date    lo_date    amount type k_symbol\n",
       "240 2          1993-02-26 1994-01-05  1100  贷   other   \n",
       "241 2          1993-03-12 1994-01-05 20236  贷   other   \n",
       "242 2          1993-03-28 1994-01-05  3700  贷   other   \n",
       "243 2          1993-03-31 1994-01-05    14  贷   利息所得\n",
       "244 2          1993-04-12 1994-01-05 20236  贷   other   \n",
       "245 2          1993-04-27 1994-01-05 11000  借   other   "
      ]
     },
     "metadata": {},
     "output_type": "display_data"
    }
   ],
   "source": [
    "trans_d3<-trans_d2[trans_d2$tr_date>=trans_d2$lo_date-(365*2) \n",
    "              & trans_d2$tr_date<=trans_d2$lo_date,]\n",
    "head(trans_d3)"
   ]
  },
  {
   "cell_type": "code",
   "execution_count": 103,
   "metadata": {
    "collapsed": false
   },
   "outputs": [
    {
     "data": {
      "text/html": [
       "<table>\n",
       "<thead><tr><th scope=col>type</th><th scope=col>k_symbol</th><th scope=col>avg_amount</th><th scope=col>stdev_amount</th><th scope=col>sum_amount</th></tr></thead>\n",
       "<tbody>\n",
       "\t<tr><td>借          </td><td>other       </td><td> 9367.950113</td><td>10890.86538 </td><td>191349749   </td></tr>\n",
       "\t<tr><td>借          </td><td>保险费      </td><td> 1486.798913</td><td> 2044.47223 </td><td>  1641426   </td></tr>\n",
       "\t<tr><td>借          </td><td>利息所得    </td><td>    9.658537</td><td>   15.06137 </td><td>      792   </td></tr>\n",
       "\t<tr><td>借          </td><td>房屋贷款    </td><td> 5462.594608</td><td> 3389.16577 </td><td> 21478922   </td></tr>\n",
       "\t<tr><td>借          </td><td>支付贷款    </td><td> 3986.909091</td><td> 2242.63034 </td><td>    87712   </td></tr>\n",
       "\t<tr><td>借          </td><td>支票        </td><td>   20.571628</td><td>   17.33245 </td><td>   118040   </td></tr>\n",
       "\t<tr><td>贷          </td><td>other       </td><td>20087.936878</td><td>14548.63546 </td><td>282597096   </td></tr>\n",
       "\t<tr><td>贷          </td><td>利息所得    </td><td>  167.298377</td><td>   84.58797 </td><td>  1587327   </td></tr>\n",
       "</tbody>\n",
       "</table>\n"
      ],
      "text/latex": [
       "\\begin{tabular}{r|lllll}\n",
       " type & k\\_symbol & avg\\_amount & stdev\\_amount & sum\\_amount\\\\\n",
       "\\hline\n",
       "\t 借           & other        &  9367.950113 & 10890.86538  & 191349749   \\\\\n",
       "\t 借           & 保险费       &  1486.798913 &  2044.47223  &   1641426   \\\\\n",
       "\t 借           & 利息所得     &     9.658537 &    15.06137  &       792   \\\\\n",
       "\t 借           & 房屋贷款     &  5462.594608 &  3389.16577  &  21478922   \\\\\n",
       "\t 借           & 支付贷款     &  3986.909091 &  2242.63034  &     87712   \\\\\n",
       "\t 借           & 支票         &    20.571628 &    17.33245  &    118040   \\\\\n",
       "\t 贷           & other        & 20087.936878 & 14548.63546  & 282597096   \\\\\n",
       "\t 贷           & 利息所得     &   167.298377 &    84.58797  &   1587327   \\\\\n",
       "\\end{tabular}\n"
      ],
      "text/plain": [
       "  type k_symbol avg_amount   stdev_amount sum_amount\n",
       "1 借   other     9367.950113 10890.86538  191349749 \n",
       "2 借   保险费    1486.798913  2044.47223    1641426 \n",
       "3 借   利息所得     9.658537    15.06137        792 \n",
       "4 借   房屋贷款  5462.594608  3389.16577   21478922 \n",
       "5 借   支付贷款  3986.909091  2242.63034      87712 \n",
       "6 借   支票        20.571628    17.33245     118040 \n",
       "7 贷   other    20087.936878 14548.63546  282597096 \n",
       "8 贷   利息所得   167.298377    84.58797    1587327 "
      ]
     },
     "metadata": {},
     "output_type": "display_data"
    }
   ],
   "source": [
    "trans_d4 <- sqldf(\"select type,k_symbol,avg(amount) as avg_amount,stdev(amount) as stdev_amount,sum(amount) as sum_amount  \n",
    "  from trans_d3 group by type,k_symbol\")\n",
    "\n",
    "trans_d4"
   ]
  },
  {
   "cell_type": "code",
   "execution_count": 119,
   "metadata": {
    "collapsed": false
   },
   "outputs": [
    {
     "data": {
      "text/html": [
       "<table>\n",
       "<thead><tr><th scope=col>type</th><th scope=col>other _avg</th><th scope=col>保险费 _avg</th><th scope=col>利息所得 _avg</th><th scope=col>房屋贷款 _avg</th><th scope=col>支付贷款 _avg</th><th scope=col>支票 _avg</th><th scope=col>other _stdev</th><th scope=col>保险费 _stdev</th><th scope=col>利息所得 _stdev</th><th scope=col>房屋贷款 _stdev</th><th scope=col>支付贷款 _stdev</th><th scope=col>支票 _stdev</th></tr></thead>\n",
       "<tbody>\n",
       "\t<tr><td>借        </td><td> 9367.95  </td><td>1486.799  </td><td>  9.658537</td><td>5462.595  </td><td>3986.909  </td><td>20.57163  </td><td>10890.87  </td><td>2044.472  </td><td>15.06137  </td><td>3389.166  </td><td>2242.63   </td><td>17.33245  </td></tr>\n",
       "\t<tr><td>贷        </td><td>20087.94  </td><td>   0.000  </td><td>167.298377</td><td>   0.000  </td><td>   0.000  </td><td> 0.00000  </td><td>14548.64  </td><td>   0.000  </td><td>84.58797  </td><td>   0.000  </td><td>   0.00   </td><td> 0.00000  </td></tr>\n",
       "</tbody>\n",
       "</table>\n"
      ],
      "text/latex": [
       "\\begin{tabular}{r|lllllllllllll}\n",
       " type & other \\_avg & 保险费 \\_avg & 利息所得 \\_avg & 房屋贷款 \\_avg & 支付贷款 \\_avg & 支票 \\_avg & other \\_stdev & 保险费 \\_stdev & 利息所得 \\_stdev & 房屋贷款 \\_stdev & 支付贷款 \\_stdev & 支票 \\_stdev\\\\\n",
       "\\hline\n",
       "\t 借         &  9367.95   & 1486.799   &   9.658537 & 5462.595   & 3986.909   & 20.57163   & 10890.87   & 2044.472   & 15.06137   & 3389.166   & 2242.63    & 17.33245  \\\\\n",
       "\t 贷         & 20087.94   &    0.000   & 167.298377 &    0.000   &    0.000   &  0.00000   & 14548.64   &    0.000   & 84.58797   &    0.000   &    0.00    &  0.00000  \\\\\n",
       "\\end{tabular}\n"
      ],
      "text/plain": [
       "  type other _avg 保险费 _avg 利息所得 _avg 房屋贷款 _avg 支付贷款 _avg\n",
       "1 借    9367.95   1486.799      9.658537    5462.595      3986.909     \n",
       "2 贷   20087.94      0.000    167.298377       0.000         0.000     \n",
       "  支票 _avg other _stdev 保险费 _stdev 利息所得 _stdev 房屋贷款 _stdev\n",
       "1 20.57163  10890.87     2044.472      15.06137        3389.166       \n",
       "2  0.00000  14548.64        0.000      84.58797           0.000       \n",
       "  支付贷款 _stdev 支票 _stdev\n",
       "1 2242.63         17.33245   \n",
       "2    0.00          0.00000   "
      ]
     },
     "metadata": {},
     "output_type": "display_data"
    }
   ],
   "source": [
    "library(reshape)\n",
    "trans_d4_avg<- cast(trans_d4,type~k_symbol,value = \"avg_amount\")\n",
    "ns_trans_d4_avg <- colnames(trans_d4_avg)\n",
    "\n",
    "colnames(trans_d4_avg)[2:7]<- paste(ns_trans_d4_avg[2:7],\"_avg\")\n",
    "\n",
    "trans_d4_stdev<- cast(trans_d4,type~k_symbol,value = \"stdev_amount\")\n",
    "\n",
    "colnames(trans_d4_stdev)[2:7]<- paste(ns_trans_d4_avg[2:7],\"_stdev\")\n",
    "\n",
    "trans_d4_as <- merge(trans_d4_avg,trans_d4_stdev)\n",
    "\n",
    "trans_d4_as[is.na(trans_d4_as)]<-0\n",
    "\n",
    "trans_d4_as"
   ]
  },
  {
   "cell_type": "code",
   "execution_count": 111,
   "metadata": {
    "collapsed": false
   },
   "outputs": [
    {
     "data": {
      "text/html": [
       "<table>\n",
       "<thead><tr><th scope=col>type</th><th scope=col>outcome</th><th scope=col>income</th><th scope=col>out_in</th></tr></thead>\n",
       "<tbody>\n",
       "\t<tr><td>other      </td><td>191349749  </td><td>282597096  </td><td>0.677111519</td></tr>\n",
       "\t<tr><td>保险费     </td><td>  1641426  </td><td>        0  </td><td>        Inf</td></tr>\n",
       "\t<tr><td>利息所得   </td><td>      792  </td><td>  1587327  </td><td>0.000498952</td></tr>\n",
       "\t<tr><td>房屋贷款   </td><td> 21478922  </td><td>        0  </td><td>        Inf</td></tr>\n",
       "\t<tr><td>支付贷款   </td><td>    87712  </td><td>        0  </td><td>        Inf</td></tr>\n",
       "\t<tr><td>支票       </td><td>   118040  </td><td>        0  </td><td>        Inf</td></tr>\n",
       "</tbody>\n",
       "</table>\n"
      ],
      "text/latex": [
       "\\begin{tabular}{r|llll}\n",
       " type & outcome & income & out\\_in\\\\\n",
       "\\hline\n",
       "\t other       & 191349749   & 282597096   & 0.677111519\\\\\n",
       "\t 保险费      &   1641426   &         0   &         Inf\\\\\n",
       "\t 利息所得    &       792   &   1587327   & 0.000498952\\\\\n",
       "\t 房屋贷款    &  21478922   &         0   &         Inf\\\\\n",
       "\t 支付贷款    &     87712   &         0   &         Inf\\\\\n",
       "\t 支票        &    118040   &         0   &         Inf\\\\\n",
       "\\end{tabular}\n"
      ],
      "text/plain": [
       "  type     outcome   income    out_in     \n",
       "1 other    191349749 282597096 0.677111519\n",
       "2 保险费     1641426         0         Inf\n",
       "3 利息所得       792   1587327 0.000498952\n",
       "4 房屋贷款  21478922         0         Inf\n",
       "5 支付贷款     87712         0         Inf\n",
       "6 支票        118040         0         Inf"
      ]
     },
     "metadata": {},
     "output_type": "display_data"
    }
   ],
   "source": [
    "\n",
    "trans_d5<- cast(trans_d4,k_symbol~type,value = \"sum_amount\")\n",
    "\n",
    "trans_d5[is.na(trans_d5)]<- 0\n",
    "\n",
    "colnames(trans_d5)<-c('type','outcome','income')\n",
    "\n",
    "trans_d5$out_in <- trans_d5$outcome/trans_d5$income\n",
    "\n",
    "trans_d5\n"
   ]
  },
  {
   "cell_type": "markdown",
   "metadata": {},
   "source": [
    "第三题：\n",
    "检验以下指标是否和违约（bad_ind）相关\n",
    "性别、贷款时年龄、居住地区的平均失业率、居住地区的平均犯罪率、人均GDP、贷款前3年的平均资产、账户余额的标准差、账户余额的中位数、账户余额的四分位差、账户余额的变异系数.\n",
    "要求根据变量的度量类型，选取最合适的假设检验方法。"
   ]
  },
  {
   "cell_type": "code",
   "execution_count": 178,
   "metadata": {
    "collapsed": false
   },
   "outputs": [
    {
     "data": {
      "text/html": [
       "<table>\n",
       "<thead><tr><th scope=col>account_id</th><th scope=col>status</th><th scope=col>lo_date</th><th scope=col>client_id</th><th scope=col>sex</th><th scope=col>birth_date</th><th scope=col>unemployment_rate</th><th scope=col>crime_rate</th><th scope=col>GDP</th></tr></thead>\n",
       "<tbody>\n",
       "\t<tr><td>1787      </td><td>B         </td><td>1993-07-05</td><td>2166      </td><td>女        </td><td>1947-07-22</td><td>3.525     </td><td>15.25     </td><td>16979     </td></tr>\n",
       "\t<tr><td>1787      </td><td>B         </td><td>1993-07-05</td><td>2166      </td><td>女        </td><td>1947-07-22</td><td>3.525     </td><td>15.25     </td><td>16979     </td></tr>\n",
       "\t<tr><td>1787      </td><td>B         </td><td>1993-07-05</td><td>2166      </td><td>女        </td><td>1947-07-22</td><td>3.525     </td><td>15.25     </td><td>16979     </td></tr>\n",
       "\t<tr><td>1787      </td><td>B         </td><td>1993-07-05</td><td>2166      </td><td>女        </td><td>1947-07-22</td><td>3.525     </td><td>15.25     </td><td>16979     </td></tr>\n",
       "\t<tr><td>1787      </td><td>B         </td><td>1993-07-05</td><td>2166      </td><td>女        </td><td>1947-07-22</td><td>3.525     </td><td>15.25     </td><td>16979     </td></tr>\n",
       "\t<tr><td>1787      </td><td>B         </td><td>1993-07-05</td><td>2166      </td><td>女        </td><td>1947-07-22</td><td>3.525     </td><td>15.25     </td><td>16979     </td></tr>\n",
       "</tbody>\n",
       "</table>\n"
      ],
      "text/latex": [
       "\\begin{tabular}{r|lllllllll}\n",
       " account\\_id & status & lo\\_date & client\\_id & sex & birth\\_date & unemployment\\_rate & crime\\_rate & GDP\\\\\n",
       "\\hline\n",
       "\t 1787       & B          & 1993-07-05 & 2166       & 女         & 1947-07-22 & 3.525      & 15.25      & 16979     \\\\\n",
       "\t 1787       & B          & 1993-07-05 & 2166       & 女         & 1947-07-22 & 3.525      & 15.25      & 16979     \\\\\n",
       "\t 1787       & B          & 1993-07-05 & 2166       & 女         & 1947-07-22 & 3.525      & 15.25      & 16979     \\\\\n",
       "\t 1787       & B          & 1993-07-05 & 2166       & 女         & 1947-07-22 & 3.525      & 15.25      & 16979     \\\\\n",
       "\t 1787       & B          & 1993-07-05 & 2166       & 女         & 1947-07-22 & 3.525      & 15.25      & 16979     \\\\\n",
       "\t 1787       & B          & 1993-07-05 & 2166       & 女         & 1947-07-22 & 3.525      & 15.25      & 16979     \\\\\n",
       "\\end{tabular}\n"
      ],
      "text/plain": [
       "  account_id status lo_date    client_id sex birth_date unemployment_rate\n",
       "1 1787       B      1993-07-05 2166      女  1947-07-22 3.525            \n",
       "2 1787       B      1993-07-05 2166      女  1947-07-22 3.525            \n",
       "3 1787       B      1993-07-05 2166      女  1947-07-22 3.525            \n",
       "4 1787       B      1993-07-05 2166      女  1947-07-22 3.525            \n",
       "5 1787       B      1993-07-05 2166      女  1947-07-22 3.525            \n",
       "6 1787       B      1993-07-05 2166      女  1947-07-22 3.525            \n",
       "  crime_rate GDP  \n",
       "1 15.25      16979\n",
       "2 15.25      16979\n",
       "3 15.25      16979\n",
       "4 15.25      16979\n",
       "5 15.25      16979\n",
       "6 15.25      16979"
      ]
     },
     "metadata": {},
     "output_type": "display_data"
    }
   ],
   "source": [
    "sql<- \"select lo.account_id,lo.status ,lo.date as lo_date\n",
    ",cl.client_id,cl.sex,cl.birth_date\n",
    ",(dt.A12+dt.A13)/2 as unemployment_rate,(dt.A15+dt.A16)/2 as crime_rate,dt.GDP\n",
    "\n",
    "from loans as lo\n",
    "   left join disp as di on lo.account_id=di.account_id\n",
    "   left join clients as cl on di.client_id= cl.client_id\n",
    "   left join district as dt on cl.district_id=dt.A1\n",
    "   left join trans as tr on tr.account_id=lo.account_id\n",
    "\"\n",
    "\n",
    "df0 <- sqldf(sql)\n",
    "\n",
    "head(df0)"
   ]
  },
  {
   "cell_type": "code",
   "execution_count": 179,
   "metadata": {
    "collapsed": false
   },
   "outputs": [
    {
     "data": {
      "text/html": [
       "<table>\n",
       "<thead><tr><th scope=col>account_id</th><th scope=col>status</th><th scope=col>lo_date</th><th scope=col>client_id</th><th scope=col>sex</th><th scope=col>birth_date</th><th scope=col>unemployment_rate</th><th scope=col>crime_rate</th><th scope=col>GDP</th><th scope=col>lo_age</th></tr></thead>\n",
       "<tbody>\n",
       "\t<tr><td>1787      </td><td>B         </td><td>1993-07-05</td><td>2166      </td><td>女        </td><td>1947-07-22</td><td>3.525     </td><td>15.25     </td><td>16979     </td><td>45        </td></tr>\n",
       "\t<tr><td>1787      </td><td>B         </td><td>1993-07-05</td><td>2166      </td><td>女        </td><td>1947-07-22</td><td>3.525     </td><td>15.25     </td><td>16979     </td><td>45        </td></tr>\n",
       "\t<tr><td>1787      </td><td>B         </td><td>1993-07-05</td><td>2166      </td><td>女        </td><td>1947-07-22</td><td>3.525     </td><td>15.25     </td><td>16979     </td><td>45        </td></tr>\n",
       "\t<tr><td>1787      </td><td>B         </td><td>1993-07-05</td><td>2166      </td><td>女        </td><td>1947-07-22</td><td>3.525     </td><td>15.25     </td><td>16979     </td><td>45        </td></tr>\n",
       "\t<tr><td>1787      </td><td>B         </td><td>1993-07-05</td><td>2166      </td><td>女        </td><td>1947-07-22</td><td>3.525     </td><td>15.25     </td><td>16979     </td><td>45        </td></tr>\n",
       "\t<tr><td>1787      </td><td>B         </td><td>1993-07-05</td><td>2166      </td><td>女        </td><td>1947-07-22</td><td>3.525     </td><td>15.25     </td><td>16979     </td><td>45        </td></tr>\n",
       "</tbody>\n",
       "</table>\n"
      ],
      "text/latex": [
       "\\begin{tabular}{r|llllllllll}\n",
       " account\\_id & status & lo\\_date & client\\_id & sex & birth\\_date & unemployment\\_rate & crime\\_rate & GDP & lo\\_age\\\\\n",
       "\\hline\n",
       "\t 1787       & B          & 1993-07-05 & 2166       & 女         & 1947-07-22 & 3.525      & 15.25      & 16979      & 45        \\\\\n",
       "\t 1787       & B          & 1993-07-05 & 2166       & 女         & 1947-07-22 & 3.525      & 15.25      & 16979      & 45        \\\\\n",
       "\t 1787       & B          & 1993-07-05 & 2166       & 女         & 1947-07-22 & 3.525      & 15.25      & 16979      & 45        \\\\\n",
       "\t 1787       & B          & 1993-07-05 & 2166       & 女         & 1947-07-22 & 3.525      & 15.25      & 16979      & 45        \\\\\n",
       "\t 1787       & B          & 1993-07-05 & 2166       & 女         & 1947-07-22 & 3.525      & 15.25      & 16979      & 45        \\\\\n",
       "\t 1787       & B          & 1993-07-05 & 2166       & 女         & 1947-07-22 & 3.525      & 15.25      & 16979      & 45        \\\\\n",
       "\\end{tabular}\n"
      ],
      "text/plain": [
       "  account_id status lo_date    client_id sex birth_date unemployment_rate\n",
       "1 1787       B      1993-07-05 2166      女  1947-07-22 3.525            \n",
       "2 1787       B      1993-07-05 2166      女  1947-07-22 3.525            \n",
       "3 1787       B      1993-07-05 2166      女  1947-07-22 3.525            \n",
       "4 1787       B      1993-07-05 2166      女  1947-07-22 3.525            \n",
       "5 1787       B      1993-07-05 2166      女  1947-07-22 3.525            \n",
       "6 1787       B      1993-07-05 2166      女  1947-07-22 3.525            \n",
       "  crime_rate GDP   lo_age\n",
       "1 15.25      16979 45    \n",
       "2 15.25      16979 45    \n",
       "3 15.25      16979 45    \n",
       "4 15.25      16979 45    \n",
       "5 15.25      16979 45    \n",
       "6 15.25      16979 45    "
      ]
     },
     "metadata": {},
     "output_type": "display_data"
    }
   ],
   "source": [
    "df1<-df0\n",
    "\n",
    "df1$birth_date<-as.Date(df1$birth_date)\n",
    "df1$lo_date<-as.Date(df1$lo_date)\n",
    "\n",
    "df1$lo_age<-as.integer((df1$lo_date-df1$birth_date)/365)\n",
    "\n",
    "head(df1)\n"
   ]
  },
  {
   "cell_type": "code",
   "execution_count": 180,
   "metadata": {
    "collapsed": false
   },
   "outputs": [],
   "source": [
    "loans_v<-sqldf(\"select account_id,min(date) as lo_date from loans group by account_id\")\n",
    "\n",
    "trans_v<-sqldf(\"select tr.account_id,tr.date as tr_date,lo.lo_date, balance                \n",
    "from trans as tr \n",
    "left join loans_v as lo on lo.account_id=tr.account_id\n",
    "order by tr.account_id\")\n",
    "\n",
    "trans_v$balance <- as.numeric(substr(gsub(\",\",\"\",trans_v$balance),2,nchar(trans_v$balance)))\n",
    "\n",
    "trans_v2<- trans_v[is.na(trans_v$lo_date)==F,]\n",
    "\n",
    "trans_v2$tr_date<-as.Date(trans_v2$tr_date)\n",
    "trans_v2$lo_date<-as.Date(trans_v2$lo_date)"
   ]
  },
  {
   "cell_type": "code",
   "execution_count": 181,
   "metadata": {
    "collapsed": false
   },
   "outputs": [
    {
     "data": {
      "text/html": [
       "<table>\n",
       "<thead><tr><th></th><th scope=col>account_id</th><th scope=col>tr_date</th><th scope=col>lo_date</th><th scope=col>balance</th></tr></thead>\n",
       "<tbody>\n",
       "\t<tr><th scope=row>240</th><td>2         </td><td>1993-02-26</td><td>1994-01-05</td><td> 1100     </td></tr>\n",
       "\t<tr><th scope=row>241</th><td>2         </td><td>1993-03-12</td><td>1994-01-05</td><td>21336     </td></tr>\n",
       "\t<tr><th scope=row>242</th><td>2         </td><td>1993-03-28</td><td>1994-01-05</td><td>25036     </td></tr>\n",
       "\t<tr><th scope=row>243</th><td>2         </td><td>1993-03-31</td><td>1994-01-05</td><td>25050     </td></tr>\n",
       "\t<tr><th scope=row>244</th><td>2         </td><td>1993-04-12</td><td>1994-01-05</td><td>45286     </td></tr>\n",
       "\t<tr><th scope=row>245</th><td>2         </td><td>1993-04-27</td><td>1994-01-05</td><td>34286     </td></tr>\n",
       "</tbody>\n",
       "</table>\n"
      ],
      "text/latex": [
       "\\begin{tabular}{r|llll}\n",
       "  & account\\_id & tr\\_date & lo\\_date & balance\\\\\n",
       "\\hline\n",
       "\t240 & 2          & 1993-02-26 & 1994-01-05 &  1100     \\\\\n",
       "\t241 & 2          & 1993-03-12 & 1994-01-05 & 21336     \\\\\n",
       "\t242 & 2          & 1993-03-28 & 1994-01-05 & 25036     \\\\\n",
       "\t243 & 2          & 1993-03-31 & 1994-01-05 & 25050     \\\\\n",
       "\t244 & 2          & 1993-04-12 & 1994-01-05 & 45286     \\\\\n",
       "\t245 & 2          & 1993-04-27 & 1994-01-05 & 34286     \\\\\n",
       "\\end{tabular}\n"
      ],
      "text/plain": [
       "    account_id tr_date    lo_date    balance\n",
       "240 2          1993-02-26 1994-01-05  1100  \n",
       "241 2          1993-03-12 1994-01-05 21336  \n",
       "242 2          1993-03-28 1994-01-05 25036  \n",
       "243 2          1993-03-31 1994-01-05 25050  \n",
       "244 2          1993-04-12 1994-01-05 45286  \n",
       "245 2          1993-04-27 1994-01-05 34286  "
      ]
     },
     "metadata": {},
     "output_type": "display_data"
    }
   ],
   "source": [
    "trans_v3<-trans_v2[trans_v2$tr_date>=trans_v2$lo_date-(365*3) \n",
    "              & trans_v2$tr_date<=trans_v2$lo_date,]\n",
    "head(trans_v3)"
   ]
  },
  {
   "cell_type": "code",
   "execution_count": 186,
   "metadata": {
    "collapsed": false
   },
   "outputs": [
    {
     "data": {
      "text/html": [
       "<table>\n",
       "<thead><tr><th scope=col>account_id</th><th scope=col>mean</th><th scope=col>median</th><th scope=col>sd</th><th scope=col>quan</th></tr></thead>\n",
       "<tbody>\n",
       "\t<tr><td> 2      </td><td>32372.29</td><td>30817   </td><td>12058.94</td><td>14033.5 </td></tr>\n",
       "\t<tr><td>19      </td><td>25197.14</td><td>20463   </td><td>15039.32</td><td>19477.0 </td></tr>\n",
       "\t<tr><td>25      </td><td>57345.75</td><td>59854   </td><td>22174.80</td><td>33906.0 </td></tr>\n",
       "\t<tr><td>37      </td><td>37367.83</td><td>37873   </td><td>21786.01</td><td>38420.0 </td></tr>\n",
       "\t<tr><td>38      </td><td>31383.58</td><td>29436   </td><td>10950.72</td><td>13576.5 </td></tr>\n",
       "\t<tr><td>67      </td><td>49323.34</td><td>48931   </td><td>20496.66</td><td>28244.0 </td></tr>\n",
       "</tbody>\n",
       "</table>\n"
      ],
      "text/latex": [
       "\\begin{tabular}{r|lllll}\n",
       " account\\_id & mean & median & sd & quan\\\\\n",
       "\\hline\n",
       "\t  2       & 32372.29 & 30817    & 12058.94 & 14033.5 \\\\\n",
       "\t 19       & 25197.14 & 20463    & 15039.32 & 19477.0 \\\\\n",
       "\t 25       & 57345.75 & 59854    & 22174.80 & 33906.0 \\\\\n",
       "\t 37       & 37367.83 & 37873    & 21786.01 & 38420.0 \\\\\n",
       "\t 38       & 31383.58 & 29436    & 10950.72 & 13576.5 \\\\\n",
       "\t 67       & 49323.34 & 48931    & 20496.66 & 28244.0 \\\\\n",
       "\\end{tabular}\n"
      ],
      "text/plain": [
       "  account_id mean     median sd       quan   \n",
       "1  2         32372.29 30817  12058.94 14033.5\n",
       "2 19         25197.14 20463  15039.32 19477.0\n",
       "3 25         57345.75 59854  22174.80 33906.0\n",
       "4 37         37367.83 37873  21786.01 38420.0\n",
       "5 38         31383.58 29436  10950.72 13576.5\n",
       "6 67         49323.34 48931  20496.66 28244.0"
      ]
     },
     "metadata": {},
     "output_type": "display_data"
    }
   ],
   "source": [
    "library(\"data.table\")\n",
    "\n",
    "trans_v4<-data.table(trans_v3)\n",
    "\n",
    "trans_v4<- trans_v4[,list(mean=mean(balance),median=median(balance),sd=sd(balance),quan=quantile(balance,0.75)-quantile(balance,0.25))\n",
    "                    ,by=account_id]\n",
    "\n",
    "head(trans_v4)"
   ]
  },
  {
   "cell_type": "code",
   "execution_count": 192,
   "metadata": {
    "collapsed": false
   },
   "outputs": [
    {
     "data": {
      "text/html": [
       "<table>\n",
       "<thead><tr><th scope=col>account_id</th><th scope=col>status</th><th scope=col>lo_date</th><th scope=col>client_id</th><th scope=col>sex</th><th scope=col>birth_date</th><th scope=col>unemployment_rate</th><th scope=col>crime_rate</th><th scope=col>GDP</th><th scope=col>lo_age</th><th scope=col>mean</th><th scope=col>median</th><th scope=col>sd</th><th scope=col>quan</th><th scope=col>bad_ind</th></tr></thead>\n",
       "<tbody>\n",
       "\t<tr><td>2         </td><td>A         </td><td>1994-01-05</td><td>2         </td><td>男        </td><td>1945-02-04</td><td>0.36      </td><td>38.35     </td><td>283894    </td><td>48        </td><td>32372.29  </td><td>30817     </td><td>12058.94  </td><td>14033.5   </td><td>0         </td></tr>\n",
       "\t<tr><td>2         </td><td>A         </td><td>1994-01-05</td><td>2         </td><td>男        </td><td>1945-02-04</td><td>0.36      </td><td>38.35     </td><td>283894    </td><td>48        </td><td>32372.29  </td><td>30817     </td><td>12058.94  </td><td>14033.5   </td><td>0         </td></tr>\n",
       "\t<tr><td>2         </td><td>A         </td><td>1994-01-05</td><td>2         </td><td>男        </td><td>1945-02-04</td><td>0.36      </td><td>38.35     </td><td>283894    </td><td>48        </td><td>32372.29  </td><td>30817     </td><td>12058.94  </td><td>14033.5   </td><td>0         </td></tr>\n",
       "\t<tr><td>2         </td><td>A         </td><td>1994-01-05</td><td>2         </td><td>男        </td><td>1945-02-04</td><td>0.36      </td><td>38.35     </td><td>283894    </td><td>48        </td><td>32372.29  </td><td>30817     </td><td>12058.94  </td><td>14033.5   </td><td>0         </td></tr>\n",
       "\t<tr><td>2         </td><td>A         </td><td>1994-01-05</td><td>2         </td><td>男        </td><td>1945-02-04</td><td>0.36      </td><td>38.35     </td><td>283894    </td><td>48        </td><td>32372.29  </td><td>30817     </td><td>12058.94  </td><td>14033.5   </td><td>0         </td></tr>\n",
       "\t<tr><td>2         </td><td>A         </td><td>1994-01-05</td><td>2         </td><td>男        </td><td>1945-02-04</td><td>0.36      </td><td>38.35     </td><td>283894    </td><td>48        </td><td>32372.29  </td><td>30817     </td><td>12058.94  </td><td>14033.5   </td><td>0         </td></tr>\n",
       "</tbody>\n",
       "</table>\n"
      ],
      "text/latex": [
       "\\begin{tabular}{r|lllllllllllllll}\n",
       " account\\_id & status & lo\\_date & client\\_id & sex & birth\\_date & unemployment\\_rate & crime\\_rate & GDP & lo\\_age & mean & median & sd & quan & bad\\_ind\\\\\n",
       "\\hline\n",
       "\t 2          & A          & 1994-01-05 & 2          & 男         & 1945-02-04 & 0.36       & 38.35      & 283894     & 48         & 32372.29   & 30817      & 12058.94   & 14033.5    & 0         \\\\\n",
       "\t 2          & A          & 1994-01-05 & 2          & 男         & 1945-02-04 & 0.36       & 38.35      & 283894     & 48         & 32372.29   & 30817      & 12058.94   & 14033.5    & 0         \\\\\n",
       "\t 2          & A          & 1994-01-05 & 2          & 男         & 1945-02-04 & 0.36       & 38.35      & 283894     & 48         & 32372.29   & 30817      & 12058.94   & 14033.5    & 0         \\\\\n",
       "\t 2          & A          & 1994-01-05 & 2          & 男         & 1945-02-04 & 0.36       & 38.35      & 283894     & 48         & 32372.29   & 30817      & 12058.94   & 14033.5    & 0         \\\\\n",
       "\t 2          & A          & 1994-01-05 & 2          & 男         & 1945-02-04 & 0.36       & 38.35      & 283894     & 48         & 32372.29   & 30817      & 12058.94   & 14033.5    & 0         \\\\\n",
       "\t 2          & A          & 1994-01-05 & 2          & 男         & 1945-02-04 & 0.36       & 38.35      & 283894     & 48         & 32372.29   & 30817      & 12058.94   & 14033.5    & 0         \\\\\n",
       "\\end{tabular}\n"
      ],
      "text/plain": [
       "  account_id status lo_date    client_id sex birth_date unemployment_rate\n",
       "1 2          A      1994-01-05 2         男  1945-02-04 0.36             \n",
       "2 2          A      1994-01-05 2         男  1945-02-04 0.36             \n",
       "3 2          A      1994-01-05 2         男  1945-02-04 0.36             \n",
       "4 2          A      1994-01-05 2         男  1945-02-04 0.36             \n",
       "5 2          A      1994-01-05 2         男  1945-02-04 0.36             \n",
       "6 2          A      1994-01-05 2         男  1945-02-04 0.36             \n",
       "  crime_rate GDP    lo_age mean     median sd       quan    bad_ind\n",
       "1 38.35      283894 48     32372.29 30817  12058.94 14033.5 0      \n",
       "2 38.35      283894 48     32372.29 30817  12058.94 14033.5 0      \n",
       "3 38.35      283894 48     32372.29 30817  12058.94 14033.5 0      \n",
       "4 38.35      283894 48     32372.29 30817  12058.94 14033.5 0      \n",
       "5 38.35      283894 48     32372.29 30817  12058.94 14033.5 0      \n",
       "6 38.35      283894 48     32372.29 30817  12058.94 14033.5 0      "
      ]
     },
     "metadata": {},
     "output_type": "display_data"
    }
   ],
   "source": [
    "df2<- merge(df1,trans_v4)\n",
    "df2$bad_ind<-ifelse(df2$status==\"B\" | df2$status==\"D\",1,\n",
    "                       ifelse(df2$status==\"A\",0,NA))\n",
    "head(df2)"
   ]
  },
  {
   "cell_type": "code",
   "execution_count": 188,
   "metadata": {
    "collapsed": true
   },
   "outputs": [],
   "source": [
    "#贷款时年龄、居住地区的平均失业率、居住地区的平均犯罪率、人均GDP、贷款前3年的平均资产、账户余额的标准差、账户余额的中位数、账户余额的四分位差、账户余额的变异系数\n",
    "continue_vars<- c(\"lo_age\",\"unemployment_rate\",\"crime_rate\",\"GDP\",\"mean\",\"median\",\"sd\",\"quan\")\n",
    "#以上所有列为连续变量，而bad_ind属于两类属性变量,因此可以使用二分比较\n"
   ]
  },
  {
   "cell_type": "code",
   "execution_count": 225,
   "metadata": {
    "collapsed": false
   },
   "outputs": [
    {
     "name": "stdout",
     "output_type": "stream",
     "text": [
      "[1] \"两样本T检测: unemployment_rate 和 bad_ind\"\n",
      "\n",
      "\tF test to compare two variances\n",
      "\n",
      "data:  df2[, continue_var] by df2$bad_ind\n",
      "F = 1.1287, num df = 99721, denom df = 22134, p-value < 2.2e-16\n",
      "alternative hypothesis: true ratio of variances is not equal to 1\n",
      "95 percent confidence interval:\n",
      " 1.105604 1.152096\n",
      "sample estimates:\n",
      "ratio of variances \n",
      "          1.128688 \n",
      "\n",
      "[1] \"两样本方差 显著,设置var.equal=FALSE\"\n",
      "\n",
      "\tWelch Two Sample t-test\n",
      "\n",
      "data:  df2[, continue_var] by df2$bad_ind\n",
      "t = -14.195, df = 34138, p-value < 2.2e-16\n",
      "alternative hypothesis: true difference in means is not equal to 0\n",
      "95 percent confidence interval:\n",
      " -0.2315748 -0.1753815\n",
      "sample estimates:\n",
      "mean in group 0 mean in group 1 \n",
      "       3.111566        3.315044 \n",
      "\n",
      "[1] \"unemployment_rate 和 bad_ind的相关性 显著\"\n",
      "[1] \"两样本T检测: crime_rate 和 bad_ind\"\n",
      "\n",
      "\tF test to compare two variances\n",
      "\n",
      "data:  df2[, continue_var] by df2$bad_ind\n",
      "F = 1.1406, num df = 99721, denom df = 22134, p-value < 2.2e-16\n",
      "alternative hypothesis: true ratio of variances is not equal to 1\n",
      "95 percent confidence interval:\n",
      " 1.117251 1.164233\n",
      "sample estimates:\n",
      "ratio of variances \n",
      "          1.140578 \n",
      "\n",
      "[1] \"两样本方差 显著,设置var.equal=FALSE\"\n",
      "\n",
      "\tWelch Two Sample t-test\n",
      "\n",
      "data:  df2[, continue_var] by df2$bad_ind\n",
      "t = -1.3669, df = 34272, p-value = 0.1717\n",
      "alternative hypothesis: true difference in means is not equal to 0\n",
      "95 percent confidence interval:\n",
      " -0.22445857  0.04001576\n",
      "sample estimates:\n",
      "mean in group 0 mean in group 1 \n",
      "       18.32789        18.42011 \n",
      "\n",
      "[1] \"crime_rate 和 bad_ind的相关性 不显著\"\n",
      "[1] \"两样本T检测: GDP 和 bad_ind\"\n",
      "\n",
      "\tF test to compare two variances\n",
      "\n",
      "data:  df2[, continue_var] by df2$bad_ind\n",
      "F = 1.2222, num df = 100330, denom df = 22759, p-value < 2.2e-16\n",
      "alternative hypothesis: true ratio of variances is not equal to 1\n",
      "95 percent confidence interval:\n",
      " 1.197509 1.247256\n",
      "sample estimates:\n",
      "ratio of variances \n",
      "           1.22221 \n",
      "\n",
      "[1] \"两样本方差 显著,设置var.equal=FALSE\"\n",
      "\n",
      "\tWelch Two Sample t-test\n",
      "\n",
      "data:  df2[, continue_var] by df2$bad_ind\n",
      "t = 8.5504, df = 36493, p-value < 2.2e-16\n",
      "alternative hypothesis: true difference in means is not equal to 0\n",
      "95 percent confidence interval:\n",
      " 4194.396 6689.289\n",
      "sample estimates:\n",
      "mean in group 0 mean in group 1 \n",
      "       57558.47        52116.63 \n",
      "\n",
      "[1] \"GDP 和 bad_ind的相关性 显著\"\n",
      "[1] \"两样本T检测: lo_age 和 bad_ind\"\n",
      "\n",
      "\tF test to compare two variances\n",
      "\n",
      "data:  df2[, continue_var] by df2$bad_ind\n",
      "F = 0.98604, num df = 100330, denom df = 22759, p-value = 0.1743\n",
      "alternative hypothesis: true ratio of variances is not equal to 1\n",
      "95 percent confidence interval:\n",
      " 0.9661079 1.0062421\n",
      "sample estimates:\n",
      "ratio of variances \n",
      "          0.986036 \n",
      "\n",
      "[1] \"两样本方差 不显著,设置var.equal=TRUE\"\n",
      "\n",
      "\tTwo Sample t-test\n",
      "\n",
      "data:  df2[, continue_var] by df2$bad_ind\n",
      "t = -4.1979, df = 123090, p-value = 2.696e-05\n",
      "alternative hypothesis: true difference in means is not equal to 0\n",
      "95 percent confidence interval:\n",
      " -0.6002598 -0.2181455\n",
      "sample estimates:\n",
      "mean in group 0 mean in group 1 \n",
      "       36.05833        36.46753 \n",
      "\n",
      "[1] \"lo_age 和 bad_ind的相关性 显著\"\n",
      "[1] \"两样本T检测: mean 和 bad_ind\"\n",
      "\n",
      "\tF test to compare two variances\n",
      "\n",
      "data:  df2[, continue_var] by df2$bad_ind\n",
      "F = 0.87294, num df = 100330, denom df = 22759, p-value < 2.2e-16\n",
      "alternative hypothesis: true ratio of variances is not equal to 1\n",
      "95 percent confidence interval:\n",
      " 0.8552963 0.8908271\n",
      "sample estimates:\n",
      "ratio of variances \n",
      "         0.8729387 \n",
      "\n",
      "[1] \"两样本方差 显著,设置var.equal=FALSE\"\n",
      "\n",
      "\tWelch Two Sample t-test\n",
      "\n",
      "data:  df2[, continue_var] by df2$bad_ind\n",
      "t = 81.72, df = 32377, p-value < 2.2e-16\n",
      "alternative hypothesis: true difference in means is not equal to 0\n",
      "95 percent confidence interval:\n",
      " 6495.671 6814.923\n",
      "sample estimates:\n",
      "mean in group 0 mean in group 1 \n",
      "       41954.42        35299.13 \n",
      "\n",
      "[1] \"mean 和 bad_ind的相关性 显著\"\n",
      "[1] \"两样本T检测: median 和 bad_ind\"\n",
      "\n",
      "\tF test to compare two variances\n",
      "\n",
      "data:  df2[, continue_var] by df2$bad_ind\n",
      "F = 0.96615, num df = 100330, denom df = 22759, p-value = 0.0008674\n",
      "alternative hypothesis: true ratio of variances is not equal to 1\n",
      "95 percent confidence interval:\n",
      " 0.9466270 0.9859519\n",
      "sample estimates:\n",
      "ratio of variances \n",
      "         0.9661533 \n",
      "\n",
      "[1] \"两样本方差 显著,设置var.equal=FALSE\"\n",
      "\n",
      "\tWelch Two Sample t-test\n",
      "\n",
      "data:  df2[, continue_var] by df2$bad_ind\n",
      "t = 91.477, df = 33464, p-value < 2.2e-16\n",
      "alternative hypothesis: true difference in means is not equal to 0\n",
      "95 percent confidence interval:\n",
      " 7636.21 7970.61\n",
      "sample estimates:\n",
      "mean in group 0 mean in group 1 \n",
      "       41354.14        33550.73 \n",
      "\n",
      "[1] \"median 和 bad_ind的相关性 显著\"\n",
      "[1] \"两样本T检测: sd 和 bad_ind\"\n",
      "\n",
      "\tF test to compare two variances\n",
      "\n",
      "data:  df2[, continue_var] by df2$bad_ind\n",
      "F = 0.78482, num df = 100330, denom df = 22759, p-value < 2.2e-16\n",
      "alternative hypothesis: true ratio of variances is not equal to 1\n",
      "95 percent confidence interval:\n",
      " 0.7689574 0.8009015\n",
      "sample estimates:\n",
      "ratio of variances \n",
      "         0.7848189 \n",
      "\n",
      "[1] \"两样本方差 显著,设置var.equal=FALSE\"\n",
      "\n",
      "\tWelch Two Sample t-test\n",
      "\n",
      "data:  df2[, continue_var] by df2$bad_ind\n",
      "t = -50.084, df = 31359, p-value < 2.2e-16\n",
      "alternative hypothesis: true difference in means is not equal to 0\n",
      "95 percent confidence interval:\n",
      " -2632.651 -2434.353\n",
      "sample estimates:\n",
      "mean in group 0 mean in group 1 \n",
      "       17175.76        19709.27 \n",
      "\n",
      "[1] \"sd 和 bad_ind的相关性 显著\"\n",
      "[1] \"两样本T检测: quan 和 bad_ind\"\n",
      "\n",
      "\tF test to compare two variances\n",
      "\n",
      "data:  df2[, continue_var] by df2$bad_ind\n",
      "F = 0.74934, num df = 100330, denom df = 22759, p-value < 2.2e-16\n",
      "alternative hypothesis: true ratio of variances is not equal to 1\n",
      "95 percent confidence interval:\n",
      " 0.7341991 0.7646993\n",
      "sample estimates:\n",
      "ratio of variances \n",
      "         0.7493436 \n",
      "\n",
      "[1] \"两样本方差 显著,设置var.equal=FALSE\"\n",
      "\n",
      "\tWelch Two Sample t-test\n",
      "\n",
      "data:  df2[, continue_var] by df2$bad_ind\n",
      "t = -33.389, df = 30951, p-value < 2.2e-16\n",
      "alternative hypothesis: true difference in means is not equal to 0\n",
      "95 percent confidence interval:\n",
      " -3204.559 -2849.184\n",
      "sample estimates:\n",
      "mean in group 0 mean in group 1 \n",
      "       23164.46        26191.33 \n",
      "\n",
      "[1] \"quan 和 bad_ind的相关性 显著\"\n"
     ]
    }
   ],
   "source": [
    "for (continue_var in continue_vars){ \n",
    "    \n",
    "    print(sprintf(\"两样本T检测: %s 和 bad_ind\",continue_var))\n",
    "    #tapply(df2[,continue_var],df2$bad_ind,summary)\n",
    "    vt<-var.test(df2[,continue_var]~df2$bad_ind)\n",
    "    print(vt)\n",
    "    vt_p_value<-vt$p.value\n",
    "    var_equal<- (vt_p_value>0.1)\n",
    "    \n",
    "    eff<-ifelse(var_equal,\"不显著\",\"显著\")\n",
    "    print(sprintf(\"两样本方差 %s,设置var.equal=%s\",eff,var_equal))\n",
    "    tt<-t.test(df2[,continue_var]~df2$bad_ind,var.equal=var_equal)\n",
    "    print(tt)\n",
    "    tt_p_value<-tt$p.value\n",
    "    eff<-ifelse(tt_p_value<0.01,\"显著\",\"不显著\")\n",
    "    re<-sprintf(\"%s 和 bad_ind的相关性 %s\",continue_var,eff)\n",
    "    print(re)\n",
    "}"
   ]
  },
  {
   "cell_type": "code",
   "execution_count": 196,
   "metadata": {
    "collapsed": false
   },
   "outputs": [
    {
     "data": {
      "text/plain": [
       "\n",
       "    女     男 \n",
       "116379 117248 "
      ]
     },
     "metadata": {},
     "output_type": "display_data"
    },
    {
     "data": {
      "text/html": [
       "<table>\n",
       "<tbody>\n",
       "\t<tr><td>0.4981402</td></tr>\n",
       "\t<tr><td>0.5018598</td></tr>\n",
       "</tbody>\n",
       "</table>\n"
      ],
      "text/latex": [
       "\\begin{tabular}{l}\n",
       "\t 0.4981402\\\\\n",
       "\t 0.5018598\\\\\n",
       "\\end{tabular}\n"
      ],
      "text/markdown": [
       "1. 0.498140197836723\n",
       "2. 0.501859802163277\n",
       "\n",
       "\n"
      ],
      "text/plain": [
       "     [,1]     \n",
       "[1,] 0.4981402\n",
       "[2,] 0.5018598"
      ]
     },
     "metadata": {},
     "output_type": "display_data"
    },
    {
     "data": {
      "text/plain": [
       "    \n",
       "         0     1\n",
       "  女 49964 12569\n",
       "  男 50365 10191"
      ]
     },
     "metadata": {},
     "output_type": "display_data"
    },
    {
     "name": "stdout",
     "output_type": "stream",
     "text": [
      "Crosstabulation of sex by bad_ind \n",
      "\tbad_ind\n",
      "sex      0      1\n",
      "女  49964  12569  62533\n",
      "    79.9   20.1      -\n",
      "   49.80  55.22  50.80\n",
      "\n",
      "男  50365  10191  60556\n",
      "   83.17  16.83      -\n",
      "   50.20  44.78  49.20\n",
      "\n",
      "  100329  22760 123089\n",
      "   81.51  18.49 100.00\n",
      "odds ratio = 0.8 \n",
      "relative risk (sex-男) = 0.84\n"
     ]
    },
    {
     "data": {
      "text/plain": [
       "\n",
       "\tPearson's Chi-squared test with Yates' continuity correction\n",
       "\n",
       "data:  df2$sex and df2$bad_ind\n",
       "X-squared = 218.15, df = 1, p-value < 2.2e-16\n"
      ]
     },
     "metadata": {},
     "output_type": "display_data"
    },
    {
     "name": "stdout",
     "output_type": "stream",
     "text": [
      "Crosstabulation of sex by bad_ind \n",
      "\tbad_ind\n",
      "sex      0      1\n",
      "女  49964  12569  62533\n",
      "    79.9   20.1      -\n",
      "   49.80  55.22  50.80\n",
      "\n",
      "男  50365  10191  60556\n",
      "   83.17  16.83      -\n",
      "   50.20  44.78  49.20\n",
      "\n",
      "  100329  22760 123089\n",
      "   81.51  18.49 100.00\n",
      "X2[1]=218.146, p=2.295594e-49\n",
      "\n",
      "odds ratio = 0.8 \n",
      "relative risk (sex-男) = 0.84\n"
     ]
    }
   ],
   "source": [
    "# sex 性别为分类变量，应使用卡方分析\n",
    "table(df2$sex)\n",
    "m<-matrix(table(df2$sex))\n",
    "prop.table(m, 2)\n",
    "\n",
    "#barplot(table(accepts$bankruptcy_ind))\n",
    "table(df2$sex,df2$bad_ind)\n",
    "\n",
    "\n",
    "library(prettyR)\n",
    "xtab(~ sex + bad_ind, data=df2)\n",
    "\n",
    "chisq.test(x=df2$sex,y=df2$bad_ind)\n",
    "xtab(~ sex + bad_ind, data=df2, chisq = TRUE)"
   ]
  },
  {
   "cell_type": "code",
   "execution_count": null,
   "metadata": {
    "collapsed": true
   },
   "outputs": [],
   "source": []
  }
 ],
 "metadata": {
  "kernelspec": {
   "display_name": "R",
   "language": "R",
   "name": "ir"
  },
  "language_info": {
   "codemirror_mode": "r",
   "file_extension": ".r",
   "mimetype": "text/x-r-source",
   "name": "R",
   "pygments_lexer": "r",
   "version": "3.3.1"
  }
 },
 "nbformat": 4,
 "nbformat_minor": 1
}
