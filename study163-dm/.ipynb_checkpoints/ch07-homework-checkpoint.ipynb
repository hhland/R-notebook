{
 "cells": [
  {
   "cell_type": "markdown",
   "metadata": {},
   "source": [
    "1、使用逻辑回归构造客户流失概率预测模型，并提供测试数的模型检验结果，注意共线性问题；\n",
    "\n",
    "在分析中，注意区分训练集和验证集。\n",
    "\n",
    "\n"
   ]
  },
  {
   "cell_type": "code",
   "execution_count": 2,
   "metadata": {
    "collapsed": false
   },
   "outputs": [
    {
     "data": {
      "text/html": [
       "<table>\n",
       "<thead><tr><th scope=col>region</th><th scope=col>tenure</th><th scope=col>age</th><th scope=col>marital</th><th scope=col>address</th><th scope=col>income</th><th scope=col>ed</th><th scope=col>employ</th><th scope=col>retire</th><th scope=col>gender</th><th scope=col>⋯</th><th scope=col>voice</th><th scope=col>pager</th><th scope=col>internet</th><th scope=col>callwait</th><th scope=col>forward</th><th scope=col>confer</th><th scope=col>ebill</th><th scope=col>lninc</th><th scope=col>custcat</th><th scope=col>churn</th></tr></thead>\n",
       "<tbody>\n",
       "\t<tr><td>Zone 2                      </td><td>13                          </td><td>44                          </td><td>Married                     </td><td> 9                          </td><td>64.00                       </td><td>College degree              </td><td> 5                          </td><td>No                          </td><td>Male                        </td><td>⋯                           </td><td>No                          </td><td>No                          </td><td>No                          </td><td>No                          </td><td>Yes                         </td><td>No                          </td><td>No                          </td><td>4.16                        </td><td>Basic service               </td><td>Yes                         </td></tr>\n",
       "\t<tr><td>Zone 3                      </td><td>11                          </td><td>33                          </td><td>Married                     </td><td> 7                          </td><td>136.00                      </td><td>Post-undergraduate degree   </td><td> 5                          </td><td>No                          </td><td>Male                        </td><td>⋯                           </td><td>Yes                         </td><td>Yes                         </td><td>No                          </td><td>Yes                         </td><td>Yes                         </td><td>Yes                         </td><td>No                          </td><td>4.91                        </td><td>Total service               </td><td>Yes                         </td></tr>\n",
       "\t<tr><td>Zone 3                      </td><td>68                          </td><td>52                          </td><td>Married                     </td><td>24                          </td><td>116.00                      </td><td>Did not complete high school</td><td>29                          </td><td>No                          </td><td>Female                      </td><td>⋯                           </td><td>No                          </td><td>No                          </td><td>No                          </td><td>Yes                         </td><td>No                          </td><td>Yes                         </td><td>No                          </td><td>4.75                        </td><td>Plus service                </td><td>No                          </td></tr>\n",
       "\t<tr><td>Zone 2                      </td><td>33                          </td><td>33                          </td><td>Unmarried                   </td><td>12                          </td><td>33.00                       </td><td>High school degree          </td><td> 0                          </td><td>No                          </td><td>Female                      </td><td>⋯                           </td><td>No                          </td><td>No                          </td><td>No                          </td><td>No                          </td><td>No                          </td><td>No                          </td><td>No                          </td><td>3.50                        </td><td>Basic service               </td><td>Yes                         </td></tr>\n",
       "\t<tr><td>Zone 2                      </td><td>23                          </td><td>30                          </td><td>Married                     </td><td> 9                          </td><td>30.00                       </td><td>Did not complete high school</td><td> 2                          </td><td>No                          </td><td>Male                        </td><td>⋯                           </td><td>No                          </td><td>No                          </td><td>No                          </td><td>No                          </td><td>Yes                         </td><td>Yes                         </td><td>No                          </td><td>3.40                        </td><td>Plus service                </td><td>No                          </td></tr>\n",
       "\t<tr><td>Zone 2                      </td><td>41                          </td><td>39                          </td><td>Unmarried                   </td><td>17                          </td><td>78.00                       </td><td>High school degree          </td><td>16                          </td><td>No                          </td><td>Female                      </td><td>⋯                           </td><td>No                          </td><td>No                          </td><td>No                          </td><td>Yes                         </td><td>No                          </td><td>No                          </td><td>No                          </td><td>4.36                        </td><td>Plus service                </td><td>No                          </td></tr>\n",
       "</tbody>\n",
       "</table>\n"
      ],
      "text/latex": [
       "\\begin{tabular}{r|llllllllllllllllllllllllllllllllllll}\n",
       " region & tenure & age & marital & address & income & ed & employ & retire & gender & ⋯ & voice & pager & internet & callwait & forward & confer & ebill & lninc & custcat & churn\\\\\n",
       "\\hline\n",
       "\t Zone 2                       & 13                           & 44                           & Married                      &  9                           & 64.00                        & College degree               &  5                           & No                           & Male                         & ⋯                            & No                           & No                           & No                           & No                           & Yes                          & No                           & No                           & 4.16                         & Basic service                & Yes                         \\\\\n",
       "\t Zone 3                       & 11                           & 33                           & Married                      &  7                           & 136.00                       & Post-undergraduate degree    &  5                           & No                           & Male                         & ⋯                            & Yes                          & Yes                          & No                           & Yes                          & Yes                          & Yes                          & No                           & 4.91                         & Total service                & Yes                         \\\\\n",
       "\t Zone 3                       & 68                           & 52                           & Married                      & 24                           & 116.00                       & Did not complete high school & 29                           & No                           & Female                       & ⋯                            & No                           & No                           & No                           & Yes                          & No                           & Yes                          & No                           & 4.75                         & Plus service                 & No                          \\\\\n",
       "\t Zone 2                       & 33                           & 33                           & Unmarried                    & 12                           & 33.00                        & High school degree           &  0                           & No                           & Female                       & ⋯                            & No                           & No                           & No                           & No                           & No                           & No                           & No                           & 3.50                         & Basic service                & Yes                         \\\\\n",
       "\t Zone 2                       & 23                           & 30                           & Married                      &  9                           & 30.00                        & Did not complete high school &  2                           & No                           & Male                         & ⋯                            & No                           & No                           & No                           & No                           & Yes                          & Yes                          & No                           & 3.40                         & Plus service                 & No                          \\\\\n",
       "\t Zone 2                       & 41                           & 39                           & Unmarried                    & 17                           & 78.00                        & High school degree           & 16                           & No                           & Female                       & ⋯                            & No                           & No                           & No                           & Yes                          & No                           & No                           & No                           & 4.36                         & Plus service                 & No                          \\\\\n",
       "\\end{tabular}\n"
      ],
      "text/plain": [
       "  region tenure age marital   address income ed                          \n",
       "1 Zone 2 13     44  Married    9      64.00  College degree              \n",
       "2 Zone 3 11     33  Married    7      136.00 Post-undergraduate degree   \n",
       "3 Zone 3 68     52  Married   24      116.00 Did not complete high school\n",
       "4 Zone 2 33     33  Unmarried 12      33.00  High school degree          \n",
       "5 Zone 2 23     30  Married    9      30.00  Did not complete high school\n",
       "6 Zone 2 41     39  Unmarried 17      78.00  High school degree          \n",
       "  employ retire gender ⋯ voice pager internet callwait forward confer ebill\n",
       "1  5     No     Male   ⋯ No    No    No       No       Yes     No     No   \n",
       "2  5     No     Male   ⋯ Yes   Yes   No       Yes      Yes     Yes    No   \n",
       "3 29     No     Female ⋯ No    No    No       Yes      No      Yes    No   \n",
       "4  0     No     Female ⋯ No    No    No       No       No      No     No   \n",
       "5  2     No     Male   ⋯ No    No    No       No       Yes     Yes    No   \n",
       "6 16     No     Female ⋯ No    No    No       Yes      No      No     No   \n",
       "  lninc custcat       churn\n",
       "1 4.16  Basic service Yes  \n",
       "2 4.91  Total service Yes  \n",
       "3 4.75  Plus service  No   \n",
       "4 3.50  Basic service Yes  \n",
       "5 3.40  Plus service  No   \n",
       "6 4.36  Plus service  No   "
      ]
     },
     "metadata": {},
     "output_type": "display_data"
    }
   ],
   "source": [
    "#在\"teleco.csv\"中保存有客户流失的数据，其中每个变量的含义如下：\n",
    "#region  所在区域\n",
    "#tenure  电信客户年限\n",
    "#age\t年龄\n",
    "#marital\t是否已婚\n",
    "#address\t在当前地址待的年数\n",
    "#income\t家庭收入（单位：千）\n",
    "#ed\t教育水平\n",
    "#employ\t在目前公司的雇佣年限\n",
    "#retire\t是否退休\n",
    "#gender\t性别\n",
    "#reside\t家庭成员数\n",
    "#tollfree\t是否免电话费\n",
    "#equip\t是否租借设备\n",
    "#callcard\t是否使用电话卡服务\n",
    "#wireless\t是否使用无线接入服务\n",
    "#longmon\t上月长途费用\n",
    "#tollmon\t上月免电话费用\n",
    "#equipmon\t上月租借设备费用\n",
    "#cardmon\t上月使用电话卡服务费用\n",
    "#wiremon\t上月使用无线接入服务费用\n",
    "#longten\t长途保有期\n",
    "#tollten\t免电话费保有期\n",
    "#equipten\t租借设备保有期\n",
    "#cardten\t电话卡服务保有期\n",
    "#wireten\t无线服务保有期\n",
    "#multline\t是否多行\n",
    "#voice\t是否使用语音\n",
    "#pager\t是否开通传呼功能\n",
    "#internet\t是否使用网络\n",
    "#callwait\t是否支持呼叫等待\n",
    "#forward\t是否支持转接\n",
    "#confer\t是否开通电话会议\n",
    "#ebill\t是否支持电子凭证\n",
    "#lninc\t电信消费\n",
    "#custcat\t客户类型（客户接受的服务类型）\n",
    "#churn\t是否流失\n",
    "\n",
    "teleco <- read.csv(\"data/teleco.csv\",fileEncoding=\"GBK\")\n",
    "\n",
    "head(teleco)"
   ]
  },
  {
   "cell_type": "code",
   "execution_count": 12,
   "metadata": {
    "collapsed": true
   },
   "outputs": [],
   "source": [
    "\n",
    "ind_cols<-c(\"churn\",\"marital\",\"retire\",\"tollfree\",\"equip\",\"callcard\",\"wireless\",\"multline\",\"voice\",\"pager\",\"internet\",\"callwait\",\"forward\",\"confer\",\"ebill\")"
   ]
  },
  {
   "cell_type": "code",
   "execution_count": 17,
   "metadata": {
    "collapsed": false,
    "scrolled": true
   },
   "outputs": [
    {
     "data": {
      "text/html": [
       "<table>\n",
       "<thead><tr><th scope=col>region</th><th scope=col>tenure</th><th scope=col>age</th><th scope=col>marital</th><th scope=col>address</th><th scope=col>income</th><th scope=col>ed</th><th scope=col>employ</th><th scope=col>retire</th><th scope=col>gender</th><th scope=col>⋯</th><th scope=col>callcard_ind</th><th scope=col>wireless_ind</th><th scope=col>multline_ind</th><th scope=col>voice_ind</th><th scope=col>pager_ind</th><th scope=col>internet_ind</th><th scope=col>callwait_ind</th><th scope=col>forward_ind</th><th scope=col>confer_ind</th><th scope=col>ebill_ind</th></tr></thead>\n",
       "<tbody>\n",
       "\t<tr><td>Zone 2                      </td><td>13                          </td><td>44                          </td><td>Married                     </td><td> 9                          </td><td>64.00                       </td><td>College degree              </td><td> 5                          </td><td>No                          </td><td>Male                        </td><td>⋯                           </td><td>1                           </td><td>0                           </td><td>0                           </td><td>0                           </td><td>0                           </td><td>0                           </td><td>0                           </td><td>1                           </td><td>0                           </td><td>0                           </td></tr>\n",
       "\t<tr><td>Zone 3                      </td><td>11                          </td><td>33                          </td><td>Married                     </td><td> 7                          </td><td>136.00                      </td><td>Post-undergraduate degree   </td><td> 5                          </td><td>No                          </td><td>Male                        </td><td>⋯                           </td><td>1                           </td><td>1                           </td><td>0                           </td><td>1                           </td><td>1                           </td><td>0                           </td><td>1                           </td><td>1                           </td><td>1                           </td><td>0                           </td></tr>\n",
       "\t<tr><td>Zone 3                      </td><td>68                          </td><td>52                          </td><td>Married                     </td><td>24                          </td><td>116.00                      </td><td>Did not complete high school</td><td>29                          </td><td>No                          </td><td>Female                      </td><td>⋯                           </td><td>1                           </td><td>0                           </td><td>0                           </td><td>0                           </td><td>0                           </td><td>0                           </td><td>1                           </td><td>0                           </td><td>1                           </td><td>0                           </td></tr>\n",
       "\t<tr><td>Zone 2                      </td><td>33                          </td><td>33                          </td><td>Unmarried                   </td><td>12                          </td><td>33.00                       </td><td>High school degree          </td><td> 0                          </td><td>No                          </td><td>Female                      </td><td>⋯                           </td><td>0                           </td><td>0                           </td><td>0                           </td><td>0                           </td><td>0                           </td><td>0                           </td><td>0                           </td><td>0                           </td><td>0                           </td><td>0                           </td></tr>\n",
       "\t<tr><td>Zone 2                      </td><td>23                          </td><td>30                          </td><td>Married                     </td><td> 9                          </td><td>30.00                       </td><td>Did not complete high school</td><td> 2                          </td><td>No                          </td><td>Male                        </td><td>⋯                           </td><td>0                           </td><td>0                           </td><td>0                           </td><td>0                           </td><td>0                           </td><td>0                           </td><td>0                           </td><td>1                           </td><td>1                           </td><td>0                           </td></tr>\n",
       "\t<tr><td>Zone 2                      </td><td>41                          </td><td>39                          </td><td>Unmarried                   </td><td>17                          </td><td>78.00                       </td><td>High school degree          </td><td>16                          </td><td>No                          </td><td>Female                      </td><td>⋯                           </td><td>1                           </td><td>0                           </td><td>0                           </td><td>0                           </td><td>0                           </td><td>0                           </td><td>1                           </td><td>0                           </td><td>0                           </td><td>0                           </td></tr>\n",
       "</tbody>\n",
       "</table>\n"
      ],
      "text/latex": [
       "\\begin{tabular}{r|lllllllllllllllllllllllllllllllllllllllllllllllllll}\n",
       " region & tenure & age & marital & address & income & ed & employ & retire & gender & ⋯ & callcard\\_ind & wireless\\_ind & multline\\_ind & voice\\_ind & pager\\_ind & internet\\_ind & callwait\\_ind & forward\\_ind & confer\\_ind & ebill\\_ind\\\\\n",
       "\\hline\n",
       "\t Zone 2                       & 13                           & 44                           & Married                      &  9                           & 64.00                        & College degree               &  5                           & No                           & Male                         & ⋯                            & 1                            & 0                            & 0                            & 0                            & 0                            & 0                            & 0                            & 1                            & 0                            & 0                           \\\\\n",
       "\t Zone 3                       & 11                           & 33                           & Married                      &  7                           & 136.00                       & Post-undergraduate degree    &  5                           & No                           & Male                         & ⋯                            & 1                            & 1                            & 0                            & 1                            & 1                            & 0                            & 1                            & 1                            & 1                            & 0                           \\\\\n",
       "\t Zone 3                       & 68                           & 52                           & Married                      & 24                           & 116.00                       & Did not complete high school & 29                           & No                           & Female                       & ⋯                            & 1                            & 0                            & 0                            & 0                            & 0                            & 0                            & 1                            & 0                            & 1                            & 0                           \\\\\n",
       "\t Zone 2                       & 33                           & 33                           & Unmarried                    & 12                           & 33.00                        & High school degree           &  0                           & No                           & Female                       & ⋯                            & 0                            & 0                            & 0                            & 0                            & 0                            & 0                            & 0                            & 0                            & 0                            & 0                           \\\\\n",
       "\t Zone 2                       & 23                           & 30                           & Married                      &  9                           & 30.00                        & Did not complete high school &  2                           & No                           & Male                         & ⋯                            & 0                            & 0                            & 0                            & 0                            & 0                            & 0                            & 0                            & 1                            & 1                            & 0                           \\\\\n",
       "\t Zone 2                       & 41                           & 39                           & Unmarried                    & 17                           & 78.00                        & High school degree           & 16                           & No                           & Female                       & ⋯                            & 1                            & 0                            & 0                            & 0                            & 0                            & 0                            & 1                            & 0                            & 0                            & 0                           \\\\\n",
       "\\end{tabular}\n"
      ],
      "text/plain": [
       "  region tenure age marital   address income ed                          \n",
       "1 Zone 2 13     44  Married    9      64.00  College degree              \n",
       "2 Zone 3 11     33  Married    7      136.00 Post-undergraduate degree   \n",
       "3 Zone 3 68     52  Married   24      116.00 Did not complete high school\n",
       "4 Zone 2 33     33  Unmarried 12      33.00  High school degree          \n",
       "5 Zone 2 23     30  Married    9      30.00  Did not complete high school\n",
       "6 Zone 2 41     39  Unmarried 17      78.00  High school degree          \n",
       "  employ retire gender ⋯ callcard_ind wireless_ind multline_ind voice_ind\n",
       "1  5     No     Male   ⋯ 1            0            0            0        \n",
       "2  5     No     Male   ⋯ 1            1            0            1        \n",
       "3 29     No     Female ⋯ 1            0            0            0        \n",
       "4  0     No     Female ⋯ 0            0            0            0        \n",
       "5  2     No     Male   ⋯ 0            0            0            0        \n",
       "6 16     No     Female ⋯ 1            0            0            0        \n",
       "  pager_ind internet_ind callwait_ind forward_ind confer_ind ebill_ind\n",
       "1 0         0            0            1           0          0        \n",
       "2 1         0            1            1           1          0        \n",
       "3 0         0            1            0           1          0        \n",
       "4 0         0            0            0           0          0        \n",
       "5 0         0            0            1           1          0        \n",
       "6 0         0            1            0           0          0        "
      ]
     },
     "metadata": {},
     "output_type": "display_data"
    }
   ],
   "source": [
    "teleco0<-teleco\n",
    "\n",
    "for (ind_col in ind_cols){\n",
    "    \n",
    "    ind_col_n<-paste0(ind_col,\"_ind\")\n",
    " \n",
    "    teleco0[,ind_col_n]<-unclass(as.factor(teleco0[,ind_col]))-1\n",
    "}\n",
    "\n",
    "head(teleco0)"
   ]
  },
  {
   "cell_type": "code",
   "execution_count": null,
   "metadata": {
    "collapsed": true
   },
   "outputs": [],
   "source": []
  },
  {
   "cell_type": "code",
   "execution_count": 27,
   "metadata": {
    "collapsed": false
   },
   "outputs": [],
   "source": [
    "set.seed(100)\n",
    "select<-sample(1:nrow(teleco0),length(teleco0$region)*0.7)\n",
    "train<-teleco0[select,]\n",
    "test<-teleco0[-select,]\n"
   ]
  },
  {
   "cell_type": "code",
   "execution_count": 19,
   "metadata": {
    "collapsed": false
   },
   "outputs": [
    {
     "data": {
      "text/html": [
       "<ol class=list-inline>\n",
       "\t<li>'marital_ind'</li>\n",
       "\t<li>'retire_ind'</li>\n",
       "\t<li>'tollfree_ind'</li>\n",
       "\t<li>'equip_ind'</li>\n",
       "\t<li>'callcard_ind'</li>\n",
       "\t<li>'wireless_ind'</li>\n",
       "\t<li>'multline_ind'</li>\n",
       "\t<li>'voice_ind'</li>\n",
       "\t<li>'pager_ind'</li>\n",
       "\t<li>'internet_ind'</li>\n",
       "\t<li>'callwait_ind'</li>\n",
       "\t<li>'forward_ind'</li>\n",
       "\t<li>'confer_ind'</li>\n",
       "\t<li>'ebill_ind'</li>\n",
       "</ol>\n"
      ],
      "text/latex": [
       "\\begin{enumerate*}\n",
       "\\item 'marital\\_ind'\n",
       "\\item 'retire\\_ind'\n",
       "\\item 'tollfree\\_ind'\n",
       "\\item 'equip\\_ind'\n",
       "\\item 'callcard\\_ind'\n",
       "\\item 'wireless\\_ind'\n",
       "\\item 'multline\\_ind'\n",
       "\\item 'voice\\_ind'\n",
       "\\item 'pager\\_ind'\n",
       "\\item 'internet\\_ind'\n",
       "\\item 'callwait\\_ind'\n",
       "\\item 'forward\\_ind'\n",
       "\\item 'confer\\_ind'\n",
       "\\item 'ebill\\_ind'\n",
       "\\end{enumerate*}\n"
      ],
      "text/markdown": [
       "1. 'marital_ind'\n",
       "2. 'retire_ind'\n",
       "3. 'tollfree_ind'\n",
       "4. 'equip_ind'\n",
       "5. 'callcard_ind'\n",
       "6. 'wireless_ind'\n",
       "7. 'multline_ind'\n",
       "8. 'voice_ind'\n",
       "9. 'pager_ind'\n",
       "10. 'internet_ind'\n",
       "11. 'callwait_ind'\n",
       "12. 'forward_ind'\n",
       "13. 'confer_ind'\n",
       "14. 'ebill_ind'\n",
       "\n",
       "\n"
      ],
      "text/plain": [
       " [1] \"marital_ind\"  \"retire_ind\"   \"tollfree_ind\" \"equip_ind\"    \"callcard_ind\"\n",
       " [6] \"wireless_ind\" \"multline_ind\" \"voice_ind\"    \"pager_ind\"    \"internet_ind\"\n",
       "[11] \"callwait_ind\" \"forward_ind\"  \"confer_ind\"   \"ebill_ind\"   "
      ]
     },
     "metadata": {},
     "output_type": "display_data"
    }
   ],
   "source": [
    "ind_cols0<-paste0(ind_cols,\"_ind\")\n",
    "explained_col<-ind_cols0[1]\n",
    "explain_cols<-ind_cols0[-1]\n",
    "\n",
    "explain_cols"
   ]
  },
  {
   "cell_type": "code",
   "execution_count": 20,
   "metadata": {
    "collapsed": false
   },
   "outputs": [
    {
     "data": {
      "text/plain": [
       "\n",
       "  0   1 \n",
       "726 274 "
      ]
     },
     "metadata": {},
     "output_type": "display_data"
    }
   ],
   "source": [
    "table(teleco0[,explained_col])"
   ]
  },
  {
   "cell_type": "code",
   "execution_count": 22,
   "metadata": {
    "collapsed": false
   },
   "outputs": [
    {
     "data": {
      "text/plain": [
       "\n",
       "Call:\n",
       "glm(formula = churn ~ marital_ind + retire_ind + tollfree_ind + \n",
       "    equip_ind + callcard_ind + wireless_ind + multline_ind + \n",
       "    voice_ind + pager_ind + internet_ind + callwait_ind + forward_ind + \n",
       "    confer_ind + ebill_ind, family = binomial(link = \"logit\"), \n",
       "    data = teleco0)\n",
       "\n",
       "Deviance Residuals: \n",
       "    Min       1Q   Median       3Q      Max  \n",
       "-2.0238  -0.8010  -0.4692   0.8456   2.4629  \n",
       "\n",
       "Coefficients:\n",
       "              Estimate Std. Error z value Pr(>|z|)    \n",
       "(Intercept)  -0.972349   0.190285  -5.110 3.22e-07 ***\n",
       "marital_ind   0.119343   0.159863   0.747 0.455346    \n",
       "retire_ind   -1.050722   0.621431  -1.691 0.090873 .  \n",
       "tollfree_ind  0.308646   0.233497   1.322 0.186221    \n",
       "equip_ind     0.796772   0.211175   3.773 0.000161 ***\n",
       "callcard_ind -1.298153   0.193487  -6.709 1.96e-11 ***\n",
       "wireless_ind  0.199230   0.269094   0.740 0.459073    \n",
       "multline_ind -0.568403   0.178011  -3.193 0.001408 ** \n",
       "voice_ind     0.579183   0.226153   2.561 0.010436 *  \n",
       "pager_ind     0.007179   0.247212   0.029 0.976833    \n",
       "internet_ind  0.601962   0.204846   2.939 0.003297 ** \n",
       "callwait_ind -0.268073   0.234822  -1.142 0.253620    \n",
       "forward_ind   0.269828   0.228834   1.179 0.238340    \n",
       "confer_ind   -0.272949   0.222653  -1.226 0.220239    \n",
       "ebill_ind     0.298874   0.200781   1.489 0.136603    \n",
       "---\n",
       "Signif. codes:  0 ‘***’ 0.001 ‘**’ 0.01 ‘*’ 0.05 ‘.’ 0.1 ‘ ’ 1\n",
       "\n",
       "(Dispersion parameter for binomial family taken to be 1)\n",
       "\n",
       "    Null deviance: 1174.39  on 999  degrees of freedom\n",
       "Residual deviance:  980.81  on 985  degrees of freedom\n",
       "AIC: 1010.8\n",
       "\n",
       "Number of Fisher Scoring iterations: 5\n"
      ]
     },
     "metadata": {},
     "output_type": "display_data"
    }
   ],
   "source": [
    "lgm0<- glm(churn~marital_ind+retire_ind+tollfree_ind+equip_ind+callcard_ind+wireless_ind+multline_ind+voice_ind+pager_ind+internet_ind+callwait_ind+forward_ind+confer_ind+ebill_ind,\n",
    "          ,data=teleco0,family=binomial(link = \"logit\"))\n",
    "\n",
    "summary(lgm0)"
   ]
  },
  {
   "cell_type": "code",
   "execution_count": 24,
   "metadata": {
    "collapsed": false
   },
   "outputs": [
    {
     "name": "stdout",
     "output_type": "stream",
     "text": [
      "Start:  AIC=1010.81\n",
      "churn ~ marital_ind + retire_ind + tollfree_ind + equip_ind + \n",
      "    callcard_ind + wireless_ind + multline_ind + voice_ind + \n",
      "    pager_ind + internet_ind + callwait_ind + forward_ind + confer_ind + \n",
      "    ebill_ind\n",
      "\n",
      "               Df Deviance    AIC\n",
      "- pager_ind     1   980.81 1008.8\n",
      "- wireless_ind  1   981.36 1009.4\n",
      "- marital_ind   1   981.37 1009.4\n",
      "- callwait_ind  1   982.12 1010.1\n",
      "- forward_ind   1   982.20 1010.2\n",
      "- confer_ind    1   982.32 1010.3\n",
      "- tollfree_ind  1   982.57 1010.6\n",
      "<none>              980.81 1010.8\n",
      "- ebill_ind     1   983.02 1011.0\n",
      "- retire_ind    1   984.50 1012.5\n",
      "- voice_ind     1   987.39 1015.4\n",
      "- internet_ind  1   989.42 1017.4\n",
      "- multline_ind  1   991.29 1019.3\n",
      "- equip_ind     1   995.13 1023.1\n",
      "- callcard_ind  1  1028.56 1056.6\n",
      "\n",
      "Step:  AIC=1008.81\n",
      "churn ~ marital_ind + retire_ind + tollfree_ind + equip_ind + \n",
      "    callcard_ind + wireless_ind + multline_ind + voice_ind + \n",
      "    internet_ind + callwait_ind + forward_ind + confer_ind + \n",
      "    ebill_ind\n",
      "\n",
      "               Df Deviance    AIC\n",
      "- marital_ind   1   981.37 1007.4\n",
      "- wireless_ind  1   981.46 1007.5\n",
      "- callwait_ind  1   982.12 1008.1\n",
      "- forward_ind   1   982.21 1008.2\n",
      "- confer_ind    1   982.32 1008.3\n",
      "- tollfree_ind  1   982.64 1008.6\n",
      "<none>              980.81 1008.8\n",
      "- ebill_ind     1   983.03 1009.0\n",
      "- retire_ind    1   984.51 1010.5\n",
      "+ pager_ind     1   980.81 1010.8\n",
      "- voice_ind     1   987.54 1013.5\n",
      "- internet_ind  1   989.49 1015.5\n",
      "- multline_ind  1   991.29 1017.3\n",
      "- equip_ind     1   995.29 1021.3\n",
      "- callcard_ind  1  1028.58 1054.6\n",
      "\n",
      "Step:  AIC=1007.37\n",
      "churn ~ retire_ind + tollfree_ind + equip_ind + callcard_ind + \n",
      "    wireless_ind + multline_ind + voice_ind + internet_ind + \n",
      "    callwait_ind + forward_ind + confer_ind + ebill_ind\n",
      "\n",
      "               Df Deviance    AIC\n",
      "- wireless_ind  1   981.99 1006.0\n",
      "- callwait_ind  1   982.68 1006.7\n",
      "- forward_ind   1   982.71 1006.7\n",
      "- confer_ind    1   982.83 1006.8\n",
      "- tollfree_ind  1   983.22 1007.2\n",
      "<none>              981.37 1007.4\n",
      "- ebill_ind     1   983.88 1007.9\n",
      "+ marital_ind   1   980.81 1008.8\n",
      "- retire_ind    1   984.89 1008.9\n",
      "+ pager_ind     1   981.37 1009.4\n",
      "- voice_ind     1   988.13 1012.1\n",
      "- internet_ind  1   989.84 1013.8\n",
      "- multline_ind  1   992.34 1016.3\n",
      "- equip_ind     1   995.89 1019.9\n",
      "- callcard_ind  1  1029.58 1053.6\n",
      "\n",
      "Step:  AIC=1005.99\n",
      "churn ~ retire_ind + tollfree_ind + equip_ind + callcard_ind + \n",
      "    multline_ind + voice_ind + internet_ind + callwait_ind + \n",
      "    forward_ind + confer_ind + ebill_ind\n",
      "\n",
      "               Df Deviance    AIC\n",
      "- callwait_ind  1   983.14 1005.1\n",
      "- confer_ind    1   983.20 1005.2\n",
      "- forward_ind   1   983.48 1005.5\n",
      "<none>              981.99 1006.0\n",
      "- tollfree_ind  1   984.15 1006.1\n",
      "- ebill_ind     1   984.85 1006.9\n",
      "+ wireless_ind  1   981.37 1007.4\n",
      "+ marital_ind   1   981.46 1007.5\n",
      "- retire_ind    1   985.55 1007.5\n",
      "+ pager_ind     1   981.91 1007.9\n",
      "- internet_ind  1   991.13 1013.1\n",
      "- voice_ind     1   991.21 1013.2\n",
      "- multline_ind  1   992.70 1014.7\n",
      "- equip_ind     1   997.96 1020.0\n",
      "- callcard_ind  1  1029.59 1051.6\n",
      "\n",
      "Step:  AIC=1005.14\n",
      "churn ~ retire_ind + tollfree_ind + equip_ind + callcard_ind + \n",
      "    multline_ind + voice_ind + internet_ind + forward_ind + confer_ind + \n",
      "    ebill_ind\n",
      "\n",
      "               Df Deviance    AIC\n",
      "- forward_ind   1   984.15 1004.1\n",
      "- tollfree_ind  1   984.49 1004.5\n",
      "- confer_ind    1   984.84 1004.8\n",
      "<none>              983.14 1005.1\n",
      "+ callwait_ind  1   981.99 1006.0\n",
      "- ebill_ind     1   986.28 1006.3\n",
      "+ marital_ind   1   982.60 1006.6\n",
      "+ wireless_ind  1   982.68 1006.7\n",
      "- retire_ind    1   986.76 1006.8\n",
      "+ pager_ind     1   983.10 1007.1\n",
      "- voice_ind     1   991.60 1011.6\n",
      "- internet_ind  1   992.19 1012.2\n",
      "- multline_ind  1   994.00 1014.0\n",
      "- equip_ind     1   999.44 1019.4\n",
      "- callcard_ind  1  1031.89 1051.9\n",
      "\n",
      "Step:  AIC=1004.15\n",
      "churn ~ retire_ind + tollfree_ind + equip_ind + callcard_ind + \n",
      "    multline_ind + voice_ind + internet_ind + confer_ind + ebill_ind\n",
      "\n",
      "               Df Deviance    AIC\n",
      "- confer_ind    1   985.23 1003.2\n",
      "<none>              984.15 1004.1\n",
      "- tollfree_ind  1   986.57 1004.6\n",
      "+ forward_ind   1   983.14 1005.1\n",
      "- ebill_ind     1   987.21 1005.2\n",
      "+ callwait_ind  1   983.48 1005.5\n",
      "+ wireless_ind  1   983.55 1005.5\n",
      "+ marital_ind   1   983.67 1005.7\n",
      "- retire_ind    1   987.79 1005.8\n",
      "+ pager_ind     1   984.07 1006.1\n",
      "- internet_ind  1   993.14 1011.1\n",
      "- voice_ind     1   993.97 1012.0\n",
      "- multline_ind  1   995.29 1013.3\n",
      "- equip_ind     1  1000.42 1018.4\n",
      "- callcard_ind  1  1031.90 1049.9\n",
      "\n",
      "Step:  AIC=1003.23\n",
      "churn ~ retire_ind + tollfree_ind + equip_ind + callcard_ind + \n",
      "    multline_ind + voice_ind + internet_ind + ebill_ind\n",
      "\n",
      "               Df Deviance    AIC\n",
      "- tollfree_ind  1   986.77 1002.8\n",
      "<none>              985.23 1003.2\n",
      "+ callwait_ind  1   984.13 1004.1\n",
      "+ confer_ind    1   984.15 1004.1\n",
      "- ebill_ind     1   988.32 1004.3\n",
      "+ marital_ind   1   984.76 1004.8\n",
      "+ forward_ind   1   984.84 1004.8\n",
      "+ wireless_ind  1   984.95 1005.0\n",
      "- retire_ind    1   989.08 1005.1\n",
      "+ pager_ind     1   985.19 1005.2\n",
      "- voice_ind     1   994.05 1010.0\n",
      "- internet_ind  1   994.38 1010.4\n",
      "- multline_ind  1   996.32 1012.3\n",
      "- equip_ind     1  1001.93 1017.9\n",
      "- callcard_ind  1  1037.58 1053.6\n",
      "\n",
      "Step:  AIC=1002.77\n",
      "churn ~ retire_ind + equip_ind + callcard_ind + multline_ind + \n",
      "    voice_ind + internet_ind + ebill_ind\n",
      "\n",
      "               Df Deviance    AIC\n",
      "<none>              986.77 1002.8\n",
      "+ tollfree_ind  1   985.23 1003.2\n",
      "- ebill_ind     1   989.51 1003.5\n",
      "+ forward_ind   1   985.55 1003.5\n",
      "+ wireless_ind  1   985.98 1004.0\n",
      "+ marital_ind   1   986.29 1004.3\n",
      "+ pager_ind     1   986.38 1004.4\n",
      "- retire_ind    1   990.48 1004.5\n",
      "+ confer_ind    1   986.57 1004.6\n",
      "+ callwait_ind  1   986.70 1004.7\n",
      "- internet_ind  1   995.60 1009.6\n",
      "- multline_ind  1   998.43 1012.4\n",
      "- voice_ind     1   999.06 1013.1\n",
      "- equip_ind     1  1003.47 1017.5\n",
      "- callcard_ind  1  1038.81 1052.8\n"
     ]
    },
    {
     "data": {
      "text/plain": [
       "\n",
       "Call:\n",
       "glm(formula = churn ~ retire_ind + equip_ind + callcard_ind + \n",
       "    multline_ind + voice_ind + internet_ind + ebill_ind, family = binomial(link = \"logit\"), \n",
       "    data = teleco0)\n",
       "\n",
       "Deviance Residuals: \n",
       "    Min       1Q   Median       3Q      Max  \n",
       "-1.8520  -0.8197  -0.4701   0.8211   2.3676  \n",
       "\n",
       "Coefficients:\n",
       "             Estimate Std. Error z value Pr(>|z|)    \n",
       "(Intercept)   -0.9181     0.1510  -6.081 1.20e-09 ***\n",
       "retire_ind    -1.0483     0.6188  -1.694 0.090262 .  \n",
       "equip_ind      0.8437     0.2070   4.075 4.60e-05 ***\n",
       "callcard_ind  -1.2288     0.1738  -7.068 1.57e-12 ***\n",
       "multline_ind  -0.5933     0.1763  -3.366 0.000762 ***\n",
       "voice_ind      0.6626     0.1893   3.499 0.000467 ***\n",
       "internet_ind   0.6025     0.2023   2.979 0.002894 ** \n",
       "ebill_ind      0.3260     0.1961   1.662 0.096434 .  \n",
       "---\n",
       "Signif. codes:  0 ‘***’ 0.001 ‘**’ 0.01 ‘*’ 0.05 ‘.’ 0.1 ‘ ’ 1\n",
       "\n",
       "(Dispersion parameter for binomial family taken to be 1)\n",
       "\n",
       "    Null deviance: 1174.39  on 999  degrees of freedom\n",
       "Residual deviance:  986.77  on 992  degrees of freedom\n",
       "AIC: 1002.8\n",
       "\n",
       "Number of Fisher Scoring iterations: 5\n"
      ]
     },
     "metadata": {},
     "output_type": "display_data"
    }
   ],
   "source": [
    "lgm0_ms<-step(lgm0,direction = \"both\")\n",
    "\n",
    "summary(lgm0_ms)"
   ]
  },
  {
   "cell_type": "code",
   "execution_count": 29,
   "metadata": {
    "collapsed": false
   },
   "outputs": [
    {
     "data": {
      "text/plain": [
       "   Min. 1st Qu.  Median    Mean 3rd Qu.    Max. \n",
       "-3.7880 -2.1470 -1.1670 -1.2000 -0.3055  1.5170 "
      ]
     },
     "metadata": {},
     "output_type": "display_data"
    }
   ],
   "source": [
    "train$lg_p<- predict(lgm0_ms,train)\n",
    "\n",
    "summary(train$lg_p)"
   ]
  },
  {
   "cell_type": "code",
   "execution_count": 30,
   "metadata": {
    "collapsed": false
   },
   "outputs": [
    {
     "data": {
      "text/plain": [
       "   Min. 1st Qu.  Median    Mean 3rd Qu.    Max. \n",
       "0.02213 0.10460 0.23740 0.27640 0.42420 0.82000 "
      ]
     },
     "metadata": {},
     "output_type": "display_data"
    }
   ],
   "source": [
    "train$p<-1/(1+exp(-1*train$lg_p))\n",
    "summary(train$p)"
   ]
  },
  {
   "cell_type": "code",
   "execution_count": 33,
   "metadata": {
    "collapsed": false
   },
   "outputs": [
    {
     "data": {
      "text/html": [
       "<dl class=dl-horizontal>\n",
       "\t<dt>marital_ind</dt>\n",
       "\t\t<dd>1.0290816656676</dd>\n",
       "\t<dt>retire_ind</dt>\n",
       "\t\t<dd>1.01512715488369</dd>\n",
       "\t<dt>tollfree_ind</dt>\n",
       "\t\t<dd>2.18696562293698</dd>\n",
       "\t<dt>equip_ind</dt>\n",
       "\t\t<dd>1.79495812013283</dd>\n",
       "\t<dt>callcard_ind</dt>\n",
       "\t\t<dd>1.47287514043867</dd>\n",
       "\t<dt>wireless_ind</dt>\n",
       "\t\t<dd>2.68252626111921</dd>\n",
       "\t<dt>multline_ind</dt>\n",
       "\t\t<dd>1.27163639382376</dd>\n",
       "\t<dt>voice_ind</dt>\n",
       "\t\t<dd>1.92391748987691</dd>\n",
       "\t<dt>pager_ind</dt>\n",
       "\t\t<dd>2.12990236353244</dd>\n",
       "\t<dt>internet_ind</dt>\n",
       "\t\t<dd>1.690766950372</dd>\n",
       "\t<dt>callwait_ind</dt>\n",
       "\t\t<dd>2.20885996249652</dd>\n",
       "\t<dt>forward_ind</dt>\n",
       "\t\t<dd>2.10960511513719</dd>\n",
       "\t<dt>confer_ind</dt>\n",
       "\t\t<dd>1.99463186080429</dd>\n",
       "\t<dt>ebill_ind</dt>\n",
       "\t\t<dd>1.62284974040863</dd>\n",
       "</dl>\n"
      ],
      "text/latex": [
       "\\begin{description*}\n",
       "\\item[marital\\textbackslash{}\\_ind] 1.0290816656676\n",
       "\\item[retire\\textbackslash{}\\_ind] 1.01512715488369\n",
       "\\item[tollfree\\textbackslash{}\\_ind] 2.18696562293698\n",
       "\\item[equip\\textbackslash{}\\_ind] 1.79495812013283\n",
       "\\item[callcard\\textbackslash{}\\_ind] 1.47287514043867\n",
       "\\item[wireless\\textbackslash{}\\_ind] 2.68252626111921\n",
       "\\item[multline\\textbackslash{}\\_ind] 1.27163639382376\n",
       "\\item[voice\\textbackslash{}\\_ind] 1.92391748987691\n",
       "\\item[pager\\textbackslash{}\\_ind] 2.12990236353244\n",
       "\\item[internet\\textbackslash{}\\_ind] 1.690766950372\n",
       "\\item[callwait\\textbackslash{}\\_ind] 2.20885996249652\n",
       "\\item[forward\\textbackslash{}\\_ind] 2.10960511513719\n",
       "\\item[confer\\textbackslash{}\\_ind] 1.99463186080429\n",
       "\\item[ebill\\textbackslash{}\\_ind] 1.62284974040863\n",
       "\\end{description*}\n"
      ],
      "text/markdown": [
       "marital_ind\n",
       ":   1.0290816656676retire_ind\n",
       ":   1.01512715488369tollfree_ind\n",
       ":   2.18696562293698equip_ind\n",
       ":   1.79495812013283callcard_ind\n",
       ":   1.47287514043867wireless_ind\n",
       ":   2.68252626111921multline_ind\n",
       ":   1.27163639382376voice_ind\n",
       ":   1.92391748987691pager_ind\n",
       ":   2.12990236353244internet_ind\n",
       ":   1.690766950372callwait_ind\n",
       ":   2.20885996249652forward_ind\n",
       ":   2.10960511513719confer_ind\n",
       ":   1.99463186080429ebill_ind\n",
       ":   1.62284974040863\n",
       "\n"
      ],
      "text/plain": [
       " marital_ind   retire_ind tollfree_ind    equip_ind callcard_ind wireless_ind \n",
       "    1.029082     1.015127     2.186966     1.794958     1.472875     2.682526 \n",
       "multline_ind    voice_ind    pager_ind internet_ind callwait_ind  forward_ind \n",
       "    1.271636     1.923917     2.129902     1.690767     2.208860     2.109605 \n",
       "  confer_ind    ebill_ind \n",
       "    1.994632     1.622850 "
      ]
     },
     "metadata": {},
     "output_type": "display_data"
    }
   ],
   "source": [
    "library(car)\n",
    "vif(lgm0)"
   ]
  },
  {
   "cell_type": "code",
   "execution_count": 34,
   "metadata": {
    "collapsed": false
   },
   "outputs": [
    {
     "data": {
      "text/plain": [
       "   Min. 1st Qu.  Median    Mean 3rd Qu.    Max. \n",
       "0.02213 0.10460 0.27530 0.26840 0.42170 0.82000 "
      ]
     },
     "metadata": {},
     "output_type": "display_data"
    }
   ],
   "source": [
    "test$lg_p<-predict(lgm0_ms, test) \n",
    "test$p<-(1/(1+exp(-1*test$lg_p)))\n",
    "summary(test$p)"
   ]
  },
  {
   "cell_type": "code",
   "execution_count": null,
   "metadata": {
    "collapsed": true
   },
   "outputs": [],
   "source": []
  }
 ],
 "metadata": {
  "kernelspec": {
   "display_name": "R",
   "language": "R",
   "name": "ir"
  },
  "language_info": {
   "codemirror_mode": "r",
   "file_extension": ".r",
   "mimetype": "text/x-r-source",
   "name": "R",
   "pygments_lexer": "r",
   "version": "3.3.1"
  }
 },
 "nbformat": 4,
 "nbformat_minor": 1
}
