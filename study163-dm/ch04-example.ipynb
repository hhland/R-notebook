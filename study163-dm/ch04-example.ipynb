{
 "cells": [
  {
   "cell_type": "markdown",
   "metadata": {},
   "source": [
    "# 1 data reduction"
   ]
  },
  {
   "cell_type": "code",
   "execution_count": 5,
   "metadata": {
    "collapsed": false
   },
   "outputs": [
    {
     "name": "stderr",
     "output_type": "stream",
     "text": [
      "Loading required package: gsubfn\n",
      "Loading required package: proto\n",
      "Could not load tcltk.  Will use slower R code instead.\n",
      "Loading required package: RSQLite\n",
      "Loading required package: DBI\n"
     ]
    },
    {
     "data": {
      "text/html": [
       "<table>\n",
       "<thead><tr><th scope=col>cust_id</th><th scope=col>type</th><th scope=col>Recency</th><th scope=col>freq</th><th scope=col>Monetary</th></tr></thead>\n",
       "<tbody>\n",
       "\t<tr><td>10001        </td><td>Normal       </td><td>9/6/2010     </td><td>15           </td><td>3608         </td></tr>\n",
       "\t<tr><td>10001        </td><td>Special_offer</td><td>10/12/2009   </td><td> 2           </td><td> 420         </td></tr>\n",
       "\t<tr><td>10002        </td><td>Normal       </td><td>7/29/2009    </td><td>12           </td><td>1894         </td></tr>\n",
       "\t<tr><td>10003        </td><td>Normal       </td><td>9/6/2009     </td><td>15           </td><td>3503         </td></tr>\n",
       "\t<tr><td>10003        </td><td>Special_offer</td><td>1/2/2010     </td><td> 1           </td><td> 156         </td></tr>\n",
       "\t<tr><td>10004        </td><td>Normal       </td><td>9/13/2009    </td><td>15           </td><td>2979         </td></tr>\n",
       "</tbody>\n",
       "</table>\n"
      ],
      "text/latex": [
       "\\begin{tabular}{r|lllll}\n",
       " cust\\_id & type & Recency & freq & Monetary\\\\\n",
       "\\hline\n",
       "\t 10001         & Normal        & 9/6/2010      & 15            & 3608         \\\\\n",
       "\t 10001           & Special\\_offer & 10/12/2009      &  2              &  420           \\\\\n",
       "\t 10002         & Normal        & 7/29/2009     & 12            & 1894         \\\\\n",
       "\t 10003         & Normal        & 9/6/2009      & 15            & 3503         \\\\\n",
       "\t 10003           & Special\\_offer & 1/2/2010        &  1              &  156           \\\\\n",
       "\t 10004         & Normal        & 9/13/2009     & 15            & 2979         \\\\\n",
       "\\end{tabular}\n"
      ],
      "text/plain": [
       "  cust_id type          Recency    freq Monetary\n",
       "1 10001   Normal        9/6/2010   15   3608    \n",
       "2 10001   Special_offer 10/12/2009  2    420    \n",
       "3 10002   Normal        7/29/2009  12   1894    \n",
       "4 10003   Normal        9/6/2009   15   3503    \n",
       "5 10003   Special_offer 1/2/2010    1    156    \n",
       "6 10004   Normal        9/13/2009  15   2979    "
      ]
     },
     "metadata": {},
     "output_type": "display_data"
    }
   ],
   "source": [
    "#4.1 FRM提取行为变量\n",
    "library(sqldf)\n",
    "rfm_trad_flow<-read.csv(\"data/rfm_trad_flow.csv\",fileEncoding=\"GBK\")\n",
    "rfm<-sqldf(\"select  cust_id,type,\n",
    "           max(time) as Recency,count(*) as freq,sum(amount) as Monetary\n",
    "           from  rfm_trad_flow\n",
    "           where type='Special_offer' or type='Normal'\n",
    "           group by cust_id,type\")\n",
    "\n",
    "head(rfm)"
   ]
  },
  {
   "cell_type": "code",
   "execution_count": 6,
   "metadata": {
    "collapsed": false
   },
   "outputs": [
    {
     "data": {
      "text/html": [
       "<table>\n",
       "<thead><tr><th scope=col>cust_id</th><th scope=col>type</th><th scope=col>Monetary</th></tr></thead>\n",
       "<tbody>\n",
       "\t<tr><td>10001        </td><td>Normal       </td><td>3608         </td></tr>\n",
       "\t<tr><td>10001        </td><td>Special_offer</td><td> 420         </td></tr>\n",
       "\t<tr><td>10002        </td><td>Normal       </td><td>1894         </td></tr>\n",
       "\t<tr><td>10003        </td><td>Normal       </td><td>3503         </td></tr>\n",
       "\t<tr><td>10003        </td><td>Special_offer</td><td> 156         </td></tr>\n",
       "\t<tr><td>10004        </td><td>Normal       </td><td>2979         </td></tr>\n",
       "</tbody>\n",
       "</table>\n"
      ],
      "text/latex": [
       "\\begin{tabular}{r|lll}\n",
       " cust\\_id & type & Monetary\\\\\n",
       "\\hline\n",
       "\t 10001         & Normal        & 3608         \\\\\n",
       "\t 10001           & Special\\_offer &  420           \\\\\n",
       "\t 10002         & Normal        & 1894         \\\\\n",
       "\t 10003         & Normal        & 3503         \\\\\n",
       "\t 10003           & Special\\_offer &  156           \\\\\n",
       "\t 10004         & Normal        & 2979         \\\\\n",
       "\\end{tabular}\n"
      ],
      "text/plain": [
       "  cust_id type          Monetary\n",
       "1 10001   Normal        3608    \n",
       "2 10001   Special_offer  420    \n",
       "3 10002   Normal        1894    \n",
       "4 10003   Normal        3503    \n",
       "5 10003   Special_offer  156    \n",
       "6 10004   Normal        2979    "
      ]
     },
     "metadata": {},
     "output_type": "display_data"
    }
   ],
   "source": [
    "#4.2 数据重组\n",
    "#4.2.1 拆分列\n",
    "rfm<-sqldf(\"select  cust_id,type,sum(amount) as Monetary\n",
    "           from  rfm_trad_flow\n",
    "           where type='Special_offer' or type='Normal'\n",
    "           group by cust_id,type\")\n",
    "\n",
    "head(rfm)"
   ]
  },
  {
   "cell_type": "code",
   "execution_count": 7,
   "metadata": {
    "collapsed": false
   },
   "outputs": [
    {
     "name": "stderr",
     "output_type": "stream",
     "text": [
      "Using Monetary as value column.  Use the value argument to cast to override this choice\n"
     ]
    },
    {
     "data": {
      "text/html": [
       "<table>\n",
       "<thead><tr><th scope=col>cust_id</th><th scope=col>Normal</th><th scope=col>Special_offer</th><th scope=col>Special_offer_ratio</th></tr></thead>\n",
       "<tbody>\n",
       "\t<tr><td>10001     </td><td>3608      </td><td>420       </td><td>0.10427011</td></tr>\n",
       "\t<tr><td>10002     </td><td>1894      </td><td>  0       </td><td>0.00000000</td></tr>\n",
       "\t<tr><td>10003     </td><td>3503      </td><td>156       </td><td>0.04263460</td></tr>\n",
       "\t<tr><td>10004     </td><td>2979      </td><td>373       </td><td>0.11127685</td></tr>\n",
       "\t<tr><td>10005     </td><td>2368      </td><td>  0       </td><td>0.00000000</td></tr>\n",
       "\t<tr><td>10006     </td><td>2534      </td><td> 58       </td><td>0.02237654</td></tr>\n",
       "</tbody>\n",
       "</table>\n"
      ],
      "text/latex": [
       "\\begin{tabular}{r|llll}\n",
       " cust\\_id & Normal & Special\\_offer & Special\\_offer\\_ratio\\\\\n",
       "\\hline\n",
       "\t 10001      & 3608       & 420        & 0.10427011\\\\\n",
       "\t 10002      & 1894       &   0        & 0.00000000\\\\\n",
       "\t 10003      & 3503       & 156        & 0.04263460\\\\\n",
       "\t 10004      & 2979       & 373        & 0.11127685\\\\\n",
       "\t 10005      & 2368       &   0        & 0.00000000\\\\\n",
       "\t 10006      & 2534       &  58        & 0.02237654\\\\\n",
       "\\end{tabular}\n"
      ],
      "text/plain": [
       "  cust_id Normal Special_offer Special_offer_ratio\n",
       "1 10001   3608   420           0.10427011         \n",
       "2 10002   1894     0           0.00000000         \n",
       "3 10003   3503   156           0.04263460         \n",
       "4 10004   2979   373           0.11127685         \n",
       "5 10005   2368     0           0.00000000         \n",
       "6 10006   2534    58           0.02237654         "
      ]
     },
     "metadata": {},
     "output_type": "display_data"
    }
   ],
   "source": [
    "library(reshape)\n",
    "#https://www.r-statistics.com/tag/transpose/\n",
    "rfm_w<- cast(rfm,cust_id~type)\n",
    "rfm_w[is.na(rfm_w$Special_offer),]$Special_offer<-0 #进行缺失值替换\n",
    "rfm_w$Special_offer_ratio<-rfm_w$Special_offer/(rfm_w$Special_offer+rfm_w$Normal)\n",
    "\n",
    "head(rfm_w)"
   ]
  },
  {
   "cell_type": "code",
   "execution_count": 8,
   "metadata": {
    "collapsed": false
   },
   "outputs": [
    {
     "data": {
      "text/html": [
       "<table>\n",
       "<thead><tr><th></th><th scope=col>cust_id</th><th scope=col>value</th><th scope=col>type</th></tr></thead>\n",
       "<tbody>\n",
       "\t<tr><th scope=row>Normal</th><td>10001 </td><td>3608  </td><td>Normal</td></tr>\n",
       "\t<tr><th scope=row>Normal.1</th><td>10002 </td><td>1894  </td><td>Normal</td></tr>\n",
       "\t<tr><th scope=row>Normal.2</th><td>10003 </td><td>3503  </td><td>Normal</td></tr>\n",
       "\t<tr><th scope=row>Normal.3</th><td>10004 </td><td>2979  </td><td>Normal</td></tr>\n",
       "\t<tr><th scope=row>Normal.4</th><td>10005 </td><td>2368  </td><td>Normal</td></tr>\n",
       "\t<tr><th scope=row>Normal.5</th><td>10006 </td><td>2534  </td><td>Normal</td></tr>\n",
       "</tbody>\n",
       "</table>\n"
      ],
      "text/latex": [
       "\\begin{tabular}{r|lll}\n",
       "  & cust\\_id & value & type\\\\\n",
       "\\hline\n",
       "\tNormal & 10001  & 3608   & Normal\\\\\n",
       "\tNormal.1 & 10002  & 1894   & Normal\\\\\n",
       "\tNormal.2 & 10003  & 3503   & Normal\\\\\n",
       "\tNormal.3 & 10004  & 2979   & Normal\\\\\n",
       "\tNormal.4 & 10005  & 2368   & Normal\\\\\n",
       "\tNormal.5 & 10006  & 2534   & Normal\\\\\n",
       "\\end{tabular}\n"
      ],
      "text/plain": [
       "         cust_id value type  \n",
       "Normal   10001   3608  Normal\n",
       "Normal.1 10002   1894  Normal\n",
       "Normal.2 10003   3503  Normal\n",
       "Normal.3 10004   2979  Normal\n",
       "Normal.4 10005   2368  Normal\n",
       "Normal.5 10006   2534  Normal"
      ]
     },
     "metadata": {},
     "output_type": "display_data"
    }
   ],
   "source": [
    "#4.2.2 堆叠列\n",
    "rfm_l<-melt(rfm_w,id=\"cust_id\")\n",
    "\n",
    "head(rfm_l)"
   ]
  },
  {
   "cell_type": "code",
   "execution_count": 9,
   "metadata": {
    "collapsed": true
   },
   "outputs": [],
   "source": [
    "#4.3 抽样\n",
    "clients<-read.csv(\"data/clients.csv\",fileEncoding=\"GBK\")"
   ]
  },
  {
   "cell_type": "code",
   "execution_count": 10,
   "metadata": {
    "collapsed": false
   },
   "outputs": [
    {
     "data": {
      "text/html": [
       "<table>\n",
       "<thead><tr><th></th><th scope=col>client_id</th><th scope=col>sex</th><th scope=col>birth_date</th><th scope=col>district_id</th></tr></thead>\n",
       "<tbody>\n",
       "\t<tr><th scope=row>1653</th><td>1752      </td><td>男        </td><td>1978-11-23</td><td>70        </td></tr>\n",
       "\t<tr><th scope=row>1384</th><td>1462      </td><td>男        </td><td>1941-03-02</td><td>49        </td></tr>\n",
       "\t<tr><th scope=row>2965</th><td>3129      </td><td>女        </td><td>1946-08-01</td><td> 5        </td></tr>\n",
       "\t<tr><th scope=row>303</th><td> 322      </td><td>男        </td><td>1933-02-01</td><td>38        </td></tr>\n",
       "\t<tr><th scope=row>2514</th><td>2652      </td><td>女        </td><td>1949-05-09</td><td>41        </td></tr>\n",
       "\t<tr><th scope=row>2595</th><td>2742      </td><td>女        </td><td>1948-08-27</td><td>65        </td></tr>\n",
       "</tbody>\n",
       "</table>\n"
      ],
      "text/latex": [
       "\\begin{tabular}{r|llll}\n",
       "  & client\\_id & sex & birth\\_date & district\\_id\\\\\n",
       "\\hline\n",
       "\t1653 & 1752       & 男         & 1978-11-23 & 70        \\\\\n",
       "\t1384 & 1462       & 男         & 1941-03-02 & 49        \\\\\n",
       "\t2965 & 3129       & 女         & 1946-08-01 &  5        \\\\\n",
       "\t303 &  322       & 男         & 1933-02-01 & 38        \\\\\n",
       "\t2514 & 2652       & 女         & 1949-05-09 & 41        \\\\\n",
       "\t2595 & 2742       & 女         & 1948-08-27 & 65        \\\\\n",
       "\\end{tabular}\n"
      ],
      "text/plain": [
       "     client_id sex birth_date district_id\n",
       "1653 1752      男  1978-11-23 70         \n",
       "1384 1462      男  1941-03-02 49         \n",
       "2965 3129      女  1946-08-01  5         \n",
       "303   322      男  1933-02-01 38         \n",
       "2514 2652      女  1949-05-09 41         \n",
       "2595 2742      女  1948-08-27 65         "
      ]
     },
     "metadata": {},
     "output_type": "display_data"
    }
   ],
   "source": [
    "#4.3.1简单随机抽样:随机选取100个客户用于调研\n",
    "set.seed(100)\n",
    "select<-sample(1:nrow(clients),100)\n",
    "sample_clinet<-clients[select,]\n",
    "\n",
    "head(sample_clinet)"
   ]
  },
  {
   "cell_type": "code",
   "execution_count": 11,
   "metadata": {
    "collapsed": true
   },
   "outputs": [],
   "source": [
    "#简单随机抽样:随机选取10%个客户用于调研\n",
    "set.seed(100)\n",
    "select<-sample(1:nrow(clients),length(clients$client_id)*0.1)\n",
    "sample_clinet<-clients[select,]\n",
    "other_clinet<-clients[-select,]\n",
    "\n"
   ]
  },
  {
   "cell_type": "code",
   "execution_count": 12,
   "metadata": {
    "collapsed": false
   },
   "outputs": [
    {
     "data": {
      "text/plain": [
       "\n",
       "  1   2   3   4   5   6   7   8   9  10  11  12  13  14  15  16  17  18  19  20 \n",
       "663  46  63  50  71  53  45  69  60  54  56  44  53  45  63  61  54  60  66  43 \n",
       " 21  22  23  24  25  26  27  28  29  30  31  32  33  34  35  36  37  38  39  40 \n",
       " 57  51  53  43  48  50  55  54  54  48  59  55  69  45  56  67  48  65  52  59 \n",
       " 41  42  43  44  45  46  47  48  49  50  51  52  53  54  55  56  57  58  59  60 \n",
       " 45  59  55  54  52  76  63  60  46  61  61  73  57 155  63  54  51  44  64  61 \n",
       " 61  62  63  64  65  66  67  68  69  70  71  72  73  74  75  76  77 \n",
       " 54  59  56 109  44  66  45  86  61 169  48 104  60 180  56  61  50 "
      ]
     },
     "metadata": {},
     "output_type": "display_data"
    },
    {
     "data": {
      "text/html": [
       "<table>\n",
       "<thead><tr><th></th><th scope=col>district_id</th><th scope=col>ID_unit</th><th scope=col>Prob</th><th scope=col>Stratum</th></tr></thead>\n",
       "<tbody>\n",
       "\t<tr><th scope=row>2642</th><td>18         </td><td>2642       </td><td>0.083333333</td><td>1          </td></tr>\n",
       "\t<tr><th scope=row>3217</th><td>18         </td><td>3217       </td><td>0.083333333</td><td>1          </td></tr>\n",
       "\t<tr><th scope=row>3527</th><td>18         </td><td>3527       </td><td>0.083333333</td><td>1          </td></tr>\n",
       "\t<tr><th scope=row>3757</th><td>18         </td><td>3757       </td><td>0.083333333</td><td>1          </td></tr>\n",
       "\t<tr><th scope=row>4043</th><td>18         </td><td>4043       </td><td>0.083333333</td><td>1          </td></tr>\n",
       "\t<tr><th scope=row>3461</th><td> 1         </td><td>3461       </td><td>0.007541478</td><td>2          </td></tr>\n",
       "</tbody>\n",
       "</table>\n"
      ],
      "text/latex": [
       "\\begin{tabular}{r|llll}\n",
       "  & district\\_id & ID\\_unit & Prob & Stratum\\\\\n",
       "\\hline\n",
       "\t2642 & 18          & 2642        & 0.083333333 & 1          \\\\\n",
       "\t3217 & 18          & 3217        & 0.083333333 & 1          \\\\\n",
       "\t3527 & 18          & 3527        & 0.083333333 & 1          \\\\\n",
       "\t3757 & 18          & 3757        & 0.083333333 & 1          \\\\\n",
       "\t4043 & 18          & 4043        & 0.083333333 & 1          \\\\\n",
       "\t3461 &  1          & 3461        & 0.007541478 & 2          \\\\\n",
       "\\end{tabular}\n"
      ],
      "text/plain": [
       "     district_id ID_unit Prob        Stratum\n",
       "2642 18          2642    0.083333333 1      \n",
       "3217 18          3217    0.083333333 1      \n",
       "3527 18          3527    0.083333333 1      \n",
       "3757 18          3757    0.083333333 1      \n",
       "4043 18          4043    0.083333333 1      \n",
       "3461  1          3461    0.007541478 2      "
      ]
     },
     "metadata": {},
     "output_type": "display_data"
    }
   ],
   "source": [
    "#4.3.2分层抽样（STR）\n",
    "library(sampling)\n",
    "table(clients$district_id)\n",
    "sample_clinet_stra=strata(clients,stratanames=\"district_id\",\n",
    "                          size=rep(5,times=77) ,method=\"srswor\")\n",
    "\n",
    "head(sample_clinet_stra)"
   ]
  },
  {
   "cell_type": "markdown",
   "metadata": {
    "collapsed": true
   },
   "source": [
    "##    4.2 分类变量的压缩"
   ]
  },
  {
   "cell_type": "code",
   "execution_count": 14,
   "metadata": {
    "collapsed": false
   },
   "outputs": [
    {
     "data": {
      "text/html": [
       "<table>\n",
       "<thead><tr><th scope=col>application_id</th><th scope=col>account_number</th><th scope=col>bad_ind</th><th scope=col>vehicle_year</th><th scope=col>vehicle_make</th><th scope=col>bankruptcy_ind</th><th scope=col>tot_derog</th><th scope=col>tot_tr</th><th scope=col>age_oldest_tr</th><th scope=col>tot_open_tr</th><th scope=col>⋯</th><th scope=col>fico_score</th><th scope=col>purch_price</th><th scope=col>msrp</th><th scope=col>down_pyt</th><th scope=col>loan_term</th><th scope=col>loan_amt</th><th scope=col>ltv</th><th scope=col>tot_income</th><th scope=col>veh_mileage</th><th scope=col>used_ind</th></tr></thead>\n",
       "<tbody>\n",
       "\t<tr><td>2314049 </td><td>11613   </td><td>1       </td><td>1998    </td><td>FORD    </td><td>N       </td><td>7       </td><td> 9      </td><td> 64     </td><td> 2      </td><td>⋯       </td><td>650     </td><td>17200.00</td><td>17350   </td><td>   0.00 </td><td>36      </td><td>17200.00</td><td> 99     </td><td>6550.00 </td><td>24000   </td><td>1       </td></tr>\n",
       "\t<tr><td>  63539 </td><td>13449   </td><td>0       </td><td>2000    </td><td>DAEWOO  </td><td>N       </td><td>0       </td><td>21      </td><td>240     </td><td>11      </td><td>⋯       </td><td>649     </td><td>19588.54</td><td>19788   </td><td> 683.54 </td><td>60      </td><td>19588.54</td><td> 99     </td><td>4666.67 </td><td>   22   </td><td>0       </td></tr>\n",
       "\t<tr><td>7328510 </td><td>14323   </td><td>1       </td><td>1998    </td><td>PLYMOUTH</td><td>N       </td><td>7       </td><td>10      </td><td> 60     </td><td>NA      </td><td>⋯       </td><td>613     </td><td>13595.00</td><td>11450   </td><td>   0.00 </td><td>60      </td><td>10500.00</td><td> 92     </td><td>2000.00 </td><td>19600   </td><td>1       </td></tr>\n",
       "\t<tr><td>8725187 </td><td>15359   </td><td>1       </td><td>1997    </td><td>FORD    </td><td>N       </td><td>3       </td><td>10      </td><td> 35     </td><td> 5      </td><td>⋯       </td><td>603     </td><td>12999.00</td><td>12100   </td><td>3099.00 </td><td>60      </td><td>10800.00</td><td>118     </td><td>1500.00 </td><td>10000   </td><td>1       </td></tr>\n",
       "\t<tr><td>4275127 </td><td>15812   </td><td>0       </td><td>2000    </td><td>TOYOTA  </td><td>N       </td><td>0       </td><td>10      </td><td>104     </td><td> 2      </td><td>⋯       </td><td>764     </td><td>26328.04</td><td>22024   </td><td>   0.00 </td><td>60      </td><td>26328.04</td><td>122     </td><td>4144.00 </td><td>   14   </td><td>0       </td></tr>\n",
       "\t<tr><td>8712513 </td><td>16979   </td><td>0       </td><td>2000    </td><td>DODGE   </td><td>Y       </td><td>2       </td><td>15      </td><td>136     </td><td> 4      </td><td>⋯       </td><td>680     </td><td>26272.72</td><td>26375   </td><td>   0.00 </td><td>36      </td><td>26272.72</td><td>100     </td><td>5400.00 </td><td>    1   </td><td>0       </td></tr>\n",
       "</tbody>\n",
       "</table>\n"
      ],
      "text/latex": [
       "\\begin{tabular}{r|llllllllllllllllllllllll}\n",
       " application\\_id & account\\_number & bad\\_ind & vehicle\\_year & vehicle\\_make & bankruptcy\\_ind & tot\\_derog & tot\\_tr & age\\_oldest\\_tr & tot\\_open\\_tr & ⋯ & fico\\_score & purch\\_price & msrp & down\\_pyt & loan\\_term & loan\\_amt & ltv & tot\\_income & veh\\_mileage & used\\_ind\\\\\n",
       "\\hline\n",
       "\t 2314049  & 11613    & 1        & 1998     & FORD     & N        & 7        &  9       &  64      &  2       & ⋯        & 650      & 17200.00 & 17350    &    0.00  & 36       & 17200.00 &  99      & 6550.00  & 24000    & 1       \\\\\n",
       "\t   63539  & 13449    & 0        & 2000     & DAEWOO   & N        & 0        & 21       & 240      & 11       & ⋯        & 649      & 19588.54 & 19788    &  683.54  & 60       & 19588.54 &  99      & 4666.67  &    22    & 0       \\\\\n",
       "\t 7328510  & 14323    & 1        & 1998     & PLYMOUTH & N        & 7        & 10       &  60      & NA       & ⋯        & 613      & 13595.00 & 11450    &    0.00  & 60       & 10500.00 &  92      & 2000.00  & 19600    & 1       \\\\\n",
       "\t 8725187  & 15359    & 1        & 1997     & FORD     & N        & 3        & 10       &  35      &  5       & ⋯        & 603      & 12999.00 & 12100    & 3099.00  & 60       & 10800.00 & 118      & 1500.00  & 10000    & 1       \\\\\n",
       "\t 4275127  & 15812    & 0        & 2000     & TOYOTA   & N        & 0        & 10       & 104      &  2       & ⋯        & 764      & 26328.04 & 22024    &    0.00  & 60       & 26328.04 & 122      & 4144.00  &    14    & 0       \\\\\n",
       "\t 8712513  & 16979    & 0        & 2000     & DODGE    & Y        & 2        & 15       & 136      &  4       & ⋯        & 680      & 26272.72 & 26375    &    0.00  & 36       & 26272.72 & 100      & 5400.00  &     1    & 0       \\\\\n",
       "\\end{tabular}\n"
      ],
      "text/plain": [
       "  application_id account_number bad_ind vehicle_year vehicle_make\n",
       "1 2314049        11613          1       1998         FORD        \n",
       "2   63539        13449          0       2000         DAEWOO      \n",
       "3 7328510        14323          1       1998         PLYMOUTH    \n",
       "4 8725187        15359          1       1997         FORD        \n",
       "5 4275127        15812          0       2000         TOYOTA      \n",
       "6 8712513        16979          0       2000         DODGE       \n",
       "  bankruptcy_ind tot_derog tot_tr age_oldest_tr tot_open_tr ⋯ fico_score\n",
       "1 N              7          9      64            2          ⋯ 650       \n",
       "2 N              0         21     240           11          ⋯ 649       \n",
       "3 N              7         10      60           NA          ⋯ 613       \n",
       "4 N              3         10      35            5          ⋯ 603       \n",
       "5 N              0         10     104            2          ⋯ 764       \n",
       "6 Y              2         15     136            4          ⋯ 680       \n",
       "  purch_price msrp  down_pyt loan_term loan_amt ltv tot_income veh_mileage\n",
       "1 17200.00    17350    0.00  36        17200.00  99 6550.00    24000      \n",
       "2 19588.54    19788  683.54  60        19588.54  99 4666.67       22      \n",
       "3 13595.00    11450    0.00  60        10500.00  92 2000.00    19600      \n",
       "4 12999.00    12100 3099.00  60        10800.00 118 1500.00    10000      \n",
       "5 26328.04    22024    0.00  60        26328.04 122 4144.00       14      \n",
       "6 26272.72    26375    0.00  36        26272.72 100 5400.00        1      \n",
       "  used_ind\n",
       "1 1       \n",
       "2 0       \n",
       "3 1       \n",
       "4 1       \n",
       "5 0       \n",
       "6 0       "
      ]
     },
     "metadata": {},
     "output_type": "display_data"
    }
   ],
   "source": [
    "###数据集描述与属性说明###：\n",
    "##数据说明：本数据是一份汽车贷款违约数据,因变量为是否违约(bad_ind)\n",
    "##[T]因变量,[N]数值变量,[C]分类变量,[S]序数变量,[D]时间\n",
    "##application_id\t申请者ID\n",
    "##account_number\t帐户号\n",
    "##[T]bad_ind\t是否违约\n",
    "##[D]vehicle_year\t汽车购买时间\n",
    "##[C]vehicle_make\t汽车制造商\n",
    "##[C]bankruptcy_ind\t曾经破产标识\n",
    "##[N]tot_derog\t五年内信用不良事件数量(比如手机欠费消号)\n",
    "##[N]tot_tr\t全部帐户数量\n",
    "##[N]age_oldest_tr\t最久账号存续时间(月)\n",
    "##[N]tot_open_tr\t在使用帐户数量\n",
    "##[N]tot_rev_tr\t在使用可循环贷款帐户数量(比如信用卡)\n",
    "##[N]tot_rev_debt\t在使用可循环贷款帐户余额(比如信用卡欠款)\n",
    "##[N]tot_rev_line\t可循环贷款帐户限额(信用卡授权额度)\n",
    "##[N]rev_util\t可循环贷款帐户使用比例(余额/限额)\n",
    "##[N]fico_score\tFICO打分\n",
    "##[N]purch_price\t汽车购买金额(元)\n",
    "##[N]msrp\t建议售价\n",
    "##[N]down_pyt\t分期付款的首次交款\n",
    "##[N]loan_term\t贷款期限(月)\n",
    "##[N]loan_amt\t贷款金额\n",
    "##[N]ltv\t贷款金额/建议售价*100\n",
    "##[N]tot_income\t月均收入(元)\n",
    "##[N]veh_mileage\t行使历程(Mile)\n",
    "##[C]used_ind\t是否使用\n",
    "##[N]weight\t样本权重\n",
    "##读取数据\n",
    "\n",
    "accepts <- read.csv(\"data/accepts.csv\",fileEncoding=\"GBK\")\n",
    "\n",
    "head(accepts)"
   ]
  },
  {
   "cell_type": "markdown",
   "metadata": {},
   "source": [
    "##    4.4 分类变量的压缩"
   ]
  },
  {
   "cell_type": "code",
   "execution_count": 16,
   "metadata": {
    "collapsed": false
   },
   "outputs": [
    {
     "data": {
      "text/plain": [
       "               \n",
       "                  0   1\n",
       "                237  62\n",
       "  3HYUNDAI        0   1\n",
       "  ACCURA          2   0\n",
       "  ACURA          10   1\n",
       "  AUDI           16   1\n",
       "  B50             1   0\n",
       "  BMW            13   2\n",
       "  BUICK          85  17\n",
       "  BUIUCK          1   0\n",
       "  CAD             1   1\n",
       "  CADALLIC        1   0\n",
       "  CADDY           1   0\n",
       "  CADI            1   0\n",
       "  CADILLAC       35   4\n",
       "  CALERA          0   1\n",
       "  CEHV            1   0\n",
       "  CHCV            1   0\n",
       "  CHERVOLET       1   0\n",
       "  CHEV          137  33\n",
       "  CHEVRELET       1   0\n",
       "  CHEVROELT       1   0\n",
       "  CHEVROLET     208  57\n",
       "  CHEV X-CAB      1   0\n",
       "  CHEVY         526 128\n",
       "  CHEVY\\\\         0   1\n",
       "  CHEVY GEO       1   1\n",
       "  CHEVY S10       2   0\n",
       "  CHEYV           0   2\n",
       "  CHRY            6   4\n",
       "  CHRYS           1   0\n",
       "  CHRYSLER       79  15\n",
       "  CHRYSLER JXI    1   0\n",
       "  CHYRLER         0   1\n",
       "  CHYRSLER        1   0\n",
       "  CUTLASS         0   1\n",
       "  DAEWOO          7   3\n",
       "  DAEWOOD         1   0\n",
       "  DODG            1   0\n",
       "  DODGE         411 122\n",
       "  DODGE RAM 4X4   1   0\n",
       "  DOGE            1   0\n",
       "  DPDGE           1   0\n",
       "  E150            1   0\n",
       "  EAGLE           7   0\n",
       "  FODGE           1   0\n",
       "  FORD          859 253\n",
       "  FORD TRUCK      2   0\n",
       "  FORE            0   1\n",
       "  GEO            25   6\n",
       "  GMAC            1   0\n",
       "  GMC           109  25\n",
       "  GMC YUKON       0   1\n",
       "  HONDA         181  28\n",
       "  HUNDAI          1   0\n",
       "  HUUNDAI         0   1\n",
       "  HYNDAI          1   1\n",
       "  HYU.            1   0\n",
       "  HYUNDA          1   0\n",
       "  HYUNDAI        52  16\n",
       "  INFINITI        9   0\n",
       "  INFINITY        1   0\n",
       "  ISUZU          29  12\n",
       "  ISUZU CK        1   0\n",
       "  JAG             1   0\n",
       "  JAGUAR          1   2\n",
       "  JEEEP           1   0\n",
       "  JEEO            1   0\n",
       "  JEEP          167  32\n",
       "  JEEP CHEROKEE   1   0\n",
       "  JEP             1   0\n",
       "  JIMMY           0   1\n",
       "  KIA            62  17\n",
       "  LANDROVER       0   1\n",
       "  LAND ROVER      3   0\n",
       "  LEXUS          19   1\n",
       "  LINC            2   1\n",
       "  LINCOLN        24   4\n",
       "  LOTUS           1   0\n",
       "  MAZADA          0   1\n",
       "  MAZDA          55  22\n",
       "  MB              4   0\n",
       "  M-B             1   0\n",
       "  MECURY          1   0\n",
       "  MER             1   0\n",
       "  MER BENZ        1   0\n",
       "  MERC           15   7\n",
       "  MERC.           1   0\n",
       "  MERC BENZ       2   0\n",
       "  MERCEDES        7   1\n",
       "  MERCEDES BENZ   3   0\n",
       "  MERCURY        77  20\n",
       "  MITISABISHI     1   0\n",
       "  MITISBUSHI      1   1\n",
       "  MITS           21   2\n",
       "  MITS.           0   1\n",
       "  MITSISUBI       1   0\n",
       "  MITSU           6   1\n",
       "  MITSUBISHI     16   9\n",
       "  MITT            0   1\n",
       "  NEON            1   0\n",
       "  NISS            1   0\n",
       "  NISSAN        131  32\n",
       "  NISSION         1   0\n",
       "  NISSON          1   0\n",
       "  OIBTUAC         1   0\n",
       "  OLD             0   2\n",
       "  OLDS           76  23\n",
       "  OLDSMOBILE     27   5\n",
       "  PARK            1   0\n",
       "  PLY             4   2\n",
       "  PLYM            2   1\n",
       "  PLYMOOUTH       1   0\n",
       "  PLYMOTUH        0   1\n",
       "  PLYMOUTH       62  15\n",
       "  PONT           20   5\n",
       "  PONTIA          1   0\n",
       "  PONTIAC       168  58\n",
       "  PORCHE          1   0\n",
       "  PORS            1   0\n",
       "  PORSCHA         1   0\n",
       "  PORSCHE        14   1\n",
       "  PORSHE          1   0\n",
       "  RAM             1   1\n",
       "  RANGER          1   0\n",
       "  RICART          1   0\n",
       "  SAAB            2   1\n",
       "  SATURN         76  12\n",
       "  SATURNCHEVY     1   0\n",
       "  SEDAN           1   0\n",
       "  SKI DOO         1   0\n",
       "  SOPHIA          1   0\n",
       "  SUB             0   1\n",
       "  SUBARBU         1   0\n",
       "  SUBARU         19   6\n",
       "  SUK             0   1\n",
       "  SUZU            0   1\n",
       "  SUZUKI         12   5\n",
       "  TAURUS          1   0\n",
       "  TOYITA          1   0\n",
       "  TOYO            5   0\n",
       "  TOYOT           1   0\n",
       "  TOYOTA        339  78\n",
       "  TT              1   0\n",
       "  VE              0   1\n",
       "  VOLKSWAGEN     11   1\n",
       "  VOLKS WAGEN     1   0\n",
       "  VOLKSWAGON      9   1\n",
       "  VOLSKWAGEN      1   0\n",
       "  VOLVO           9   0\n",
       "  VW             55  13\n",
       "  WV              1   0\n",
       "  XXX             1   2\n",
       "  XXXX            2   0\n",
       "  XXXXX           1   1\n",
       "  ZX2             1   0"
      ]
     },
     "metadata": {},
     "output_type": "display_data"
    }
   ],
   "source": [
    "#4.4.1 分类变量重编码（概化）\n",
    "#查看数据，确认不存在似不完整数据问题\n",
    "table(accepts$vehicle_make,accepts$bad_ind)"
   ]
  },
  {
   "cell_type": "code",
   "execution_count": null,
   "metadata": {
    "collapsed": true
   },
   "outputs": [],
   "source": []
  }
 ],
 "metadata": {
  "kernelspec": {
   "display_name": "R",
   "language": "R",
   "name": "ir"
  },
  "language_info": {
   "codemirror_mode": "r",
   "file_extension": ".r",
   "mimetype": "text/x-r-source",
   "name": "R",
   "pygments_lexer": "r",
   "version": "3.3.1"
  }
 },
 "nbformat": 4,
 "nbformat_minor": 1
}
