{
 "metadata": {
  "name": "",
  "signature": "sha256:2624bb06a3d7eed1e591e38bfe124c184d3a48b0a5b8c0e04534e9724aed064e"
 },
 "nbformat": 3,
 "nbformat_minor": 0,
 "worksheets": [
  {
   "cells": [
    {
     "cell_type": "code",
     "collapsed": false,
     "input": [
      "%pylab inline\n",
      "%load_ext rmagic"
     ],
     "language": "python",
     "metadata": {},
     "outputs": [
      {
       "output_type": "stream",
       "stream": "stdout",
       "text": [
        "Populating the interactive namespace from numpy and matplotlib\n"
       ]
      }
     ],
     "prompt_number": 3
    },
    {
     "cell_type": "code",
     "collapsed": false,
     "input": [
      "%%file script/biocLite.R\n",
      "## Mirrors: uncomment the following and change to your favorite CRAN mirror\n",
      "## if you don't want to use the default (cran.fhcrc.org, Seattle, USA).\n",
      "## options(\"repos\" = c(CRAN=\"http://cran.fhcrc.org\"))\n",
      "\n",
      "## Mirrors: uncomment the following and change to your favorite Bioconductor\n",
      "## mirror, if you don't want to use the default (www.bioconductor.org,\n",
      "## Seattle, USA)\n",
      "## options(\"BioC_mirror\" = \"http://www.bioconductor.org\")\n",
      "\n",
      "local({\n",
      "\n",
      "    vers <- getRversion()\n",
      "    biocVers <- tryCatch({\n",
      "        BiocInstaller::biocVersion() # recent BiocInstaller\n",
      "    }, error=function(...) {         # no / older BiocInstaller\n",
      "        BioC_version_associated_with_R_version <-\n",
      "            get(\".BioC_version_associated_with_R_version\",\n",
      "                envir=asNamespace(\"tools\"), inherits=FALSE)\n",
      "        if (is.function(BioC_version_associated_with_R_version))\n",
      "            BioC_version_associated_with_R_version()\n",
      "        else                            # numeric_version\n",
      "            BioC_version_associated_with_R_version\n",
      "    })\n",
      "\n",
      "    if (vers < \"3.0\") {\n",
      "        ## legacy; no need to change \"3.0\" ever\n",
      "        ## coordinate this message with .onAttach\n",
      "        txt <- strwrap(\"A new version of Bioconductor is available\n",
      "            after installing the most recent version of R; see\n",
      "            http://bioconductor.org/install\", exdent=2)\n",
      "        message(paste(txt, collapse=\"\\n\"))\n",
      "    } else if (\"package:BiocInstaller\" %in% search()) {\n",
      "        ## messages even if already attached\n",
      "        tryCatch(BiocInstaller:::.onAttach(), error=function(...) NULL)\n",
      "    }\n",
      "\n",
      "    if (vers > \"2.13\" && biocVers > \"2.8\") {\n",
      "\n",
      "        if (exists(\"biocLite\", .GlobalEnv, inherits=FALSE)) {\n",
      "            txt <- strwrap(\"There is an outdated biocLite() function in the\n",
      "                global environment; run 'rm(biocLite)' and try again.\")\n",
      "            stop(\"\\n\", paste(txt, collapse=\"\\n\"))\n",
      "        }\n",
      "\n",
      "        if (!suppressWarnings(require(\"BiocInstaller\", quietly=TRUE))) {\n",
      "            a <- NULL\n",
      "            p <- file.path(Sys.getenv(\"HOME\"), \".R\", \"repositories\")\n",
      "            if (file.exists(p)) {\n",
      "                a <- tools:::.read_repositories(p)\n",
      "                if (!\"BioCsoft\" %in% rownames(a)) \n",
      "                    a <- NULL\n",
      "            }\n",
      "            if (is.null(a)) {\n",
      "                p <- file.path(R.home(\"etc\"), \"repositories\")\n",
      "                a <- tools:::.read_repositories(p)\n",
      "            }\n",
      "            if (!\"package:utils\" %in% search()) {\n",
      "                url <- \"http://bioconductor.org/biocLite.R\"\n",
      "                txt <- sprintf(\"use 'source(\\\"%s\\\")' to update 'BiocInstaller'\n",
      "                                after 'utils' package is attached\",\n",
      "                               url)\n",
      "                message(paste(strwrap(txt), collapse=\"\\n  \"))\n",
      "            } else {\n",
      "                ## add a conditional for Bioc releases occuring WITHIN\n",
      "                ## a single R minor version. This is so that a user with a\n",
      "                ## version of R (whose etc/repositories file references the\n",
      "                ## no-longer-latest URL) and without BiocInstaller\n",
      "                ## will be pointed to the most recent repository suitable\n",
      "                ## for their version of R\n",
      "                if (vers == \"3.2.0\") {\n",
      "                    a[\"BioCsoft\", \"URL\"] <- sub(as.character(biocVers), \"3.1\",\n",
      "                      a[\"BioCsoft\", \"URL\"])\n",
      "                } else if (vers == \"3.1.1\") {\n",
      "                    ## R-3.1.1's etc/repositories file at the time of the release \n",
      "                    ## of Bioc 3.0 pointed to the 2.14 repository, but we want \n",
      "                    ## new installations to access the 3.0 repository\n",
      "                    a[\"BioCsoft\", \"URL\"] <- sub(as.character(biocVers), \"3.0\",\n",
      "                      a[\"BioCsoft\", \"URL\"])\n",
      "                } else if (vers == \"3.1.0\") {\n",
      "                    ## R-devel points to 2.14 repository\n",
      "                    a[\"BioCsoft\", \"URL\"] <- sub(as.character(biocVers), \"2.14\",\n",
      "                      a[\"BioCsoft\", \"URL\"])\n",
      "                } else if (vers >= \"2.15\" && vers < \"2.16\") {\n",
      "                    a[\"BioCsoft\", \"URL\"] <- sub(as.character(biocVers), \"2.11\",\n",
      "                      a[\"BioCsoft\", \"URL\"])\n",
      "                    biocVers <- numeric_version(\"2.11\")\n",
      "                }\n",
      "                install.packages(\"BiocInstaller\", repos=a[\"BioCsoft\", \"URL\"])\n",
      "                if (!suppressWarnings(require(\"BiocInstaller\",\n",
      "                                              quietly=TRUE))) {\n",
      "                    url0 <- \"http://www.bioconductor.org/packages\"\n",
      "                    url <- sprintf(\"%s/%s/bioc\",\n",
      "                                   url0, as.character(biocVers))\n",
      "                    txt0 <- \"'biocLite.R' failed to install 'BiocInstaller',\n",
      "                            use 'install.packages(\\\"%s\\\", repos=\\\"%s\\\")'\"\n",
      "                    txt <- sprintf(txt0, \"BiocInstaller\", url)\n",
      "                    message(paste(strwrap(txt), collapse=\"\\n  \"))\n",
      "                }\n",
      "            }\n",
      "        }\n",
      "    } else {\n",
      "        source(\"http://bioconductor.org/getBioC.R\")\n",
      "        biocLite <<-\n",
      "            function(pkgs, groupName=\"lite\", ...)\n",
      "            {\n",
      "                if (missing(pkgs))\n",
      "                    biocinstall(groupName=groupName, ...)\n",
      "                else\n",
      "                    biocinstall(pkgs=pkgs, groupName=groupName, ...)\n",
      "            }\n",
      "    }\n",
      "})\n"
     ],
     "language": "python",
     "metadata": {},
     "outputs": [
      {
       "output_type": "stream",
       "stream": "stdout",
       "text": [
        "Overwriting script/biocLite.R\n"
       ]
      }
     ]
    },
    {
     "cell_type": "code",
     "collapsed": false,
     "input": [
      "%%R\n",
      "source(\"script/biocLite.R\")\n",
      "biocLite(\"hgu133a.db\")\n"
     ],
     "language": "python",
     "metadata": {},
     "outputs": []
    },
    {
     "cell_type": "code",
     "collapsed": false,
     "input": [
      "%%R\n",
      "library(\"hgu133a.db\")"
     ],
     "language": "python",
     "metadata": {},
     "outputs": [],
     "prompt_number": 6
    },
    {
     "cell_type": "code",
     "collapsed": false,
     "input": [],
     "language": "python",
     "metadata": {},
     "outputs": []
    }
   ],
   "metadata": {}
  }
 ]
}