{
 "cells": [
  {
   "cell_type": "code",
   "execution_count": 1,
   "metadata": {
    "collapsed": false
   },
   "outputs": [
    {
     "name": "stderr",
     "output_type": "stream",
     "text": [
      "/usr/local/lib/python2.7/dist-packages/rpy2-2.8.2-py2.7-linux-x86_64.egg/rpy2/rinterface/__init__.py:185: RRuntimeWarning: Error in dyn.load(file, DLLpath = DLLpath, ...) : \n",
      "  unable to load shared object '/usr/local/lib64/R/library/stats/libs/stats.so':\n",
      "  libRlapack.so: cannot open shared object file: No such file or directory\n",
      "\n",
      "  warnings.warn(x, RRuntimeWarning)\n",
      "/usr/local/lib/python2.7/dist-packages/rpy2-2.8.2-py2.7-linux-x86_64.egg/rpy2/rinterface/__init__.py:185: RRuntimeWarning: During startup - \n",
      "  warnings.warn(x, RRuntimeWarning)\n",
      "/usr/local/lib/python2.7/dist-packages/rpy2-2.8.2-py2.7-linux-x86_64.egg/rpy2/rinterface/__init__.py:185: RRuntimeWarning: Warning message:\n",
      "\n",
      "  warnings.warn(x, RRuntimeWarning)\n",
      "/usr/local/lib/python2.7/dist-packages/rpy2-2.8.2-py2.7-linux-x86_64.egg/rpy2/rinterface/__init__.py:185: RRuntimeWarning: package ‘stats’ in options(\"defaultPackages\") was not found \n",
      "\n",
      "  warnings.warn(x, RRuntimeWarning)\n",
      "/usr/local/lib/python2.7/dist-packages/IPython/extensions/rmagic.py:693: UserWarning: The rmagic extension in IPython is deprecated in favour of rpy2.ipython. If available, that will be loaded instead.\n",
      "http://rpy.sourceforge.net/\n",
      "  warnings.warn(\"The rmagic extension in IPython is deprecated in favour of \"\n"
     ]
    },
    {
     "name": "stdout",
     "output_type": "stream",
     "text": [
      "Populating the interactive namespace from numpy and matplotlib\n"
     ]
    }
   ],
   "source": [
    "%pylab inline\n",
    "%load_ext rmagic"
   ]
  },
  {
   "cell_type": "code",
   "execution_count": 2,
   "metadata": {
    "collapsed": false
   },
   "outputs": [
    {
     "data": {
      "text/plain": [
       "                     mpg cyl  disp  hp drat    wt  qsec vs am gear carb\n",
       "Mazda RX4           21.0   6 160.0 110 3.90 2.620 16.46  0  1    4    4\n",
       "Mazda RX4 Wag       21.0   6 160.0 110 3.90 2.875 17.02  0  1    4    4\n",
       "Datsun 710          22.8   4 108.0  93 3.85 2.320 18.61  1  1    4    1\n",
       "Hornet 4 Drive      21.4   6 258.0 110 3.08 3.215 19.44  1  0    3    1\n",
       "Hornet Sportabout   18.7   8 360.0 175 3.15 3.440 17.02  0  0    3    2\n",
       "Valiant             18.1   6 225.0 105 2.76 3.460 20.22  1  0    3    1\n",
       "Duster 360          14.3   8 360.0 245 3.21 3.570 15.84  0  0    3    4\n",
       "Merc 240D           24.4   4 146.7  62 3.69 3.190 20.00  1  0    4    2\n",
       "Merc 230            22.8   4 140.8  95 3.92 3.150 22.90  1  0    4    2\n",
       "Merc 280            19.2   6 167.6 123 3.92 3.440 18.30  1  0    4    4\n",
       "Merc 280C           17.8   6 167.6 123 3.92 3.440 18.90  1  0    4    4\n",
       "Merc 450SE          16.4   8 275.8 180 3.07 4.070 17.40  0  0    3    3\n",
       "Merc 450SL          17.3   8 275.8 180 3.07 3.730 17.60  0  0    3    3\n",
       "Merc 450SLC         15.2   8 275.8 180 3.07 3.780 18.00  0  0    3    3\n",
       "Cadillac Fleetwood  10.4   8 472.0 205 2.93 5.250 17.98  0  0    3    4\n",
       "Lincoln Continental 10.4   8 460.0 215 3.00 5.424 17.82  0  0    3    4\n",
       "Chrysler Imperial   14.7   8 440.0 230 3.23 5.345 17.42  0  0    3    4\n",
       "Fiat 128            32.4   4  78.7  66 4.08 2.200 19.47  1  1    4    1\n",
       "Honda Civic         30.4   4  75.7  52 4.93 1.615 18.52  1  1    4    2\n",
       "Toyota Corolla      33.9   4  71.1  65 4.22 1.835 19.90  1  1    4    1\n",
       "Toyota Corona       21.5   4 120.1  97 3.70 2.465 20.01  1  0    3    1\n",
       "Dodge Challenger    15.5   8 318.0 150 2.76 3.520 16.87  0  0    3    2\n",
       "AMC Javelin         15.2   8 304.0 150 3.15 3.435 17.30  0  0    3    2\n",
       "Camaro Z28          13.3   8 350.0 245 3.73 3.840 15.41  0  0    3    4\n",
       "Pontiac Firebird    19.2   8 400.0 175 3.08 3.845 17.05  0  0    3    2\n",
       "Fiat X1-9           27.3   4  79.0  66 4.08 1.935 18.90  1  1    4    1\n",
       "Porsche 914-2       26.0   4 120.3  91 4.43 2.140 16.70  0  1    5    2\n",
       "Lotus Europa        30.4   4  95.1 113 3.77 1.513 16.90  1  1    5    2\n",
       "Ford Pantera L      15.8   8 351.0 264 4.22 3.170 14.50  0  1    5    4\n",
       "Ferrari Dino        19.7   6 145.0 175 3.62 2.770 15.50  0  1    5    6\n",
       "Maserati Bora       15.0   8 301.0 335 3.54 3.570 14.60  0  1    5    8\n",
       "Volvo 142E          21.4   4 121.0 109 4.11 2.780 18.60  1  1    4    2\n"
      ]
     },
     "metadata": {},
     "output_type": "display_data"
    }
   ],
   "source": [
    "%%R\n",
    "# pause after each graph\n",
    "par(ask = TRUE)\n",
    "\n",
    "# --Section 3.1--\n",
    "\n",
    "attach(mtcars)\n",
    "mtcars\n"
   ]
  },
  {
   "cell_type": "code",
   "execution_count": 3,
   "metadata": {
    "collapsed": false
   },
   "outputs": [
    {
     "data": {
      "text/plain": [
       "                   mpg  hp    wt\n",
       "Mazda RX4         21.0 110 2.620\n",
       "Mazda RX4 Wag     21.0 110 2.875\n",
       "Datsun 710        22.8  93 2.320\n",
       "Hornet 4 Drive    21.4 110 3.215\n",
       "Hornet Sportabout 18.7 175 3.440\n",
       "Valiant           18.1 105 3.460\n"
      ]
     },
     "metadata": {},
     "output_type": "display_data"
    }
   ],
   "source": [
    "%%R\n",
    "\n",
    "vars <- c(\"mpg\", \"hp\", \"wt\")\n",
    "head(mtcars[vars])\n"
   ]
  },
  {
   "cell_type": "code",
   "execution_count": 4,
   "metadata": {
    "collapsed": false
   },
   "outputs": [
    {
     "data": {
      "text/plain": [
       "array(['Min.   :10.40  ', '1st Qu.:15.43  ', 'Median :19.20  ',\n",
       "       'Mean   :20.09  ', '3rd Qu.:22.80  ', 'Max.   :33.90  ',\n",
       "       'Min.   : 52.0  ', '1st Qu.: 96.5  ', 'Median :123.0  ',\n",
       "       'Mean   :146.7  ', '3rd Qu.:180.0  ', 'Max.   :335.0  ',\n",
       "       'Min.   :1.513  ', '1st Qu.:2.581  ', 'Median :3.325  ',\n",
       "       'Mean   :3.217  ', '3rd Qu.:3.610  ', 'Max.   :5.424  '], \n",
       "      dtype='|S15')"
      ]
     },
     "execution_count": 4,
     "metadata": {},
     "output_type": "execute_result"
    }
   ],
   "source": [
    "%R summary(mtcars[vars])"
   ]
  },
  {
   "cell_type": "code",
   "execution_count": 5,
   "metadata": {
    "collapsed": false
   },
   "outputs": [
    {
     "name": "stdout",
     "output_type": "stream",
     "text": [
      "Overwriting script/mystats.R\n"
     ]
    }
   ],
   "source": [
    "%%file script/mystats.R\n",
    "\n",
    " mystats <- function(x, na.omit=FALSE){\n",
    "               if (na.omit)\n",
    "                   x <- x[!is.na(x)]\n",
    "               m <- mean(x)\n",
    "               n <- length(x)\n",
    "               s <- sd(x)\n",
    "               skew <- sum((x-m)^3/s^3)/n\n",
    "               kurt <- sum((x-m)^4/s^4)/n - 3\n",
    "               return(c(n=n, mean=m, stdev=s, skew=skew, kurtosis=kurt))\n",
    "             }\n"
   ]
  },
  {
   "cell_type": "code",
   "execution_count": 6,
   "metadata": {
    "collapsed": false
   },
   "outputs": [
    {
     "data": {
      "text/plain": [
       "               mpg          hp          wt\n",
       "n        32.000000  32.0000000 32.00000000\n",
       "mean     20.090625 146.6875000  3.21725000\n",
       "stdev     6.026948  68.5628685  0.97845744\n",
       "skew      0.610655   0.7260237  0.42314646\n",
       "kurtosis -0.372766  -0.1355511 -0.02271075\n"
      ]
     },
     "metadata": {},
     "output_type": "display_data"
    }
   ],
   "source": [
    "%%R\n",
    "source(\"script/mystats.R\")\n",
    "\n",
    "sapply(mtcars[vars], mystats)"
   ]
  },
  {
   "cell_type": "code",
   "execution_count": 7,
   "metadata": {
    "collapsed": false
   },
   "outputs": [
    {
     "data": {
      "text/plain": [
       "Loading required package: grid\n",
       "Loading required package: lattice\n",
       "Loading required package: survival\n",
       "Loading required package: splines\n",
       "Loading required package: Formula\n",
       "\n",
       "Attaching package: ‘Hmisc’\n",
       "\n",
       "The following objects are masked from ‘package:base’:\n",
       "\n",
       "    format.pval, round.POSIXt, trunc.POSIXt, units\n",
       "\n",
       "mtcars[vars] \n",
       "\n",
       " 3  Variables      32  Observations\n",
       "--------------------------------------------------------------------------------\n",
       "mpg \n",
       "      n missing  unique    Info    Mean     .05     .10     .25     .50     .75 \n",
       "     32       0      25       1   20.09   12.00   14.34   15.43   19.20   22.80 \n",
       "    .90     .95 \n",
       "  30.09   31.30 \n",
       "\n",
       "lowest : 10.4 13.3 14.3 14.7 15.0, highest: 26.0 27.3 30.4 32.4 33.9 \n",
       "--------------------------------------------------------------------------------\n",
       "hp \n",
       "      n missing  unique    Info    Mean     .05     .10     .25     .50     .75 \n",
       "     32       0      22       1   146.7   63.65   66.00   96.50  123.00  180.00 \n",
       "    .90     .95 \n",
       " 243.50  253.55 \n",
       "\n",
       "lowest :  52  62  65  66  91, highest: 215 230 245 264 335 \n",
       "--------------------------------------------------------------------------------\n",
       "wt \n",
       "      n missing  unique    Info    Mean     .05     .10     .25     .50     .75 \n",
       "     32       0      29       1   3.217   1.736   1.956   2.581   3.325   3.610 \n",
       "    .90     .95 \n",
       "  4.048   5.293 \n",
       "\n",
       "lowest : 1.513 1.615 1.835 1.935 2.140, highest: 3.845 4.070 5.250 5.345 5.424 \n",
       "--------------------------------------------------------------------------------\n"
      ]
     },
     "metadata": {},
     "output_type": "display_data"
    }
   ],
   "source": [
    "%%R\n",
    "library(Hmisc)\n",
    "describe(mtcars[vars])"
   ]
  },
  {
   "cell_type": "code",
   "execution_count": 8,
   "metadata": {
    "collapsed": false
   },
   "outputs": [
    {
     "data": {
      "text/plain": [
       "Loading required package: boot\n",
       "\n",
       "Attaching package: ‘boot’\n",
       "\n",
       "The following object is masked from ‘package:survival’:\n",
       "\n",
       "    aml\n",
       "\n",
       "The following object is masked from ‘package:lattice’:\n",
       "\n",
       "    melanoma\n",
       "\n",
       "                     mpg           hp          wt\n",
       "nbr.val       32.0000000   32.0000000  32.0000000\n",
       "nbr.null       0.0000000    0.0000000   0.0000000\n",
       "nbr.na         0.0000000    0.0000000   0.0000000\n",
       "min           10.4000000   52.0000000   1.5130000\n",
       "max           33.9000000  335.0000000   5.4240000\n",
       "range         23.5000000  283.0000000   3.9110000\n",
       "sum          642.9000000 4694.0000000 102.9520000\n",
       "median        19.2000000  123.0000000   3.3250000\n",
       "mean          20.0906250  146.6875000   3.2172500\n",
       "SE.mean        1.0654240   12.1203173   0.1729685\n",
       "CI.mean.0.95   2.1729465   24.7195501   0.3527715\n",
       "var           36.3241028 4700.8669355   0.9573790\n",
       "std.dev        6.0269481   68.5628685   0.9784574\n",
       "coef.var       0.2999881    0.4674077   0.3041285\n"
      ]
     },
     "metadata": {},
     "output_type": "display_data"
    }
   ],
   "source": [
    "%%R\n",
    "\n",
    "library(pastecs)\n",
    "stat.desc(mtcars[vars])"
   ]
  },
  {
   "cell_type": "code",
   "execution_count": 9,
   "metadata": {
    "collapsed": false
   },
   "outputs": [
    {
     "data": {
      "text/plain": [
       "\n",
       "Attaching package: ‘psych’\n",
       "\n",
       "The following object is masked from ‘package:boot’:\n",
       "\n",
       "    logit\n",
       "\n",
       "The following object is masked from ‘package:Hmisc’:\n",
       "\n",
       "    describe\n",
       "\n",
       "    vars  n   mean    sd median trimmed   mad   min    max  range skew kurtosis\n",
       "mpg    1 32  20.09  6.03  19.20   19.70  5.41 10.40  33.90  23.50 0.61    -0.37\n",
       "hp     2 32 146.69 68.56 123.00  141.19 77.10 52.00 335.00 283.00 0.73    -0.14\n",
       "wt     3 32   3.22  0.98   3.33    3.15  0.77  1.51   5.42   3.91 0.42    -0.02\n",
       "       se\n",
       "mpg  1.07\n",
       "hp  12.12\n",
       "wt   0.17\n"
      ]
     },
     "metadata": {},
     "output_type": "display_data"
    }
   ],
   "source": [
    "%%R\n",
    "\n",
    "library(psych)\n",
    "describe(mtcars[vars])"
   ]
  },
  {
   "cell_type": "code",
   "execution_count": 10,
   "metadata": {
    "collapsed": false
   },
   "outputs": [
    {
     "data": {
      "text/plain": [
       "array([[   0.        ,    1.        ],\n",
       "       [  17.14736842,   24.39230769],\n",
       "       [ 160.26315789,  126.84615385],\n",
       "       [   3.76889474,    2.411     ]])"
      ]
     },
     "execution_count": 10,
     "metadata": {},
     "output_type": "execute_result"
    }
   ],
   "source": [
    "%R aggregate(mtcars[vars], by=list(am=mtcars$am), mean)"
   ]
  },
  {
   "cell_type": "code",
   "execution_count": 11,
   "metadata": {
    "collapsed": false
   },
   "outputs": [
    {
     "data": {
      "text/plain": [
       "array([[  0.        ,   1.        ],\n",
       "       [  3.83396639,   6.16650381],\n",
       "       [ 53.90819573,  84.06232425],\n",
       "       [  0.77740015,   0.61698163]])"
      ]
     },
     "execution_count": 11,
     "metadata": {},
     "output_type": "execute_result"
    }
   ],
   "source": [
    "%R  aggregate(mtcars[vars], by=list(am=mtcars$am), sd)"
   ]
  },
  {
   "cell_type": "code",
   "execution_count": 12,
   "metadata": {
    "collapsed": false
   },
   "outputs": [
    {
     "name": "stdout",
     "output_type": "stream",
     "text": [
      "Error in is.data.frame(x) : \n",
      "  (list) object cannot be coerced to type 'double'\n",
      "In addition: Warning message:\n",
      "In mean.default(x) : argument is not numeric or logical: returning NA\n",
      "Error in is.data.frame(x) : \n",
      "  (list) object cannot be coerced to type 'double'\n"
     ]
    }
   ],
   "source": [
    "%%R  \n",
    "dstats <- function(x)(c(mean=mean(x), sd=sd(x)))\n",
    "    \n",
    "by(mtcars[vars], mtcars$am, dstats)"
   ]
  },
  {
   "cell_type": "code",
   "execution_count": 15,
   "metadata": {
    "collapsed": false
   },
   "outputs": [
    {
     "data": {
      "text/plain": [
       "  am mpg.n mpg.mean mpg.stdev   mpg.skew mpg.kurtosis hp.n  hp.mean hp.stdev\n",
       "1  0    19 17.14737  3.833966 0.01395038   -0.8031783   19 160.2632 53.90820\n",
       "2  1    13 24.39231  6.166504 0.05256118   -1.4553520   13 126.8462 84.06232\n",
       "      hp.skew hp.kurtosis wt.n  wt.mean  wt.stdev   wt.skew wt.kurtosis\n",
       "1 -0.01422519  -1.2096973   19 3.768895 0.7774001 0.9759294   0.1415676\n",
       "2  1.35988586   0.5634635   13 2.411000 0.6169816 0.2103128  -1.1737358\n"
      ]
     },
     "metadata": {},
     "output_type": "display_data"
    }
   ],
   "source": [
    "%%R\n",
    "\n",
    "library(doBy)\n",
    "summaryBy(mpg+hp+wt~am, data=mtcars, FUN=mystats)"
   ]
  },
  {
   "cell_type": "code",
   "execution_count": 16,
   "metadata": {
    "collapsed": false
   },
   "outputs": [
    {
     "data": {
      "text/plain": [
       "group: 0\n",
       "    vars  n   mean    sd median trimmed   mad   min    max  range  skew\n",
       "mpg    1 19  17.15  3.83  17.30   17.12  3.11 10.40  24.40  14.00  0.01\n",
       "hp     2 19 160.26 53.91 175.00  161.06 77.10 62.00 245.00 183.00 -0.01\n",
       "wt     3 19   3.77  0.78   3.52    3.75  0.45  2.46   5.42   2.96  0.98\n",
       "    kurtosis    se\n",
       "mpg    -0.80  0.88\n",
       "hp     -1.21 12.37\n",
       "wt      0.14  0.18\n",
       "------------------------------------------------------------ \n",
       "group: 1\n",
       "    vars  n   mean    sd median trimmed   mad   min    max  range skew kurtosis\n",
       "mpg    1 13  24.39  6.17  22.80   24.38  6.67 15.00  33.90  18.90 0.05    -1.46\n",
       "hp     2 13 126.85 84.06 109.00  114.73 63.75 52.00 335.00 283.00 1.36     0.56\n",
       "wt     3 13   2.41  0.62   2.32    2.39  0.68  1.51   3.57   2.06 0.21    -1.17\n",
       "       se\n",
       "mpg  1.71\n",
       "hp  23.31\n",
       "wt   0.17\n"
      ]
     },
     "metadata": {},
     "output_type": "display_data"
    }
   ],
   "source": [
    "%%R\n",
    " library(psych)\n",
    " describe.by(mtcars[vars], mtcars$am)"
   ]
  },
  {
   "cell_type": "code",
   "execution_count": 17,
   "metadata": {
    "collapsed": false
   },
   "outputs": [
    {
     "data": {
      "text/plain": [
       "   am cyl variable  n       mean         sd\n",
       "1   0   4      mpg  3  22.900000  1.4525839\n",
       "2   0   4       hp  3  84.666667 19.6553640\n",
       "3   0   4       wt  3   2.935000  0.4075230\n",
       "4   0   6      mpg  4  19.125000  1.6317169\n",
       "5   0   6       hp  4 115.250000  9.1787799\n",
       "6   0   6       wt  4   3.388750  0.1162164\n",
       "7   0   8      mpg 12  15.050000  2.7743959\n",
       "8   0   8       hp 12 194.166667 33.3598379\n",
       "9   0   8       wt 12   4.104083  0.7683069\n",
       "10  1   4      mpg  8  28.075000  4.4838599\n",
       "11  1   4       hp  8  81.875000 22.6554156\n",
       "12  1   4       wt  8   2.042250  0.4093485\n",
       "13  1   6      mpg  3  20.566667  0.7505553\n",
       "14  1   6       hp  3 131.666667 37.5277675\n",
       "15  1   6       wt  3   2.755000  0.1281601\n",
       "16  1   8      mpg  2  15.400000  0.5656854\n",
       "17  1   8       hp  2 299.500000 50.2045815\n",
       "18  1   8       wt  2   3.370000  0.2828427\n"
      ]
     },
     "metadata": {},
     "output_type": "display_data"
    }
   ],
   "source": [
    "%%R\n",
    "\n",
    "library(reshape)\n",
    "dstats <- function(x)(c(n=length(x), mean=mean(x), sd=sd(x)))\n",
    "dfm <- melt(mtcars, measure.vars=c(\"mpg\", \"hp\", \"wt\"), \n",
    "            id.vars=c(\"am\", \"cyl\"))\n",
    "cast(dfm, am + cyl + variable ~ ., dstats)"
   ]
  },
  {
   "cell_type": "markdown",
   "metadata": {},
   "source": [
    "#Frequency and contingency tables\n",
    "In  this section, we’ll  look at  frequency and contingency  tables  from categorical vari-\n",
    "ables,  along with  tests  of  independence, measures  of  association,  and methods  for\n",
    "graphically displaying results. We’ll be using functions in the basic installation, along\n",
    "with functions from the vcd and gmodels package. In the following examples, assume\n",
    "that A, B, and C represent categorical variables.\n",
    "The data for this section come from the Arthritis dataset included with the vcd\n",
    "package. The data are  from Kock & Edward (1988) and  represent a double-blind clinical\n",
    "trial of new treatments for rheumatoid arthritis. Here are the first few observations:"
   ]
  },
  {
   "cell_type": "code",
   "execution_count": 19,
   "metadata": {
    "collapsed": false
   },
   "outputs": [
    {
     "data": {
      "text/plain": [
       "  ID Treatment  Sex Age Improved\n",
       "1 57   Treated Male  27     Some\n",
       "2 46   Treated Male  29     None\n",
       "3 77   Treated Male  30     None\n",
       "4 17   Treated Male  32   Marked\n",
       "5 36   Treated Male  46   Marked\n",
       "6 23   Treated Male  58   Marked\n"
      ]
     },
     "metadata": {},
     "output_type": "display_data"
    }
   ],
   "source": [
    "%%R\n",
    "\n",
    "library(vcd)\n",
    "head(Arthritis)"
   ]
  },
  {
   "cell_type": "code",
   "execution_count": 20,
   "metadata": {
    "collapsed": false
   },
   "outputs": [
    {
     "data": {
      "text/plain": [
       "Improved\n",
       "  None   Some Marked \n",
       "    42     14     28 \n"
      ]
     },
     "metadata": {},
     "output_type": "display_data"
    }
   ],
   "source": [
    "%%R\n",
    "\n",
    "mytable <- with(Arthritis, table(Improved))\n",
    "mytable"
   ]
  },
  {
   "cell_type": "code",
   "execution_count": 22,
   "metadata": {
    "collapsed": false
   },
   "outputs": [
    {
     "data": {
      "text/plain": [
       "array([ 0.5       ,  0.16666667,  0.33333333])"
      ]
     },
     "execution_count": 22,
     "metadata": {},
     "output_type": "execute_result"
    }
   ],
   "source": [
    "%R prop.table(mytable)"
   ]
  },
  {
   "cell_type": "code",
   "execution_count": null,
   "metadata": {
    "collapsed": false
   },
   "outputs": [],
   "source": []
  }
 ],
 "metadata": {
  "kernelspec": {
   "display_name": "Python 2",
   "language": "python",
   "name": "python2"
  },
  "language_info": {
   "codemirror_mode": {
    "name": "ipython",
    "version": 2
   },
   "file_extension": ".py",
   "mimetype": "text/x-python",
   "name": "python",
   "nbconvert_exporter": "python",
   "pygments_lexer": "ipython2",
   "version": "2.7.3"
  }
 },
 "nbformat": 4,
 "nbformat_minor": 0
}
