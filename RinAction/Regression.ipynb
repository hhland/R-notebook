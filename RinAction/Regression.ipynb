{
 "metadata": {
  "name": "",
  "signature": "sha256:5d33402e24d41e32c5d993c77dc94ece5224ebd1d6879b4438bfd7931adba87e"
 },
 "nbformat": 3,
 "nbformat_minor": 0,
 "worksheets": [
  {
   "cells": [
    {
     "cell_type": "code",
     "collapsed": false,
     "input": [
      "%pylab inline\n",
      "%load_ext rmagic"
     ],
     "language": "python",
     "metadata": {},
     "outputs": [
      {
       "output_type": "stream",
       "stream": "stdout",
       "text": [
        "Populating the interactive namespace from numpy and matplotlib\n"
       ]
      }
     ],
     "prompt_number": 1
    },
    {
     "cell_type": "markdown",
     "metadata": {},
     "source": [
      "<table class=\"table\">\n",
      "<b>\u88688-1\u3000\u56de\u5f52\u5206\u6790\u7684\u5404\u79cd\u53d8\u4f53</b>\n",
      "   <tr>\n",
      "      <th width=\"20%\">\u56de\u5f52\u7c7b\u578b</th>\n",
      "      <th width=\"80%\">\u7528\u3000\u3000\u9014</th>\n",
      "   </tr>\n",
      "   <tr>\n",
      "      <td>\u7b80\u5355\u7ebf\u6027</td>\n",
      "      <td>\u7528\u4e00\u4e2a\u91cf\u5316\u7684\u89e3\u91ca\u53d8\u91cf\u9884\u6d4b\u4e00\u4e2a\u91cf\u5316\u7684\u54cd\u5e94\u53d8\u91cf</td>\n",
      "   </tr>\n",
      "   <tr>\n",
      "      <td>\u591a\u9879\u5f0f</td>\n",
      "      <td>\u7528\u4e00\u4e2a\u91cf\u5316\u7684\u89e3\u91ca\u53d8\u91cf\u9884\u6d4b\u4e00\u4e2a\u91cf\u5316\u7684\u54cd\u5e94\u53d8\u91cf\uff0c\u6a21\u578b\u7684\u5173\u7cfb\u662fn\u9636\u591a\u9879\u5f0f</td>\n",
      "   </tr>\n",
      "   <tr>\n",
      "      <td>\u591a\u5143\u7ebf\u6027</td>\n",
      "      <td>\u7528\u4e24\u4e2a\u6216\u591a\u4e2a\u91cf\u5316\u7684\u89e3\u91ca\u53d8\u91cf\u9884\u6d4b\u4e00\u4e2a\u91cf\u5316\u7684\u54cd\u5e94\u53d8\u91cf</td>\n",
      "   </tr>\n",
      "   <tr>\n",
      "      <td>\u591a\u53d8\u91cf</td>\n",
      "      <td>\u7528\u4e00\u4e2a\u6216\u591a\u4e2a\u89e3\u91ca\u53d8\u91cf\u9884\u6d4b\u591a\u4e2a\u54cd\u5e94\u53d8\u91cf</td>\n",
      "   </tr>\n",
      "   <tr>\n",
      "      <td>Logistic</td>\n",
      "      <td>\u7528\u4e00\u4e2a\u6216\u591a\u4e2a\u89e3\u91ca\u53d8\u91cf\u9884\u6d4b\u4e00\u4e2a\u7c7b\u522b\u578b\u54cd\u5e94\u53d8\u91cf</td>\n",
      "   </tr>\n",
      "   <tr>\n",
      "      <td>\u6cca\u677e</td>\n",
      "      <td>\u7528\u4e00\u4e2a\u6216\u591a\u4e2a\u89e3\u91ca\u53d8\u91cf\u9884\u6d4b\u4e00\u4e2a\u4ee3\u8868\u9891\u6570\u7684\u54cd\u5e94\u53d8\u91cf</td>\n",
      "   </tr>\n",
      "   <tr>\n",
      "      <td>Cox\u6bd4\u4f8b\u98ce\u9669</td>\n",
      "      <td>\u7528\u4e00\u4e2a\u6216\u591a\u4e2a\u89e3\u91ca\u53d8\u91cf\u9884\u6d4b\u4e00\u4e2a\u4e8b\u4ef6\uff08\u6b7b\u4ea1\u3001\u5931\u8d25\u6216\u65e7\u75c5\u590d\u53d1\uff09\u53d1\u751f\u7684\u65f6\u95f4</td>\n",
      "   </tr>\n",
      "   <tr>\n",
      "      <td>\u65f6\u95f4\u5e8f\u5217</td>\n",
      "      <td>\u5bf9\u8bef\u5dee\u9879\u76f8\u5173\u7684\u65f6\u95f4\u5e8f\u5217\u6570\u636e\u5efa\u6a21</td>\n",
      "   </tr>\n",
      "   <tr>\n",
      "      <td>\u975e\u7ebf\u6027</td>\n",
      "      <td>\u7528\u4e00\u4e2a\u6216\u591a\u4e2a\u91cf\u5316\u7684\u89e3\u91ca\u53d8\u91cf\u9884\u6d4b\u4e00\u4e2a\u91cf\u5316\u7684\u54cd\u5e94\u53d8\u91cf\uff0c\u4e0d\u8fc7\u6a21\u578b\u662f\u975e\u7ebf\u6027\u7684</td>\n",
      "   </tr>\n",
      "   <tr>\n",
      "      <td>\u975e\u53c2\u6570</td>\n",
      "      <td>\u7528\u4e00\u4e2a\u6216\u591a\u4e2a\u91cf\u5316\u7684\u89e3\u91ca\u53d8\u91cf\u9884\u6d4b\u4e00\u4e2a\u91cf\u5316\u7684\u54cd\u5e94\u53d8\u91cf\uff0c\u6a21\u578b\u7684\u5f62\u5f0f\u6e90\u81ea\u6570\u636e\u5f62\u5f0f\uff0c\u4e0d\u4e8b\u5148\u8bbe\u5b9a</td>\n",
      "   </tr>\n",
      "   <tr>\n",
      "      <td>\u7a33\u5065</td>\n",
      "      <td>\u7528\u4e00\u4e2a\u6216\u591a\u4e2a\u91cf\u5316\u7684\u89e3\u91ca\u53d8\u91cf\u9884\u6d4b\u4e00\u4e2a\u91cf\u5316\u7684\u54cd\u5e94\u53d8\u91cf\uff0c\u80fd\u62b5\u5fa1\u5f3a\u5f71\u54cd\u70b9\u7684\u5e72\u6270</td>\n",
      "   </tr>\n",
      "</table>"
     ]
    },
    {
     "cell_type": "code",
     "collapsed": false,
     "input": [],
     "language": "python",
     "metadata": {},
     "outputs": []
    }
   ],
   "metadata": {}
  }
 ]
}