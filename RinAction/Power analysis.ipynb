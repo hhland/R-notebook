{
 "metadata": {
  "name": "",
  "signature": "sha256:bd92021c88195cd25c072047fcfb73ad24ab790b3cddc0ae89d56197c79c4eb7"
 },
 "nbformat": 3,
 "nbformat_minor": 0,
 "worksheets": [
  {
   "cells": [
    {
     "cell_type": "code",
     "collapsed": false,
     "input": [
      "%pylab inline\n",
      "%load_ext rmagic"
     ],
     "language": "python",
     "metadata": {},
     "outputs": [
      {
       "output_type": "stream",
       "stream": "stdout",
       "text": [
        "Populating the interactive namespace from numpy and matplotlib\n"
       ]
      }
     ],
     "prompt_number": 1
    },
    {
     "cell_type": "code",
     "collapsed": false,
     "input": [
      "%R library(pwr)"
     ],
     "language": "python",
     "metadata": {},
     "outputs": [
      {
       "metadata": {},
       "output_type": "pyout",
       "prompt_number": 3,
       "text": [
        "array(['pwr', 'tools', 'stats', 'graphics', 'grDevices', 'utils',\n",
        "       'datasets', 'methods', 'base'], \n",
        "      dtype='|S9')"
       ]
      }
     ],
     "prompt_number": 3
    },
    {
     "cell_type": "code",
     "collapsed": false,
     "input": [
      "%%R\n",
      "pwr.t.test( d=.8, sig.level=.05, power=.9, type=\"two.sample\" ,alternative=\"two.sided\" )"
     ],
     "language": "python",
     "metadata": {},
     "outputs": [
      {
       "metadata": {},
       "output_type": "display_data",
       "text": [
        "\n",
        "     Two-sample t test power calculation \n",
        "\n",
        "              n = 33.82554\n",
        "              d = 0.8\n",
        "      sig.level = 0.05\n",
        "          power = 0.9\n",
        "    alternative = two.sided\n",
        "\n",
        "NOTE: n is number in *each* group\n",
        "\n"
       ]
      }
     ],
     "prompt_number": 7
    },
    {
     "cell_type": "code",
     "collapsed": false,
     "input": [
      "%%R \n",
      "pwr.t.test( n=20, d=.5, sig.level=.01, type=\"two.sample\" ,alternative=\"two.sided\" )"
     ],
     "language": "python",
     "metadata": {},
     "outputs": [
      {
       "metadata": {},
       "output_type": "display_data",
       "text": [
        "\n",
        "     Two-sample t test power calculation \n",
        "\n",
        "              n = 20\n",
        "              d = 0.5\n",
        "      sig.level = 0.01\n",
        "          power = 0.1439551\n",
        "    alternative = two.sided\n",
        "\n",
        "NOTE: n is number in *each* group\n",
        "\n"
       ]
      }
     ],
     "prompt_number": 9
    },
    {
     "cell_type": "code",
     "collapsed": false,
     "input": [],
     "language": "python",
     "metadata": {},
     "outputs": []
    }
   ],
   "metadata": {}
  }
 ]
}